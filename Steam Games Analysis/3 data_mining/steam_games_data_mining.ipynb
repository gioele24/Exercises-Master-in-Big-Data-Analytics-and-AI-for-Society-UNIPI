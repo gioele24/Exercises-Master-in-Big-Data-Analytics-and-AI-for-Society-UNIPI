{
 "cells": [
  {
   "cell_type": "code",
   "execution_count": null,
   "id": "4ed825bb",
   "metadata": {},
   "outputs": [],
   "source": [
    "import pandas as pd\n",
    "pd.set_option('display.max_columns', None)\n",
    "import numpy as np\n",
    "from scipy import stats\n",
    "import matplotlib.pyplot as plt\n",
    "import seaborn as sns\n",
    "import altair as alt\n",
    "import re\n",
    "alt.data_transformers.disable_max_rows()\n",
    "from sklearn.preprocessing import MinMaxScaler, StandardScaler\n",
    "from sklearn.preprocessing import QuantileTransformer\n",
    "from sklearn.decomposition import PCA\n",
    "from collections import Counter\n",
    "from bs4 import BeautifulSoup\n",
    "\n",
    "from itertools import combinations\n",
    "from collections import Counter\n",
    "import networkx as nx\n",
    "from pyvis.network import Network\n",
    "\n",
    "from data_type_fix import data_type_fix"
   ]
  },
  {
   "cell_type": "code",
   "execution_count": null,
   "id": "25e58e28",
   "metadata": {},
   "outputs": [],
   "source": [
    "%run custom_theme.py"
   ]
  },
  {
   "cell_type": "markdown",
   "id": "7c40eb75",
   "metadata": {},
   "source": [
    "## Steam’s Explosion: How Game Releases Went from a Trickle to a Flood"
   ]
  },
  {
   "cell_type": "markdown",
   "id": "9aa68b2c",
   "metadata": {},
   "source": [
    "![alt text](steamdb_game_releases_per_year.png)"
   ]
  },
  {
   "cell_type": "markdown",
   "id": "d7da2f56",
   "metadata": {},
   "source": [
    "![alt text](steamdb_game_releases_per_month.png)"
   ]
  },
  {
   "cell_type": "markdown",
   "id": "e7e49330",
   "metadata": {},
   "source": [
    "For those unfamiliar with it, Steam is a digital distribution platform for PC games, created by Valve—the studio behind the iconic Half-Life, released in 1998. Steam itself launched in 2003 as a way to distribute updates and patches for Valve’s games. But in 2005, everything changed: Valve opened Steam to third-party developers, laying the groundwork for what would become the largest game storefront on the planet.\n",
    "\n",
    "Steam’s early years were relatively modest. But in 2012, Valve introduced Steam Greenlight, a system that allowed indie developers to submit games for user voting. It dramatically lowered the barriers to entry and engaged the community in deciding what got published. Greenlight is often credited as the catalyst for the surge in game releases that followed.\n",
    "\n",
    "Then came 2017, the year Steam removed almost all gatekeeping. With Steam Direct, any developer who submitted the required information and a small fee could publish a game without needing approval. The floodgates opened—and the platform was never the same. Since then, the number of games released each year has skyrocketed, peaking at over 18,000 new titles in 2024.\n",
    "\n",
    "In just a decade, Steam transitioned from a curated digital store to an open bazaar—one where creativity thrives but discoverability becomes a brutal contest."
   ]
  },
  {
   "cell_type": "code",
   "execution_count": null,
   "id": "4504bffc",
   "metadata": {},
   "outputs": [],
   "source": []
  },
  {
   "cell_type": "markdown",
   "id": "232d49d0",
   "metadata": {},
   "source": [
    "To ensure the relevance and interpretability of the results, this study focuses on Steam games that have a corresponding Metacritic page. This constraint helps isolate games that have surpassed a threshold of public and critical visibility, allowing the analysis to focus on factors associated with appreciation among both critics and players. While this approach may exclude certain under-the-radar indie successes, it enables a more consistent and interpretable comparison set. Future work may expand this scope to include the long tail of the Steam catalogue."
   ]
  },
  {
   "cell_type": "code",
   "execution_count": null,
   "id": "011a0a82",
   "metadata": {},
   "outputs": [],
   "source": [
    "df = pd.read_csv('steam_games.csv')\n",
    "df = data_type_fix(df)"
   ]
  },
  {
   "cell_type": "code",
   "execution_count": null,
   "id": "59cd2194",
   "metadata": {},
   "outputs": [],
   "source": [
    "df['year'] = pd.to_datetime(df['release_date']).dt.year\n",
    "df['2024_release'] = [year == 2024 for year in df['year']]"
   ]
  },
  {
   "cell_type": "code",
   "execution_count": null,
   "id": "0c1a1ef6",
   "metadata": {},
   "outputs": [],
   "source": [
    "df['2024_release'].value_counts()"
   ]
  },
  {
   "cell_type": "code",
   "execution_count": null,
   "id": "0f792e6e",
   "metadata": {},
   "outputs": [],
   "source": [
    "df = df[df['2024_release'] == False]"
   ]
  },
  {
   "cell_type": "code",
   "execution_count": null,
   "id": "5c483cf4",
   "metadata": {},
   "outputs": [],
   "source": [
    "df.drop(columns=['2024_release'], inplace=True)"
   ]
  },
  {
   "cell_type": "code",
   "execution_count": null,
   "id": "70d2656e",
   "metadata": {},
   "outputs": [],
   "source": [
    "metacritic_data = pd.read_csv('games_list_v3.csv')"
   ]
  },
  {
   "cell_type": "code",
   "execution_count": null,
   "id": "42a45e75",
   "metadata": {},
   "outputs": [],
   "source": [
    "df = df.merge(metacritic_data[['appid', 'n_crit_revs', 'n_user_revs', 'metacritic_user_score_0_100_from_reviews']], how='left', left_on='appid', right_on='appid')"
   ]
  },
  {
   "cell_type": "code",
   "execution_count": null,
   "id": "6df55ecc",
   "metadata": {},
   "outputs": [],
   "source": [
    "df['release_year'] = df['release_date'].dt.year"
   ]
  },
  {
   "cell_type": "code",
   "execution_count": null,
   "id": "0b1d467b",
   "metadata": {},
   "outputs": [],
   "source": [
    "df[['release_year']].value_counts().reset_index().sort_values('release_year').reset_index(drop=True)"
   ]
  },
  {
   "cell_type": "code",
   "execution_count": null,
   "id": "6f004389",
   "metadata": {},
   "outputs": [],
   "source": [
    "base = alt.Chart(df[['release_year']].value_counts().reset_index().sort_values('release_year').reset_index(drop=True)).mark_bar().encode(\n",
    "    x = alt.X('release_year:O', axis=alt.Axis(labelAngle=270), title='year'),\n",
    "    y = alt.Y('count:Q', title='')\n",
    ")\n",
    "\n",
    "rules_df = pd.DataFrame({\n",
    "    'x': [2013, 2017],\n",
    "    'label': ['Steam Greenlight', 'Steam Direct']\n",
    "})\n",
    "\n",
    "rules = alt.Chart(rules_df).mark_rule(strokeDash=[5], strokeWidth=3).encode(\n",
    "    x='x:O',\n",
    "    color=alt.Color('label:N',\n",
    "        legend=alt.Legend(title='Steam Programs'),\n",
    "        scale=alt.Scale(domain=['Steam Greenlight', 'Steam Direct'],\n",
    "                        #range=['#00ff41', '#fe53bb'])  # Verde matrix e rosa acceso\n",
    "                        range=['lime', 'blue'])\n",
    "    )\n",
    ")\n",
    "\n",
    "\n",
    "metacritic_games_per_year = (base + rules)\n",
    "\n",
    "metacritic_games_per_year.save('assets/charts/metacritic_games_per_year.json')"
   ]
  },
  {
   "cell_type": "code",
   "execution_count": null,
   "id": "df95b10f",
   "metadata": {},
   "outputs": [],
   "source": [
    "metacritic_games_per_year"
   ]
  },
  {
   "cell_type": "code",
   "execution_count": null,
   "id": "eff9f907",
   "metadata": {},
   "outputs": [],
   "source": []
  },
  {
   "cell_type": "markdown",
   "id": "c98604df",
   "metadata": {},
   "source": [
    "While the number of games released on Steam has exploded—reaching over 18,000 in 2024—only a small fraction of them ever make it to Metacritic, the review aggregator that collects professional and user scores. This second plot focuses on that fraction: games released on Steam that received enough visibility to merit a Metacritic page.\n",
    "\n",
    "The growth is still there—from just 1 game per year in the early 2000s to a peak of over 450 in 2020—but it's much more modest. And crucially, the gap between total releases and critically visible games has widened dramatically. In 2023, for example, only 340 of the 14,000+ games on Steam had a Metacritic presence. That’s just about 2.4%.\n",
    "\n",
    "This tells a deeper story: most games today are born into obscurity. Steam's open-door policy may have democratized access to publishing, but critical attention has become a scarce and unevenly distributed resource."
   ]
  },
  {
   "cell_type": "code",
   "execution_count": null,
   "id": "db78b63c",
   "metadata": {},
   "outputs": [],
   "source": [
    "df.drop(columns=['revenue_estimated'], inplace = True)"
   ]
  },
  {
   "cell_type": "code",
   "execution_count": null,
   "id": "1d0eb7d7",
   "metadata": {},
   "outputs": [],
   "source": [
    "(df['n_user_revs'] == float(0)).value_counts()"
   ]
  },
  {
   "cell_type": "code",
   "execution_count": null,
   "id": "2574bb42",
   "metadata": {},
   "outputs": [],
   "source": [
    "df = df[df['n_user_revs'] != float(0)].reset_index(drop = True)"
   ]
  },
  {
   "cell_type": "markdown",
   "id": "04ce64ec",
   "metadata": {},
   "source": [
    "Of the games that reached Metacritic, not all of them managed to spark conversation. Many were released, reviewed by critics, and then seemingly disappeared into the digital void. To focus our analysis on games that actually reached players and provoked reactions, we removed any title that received zero user reviews.\n",
    "\n",
    "This step helped us narrow the dataset down to games that were not just visible—but engaged with. After all, it’s hard to measure appreciation or popularity without a single player speaking up. Whether it’s praise, critique, or outright fury, we wanted games that left a footprint in the form of player feedback."
   ]
  },
  {
   "cell_type": "code",
   "execution_count": null,
   "id": "127b0e7b",
   "metadata": {},
   "outputs": [],
   "source": []
  },
  {
   "cell_type": "code",
   "execution_count": null,
   "id": "43dd6b7c",
   "metadata": {},
   "outputs": [],
   "source": [
    "df['avg_estimated_owners'] = 0.5*(df['min_estimated_owners'] + df['max_estimated_owners'])"
   ]
  },
  {
   "cell_type": "code",
   "execution_count": null,
   "id": "e5d41767",
   "metadata": {},
   "outputs": [],
   "source": [
    "df[df['all_time_peak_ccu'].isna()]['24h_peak_ccu'].describe()"
   ]
  },
  {
   "cell_type": "code",
   "execution_count": null,
   "id": "fad76b81",
   "metadata": {},
   "outputs": [],
   "source": [
    "count = 0\n",
    "for idx, row in df.iterrows():\n",
    "    if isinstance(row['platforms'], list):\n",
    "        if 'Windows PC' in row['platforms']:\n",
    "            count += 1\n",
    "\n",
    "print(count)"
   ]
  },
  {
   "cell_type": "code",
   "execution_count": null,
   "id": "bef3db07",
   "metadata": {},
   "outputs": [],
   "source": [
    "(df['windows'] == True).value_counts()"
   ]
  },
  {
   "cell_type": "code",
   "execution_count": null,
   "id": "988c6042",
   "metadata": {},
   "outputs": [],
   "source": [
    "count = 0\n",
    "for idx, row in df.iterrows():\n",
    "    if isinstance(row['platforms'], list):\n",
    "        if 'Linux' in row['platforms']:\n",
    "            count += 1\n",
    "\n",
    "print(count)"
   ]
  },
  {
   "cell_type": "code",
   "execution_count": null,
   "id": "567b60d6",
   "metadata": {},
   "outputs": [],
   "source": [
    "(df['linux'] == True).value_counts()"
   ]
  },
  {
   "cell_type": "code",
   "execution_count": null,
   "id": "91fe9626",
   "metadata": {},
   "outputs": [],
   "source": [
    "count = 0\n",
    "for idx, row in df.iterrows():\n",
    "    if isinstance(row['platforms'], list):\n",
    "        if 'Mac' in row['platforms']:\n",
    "            count += 1\n",
    "\n",
    "print(count)"
   ]
  },
  {
   "cell_type": "code",
   "execution_count": null,
   "id": "e52446e3",
   "metadata": {},
   "outputs": [],
   "source": [
    "(df['mac'] == True).value_counts()"
   ]
  },
  {
   "cell_type": "code",
   "execution_count": null,
   "id": "879e6610",
   "metadata": {},
   "outputs": [],
   "source": [
    "# Step 1: Clean 'platforms' column, removing certain entries safely\n",
    "to_remove = {'Windows PC', 'Linux', 'Mac'}\n",
    "\n",
    "df['platforms'] = df['platforms'].apply(\n",
    "    lambda lst: [p for p in lst if p not in to_remove] if isinstance(lst, list) else []\n",
    ")\n",
    "\n",
    "# Step 2: Add platforms based on boolean columns\n",
    "def add_platforms(row):\n",
    "    if row['windows']:\n",
    "        row['platforms'].append('Windows')\n",
    "    if row['linux']:\n",
    "        row['platforms'].append('Linux')\n",
    "    if row['mac']:\n",
    "        row['platforms'].append('Mac')\n",
    "    return row\n",
    "\n",
    "df = df.apply(add_platforms, axis=1)"
   ]
  },
  {
   "cell_type": "code",
   "execution_count": null,
   "id": "b1508220",
   "metadata": {},
   "outputs": [],
   "source": [
    "df[df['plays_backloggd'].isna()]"
   ]
  },
  {
   "cell_type": "code",
   "execution_count": null,
   "id": "4484d23d",
   "metadata": {},
   "outputs": [],
   "source": [
    "df.at[1000, 'plays_backloggd'] = 50\n",
    "df.at[1000, 'playing_backloggd'] = 1\n",
    "df.at[1000, 'backlogs_backloggd'] = 24\n",
    "df.at[1000, 'wishlist_backloggd'] = 7\n",
    "df.at[1000, 'lists_backloggd'] = 17\n",
    "df.at[1000, 'reviews_backloggd'] = 6\n",
    "df.at[1000, 'likes_backloggd'] = 0"
   ]
  },
  {
   "cell_type": "code",
   "execution_count": null,
   "id": "f44f9bc0",
   "metadata": {},
   "outputs": [],
   "source": [
    "df.at[2292, 'plays_backloggd'] = 187\n",
    "df.at[2292, 'playing_backloggd'] = 5\n",
    "df.at[2292, 'backlogs_backloggd'] = 103\n",
    "df.at[2292, 'wishlist_backloggd'] = 32\n",
    "df.at[2292, 'lists_backloggd'] = 28\n",
    "df.at[2292, 'reviews_backloggd'] = 6\n",
    "df.at[2292, 'likes_backloggd'] = 6"
   ]
  },
  {
   "cell_type": "code",
   "execution_count": null,
   "id": "d3244c0e",
   "metadata": {},
   "outputs": [],
   "source": [
    "df.at[4512, 'plays_backloggd'] = 126\n",
    "df.at[4512, 'playing_backloggd'] = 0\n",
    "df.at[4512, 'backlogs_backloggd'] = 34\n",
    "df.at[4512, 'wishlist_backloggd'] = 7\n",
    "df.at[4512, 'lists_backloggd'] = 25\n",
    "df.at[4512, 'reviews_backloggd'] = 11\n",
    "df.at[4512, 'likes_backloggd'] = 1"
   ]
  },
  {
   "cell_type": "code",
   "execution_count": null,
   "id": "95fb633b",
   "metadata": {},
   "outputs": [],
   "source": [
    "df['platforms'] = df['platforms'].fillna('[]')\n",
    "\n",
    "idx = 0\n",
    "for platforms_list in df['platforms'].values:\n",
    "    if platforms_list == '[]':\n",
    "        df.at[idx, 'platforms'] = list()\n",
    "    idx += 1"
   ]
  },
  {
   "cell_type": "code",
   "execution_count": null,
   "id": "b2149d82",
   "metadata": {},
   "outputs": [],
   "source": [
    "df['platforms'].isna().value_counts()"
   ]
  },
  {
   "cell_type": "code",
   "execution_count": null,
   "id": "3f7b6ac2",
   "metadata": {},
   "outputs": [],
   "source": [
    "df['num_supported_languages'] = df['supported_languages'].apply(len)\n",
    "df['num_audio_languages'] = df['full_audio_languages'].apply(len)\n",
    "df['num_platforms'] = df['platforms'].apply(len)"
   ]
  },
  {
   "cell_type": "code",
   "execution_count": null,
   "id": "0058ec17",
   "metadata": {},
   "outputs": [],
   "source": [
    "df['reviews_score_fancy'].describe()"
   ]
  },
  {
   "cell_type": "code",
   "execution_count": null,
   "id": "51179914",
   "metadata": {},
   "outputs": [],
   "source": [
    "df['reviews_total'].describe()"
   ]
  },
  {
   "cell_type": "code",
   "execution_count": null,
   "id": "02868295",
   "metadata": {},
   "outputs": [],
   "source": []
  },
  {
   "cell_type": "code",
   "execution_count": null,
   "id": "930e994a",
   "metadata": {},
   "outputs": [],
   "source": [
    "df['reviews_score_fancy'] = df['reviews_score_fancy'].fillna(float(0))\n",
    "\n",
    "df.columns = df.columns.str.strip()"
   ]
  },
  {
   "cell_type": "code",
   "execution_count": null,
   "id": "a72be83a",
   "metadata": {},
   "outputs": [],
   "source": []
  },
  {
   "cell_type": "code",
   "execution_count": null,
   "id": "cf7b01f1",
   "metadata": {},
   "outputs": [],
   "source": [
    "df['metacritic_user_score'].isna().value_counts()"
   ]
  },
  {
   "cell_type": "code",
   "execution_count": null,
   "id": "b373b840",
   "metadata": {},
   "outputs": [],
   "source": [
    "(df['metacritic_user_score'].isna() & df['metacritic_user_score_0_100_from_reviews'].notna()).value_counts()"
   ]
  },
  {
   "cell_type": "code",
   "execution_count": null,
   "id": "b896bcc6",
   "metadata": {},
   "outputs": [],
   "source": [
    "df['is_missing_metacritic_user_score'] = 0\n",
    "for idx, row in df.iterrows():\n",
    "    if pd.isna(row['metacritic_user_score']):\n",
    "        df.at[idx, 'is_missing_metacritic_user_score'] = 1"
   ]
  },
  {
   "cell_type": "code",
   "execution_count": null,
   "id": "ef27c18f",
   "metadata": {},
   "outputs": [],
   "source": [
    "df['is_missing_metacritic_user_score'].value_counts()"
   ]
  },
  {
   "cell_type": "code",
   "execution_count": null,
   "id": "d980138d",
   "metadata": {},
   "outputs": [],
   "source": [
    "df['metacritic_user_score_filled'] = df['metacritic_user_score']"
   ]
  },
  {
   "cell_type": "code",
   "execution_count": null,
   "id": "d4bb3e9a",
   "metadata": {},
   "outputs": [],
   "source": [
    "round(df['metacritic_user_score_0_100_from_reviews']*0.1, 1)"
   ]
  },
  {
   "cell_type": "code",
   "execution_count": null,
   "id": "8c6f5b89",
   "metadata": {},
   "outputs": [],
   "source": [
    "for idx, row in df.iterrows():\n",
    "    if pd.isna(row['metacritic_user_score_filled']) & pd.notna(row['metacritic_user_score_0_100_from_reviews']):\n",
    "        df.at[idx, 'metacritic_user_score_filled'] = round(row['metacritic_user_score_0_100_from_reviews']*0.1, 1)"
   ]
  },
  {
   "cell_type": "code",
   "execution_count": null,
   "id": "61609e6a",
   "metadata": {},
   "outputs": [],
   "source": [
    "df['metacritic_user_score_filled'] = df['metacritic_user_score_filled'].fillna(df['metacritic_score']*0.1)"
   ]
  },
  {
   "cell_type": "code",
   "execution_count": null,
   "id": "b19dd06a",
   "metadata": {},
   "outputs": [],
   "source": []
  },
  {
   "cell_type": "code",
   "execution_count": null,
   "id": "2195731a",
   "metadata": {},
   "outputs": [],
   "source": [
    "df[(df['reviews_total'] != df['positive'] + df['negative'])][['appid','name','developers','publishers','reviews_total','positive','negative','reviews_score_fancy']]"
   ]
  },
  {
   "cell_type": "code",
   "execution_count": null,
   "id": "d44e72f1",
   "metadata": {},
   "outputs": [],
   "source": [
    "df.at[185,'reviews_score_fancy'] = 0.\n",
    "df.at[185, 'reviews_total'] = 6\n",
    "df.at[185, 'positive'] = 0\n",
    "df.at[185, 'negative'] = 0\n",
    "\n",
    "df.at[735,'reviews_score_fancy'] = 96.0\n",
    "#df.at[735, 'reviews_total'] = 6\n",
    "df.at[735, 'positive'] = int(0.96 * df.at[735, 'reviews_total'])\n",
    "df.at[735, 'negative'] = int((1 - 0.96) * df.at[735, 'reviews_total'])\n",
    "\n",
    "df.at[1409,'reviews_score_fancy'] = 74.0\n",
    "df.at[1409, 'reviews_total'] = 43\n",
    "df.at[1409, 'positive'] = int(0.74 * df.at[1409, 'reviews_total'])\n",
    "df.at[1409, 'negative'] = int((1 - 0.74) * df.at[1409, 'reviews_total'])\n",
    "\n",
    "df.at[1893,'reviews_score_fancy'] = 46.0\n",
    "df.at[1893, 'reviews_total'] = 15\n",
    "df.at[1893, 'positive'] = int(0.46 * df.at[1893, 'reviews_total'])\n",
    "df.at[1893, 'negative'] = int((1 - 0.46) * df.at[1893, 'reviews_total'])\n",
    "\n",
    "df.at[2477,'reviews_score_fancy'] = 0.\n",
    "df.at[2477, 'reviews_total'] = 1\n",
    "df.at[2477, 'positive'] = 0\n",
    "df.at[2477, 'negative'] = 0\n",
    "\n",
    "df.at[2541,'reviews_score_fancy'] = 76.0\n",
    "df.at[2541, 'reviews_total'] = 120\n",
    "df.at[2541, 'positive'] = int(0.76 * df.at[2541, 'reviews_total'])\n",
    "df.at[2541, 'negative'] = int((1 - 0.76) * df.at[2541, 'reviews_total'])\n",
    "\n",
    "df.at[3770,'reviews_score_fancy'] = 0.\n",
    "df.at[3770, 'reviews_total'] = 3\n",
    "df.at[3770, 'positive'] = 0\n",
    "df.at[3770, 'negative'] = 0\n",
    "\n",
    "df.at[4613,'reviews_score_fancy'] = 0.\n",
    "df.at[4613, 'reviews_total'] = 0\n",
    "df.at[4613, 'positive'] = 0\n",
    "df.at[4613, 'negative'] = 0"
   ]
  },
  {
   "cell_type": "code",
   "execution_count": null,
   "id": "1df42dd0",
   "metadata": {},
   "outputs": [],
   "source": [
    "df['n_user_revs'].describe()"
   ]
  },
  {
   "cell_type": "code",
   "execution_count": null,
   "id": "3727f57f",
   "metadata": {},
   "outputs": [],
   "source": [
    "df['likes_backloggd'].isna().value_counts()"
   ]
  },
  {
   "cell_type": "code",
   "execution_count": null,
   "id": "065fca11",
   "metadata": {},
   "outputs": [],
   "source": [
    "total_average_estimated_owners_per_year = alt.Chart(df[['year', 'avg_estimated_owners']]).mark_bar().encode(\n",
    "    x = alt.X('year:O', axis=alt.Axis(labelAngle=270), title=''),\n",
    "    y = alt.Y('sum(avg_estimated_owners):Q', title='Total estimated owners')\n",
    ").properties(\n",
    "    #width=600\n",
    ")\n",
    "\n",
    "average_playtime_per_year = alt.Chart(df[['year', 'average_forever']]).mark_bar(color = '#00ff00').encode(\n",
    "    x = alt.X('year:O', axis=alt.Axis(labelAngle=270)),\n",
    "    y = alt.Y('mean(average_forever):Q', title='Average playtime (in minutes)')\n",
    ").properties(\n",
    "    #width=600\n",
    ")\n",
    "\n",
    "total_average_estimated_owners_per_year_plus_average_playtime_per_year = (total_average_estimated_owners_per_year & average_playtime_per_year)\n",
    "#total_average_estimated_owners_per_year_plus_average_playtime_per_year.properties(width=500)\n",
    "\n",
    "total_average_estimated_owners_per_year_plus_average_playtime_per_year.save('assets/charts/total_average_estimated_owners_per_year_plus_average_playtime_per_year.json')"
   ]
  },
  {
   "cell_type": "code",
   "execution_count": null,
   "id": "ac6ede3c",
   "metadata": {},
   "outputs": [],
   "source": [
    "total_average_estimated_owners_per_year_plus_average_playtime_per_year"
   ]
  },
  {
   "cell_type": "markdown",
   "id": "75c46079",
   "metadata": {},
   "source": [
    "The growth of the player base in the past decade is undoubtedly impressive. With more casual gamers joining the hardcore gamers, as well as more options of games, there’s no doubt that the expectations will make it harder for game developers to keep up.\n",
    "\n",
    "The year 2013 seemed to be a turning point because both player base and their average playtime per game showed a clear decline afterward. From our previous discussion, we know that this is also where the Steam game library started to explode. So it seems that the ballooned game library failed to attract more players or playtime from them. It clearly says something about the game quality in general."
   ]
  },
  {
   "cell_type": "markdown",
   "id": "84592f30",
   "metadata": {},
   "source": [
    "What catches the attention here is the unreal spike of playtime in 2000. Similar but much smaller spikes also happened in 1998, 2004, and 2013. Let’s zoom in and see what happened in those years.\n",
    "\n",
    "The y-axis shows the average playtime per game, and the size of the dots shows the size of the player base for that particular game."
   ]
  },
  {
   "cell_type": "code",
   "execution_count": null,
   "id": "18af21ac",
   "metadata": {},
   "outputs": [],
   "source": [
    "explain_spikes = alt.Chart(df[['name','year', 'average_forever','avg_estimated_owners']]).transform_filter(alt.FieldOneOfPredicate(field='year', oneOf=[1998, 2000, 2001, 2003, 2004, 2013])).mark_point().encode(\n",
    "    x = alt.X('year:O'),\n",
    "    y = alt.Y('average_forever:Q', title='Average playtime (in minutes)'),\n",
    "    size = alt.Size('avg_estimated_owners:Q', legend=alt.Legend(symbolType='circle', title='Avg estimated owners', format='.1s')),\n",
    "    tooltip=[\n",
    "        alt.Tooltip('name:N'),\n",
    "        alt.Tooltip('average_forever:Q'),\n",
    "        alt.Tooltip('avg_estimated_owners:Q', format=\".1s\")\n",
    "    ]\n",
    ").properties(\n",
    "    width = 400\n",
    ")\n",
    "\n",
    "explain_spikes.save('assets/charts/explain_spikes.json')"
   ]
  },
  {
   "cell_type": "code",
   "execution_count": null,
   "id": "04ca2d2a",
   "metadata": {},
   "outputs": [],
   "source": [
    "explain_spikes"
   ]
  },
  {
   "cell_type": "markdown",
   "id": "b7e3e103",
   "metadata": {},
   "source": [
    "Now the answer is clear. Those spikes in playtime were results of the greatest hits in game history.\n",
    "\n",
    "“Half-Life” was the cornerstone that brought fame and wealth to Valve in the first place. “Counter-Strike” was the legendary first-person shooter (FPS) game that took the world by storm. That explains the unreal spike of playtime in 2000, and no wonder why its sequel caused another spike in 2004. 2013 was backed up by “Dota 2” with one of the largest player base on Steam."
   ]
  },
  {
   "cell_type": "code",
   "execution_count": null,
   "id": "64f0ea0a",
   "metadata": {},
   "outputs": [],
   "source": [
    "alt.Chart(df[['year', 'plays_backloggd']]).mark_bar().encode(\n",
    "    x = alt.X('year:O', axis=alt.Axis(labelAngle=270)),\n",
    "    y = alt.Y('mean(plays_backloggd):Q')\n",
    ")"
   ]
  },
  {
   "cell_type": "markdown",
   "id": "910cccaf",
   "metadata": {},
   "source": [
    "While sales and reviews reflect a game’s immediate success, the number of users who log a play on platforms like Backloggd offers a window into long-term engagement. When we look at the average number of plays per game by release year, the data tells a familiar story: standout years in video game history continue to echo through the habits of modern players.\n",
    "\n",
    "Notably, 1998—the year of genre-defining titles like Half-Life—shows the highest average play counts, underscoring its enduring cultural legacy. Similar spikes appear in 2004, 2007, and the early 2010s, reflecting the lasting impact of titles such as Half-Life 2 and Portal. Even as the number of annual releases exploded in the late 2010s, the average plays per game saw a decline, suggesting a saturation point: more games are being released, but fewer stand out as lasting experiences.\n",
    "\n",
    "In essence, the Backloggd play data reinforces a key idea already hinted at by ownership metrics—many of the most played games today were not released recently, but have proven their relevance across decades."
   ]
  },
  {
   "cell_type": "code",
   "execution_count": null,
   "id": "be069eb8",
   "metadata": {},
   "outputs": [],
   "source": [
    "# Step 1: Create missing flag and impute all_time_peak_ccu\n",
    "df['is_missing_all_time_peak'] = df['all_time_peak_ccu'].isna().astype(int)\n",
    "\n",
    "def impute_all_time_peak(row):\n",
    "    if pd.notna(row['all_time_peak_ccu']):\n",
    "        return row['all_time_peak_ccu']\n",
    "    else:\n",
    "        return row['24h_peak_ccu']\n",
    "\n",
    "df['all_time_peak_ccu_filled'] = df.apply(impute_all_time_peak, axis=1)"
   ]
  },
  {
   "cell_type": "code",
   "execution_count": null,
   "id": "6288e6cf",
   "metadata": {},
   "outputs": [],
   "source": [
    "# Step 1: Get the rows with the max value per year\n",
    "max_rows = df.loc[df.groupby('year')['all_time_peak_ccu_filled'].idxmax(), ['year', 'name', 'all_time_peak_ccu_filled']]\n",
    "\n",
    "# Step 2: Plot using the filtered DataFrame\n",
    "alt.Chart(max_rows).mark_bar().encode(\n",
    "    x = alt.X('year:O', axis=alt.Axis(labelAngle=270)),\n",
    "    y = alt.Y('all_time_peak_ccu_filled:Q'),\n",
    "    tooltip = ['name', 'all_time_peak_ccu_filled']\n",
    ")\n"
   ]
  },
  {
   "cell_type": "markdown",
   "id": "921bb253",
   "metadata": {},
   "source": [
    "One of the clearest signs of a game's cultural impact is the moment it draws the most people in at once. The maximum number of concurrent players on Steam provides a powerful snapshot of that peak — capturing the precise moment when excitement, community buzz, and player interest all converged.\n",
    "\n",
    "This metric reveals fascinating patterns over time. In 2012, Counter-Strike: Global Offensive exploded with over 1.8 million simultaneous players, while Dota 2 followed closely in 2013 with over 1.2 million. More recently, Lost Ark (2022) and New World (2021) reached similarly massive peaks, reflecting the growing scale of online communities. Earlier titles, like POSTAL (1997) or Legacy of Kain: Soul Reaver (1999), show much smaller numbers — a reflection not of their relevance, but of the era's limited infrastructure and reach.\n",
    "\n",
    "While these values don't tell the full story of a game's lifespan or quality, they offer a compelling glimpse into moments when a title truly dominated players’ attention."
   ]
  },
  {
   "cell_type": "code",
   "execution_count": null,
   "id": "78d4a47e",
   "metadata": {},
   "outputs": [],
   "source": []
  },
  {
   "cell_type": "code",
   "execution_count": null,
   "id": "35f97a8d",
   "metadata": {},
   "outputs": [],
   "source": [
    "df['reviews_total'].describe()"
   ]
  },
  {
   "cell_type": "code",
   "execution_count": null,
   "id": "3d3a1023",
   "metadata": {},
   "outputs": [],
   "source": [
    "plt.hist(df['reviews_total'].values, bins=100)\n",
    "plt.xscale('log')\n",
    "plt.yscale('log')\n",
    "plt.show()"
   ]
  },
  {
   "cell_type": "code",
   "execution_count": null,
   "id": "8499c581",
   "metadata": {},
   "outputs": [],
   "source": [
    "# Cap a 99° percentile\n",
    "cap = df['reviews_total'].quantile(0.99)\n",
    "df_filtered = df[df['reviews_total'] <= cap]\n",
    "\n",
    "alt.Chart(df_filtered).mark_bar().encode(\n",
    "    x=alt.X('reviews_total:Q', bin=alt.Bin(maxbins=40), title='Total Reviews'),\n",
    "    y=alt.Y('count()', title='Count')\n",
    ")"
   ]
  },
  {
   "cell_type": "markdown",
   "id": "d09ac4eb",
   "metadata": {},
   "source": [
    "In addition to playtime and estimated ownership, user reviews are one of the clearest indicators of how much attention a game has received. Steam reviews are both a signal of reach and community engagement. However, as the following plots show, this engagement is heavily skewed: while a small number of games accumulate tens of thousands of reviews, the vast majority receive very few — or none at all."
   ]
  },
  {
   "cell_type": "code",
   "execution_count": null,
   "id": "5485c9a2",
   "metadata": {},
   "outputs": [],
   "source": []
  },
  {
   "cell_type": "code",
   "execution_count": null,
   "id": "09cc5acd",
   "metadata": {},
   "outputs": [],
   "source": [
    "def categorize_reviews(x):\n",
    "    if x < 100:\n",
    "        return '0-99'\n",
    "    elif x < 1000:\n",
    "        return '100-999'\n",
    "    elif x < 10000:\n",
    "        return '1000-9999'\n",
    "    elif x < 100000:\n",
    "        return '10000-99999'\n",
    "    else:\n",
    "        return '100000+'\n",
    "\n",
    "df['reviews_bucket'] = df['reviews_total'].apply(categorize_reviews)"
   ]
  },
  {
   "cell_type": "code",
   "execution_count": null,
   "id": "13da6ff8",
   "metadata": {},
   "outputs": [],
   "source": [
    "reviews_distribution = alt.Chart(df[['reviews_bucket']]).mark_bar().encode(\n",
    "    x = alt.X('reviews_bucket:N', title='Number of reviews'),\n",
    "    y = alt.Y('count()')\n",
    ").properties(\n",
    "    width=540\n",
    ")\n",
    "\n",
    "reviews_bucket_per_released_games = alt.Chart(df[['year', 'reviews_bucket']]).mark_bar().encode(\n",
    "    x=alt.X('year:O', axis=alt.Axis(labelAngle=270), title='year'),\n",
    "    y=alt.Y('count()', title='Number of games released'),\n",
    "    color=alt.Color('reviews_bucket:N', title='Reviews Bucket',\n",
    "                    sort=['0-99', '100-999', '1000-9999', '10000-99999', '100000+'], legend=alt.Legend(orient='bottom', title='Number of reviews')),\n",
    "    tooltip=['year:O', 'reviews_bucket:N', 'count()']\n",
    ")\n",
    "\n",
    "reviews_distribution_plus_reviews_bucket_per_released_games = reviews_distribution & reviews_bucket_per_released_games\n",
    "reviews_distribution_plus_reviews_bucket_per_released_games.save('assets/charts/reviews_distribution_plus_reviews_bucket_per_released_games.json')"
   ]
  },
  {
   "cell_type": "code",
   "execution_count": null,
   "id": "867f20a6",
   "metadata": {},
   "outputs": [],
   "source": [
    "reviews_distribution_plus_reviews_bucket_per_released_games"
   ]
  },
  {
   "cell_type": "code",
   "execution_count": null,
   "id": "f210ead3",
   "metadata": {},
   "outputs": [],
   "source": []
  },
  {
   "cell_type": "markdown",
   "id": "f79da222",
   "metadata": {},
   "source": [
    "While thousands of games are released on Steam each year, only a small fraction capture the majority of user engagement. Based on user review counts, just 170 games have earned over 100,000 reviews, while nearly 1,600 titles sit in the modest 100–999 review range. The most common group — around 1,800 games — falls between 1,000 and 9,999 reviews. Meanwhile, 345 games remain virtually unseen, with fewer than 100 reviews to their name.\n",
    "\n",
    "This stark imbalance in attention underscores the platform’s highly competitive landscape, where visibility and engagement are far from evenly distributed. The vast majority of games struggle for recognition, while a few dominate the discourse and player feedback."
   ]
  },
  {
   "cell_type": "markdown",
   "id": "19bfc184",
   "metadata": {},
   "source": [
    "As the number of games released each year on Steam surged throughout the 2010s, so did the spread of user reviews — but not evenly. Early years like 1997 to 2004 saw only a handful of games reach higher review brackets. From 2010 onward, however, the landscape shifted: each year brought dozens of new titles amassing between 10,000 and 99,999 reviews, while a select few — often high-profile releases — crossed the 100,000 mark.\n",
    "\n",
    "Still, most games remained in lower tiers. In 2020 alone, while 24 games surpassed 100,000 reviews, over 180 were in the 1,000–9,999 range, and 35 had fewer than 100 reviews. The disparity between visibility and obscurity has widened alongside the volume of releases, underscoring a platform defined by both runaway hits and forgotten titles."
   ]
  },
  {
   "cell_type": "code",
   "execution_count": null,
   "id": "8dc11ec4",
   "metadata": {},
   "outputs": [],
   "source": [
    "crit = alt.Chart(df).mark_bar().encode(\n",
    "    x = alt.X('year:O', axis=alt.Axis(labelAngle=270)),\n",
    "    y = alt.Y('sum(n_crit_revs):Q')\n",
    ")\n",
    "\n",
    "user = alt.Chart(df).mark_bar().encode(\n",
    "    x = alt.X('year:O', axis=alt.Axis(labelAngle=270)),\n",
    "    y = alt.Y('sum(n_user_revs):Q')\n",
    ")\n",
    "\n",
    "crit | user"
   ]
  },
  {
   "cell_type": "markdown",
   "id": "d7287ae1",
   "metadata": {},
   "source": [
    "**The Voices That Shape a Game’s Reputation**\n",
    "\n",
    "Beyond player activity, the volume of reviews — both from professional critics and everyday users — offers essential insight into how visible and discussed a game was at the time of its release.\n",
    "\n",
    "Critic reviews, often representing curated press outlets, grew steadily throughout the 2000s, spiking sharply after 2005. By 2014, Metacritic was aggregating over 13,000 professional reviews for Steam games released that year — a figure that remained high through the following decade. This trend reflects both an expanding game industry and the increasingly formalized role of games journalism.\n",
    "\n",
    "On the other hand, user reviews present a different kind of signal: mass engagement. From relatively modest numbers in the early 2000s, user reviews exploded after 2010. Especially notable is the dramatic surge in 2020, where the total number of user reviews more than doubled compared to the previous year — a spike that may reflect the pandemic-era boom in gaming activity. By 2023, over 70,000 user reviews were recorded for that year’s releases alone.\n",
    "\n",
    "Together, these two metrics help sketch the shifting landscape of game discourse: from the editorial voices of critics to the vast, often passionate reactions of players themselves."
   ]
  },
  {
   "cell_type": "code",
   "execution_count": null,
   "id": "0e28f05d",
   "metadata": {},
   "outputs": [],
   "source": []
  },
  {
   "cell_type": "code",
   "execution_count": null,
   "id": "d07c20c4",
   "metadata": {},
   "outputs": [],
   "source": []
  },
  {
   "cell_type": "markdown",
   "id": "a0e8aabd",
   "metadata": {},
   "source": [
    "Another interesting aspect to study is if and how the critic and the player base are misaligned in the evaluation of a game"
   ]
  },
  {
   "cell_type": "code",
   "execution_count": null,
   "id": "d663d6bc",
   "metadata": {},
   "outputs": [],
   "source": [
    "df['metacritic_user_score_0_100'] = df['metacritic_user_score']*10"
   ]
  },
  {
   "cell_type": "code",
   "execution_count": null,
   "id": "b7199f97",
   "metadata": {},
   "outputs": [],
   "source": [
    "df[['appid','name','metacritic_score','metacritic_user_score_0_100']]"
   ]
  },
  {
   "cell_type": "code",
   "execution_count": null,
   "id": "e094386b",
   "metadata": {},
   "outputs": [],
   "source": [
    "df['metacritic_score_difference'] = (df['metacritic_user_score_0_100'] - df['metacritic_score'])"
   ]
  },
  {
   "cell_type": "code",
   "execution_count": null,
   "id": "05951094",
   "metadata": {},
   "outputs": [],
   "source": [
    "df[['appid','name','metacritic_score','metacritic_user_score_0_100','metacritic_score_difference']].sort_values(by='metacritic_score_difference', ascending=False).head(40)"
   ]
  },
  {
   "cell_type": "code",
   "execution_count": null,
   "id": "a6a737b6",
   "metadata": {},
   "outputs": [],
   "source": []
  },
  {
   "cell_type": "code",
   "execution_count": null,
   "id": "5992a326",
   "metadata": {},
   "outputs": [],
   "source": []
  },
  {
   "cell_type": "code",
   "execution_count": null,
   "id": "74374097",
   "metadata": {},
   "outputs": [],
   "source": [
    "metacritic_score = alt.Chart(df[['metacritic_score']]).mark_bar().encode(\n",
    "    x = alt.X('metacritic_score:Q', bin=True, title='Metacritic Critic Score'),\n",
    "    y = alt.Y('count():Q',title='count')\n",
    ")\n",
    "\n",
    "user_score = alt.Chart(df[['metacritic_user_score_0_100']]).mark_bar(color=\"#00ff00\").encode(\n",
    "    x = alt.X('metacritic_user_score_0_100:Q', bin=True, title='Metacritic User Score'),\n",
    "    y = alt.Y('count():Q', title='')\n",
    ")\n",
    "\n",
    "critic_plus_user_score = metacritic_score | user_score\n",
    "critic_plus_user_score.save('assets/charts/critic_plus_user_score.json')"
   ]
  },
  {
   "cell_type": "code",
   "execution_count": null,
   "id": "77f2d1e8",
   "metadata": {},
   "outputs": [],
   "source": [
    "critic_plus_user_score"
   ]
  },
  {
   "cell_type": "code",
   "execution_count": null,
   "id": "e54f37c5",
   "metadata": {},
   "outputs": [],
   "source": [
    "steam_positive_review_ratio = alt.Chart(df[['reviews_score_fancy', 'reviews_bucket']]).mark_bar().encode(\n",
    "    x = alt.X('reviews_score_fancy:Q', bin=True, title='Steam Positive Review Ratio'),\n",
    "    y = alt.Y('count():Q', title='count'),\n",
    "    color=alt.Color('reviews_bucket:N', title='Number of reviews',\n",
    "                    sort=['0-99', '100-999', '1000-9999', '10000-99999', '100000+'])\n",
    "    \n",
    ")\n",
    "\n",
    "steam_positive_review_ratio.save('assets/charts/steam_positive_review_ratio.json')"
   ]
  },
  {
   "cell_type": "code",
   "execution_count": null,
   "id": "395a8e44",
   "metadata": {},
   "outputs": [],
   "source": [
    "steam_positive_review_ratio"
   ]
  },
  {
   "cell_type": "markdown",
   "id": "b41dad83",
   "metadata": {},
   "source": [
    "**Three Ways to Judge a Game**\n",
    "\n",
    "The perception of quality can vary dramatically depending on who’s holding the mic. By looking at the distribution of scores from Metacritic critics, Metacritic users, and Steam user ratings, we see clear patterns emerge — and a few surprises.\n",
    "\n",
    "Critics on Metacritic tend to hover in the middle-upper range, with a concentration between 70–80, and relatively few games rated below 60. This compressed distribution reflects a long-standing criticism of the games press: the reluctance to give truly low scores, perhaps due to industry dynamics or an editorial focus on already-promising titles.\n",
    "\n",
    "Metacritic users, while more willing to dip into lower scores, also cluster in the 60–80 range — with a noticeable bump in the 50–60 interval and even some extreme low ratings. This spread suggests a wider range of sentiment, including disappointment or backlash, but still broadly centered around average-to-good experiences.\n",
    "\n",
    "Steam user ratings, presented as a positive review ratio, tell a different story. The majority of games score above 80%, with a heavy right skew — and more than 1,200 games sitting in the 90–100 range. Steam’s binary “thumbs up or down” system tends to inflate these scores and as a consequence it offers less nuance compared to Metacritic's scoring, which uses a broader numerical scale.\n",
    "\n",
    "Together, these distributions illustrate the fragmented yet complementary nature of game evaluation: from the cautious optimism of critics to the vocal intensity of fans."
   ]
  },
  {
   "cell_type": "markdown",
   "id": "07472aa0",
   "metadata": {},
   "source": [
    "**Popularity Amplifies Positivity**\n",
    "\n",
    "A closer look at Steam’s user rating system reveals that positivity tends to rise with popularity. Among games with extremely high review scores (90–100%), most are backed by hundreds to thousands of user reviews — and a sizable number (88 titles) even exceed 100,000 reviews. These aren’t just obscure cult favorites with inflated scores; they’re widely played and publicly endorsed.\n",
    "\n",
    "Conversely, as we move toward lower Steam score brackets (below 60%), we also see a marked drop in review volume. Games in the 30–50% positive range often have fewer than 1,000 reviews, many even under 100. The implication is twofold: lower-rated games not only fare worse critically, but they also struggle to attract attention, compounding their invisibility.\n",
    "\n",
    "This trend underscores how Steam’s score distribution is skewed not just by fan enthusiasm, but also by review volume bias. High-scoring, widely reviewed games benefit from social proof and visibility, while low-rated titles are often both less liked and less played. The takeaway? On Steam, positivity thrives in numbers."
   ]
  },
  {
   "cell_type": "code",
   "execution_count": null,
   "id": "d515c6e5",
   "metadata": {},
   "outputs": [],
   "source": [
    "df['metacritic_score_difference_pct'] = (df['metacritic_score_difference'] / df['metacritic_score']) * 100"
   ]
  },
  {
   "cell_type": "code",
   "execution_count": null,
   "id": "aebc2ad3",
   "metadata": {},
   "outputs": [],
   "source": [
    "bins = [-np.inf, -30, -20, -10, -5, 5, 10, 20, 30, np.inf]\n",
    "labels = [\n",
    "    'User <<< Critic (<-30%)',\n",
    "    'User << Critic (-30% to -20%)',\n",
    "    'User < Critic (-20% to -10%)',\n",
    "    'User ~ Critic (-10% to -5%)',\n",
    "    'User ≈ Critic (-5% to +5%)',\n",
    "    'User ~ Critic (+5% to +10%)',\n",
    "    'User > Critic (+10% to +20%)',\n",
    "    'User >> Critic (+20% to +30%)',\n",
    "    'User >>> Critic (>+30%)'\n",
    "]\n",
    "\n",
    "df['metacritic_score_difference_pct_category'] = pd.cut(df['metacritic_score_difference_pct'], bins=bins, labels=labels)\n",
    "\n",
    "# Count games in each category\n",
    "category_counts = df['metacritic_score_difference_pct_category'].value_counts().sort_index()\n",
    "\n",
    "# Display results\n",
    "print(\"Games by percentage difference category:\")\n",
    "print(category_counts)"
   ]
  },
  {
   "cell_type": "code",
   "execution_count": null,
   "id": "c4fc1e60",
   "metadata": {},
   "outputs": [],
   "source": [
    "metacritic_score_difference = alt.Chart(category_counts.reset_index()).mark_bar().encode(\n",
    "    x = alt.X('count:Q'),\n",
    "    y = alt.Y('metacritic_score_difference_pct_category:N', sort='-x', title=''),\n",
    "    tooltip=['metacritic_score_difference_pct_category:N', 'count:Q']\n",
    ").properties(\n",
    ")\n",
    "metacritic_score_difference.save('assets/charts/metacritic_score_difference.json')"
   ]
  },
  {
   "cell_type": "code",
   "execution_count": null,
   "id": "1ba81b3d",
   "metadata": {},
   "outputs": [],
   "source": [
    "metacritic_score_difference"
   ]
  },
  {
   "cell_type": "markdown",
   "id": "12630ecd",
   "metadata": {},
   "source": [
    "While most games fall within a reasonable margin of agreement between critics and users, a small but striking group stands out at the fringes — titles where perception differs by more than 30% between reviewers and the broader player base.\n",
    "\n",
    "In 92 games, users rated the experience at least 30% higher than critics. These are often cult hits, late bloomers, or games that critics may have undervalued at launch — possibly due to technical issues or unconventional design choices that later gained appreciation among dedicated fans. Such titles suggest that critical frameworks sometimes miss the emotional or community-driven impact a game might achieve over time.\n",
    "\n",
    "Conversely, 238 games were rated over 30% lower by users than by critics. These cases often reflect backlash to hype, controversial monetization models, or post-launch issues not captured in early reviews. Games that launched with technical shortcomings, misleading marketing, or gameplay decisions unpopular with core audiences frequently fall into this group — highlighting a disconnect between polished pre-release impressions and real-world playability.\n",
    "\n",
    "These extremes underscore a broader truth: critical consensus does not guarantee lasting approval, and games are increasingly judged over time, not just at launch. As gaming audiences grow more vocal and discerning, the gap between professional critique and grassroots sentiment becomes both more visible — and more telling."
   ]
  },
  {
   "cell_type": "code",
   "execution_count": null,
   "id": "8a9baa63",
   "metadata": {},
   "outputs": [],
   "source": [
    "user_vs_critic_score_by_difference = alt.Chart(df[df['metacritic_user_score'].notna()][['metacritic_score', 'metacritic_user_score_0_100', 'metacritic_score_difference_pct_category', 'name', 'metacritic_score_difference', 'metacritic_score_difference_pct']]).mark_circle().encode(\n",
    "    x=alt.X('metacritic_score:Q',  title='Critic Score'),\n",
    "    y=alt.Y('metacritic_user_score_0_100:Q', title='User Score'),\n",
    "    color=alt.Color('metacritic_score_difference_pct_category:N', title='Score Difference Category', sort=[\n",
    "        'User <<< Critic (<-30%)',\n",
    "        'User << Critic (-30% to -20%)',\n",
    "        'User < Critic (-20% to -10%)',\n",
    "        'User ~ Critic (-10% to -5%)',\n",
    "        'User ≈ Critic (-5% to +5%)',\n",
    "        'User ~ Critic (+5% to +10%)',\n",
    "        'User > Critic (+10% to +20%)',\n",
    "        'User >> Critic (+20% to +30%)',\n",
    "        'User >>> Critic (>+30%)'], scale=alt.Scale(range=[\n",
    "\"#E20194\", \"#FF00FF\", \"#FF66CF\", \"#DFABCF\", \"#FFFFFF\", \"#AFD5A6\", \"#79FF59\", \"#00FF00\", \"#23B700\"\n",
    "])\n",
    "    ),\n",
    "    tooltip=[alt.Tooltip('name', title='name'), alt.Tooltip('metacritic_score', title='critic'), alt.Tooltip('metacritic_user_score_0_100', title='user'), alt.Tooltip('metacritic_score_difference', title='Numerical difference'), alt.Tooltip('metacritic_score_difference_pct', title='Percentage difference', format='.2f'), alt.Tooltip('metacritic_score_difference_pct_category', title='Category')]\n",
    ").properties(\n",
    "    width=600,\n",
    "    height=400\n",
    ").interactive()\n",
    "\n",
    "user_vs_critic_score_by_difference.save('assets/charts/user_vs_critic_score_by_difference.json')"
   ]
  },
  {
   "cell_type": "code",
   "execution_count": null,
   "id": "ebe4d28a",
   "metadata": {},
   "outputs": [],
   "source": [
    "user_vs_critic_score_by_difference"
   ]
  },
  {
   "cell_type": "code",
   "execution_count": null,
   "id": "dafe80e2",
   "metadata": {},
   "outputs": [],
   "source": []
  },
  {
   "cell_type": "markdown",
   "id": "5224ee1a",
   "metadata": {},
   "source": [
    "It would be interesting to analyze in more details (espacially doing the analysis of the reviews) the games that have an high misalignment between critics and user base."
   ]
  },
  {
   "cell_type": "code",
   "execution_count": null,
   "id": "8255bfee",
   "metadata": {},
   "outputs": [],
   "source": [
    "# Step 2: Define features for PCA\n",
    "\n",
    "# Step 3: Log transform skewed features\n",
    "# (Skip binary features like is_missing_all_time_peak)\n",
    "log_transform_features = [\n",
    "    '24h_peak_ccu',\n",
    "    'all_time_peak_ccu_filled',\n",
    "    #'is_missing_all_time_peak',\n",
    "    'avg_estimated_owners',\n",
    "    'reviews_total',\n",
    "    'plays_backloggd',\n",
    "    #'playing_backloggd',\n",
    "    'backlogs_backloggd',\n",
    "    #'lists_backloggd',\n",
    "    'reviews_backloggd',\n",
    "    'recommendations',\n",
    "    'n_crit_revs',\n",
    "    'n_user_revs'\n",
    "    #'average_forever',\n",
    "]\n",
    "\n",
    "# Apply log1p transformation (log(1 + x)) to avoid issues with zeros\n",
    "for col in log_transform_features:\n",
    "    df[col + '_log'] = np.log1p(df[col])\n",
    "\n",
    "# Create the new feature matrix using transformed columns + the binary column\n",
    "pca_features = [col + '_log' for col in log_transform_features] + ['is_missing_all_time_peak']\n",
    "\n",
    "X = df[pca_features]\n",
    "\n",
    "# Step 4: Standardize\n",
    "scaler = StandardScaler()\n",
    "X_scaled = scaler.fit_transform(X)\n",
    "\n",
    "# Step 5: PCA\n",
    "pca = PCA(n_components=1)\n",
    "popularity_score = pca.fit_transform(X_scaled)\n",
    "\n",
    "# Step 6: Normalize to [0, 1]\n",
    "df['popularity_score'] = MinMaxScaler().fit_transform(popularity_score)"
   ]
  },
  {
   "cell_type": "code",
   "execution_count": null,
   "id": "002e336f",
   "metadata": {},
   "outputs": [],
   "source": [
    "critic_gt_user = df[df['metacritic_score_difference_pct_category'] == 'User <<< Critic (<-30%)'][['appid', 'name', 'metacritic_score_difference_pct', 'metacritic_score_difference_pct_category', 'popularity_score']].sort_values(by = 'popularity_score', ascending=[False]).head(15).reset_index(drop=True)\n",
    "critic_gt_user"
   ]
  },
  {
   "cell_type": "markdown",
   "id": "a7746380",
   "metadata": {},
   "source": [
    "A striking pattern emerges when comparing user and critic scores: some highly anticipated and critically praised titles face significant backlash from players. Among the top 15 games where user scores trail critic scores by over 30%, franchises like Call of Duty, Battlefield, and Destiny 2 stand out. These games often launched amidst controversies involving aggressive monetization, technical issues, or unmet player expectations. Titles such as Battlefield™ 2042 and Fallout 76 struggled with buggy releases that soured community sentiment despite positive critical reception. Similarly, games like The Sims™ 4 and STAR WARS™ Battlefront™ II faced criticism over pay-to-win mechanics and content gating. This divergence highlights a recurring disconnect between professional reviews and player experiences, underscoring the complexities of evaluating games in the evolving landscape of live-service models and monetization strategies."
   ]
  },
  {
   "cell_type": "code",
   "execution_count": null,
   "id": "16643bd1",
   "metadata": {},
   "outputs": [],
   "source": [
    "critic_gt_user.to_csv('critic_gt_user.csv', index=False)"
   ]
  },
  {
   "cell_type": "code",
   "execution_count": null,
   "id": "3ac2abd7",
   "metadata": {},
   "outputs": [],
   "source": []
  },
  {
   "cell_type": "code",
   "execution_count": null,
   "id": "79aed5f0",
   "metadata": {},
   "outputs": [],
   "source": [
    "user_gt_critic = df[df['metacritic_score_difference_pct_category'] == 'User >>> Critic (>+30%)'][['appid', 'name', 'metacritic_score_difference_pct', 'metacritic_score_difference_pct_category', 'popularity_score']].sort_values(by = ['popularity_score'], ascending=[False]).head(15).reset_index(drop=True)\n",
    "user_gt_critic"
   ]
  },
  {
   "cell_type": "markdown",
   "id": "9fe76640",
   "metadata": {},
   "source": [
    "Notice that popularity_score is lower for games with User >>> Critic (>+30%)"
   ]
  },
  {
   "cell_type": "markdown",
   "id": "592a8f53",
   "metadata": {},
   "source": [
    "On the flip side, some games earn far more praise from players than from critics, with user scores exceeding critic scores by over 30%. This list includes cult favorites and niche titles like 7 Days to Die, Rain World, and POSTAL 2, which often develop passionate fanbases despite mixed or lukewarm professional reviews. Many of these games offer unique gameplay experiences, deep community engagement, or long-term updates that resonate strongly with players. MMORPGs like FINAL FANTASY XIV Online also showcase how ongoing content and player-driven evolution can elevate a game’s appreciation well beyond initial critical impressions. This phenomenon reflects the gap between traditional review criteria and the values that players often prioritize, such as replayability, community, and emotional connection."
   ]
  },
  {
   "cell_type": "code",
   "execution_count": null,
   "id": "c9211167",
   "metadata": {},
   "outputs": [],
   "source": [
    "user_gt_critic.to_csv('user_gt_critic.csv', index=False)"
   ]
  },
  {
   "cell_type": "code",
   "execution_count": null,
   "id": "4833af1a",
   "metadata": {},
   "outputs": [],
   "source": []
  },
  {
   "cell_type": "code",
   "execution_count": null,
   "id": "759cc316",
   "metadata": {},
   "outputs": [],
   "source": []
  },
  {
   "cell_type": "code",
   "execution_count": null,
   "id": "b7249e30",
   "metadata": {},
   "outputs": [],
   "source": []
  },
  {
   "cell_type": "markdown",
   "id": "85470698",
   "metadata": {},
   "source": [
    "Popularity in the gaming world is more than just raw sales—it’s a combination of visibility, engagement, and community presence. To capture this complex reality, we created a composite Popularity Score using data from both Steam and gaming databases like Metacritic and Backloggd.\n",
    "\n",
    "We began with ten core indicators of attention, ranging from how many people bought or played a game, to how often it was reviewed or recommended. These included:\n",
    "\n",
    "- Player activity metrics like peak concurrent users (24h and all-time)\n",
    "\n",
    "- Estimated number of owners\n",
    "\n",
    "- Steam review counts (total and recommendations)\n",
    "\n",
    "- Engagement on Backloggd (plays, backlogs, reviews)\n",
    "\n",
    "- Number of critic and user reviews on Metacritic\n",
    "\n",
    "Because these numbers can vary wildly between indie darlings and AAA blockbusters, we applied a logarithmic transformation to scale them more evenly. Then, we used Principal Component Analysis (PCA) to synthesize these features into a single, unified Popularity Score (which is then normalized between $0$ and $1$).\n",
    "\n",
    "This score doesn’t just tell us how many people bought a game—it reflects how visible, discussed, and socially present a game is in the gaming ecosystem."
   ]
  },
  {
   "cell_type": "code",
   "execution_count": null,
   "id": "90b5f220",
   "metadata": {},
   "outputs": [],
   "source": [
    "# Step 1: Create missing flag and impute all_time_peak_ccu\n",
    "df['is_missing_all_time_peak'] = df['all_time_peak_ccu'].isna().astype(int)\n",
    "\n",
    "def impute_all_time_peak(row):\n",
    "    if pd.notna(row['all_time_peak_ccu']):\n",
    "        return row['all_time_peak_ccu']\n",
    "    else:\n",
    "        return row['24h_peak_ccu']\n",
    "\n",
    "df['all_time_peak_ccu_filled'] = df.apply(impute_all_time_peak, axis=1)\n",
    "\n",
    "# Step 2: Define features for PCA\n",
    "\n",
    "# Step 3: Log transform skewed features\n",
    "# (Skip binary features like is_missing_all_time_peak)\n",
    "log_transform_features = [\n",
    "    '24h_peak_ccu',\n",
    "    'all_time_peak_ccu_filled',\n",
    "    #'is_missing_all_time_peak',\n",
    "    'avg_estimated_owners',\n",
    "    'reviews_total',\n",
    "    'plays_backloggd',\n",
    "    #'playing_backloggd',\n",
    "    'backlogs_backloggd',\n",
    "    #'lists_backloggd',\n",
    "    'reviews_backloggd',\n",
    "    'recommendations',\n",
    "    'n_crit_revs',\n",
    "    'n_user_revs'\n",
    "    #'average_forever',\n",
    "]\n",
    "\n",
    "# Apply log1p transformation (log(1 + x)) to avoid issues with zeros\n",
    "for col in log_transform_features:\n",
    "    df[col + '_log'] = np.log1p(df[col])\n",
    "\n",
    "# Create the new feature matrix using transformed columns + the binary column\n",
    "pca_features = [col + '_log' for col in log_transform_features] + ['is_missing_all_time_peak']\n",
    "\n",
    "X = df[pca_features]\n",
    "\n",
    "# Step 4: Standardize\n",
    "scaler = StandardScaler()\n",
    "X_scaled = scaler.fit_transform(X)\n",
    "\n",
    "# Step 5: PCA\n",
    "pca = PCA(n_components=1)\n",
    "popularity_score = pca.fit_transform(X_scaled)\n",
    "\n",
    "# Step 6: Normalize to [0, 1]\n",
    "df['popularity_score'] = MinMaxScaler().fit_transform(popularity_score)"
   ]
  },
  {
   "cell_type": "code",
   "execution_count": null,
   "id": "2adf3481",
   "metadata": {},
   "outputs": [],
   "source": [
    "loadings = pca.components_\n",
    "loadings"
   ]
  },
  {
   "cell_type": "code",
   "execution_count": null,
   "id": "61b9c837",
   "metadata": {},
   "outputs": [],
   "source": [
    "hist = alt.Chart(df[['popularity_score']]).mark_bar().encode(\n",
    "    x = alt.X('popularity_score:Q', title='Popularity Score', bin=alt.Bin(maxbins=30)),\n",
    "    y = alt.Y('count()', title='count')\n",
    ").properties(\n",
    "    width=400\n",
    ")\n",
    "\n",
    "\n",
    "kde = alt.Chart(df[['popularity_score']]).transform_density(\n",
    "    'popularity_score',\n",
    "    as_=['popularity_score', 'density']\n",
    ").mark_line(color='red').encode(\n",
    "    x='popularity_score:Q',\n",
    "    y=alt.Y('density:Q', axis=alt.Axis(labelPadding=25), title='KDE')\n",
    ")\n",
    "\n",
    "popularity_distribution = (hist + kde).properties(width=400, height=400).resolve_scale(y='independent')\n",
    "popularity_distribution.save('assets/charts/popularity_distribution.json')"
   ]
  },
  {
   "cell_type": "code",
   "execution_count": null,
   "id": "9bf5ba09",
   "metadata": {},
   "outputs": [],
   "source": [
    "popularity_distribution"
   ]
  },
  {
   "cell_type": "code",
   "execution_count": null,
   "id": "044b98d3",
   "metadata": {},
   "outputs": [],
   "source": [
    "sns.histplot(df['popularity_score'], bins=30, kde=True)\n",
    "plt.savefig('assets/images/popularity_distribution.png')\n",
    "plt.show()"
   ]
  },
  {
   "cell_type": "code",
   "execution_count": null,
   "id": "df8a1640",
   "metadata": {},
   "outputs": [],
   "source": [
    "df.sort_values(by='popularity_score', ascending=False).head(15)[['name', 'popularity_score']]"
   ]
  },
  {
   "cell_type": "code",
   "execution_count": null,
   "id": "2ffc3ae6",
   "metadata": {},
   "outputs": [],
   "source": [
    "top_15_popularity = alt.Chart(df.sort_values(by='popularity_score', ascending=False).head(15)[['name', 'popularity_score']]).mark_bar().encode(\n",
    "    x = alt.X('popularity_score:Q', title='Popularity Score'),\n",
    "    y = alt.Y('name:N', sort='-x', title=''),\n",
    "    tooltip=['name','popularity_score']\n",
    ")\n",
    "\n",
    "top_15_popularity.save('assets/charts/top_15_popularity.json')"
   ]
  },
  {
   "cell_type": "code",
   "execution_count": null,
   "id": "ffcd1154",
   "metadata": {},
   "outputs": [],
   "source": [
    "top_15_popularity"
   ]
  },
  {
   "cell_type": "markdown",
   "id": "0accee3d",
   "metadata": {},
   "source": [
    "At the top of this popularity pyramid sit the undeniable titans:\n",
    "\n",
    "- Blockbusters like Grand Theft Auto V, ELDEN RING, and Cyberpunk 2077, which combine massive marketing budgets with cinematic storytelling.\n",
    "\n",
    "- Multiplayer giants like Counter-Strike: Global Offensive, Destiny 2, and Dota 2, which dominate through community and competition.\n",
    "\n",
    "- Indie darlings like Stardew Valley, Hollow Knight, and Stray show that passion projects can thrive alongside AAA titans.\n",
    "\n",
    "What’s striking is the diversity in genre, budget, and design philosophy. From The Witcher 3’s sprawling narrative to Rocket League’s arcade sportsmanship, the top 30 aren’t bound by formula. If anything, they represent different roads to success — a testament to the varied tastes of the modern gaming audience.\n",
    "\n",
    "Another fascinating observation? Many of these games were not immediate hits. Titles like No Man’s Sky or Cyberpunk 2077 faced rocky launches but slowly climbed into favor through updates, transparency, and community trust — showing that redemption arcs are possible in the digital age.\n",
    "\n",
    "This list is not just a leaderboard. It's a cultural snapshot. These are the games that didn’t just sell — they stayed. They sparked conversations, mods, memes, and memories. And in many cases, they’re still evolving."
   ]
  },
  {
   "cell_type": "code",
   "execution_count": null,
   "id": "c04d0f35",
   "metadata": {},
   "outputs": [],
   "source": [
    "median_popularity_df = df.groupby('release_date')[['popularity_score']].median().reset_index()\n",
    "median_popularity_df['label'] = 'Median popularity score'\n",
    "\n",
    "median_popularity = alt.Chart(median_popularity_df).mark_line(point=True).encode(\n",
    "    x = alt.X('year(release_date):T'),\n",
    "    y = alt.Y('median(popularity_score):Q', scale=alt.Scale(domain=[0.2,1.1])),\n",
    "    color = alt.Color('label:N', legend=alt.Legend(title=''), scale=alt.Scale(range=['#00ff00'])),\n",
    "    tooltip = ['year(release_date):T','median(popularity_score):Q']\n",
    ")\n",
    "\n",
    "\n",
    "most_popular_games = df.sort_values('popularity_score', ascending=False).groupby('year').first().reset_index()\n",
    "most_popular_games_df = most_popular_games[['release_date', 'popularity_score', 'name']].copy(deep=True)\n",
    "most_popular_games_df['label'] = 'Max popularity score'\n",
    "\n",
    "top_popularity = alt.Chart(most_popular_games_df).mark_line(point=True).encode(\n",
    "    x=alt.X('year(release_date):T', title='year'),\n",
    "    y=alt.Y('popularity_score:Q', title='', scale=alt.Scale(domain=[0.2,1.1])),\n",
    "    color = alt.Color('label:N', legend=alt.Legend(title=''), scale=alt.Scale(range=['#ff00ff'])),\n",
    "    tooltip=['name:N', 'year(release_date):T', 'popularity_score:Q']\n",
    ").properties(\n",
    ")\n",
    "\n",
    "median_popularity_and_max_popularity_by_year = (median_popularity + top_popularity).resolve_scale(color='independent')\n",
    "median_popularity_and_max_popularity_by_year.save('assets/charts/median_popularity_and_max_popularity_by_year.json')"
   ]
  },
  {
   "cell_type": "code",
   "execution_count": null,
   "id": "24f1b418",
   "metadata": {},
   "outputs": [],
   "source": [
    "median_popularity_and_max_popularity_by_year"
   ]
  },
  {
   "cell_type": "markdown",
   "id": "9c38a197",
   "metadata": {},
   "source": [
    "The median popularity score of games by release year paints a subtle but telling picture of how audience attention has evolved across generations. In the late 1990s and early 2000s, median scores regularly surpassed 0.6, suggesting a concentration of enduring, high-profile titles. Notably, 1998 and 2000 stand out, years marked by landmark releases that continue to command interest today.\n",
    "\n",
    "However, from 2006 onward, a clear downward shift emerges. Median popularity scores hover closer to 0.35–0.45, reflecting a broader and more fragmented market. This likely mirrors the rise of digital distribution, indie development, and an explosion in the volume of new titles — where fewer individual games dominate attention the way they once did.\n",
    "\n",
    "Recent years, particularly post-2020, show a modest resurgence, possibly due to pandemic-fueled engagement and the breakout success of a few widely streamed or viral titles. Still, the overall pattern suggests that while more games than ever are being played, the average title garners less sustained visibility — a testament to how player attention is now spread thin across an ever-expanding landscape."
   ]
  },
  {
   "cell_type": "code",
   "execution_count": null,
   "id": "0832b68d",
   "metadata": {},
   "outputs": [],
   "source": [
    "top_games = df.sort_values('popularity_score', ascending=False).groupby('year').first().reset_index()\n",
    "\n",
    "alt.Chart(top_games).mark_line(point=True).encode(\n",
    "    x=alt.X('year:O', axis=alt.Axis(labelAngle=270), title='Year'),\n",
    "    y=alt.Y('popularity_score:Q', title='Max Popularity Score'),\n",
    "    tooltip=['name:N', 'year:O', 'popularity_score:Q']\n",
    ")"
   ]
  },
  {
   "cell_type": "markdown",
   "id": "83e9cdeb",
   "metadata": {},
   "source": [
    "Tracking the most popular game each year — as measured by a comprehensive popularity score — reveals a timeline of titles that not only defined their release windows but often reshaped the landscape of gaming altogether.\n",
    "\n",
    "The late 1990s and early 2000s were heavily marked by Valve’s dominance, with Half-Life (1998), Counter-Strike (2000), and Half-Life 2 (2004) capturing widespread attention. The mid-2000s showed broader variety: Psychonauts (2006) earned cult status, while Team Fortress 2 (2007) signaled the arrival of enduring live-service models.\n",
    "\n",
    "The 2010s saw an increasing blend of indie standouts (Stardew Valley, Hollow Knight) and AAA juggernauts (GTA V, Red Dead Redemption 2). Titles like Terraria (2011) and The Binding of Isaac: Rebirth (2014) proved that depth and replayability often trump scale in sustaining popularity.\n",
    "\n",
    "In recent years, releases like Cyberpunk 2077, ELDEN RING, and Hogwarts Legacy reflect how marketing powerhouses and strong IPs continue to command outsized attention, even as the industry grows more crowded. Still, what binds these top performers is not just visibility at launch — it's their ability to retain a lasting cultural and player footprint."
   ]
  },
  {
   "cell_type": "markdown",
   "id": "dc9742f6",
   "metadata": {},
   "source": [
    "While popularity tells us which games are getting the most attention, appreciation is about how deeply players value their time spent. To distill that sentiment into a measurable score, we combined three distinct signals of game quality:\n",
    "\n",
    "- Steam review ratio: A grassroots signal of user satisfaction\n",
    "\n",
    "- Metacritic critic score: A curated, professional assessment\n",
    "\n",
    "- Metacritic user score: Broader public sentiment outside Steam’s ecosystem\n",
    "\n",
    "We used Principal Component Analysis (PCA) to synthesize these variables into a single appreciation score (which is then normalized between $0$ and $1$) — one that cuts through isolated metrics and offers a more holistic picture of how a game is received across communities.\n",
    "\n",
    "This approach lets us identify not just the most played games, but the most loved. "
   ]
  },
  {
   "cell_type": "code",
   "execution_count": null,
   "id": "7087f06e",
   "metadata": {},
   "outputs": [],
   "source": [
    "appreciation_features = [\n",
    "    'reviews_score_fancy',\n",
    "    #'likes_backloggd',\n",
    "    'metacritic_score',\n",
    "    'metacritic_user_score_filled',\n",
    "    #'is_missing_metacritic_user_score',\n",
    "    #'few_steam_reviews',\n",
    "    #'few_metacritic_user_reviews'\n",
    "]\n",
    "\n",
    "# log_transform_features = [\n",
    "#     'adj_reviews_score_fancy',\n",
    "#     #'likes_backloggd',\n",
    "#     'metacritic_score',\n",
    "#     'metacritic_user_score_filled',\n",
    "# ]\n",
    "\n",
    "# Apply log1p transformation (log(1 + x)) to avoid issues with zeros\n",
    "# for col in log_transform_features:\n",
    "#     df[col + '_log'] = np.log1p(df[col])\n",
    "\n",
    "# Create the new feature matrix using transformed columns + the binary column\n",
    "# pca_features = [col + '_log' for col in log_transform_features] + ['is_missing_metacritic_user_score']\n",
    "\n",
    "X = df[appreciation_features] \n",
    "\n",
    "# Step 3: Standardize features before PCA\n",
    "scaler = StandardScaler()\n",
    "X_scaled = scaler.fit_transform(X)\n",
    "\n",
    "# Step 4: Run PCA (extract first principal component)\n",
    "pca = PCA(n_components=1)\n",
    "appreciation_score = pca.fit_transform(X_scaled)\n",
    "\n",
    "# Add the score back to your DataFrame\n",
    "df['appreciation_score'] = appreciation_score.flatten()\n",
    "\n",
    "minmaxscaler = MinMaxScaler()\n",
    "df['appreciation_score'] = minmaxscaler.fit_transform(df[['appreciation_score']])"
   ]
  },
  {
   "cell_type": "code",
   "execution_count": null,
   "id": "9eed776a",
   "metadata": {},
   "outputs": [],
   "source": [
    "loadings = pca.components_\n",
    "loadings"
   ]
  },
  {
   "cell_type": "code",
   "execution_count": null,
   "id": "e97f987c",
   "metadata": {},
   "outputs": [],
   "source": [
    "hist = alt.Chart(df[['appreciation_score']]).mark_bar().encode(\n",
    "    x = alt.X('appreciation_score:Q',title='Appreciation Score', bin=alt.Bin(maxbins=30)),\n",
    "    y = alt.Y('count()', title='count')\n",
    ")\n",
    "\n",
    "\n",
    "kde = alt.Chart(df[['appreciation_score']]).transform_density(\n",
    "    'appreciation_score',\n",
    "    as_=['appreciation_score', 'density']\n",
    ").mark_line(color='red').encode(\n",
    "    x='appreciation_score:Q',\n",
    "    y=alt.Y('density:Q', axis=alt.Axis(labelPadding=25), title='KDE')\n",
    ")\n",
    "\n",
    "appreciation_distribution = (hist + kde).properties(width=400, height=400).resolve_scale(y='independent')\n",
    "appreciation_distribution.save('assets/charts/appreciation_distribution.json')"
   ]
  },
  {
   "cell_type": "code",
   "execution_count": null,
   "id": "269ada52",
   "metadata": {},
   "outputs": [],
   "source": [
    "appreciation_distribution"
   ]
  },
  {
   "cell_type": "code",
   "execution_count": null,
   "id": "8ae1d733",
   "metadata": {},
   "outputs": [],
   "source": [
    "sns.histplot(df['appreciation_score'], bins=30, kde=True)\n",
    "plt.show()"
   ]
  },
  {
   "cell_type": "code",
   "execution_count": null,
   "id": "0c011eed",
   "metadata": {},
   "outputs": [],
   "source": [
    "df.sort_values('appreciation_score', ascending=False)['name'].values[:30]"
   ]
  },
  {
   "cell_type": "code",
   "execution_count": null,
   "id": "d6c708e9",
   "metadata": {},
   "outputs": [],
   "source": [
    "top_15_appreciation = alt.Chart(df.sort_values(by='appreciation_score', ascending=False).head(15)[['name', 'appreciation_score']]).mark_bar().encode(\n",
    "    x = alt.X('appreciation_score:Q', title='Appreciation Score'),\n",
    "    y = alt.Y('name:N', sort='-x', title=''),\n",
    "    tooltip=['name','appreciation_score']\n",
    ")\n",
    "\n",
    "top_15_appreciation.save('assets/charts/top_15_appreciation.json')"
   ]
  },
  {
   "cell_type": "code",
   "execution_count": null,
   "id": "15b5e1e9",
   "metadata": {},
   "outputs": [],
   "source": [
    "df.sort_values(by='appreciation_score', ascending=False).head(15)[['name', 'appreciation_score']]"
   ]
  },
  {
   "cell_type": "code",
   "execution_count": null,
   "id": "7ab74441",
   "metadata": {},
   "outputs": [],
   "source": [
    "top_15_appreciation"
   ]
  },
  {
   "cell_type": "markdown",
   "id": "839e0f7c",
   "metadata": {},
   "source": [
    "Popularity and appreciation do not always go hand in hand. While games like Grand Theft Auto V or Cyberpunk 2077 might dominate in terms of ownership and visibility, a different set of titles consistently rise to the top when we measure critical and user acclaim in unison.\n",
    "\n",
    "Unsurprisingly, games like Baldur's Gate 3, Red Dead Redemption 2, Portal 2, and The Witcher 3 feature prominently. But the list also includes smaller-scale or older titles that continue to resonate: Celeste, System Shock 2, Pizza Tower, and Undertale all rank among the top 30.\n",
    "\n",
    "What these games share is not budget, scope, or genre—but craftsmanship, consistency, and emotional resonance. Their high scores across all metrics suggest a convergence of design quality, storytelling, and community reception. They are games that players remember not just for what they did, but for how they made them feel.\n",
    "\n",
    "This appreciation-driven ranking also reveals a powerful historical throughline. Half-Life, released in 1998, remains among the most appreciated games on the platform, joined by its sequels Half-Life 2 and Alyx. Legacy matters—but only when it’s earned."
   ]
  },
  {
   "cell_type": "code",
   "execution_count": null,
   "id": "a69432a0",
   "metadata": {},
   "outputs": [],
   "source": [
    "median_appreciation_df = df.groupby('year')[['appreciation_score']].median()\n",
    "median_appreciation_df['label'] = 'Median appreciation score'"
   ]
  },
  {
   "cell_type": "code",
   "execution_count": null,
   "id": "adca3e9d",
   "metadata": {},
   "outputs": [],
   "source": [
    "median_appreciation_df.reset_index()"
   ]
  },
  {
   "cell_type": "code",
   "execution_count": null,
   "id": "733adb1f",
   "metadata": {},
   "outputs": [],
   "source": [
    "median_appreciation_df = df.groupby('year')[['appreciation_score']].median().reset_index()\n",
    "median_appreciation_df['label'] = 'Median appreciation score'\n",
    "\n",
    "median_appreciation = alt.Chart(median_appreciation_df).mark_line(point=True).encode(\n",
    "    x = alt.X('year:O', axis=alt.Axis(labelAngle=270)),\n",
    "    y = alt.Y('median(appreciation_score):Q', scale=alt.Scale(domain=[0.6,1.1])),\n",
    "    color = alt.Color('label:N', legend=alt.Legend(title=''), scale=alt.Scale(range=['#00ff00'])),\n",
    "    tooltip = ['year:O','median(appreciation_score):Q']\n",
    ")\n",
    "\n",
    "\n",
    "most_appreciated_games = df.sort_values('appreciation_score', ascending=False).groupby('year').first().reset_index()\n",
    "most_appreciated_games_df = most_appreciated_games[['year', 'appreciation_score', 'name']].copy(deep=True)\n",
    "most_appreciated_games_df['label'] = 'Max appreciation score'\n",
    "\n",
    "top_appreciation = alt.Chart(most_appreciated_games_df).mark_line(point=True).encode(\n",
    "    x=alt.X('year:O', axis=alt.Axis(labelAngle=270), title='year'),\n",
    "    y=alt.Y('appreciation_score:Q', title='', scale=alt.Scale(domain=[0.6,1.1])),\n",
    "    color = alt.Color('label:N', legend=alt.Legend(title=''), scale=alt.Scale(range=['#ff00ff'])),\n",
    "    tooltip=['name:N', 'year:O', 'appreciation_score:Q']\n",
    ").properties(\n",
    "\n",
    ")\n",
    "\n",
    "median_appreciation_and_max_appreciation_by_year = (median_appreciation + top_appreciation).resolve_scale(color='independent')\n",
    "median_appreciation_and_max_appreciation_by_year.save('assets/charts/median_appreciation_and_max_appreciation_by_year.json')"
   ]
  },
  {
   "cell_type": "code",
   "execution_count": null,
   "id": "43fa325e",
   "metadata": {},
   "outputs": [],
   "source": [
    "median_appreciation_and_max_appreciation_by_year"
   ]
  },
  {
   "cell_type": "markdown",
   "id": "e25e9cae",
   "metadata": {},
   "source": [
    "As more and more games flood Steam each year, one question naturally arises:\n",
    "Has the average quality of games improved, declined, or remained stable?\n",
    "\n",
    "To answer that, we calculated the median appreciation score — a composite index of Steam user ratings, Metacritic critic scores, and Metacritic user feedback — for games released each year.\n",
    "\n",
    "The results are revealing:\n",
    "\n",
    "- From 1998 to around 2008, appreciation scores remained consistently high, reflecting a period when fewer, often more curated titles were released on the platform. The high score in 1998, for example, coincides with landmark releases like Half-Life and the early days of PC gaming prestige.\n",
    "\n",
    "- Between 2009 and 2019, we observe a noticeable dip in median appreciation, with a particularly low point between 2014 and 2016. This coincides with the post-Greenlight era, when Steam opened its gates to a massive influx of indie titles — many innovative, but also many unpolished or derivative. The sheer volume made it harder for consistently high-quality games to dominate the average.\n",
    "\n",
    "- More recently, from 2020 to 2023, appreciation appears to be climbing again, albeit modestly. This could suggest that developers and publishers have adapted to the saturated market, putting more care into polish and feedback — or that players have become better at filtering for quality through reviews and tags.\n",
    "\n",
    "This trend underscores a broader industry shift:\n",
    "\n",
    "More games don’t always mean better games. As barriers to entry dropped, so did the median perception of quality — but also, standout titles had more room to shine. This duality continues to shape the market today, where curation, discoverability, and community word-of-mouth are as critical as ever."
   ]
  },
  {
   "cell_type": "code",
   "execution_count": null,
   "id": "074a8cd1",
   "metadata": {},
   "outputs": [],
   "source": [
    "most_appreciated_games = df.sort_values('appreciation_score', ascending=False).groupby('year').first().reset_index()\n",
    "\n",
    "alt.Chart(most_appreciated_games).mark_line(point=True).encode(\n",
    "    x=alt.X('year:O', axis=alt.Axis(labelAngle=270), title='Year'),\n",
    "    y=alt.Y('appreciation_score:Q', title='Max Appreciation Score'),\n",
    "    tooltip=['name:N', 'year:O', 'appreciation_score:Q']\n",
    ").properties(\n",
    "    width=600\n",
    ")"
   ]
  },
  {
   "cell_type": "markdown",
   "id": "f9bf4648",
   "metadata": {},
   "source": [
    "While popularity may indicate reach, appreciation reveals resonance — the degree to which a game connects deeply with players over time. Using a composite appreciation score, we can trace a lineage of standout titles that left lasting emotional and artistic impact, often regardless of commercial hype.\n",
    "\n",
    "Some years echo the familiar: Half-Life (1998), Counter-Strike (2000), and Half-Life 2 (2004) were not just hits — they redefined genres. Others highlight the rediscovery of classics, like System Shock 2 (2013) and FINAL FANTASY IX (2016), beloved long after their original releases.\n",
    "\n",
    "There are surprise champions too. Pizza Tower (2023), with its frenetic energy and indie charm, captivated a niche audience enough to top its year. Similarly, Celeste (2018) and Hollow Knight (2017) emerged as critical darlings, proving that tightly designed, emotionally rich experiences still punch far above their budget.\n",
    "\n",
    "In standout years like 2015 and 2020, games such as The Witcher 3 and Baldur's Gate 3 didn’t just impress — they redefined expectations for narrative and freedom in role-playing games. The trend suggests that appreciation often favors craftsmanship, depth, and originality over sheer scale or sales."
   ]
  },
  {
   "cell_type": "code",
   "execution_count": null,
   "id": "c1c44b71",
   "metadata": {},
   "outputs": [],
   "source": []
  },
  {
   "cell_type": "code",
   "execution_count": null,
   "id": "dadb7075",
   "metadata": {},
   "outputs": [],
   "source": []
  },
  {
   "cell_type": "code",
   "execution_count": null,
   "id": "dbf8b326",
   "metadata": {},
   "outputs": [],
   "source": [
    "df['popularity_plus_appreciation'] = df['popularity_score'] + df['appreciation_score']\n",
    "df['popularity_minus_appreciation'] = df['popularity_score'] - df['appreciation_score']"
   ]
  },
  {
   "cell_type": "code",
   "execution_count": null,
   "id": "05e5e223",
   "metadata": {},
   "outputs": [],
   "source": [
    "df['is_indie'] = False\n",
    "\n",
    "for idx, row in df.iterrows():\n",
    "    if not isinstance(row['tags'], float):\n",
    "        for tag in row['tags']:\n",
    "            if tag == 'Indie':\n",
    "                df.at[idx, 'is_indie'] = True\n",
    "    if not isinstance(row['genres'], float):\n",
    "        for genre in row['genres']:\n",
    "            if genre == 'Indie':\n",
    "                df.at[idx, 'is_indie'] = True"
   ]
  },
  {
   "cell_type": "markdown",
   "id": "68133af2",
   "metadata": {},
   "source": [
    "The scatter plot below positions games according to their appreciation (horizontal axis) and popularity (vertical axis) scores. With median lines dividing the space, four distinct profiles emerge. Games in the top-right quadrant — such as Red Dead Redemption 2 or The Witcher 3 — combine strong admiration with widespread reach. The top-left captures popular games with more mixed reception, while the bottom-right shows beloved titles with narrower appeal. The bottom-left hosts games that struggled to resonate broadly on either front. This quadrant framework helps decode the landscape of critical and commercial impact in a single glance."
   ]
  },
  {
   "cell_type": "code",
   "execution_count": null,
   "id": "1797cffa",
   "metadata": {},
   "outputs": [],
   "source": []
  },
  {
   "cell_type": "code",
   "execution_count": null,
   "id": "8f478c81",
   "metadata": {},
   "outputs": [],
   "source": [
    "high_pop_high_appr = df[(df['popularity_score'] > df['popularity_score'].median()) & (df['appreciation_score'] > df['appreciation_score'].median())][['appid', 'name', 'popularity_score', 'appreciation_score', 'popularity_plus_appreciation', 'is_indie']].sort_values(by='popularity_plus_appreciation', ascending=False).head(15).reset_index(drop=True)"
   ]
  },
  {
   "cell_type": "code",
   "execution_count": null,
   "id": "f9e5f40c",
   "metadata": {},
   "outputs": [],
   "source": [
    "high_pop_high_appr"
   ]
  },
  {
   "cell_type": "code",
   "execution_count": null,
   "id": "76e20f9d",
   "metadata": {},
   "outputs": [],
   "source": [
    "high_pop_low_appr = df[(df['popularity_score'] > df['popularity_score'].median()) & (df['appreciation_score'] < df['appreciation_score'].median())][['appid', 'name', 'popularity_score', 'appreciation_score', 'popularity_minus_appreciation', 'is_indie']].sort_values(by='popularity_minus_appreciation', ascending=False).head(15).reset_index(drop=True)\n",
    "high_pop_low_appr"
   ]
  },
  {
   "cell_type": "markdown",
   "id": "b67e6fed",
   "metadata": {},
   "source": [
    "The upper-left quadrant of the popularity vs. appreciation plot reveals a compelling pattern: games that drew significant attention but failed to win over audiences. Titles like Battlefield™ 2042, Fallout 76, and The Lord of the Rings: Gollum™ were highly visible, yet their reception fell flat. These games often launched with high expectations — bolstered by marketing, IP strength, or franchise legacy — but ultimately struggled to deliver satisfying experiences. Their placement reflects a key insight: visibility doesn’t guarantee admiration."
   ]
  },
  {
   "cell_type": "code",
   "execution_count": null,
   "id": "f27a5ba8",
   "metadata": {},
   "outputs": [],
   "source": [
    "high_pop_low_appr.to_csv('high_pop_low_appr.csv', index=False)"
   ]
  },
  {
   "cell_type": "code",
   "execution_count": null,
   "id": "b17b6582",
   "metadata": {},
   "outputs": [],
   "source": [
    "low_pop_low_appr = df[(df['popularity_score'] < df['popularity_score'].median()) & (df['appreciation_score'] < df['appreciation_score'].median())][['appid', 'name', 'popularity_score', 'appreciation_score', 'popularity_plus_appreciation', 'is_indie']].sort_values(by='popularity_plus_appreciation', ascending=True).head(15).reset_index(drop=True)"
   ]
  },
  {
   "cell_type": "code",
   "execution_count": null,
   "id": "9532ddbb",
   "metadata": {},
   "outputs": [],
   "source": [
    "low_pop_low_appr"
   ]
  },
  {
   "cell_type": "code",
   "execution_count": null,
   "id": "22e7945a",
   "metadata": {},
   "outputs": [],
   "source": [
    "low_pop_high_appr = df[(df['popularity_score'] < df['popularity_score'].median()) & (df['appreciation_score'] > df['appreciation_score'].median())][['appid', 'name', 'popularity_score', 'appreciation_score', 'popularity_minus_appreciation', 'is_indie']].sort_values(by='popularity_minus_appreciation', ascending=True).head(15).reset_index(drop=True)\n",
    "low_pop_high_appr"
   ]
  },
  {
   "cell_type": "markdown",
   "id": "66cfd36b",
   "metadata": {},
   "source": [
    "In the bottom-right quadrant lie the industry’s unsung heroes — games that received strong appreciation scores despite flying under the radar. Titles like Worm Jazz, MOTHERGUNSHIP: FORGE, and This Way Madness Lies didn’t command the same attention as mainstream blockbusters, but they resonated deeply with the players who discovered them. Whether due to niche appeal, limited marketing, or unconventional design, these games exemplify how quality and recognition don’t always align. They’re a reminder that some of gaming’s most rewarding experiences are waiting off the beaten path."
   ]
  },
  {
   "cell_type": "code",
   "execution_count": null,
   "id": "a68b0c26",
   "metadata": {},
   "outputs": [],
   "source": [
    "low_pop_high_appr.to_csv('low_pop_high_appr.csv', index=False)"
   ]
  },
  {
   "cell_type": "code",
   "execution_count": null,
   "id": "c940788e",
   "metadata": {},
   "outputs": [],
   "source": [
    "# Slider interattivo per soglia\n",
    "slider = alt.binding_range(min=0, max=1, step=0.01)\n",
    "threshold = alt.param(name=\"threshold\", value=0, bind=slider)\n",
    "\n",
    "# Layer 1: punti sopra soglia\n",
    "above = alt.Chart(df[['name', 'appreciation_score', 'popularity_score']]).mark_point().encode(\n",
    "    x=alt.X('appreciation_score:Q', title='Appreciation Score'),\n",
    "    y=alt.Y('popularity_score:Q', title='Popularity Score'),\n",
    "    tooltip=['name', 'popularity_score', 'appreciation_score']\n",
    ").transform_filter(\n",
    "    alt.datum['appreciation_score'] >= threshold\n",
    ")\n",
    "\n",
    "# Layer 2: densità sotto soglia con bin e size → COUNT()\n",
    "below = alt.Chart(df[['name', 'appreciation_score', 'popularity_score']]).mark_circle(color='#00ff00', opacity=0.6).encode(\n",
    "    x=alt.X('appreciation_score:Q', bin=alt.Bin(maxbins=10)),\n",
    "    y=alt.Y('popularity_score:Q', bin=alt.Bin(maxbins=10)),\n",
    "    size=alt.Size('count():Q', scale=alt.Scale(domain=[0, 300]), legend=None),\n",
    "    tooltip=[\n",
    "        alt.Tooltip('count():Q', title='Density')\n",
    "    ]\n",
    ").transform_filter(\n",
    "    alt.datum['appreciation_score'] < threshold\n",
    ")\n",
    "\n",
    "# Linea verticale dinamica\n",
    "# dyn_line = alt.Chart().mark_rule(color='#fe53bb').encode(\n",
    "#     x=alt.X(datum=alt.expr(threshold.name), type='quantitative'),\n",
    "#     strokeWidth=alt.StrokeWidth(value=2)\n",
    "# )\n",
    "\n",
    "# Linea verticale fissa (mediana di appreciation)\n",
    "vline = alt.Chart(pd.DataFrame({\n",
    "    'x': [df['appreciation_score'].median()]\n",
    "})).mark_rule(color='red', strokeDash=[4, 3], strokeWidth=3).encode(x='x')\n",
    "\n",
    "# Linea orizzontale fissa (mediana di popularity)\n",
    "hline = alt.Chart(pd.DataFrame({\n",
    "    'y': [df['popularity_score'].median()]\n",
    "})).mark_rule(color='red', strokeDash=[4, 3], strokeWidth=3).encode(y='y')\n",
    "\n",
    "\n",
    "high_pop_high_appr_chart = alt.Chart(high_pop_high_appr).mark_point(color = 'yellow').encode(\n",
    "    x = alt.X('appreciation_score:Q'),\n",
    "    y = alt.Y('popularity_score:Q'),\n",
    "    tooltip = ['name', 'popularity_score', 'appreciation_score']\n",
    ").transform_filter(\n",
    "    alt.datum['appreciation_score'] >= threshold\n",
    ")\n",
    "\n",
    "high_pop_low_appr_chart = alt.Chart(high_pop_low_appr).mark_point(color = 'yellow').encode(\n",
    "    x = alt.X('appreciation_score:Q'),\n",
    "    y = alt.Y('popularity_score:Q'),\n",
    "    tooltip = ['name', 'popularity_score', 'appreciation_score']\n",
    ").transform_filter(\n",
    "    alt.datum['appreciation_score'] >= threshold\n",
    ")\n",
    "\n",
    "low_pop_low_appr_chart = alt.Chart(low_pop_low_appr).mark_point(color = 'yellow').encode(\n",
    "    x = alt.X('appreciation_score:Q'),\n",
    "    y = alt.Y('popularity_score:Q'),\n",
    "    tooltip = ['name', 'popularity_score', 'appreciation_score']\n",
    ").transform_filter(\n",
    "    alt.datum['appreciation_score'] >= threshold\n",
    ")\n",
    "\n",
    "low_pop_high_appr_chart = alt.Chart(low_pop_high_appr).mark_point(color = 'yellow').encode(\n",
    "    x = alt.X('appreciation_score:Q'),\n",
    "    y = alt.Y('popularity_score:Q'),\n",
    "    tooltip = ['name', 'popularity_score', 'appreciation_score']\n",
    ").transform_filter(\n",
    "    alt.datum['appreciation_score'] >= threshold\n",
    ")\n",
    "\n",
    "\n",
    "\n",
    "\n",
    "# Layer finale\n",
    "popularity_vs_appreciation = alt.layer(\n",
    "    above,         # punti sopra soglia\n",
    "    below,         # densità sotto soglia\n",
    "    high_pop_high_appr_chart,\n",
    "    high_pop_low_appr_chart,\n",
    "    low_pop_high_appr_chart,\n",
    "    low_pop_low_appr_chart,\n",
    "    #dyn_line,      # linea soglia interattiva\n",
    "    vline,         # linea mediana verticale\n",
    "    hline          # linea mediana orizzontale\n",
    ").add_params(threshold).properties(\n",
    "    width = 600,\n",
    "    height = 600\n",
    ").interactive()\n",
    "\n",
    "\n",
    "popularity_vs_appreciation.save('assets/charts/popularity_vs_appreciation.json')"
   ]
  },
  {
   "cell_type": "code",
   "execution_count": null,
   "id": "f72d444c",
   "metadata": {},
   "outputs": [],
   "source": [
    "popularity_vs_appreciation"
   ]
  },
  {
   "cell_type": "code",
   "execution_count": null,
   "id": "f386558c",
   "metadata": {},
   "outputs": [],
   "source": [
    "df[df['normalized_name'] == 'freudsbonesthegame'][['appid', 'name', 'popularity_score', 'appreciation_score']]"
   ]
  },
  {
   "cell_type": "markdown",
   "id": "c9c3f64e",
   "metadata": {},
   "source": [
    "While many games in our dataset aim for mass appeal, Freud’s Bones by Fortuna Imperatore proves that passion and vision can create powerful impact — even outside the mainstream. Nestled in the bottom-right quadrant of our popularity vs. appreciation analysis, the game stands out for its high critical regard despite modest visibility.\n",
    "\n",
    "Blending psychoanalytic themes with an unusual narrative structure, Freud’s Bones carved out a niche for players craving introspection over action. In our interview with developer Fortuna Imperatore, she shared how the game’s indie spirit and psychological complexity were both a creative strength and a commercial challenge.\n",
    "\n",
    "This rare case of high appreciation paired with low popularity underscores the trade-offs faced by experimental developers — and reminds us that innovation often begins at the margins."
   ]
  },
  {
   "cell_type": "code",
   "execution_count": null,
   "id": "2c1d2630",
   "metadata": {},
   "outputs": [],
   "source": []
  },
  {
   "cell_type": "code",
   "execution_count": null,
   "id": "48930554",
   "metadata": {},
   "outputs": [],
   "source": []
  },
  {
   "cell_type": "markdown",
   "id": "e0f29c3e",
   "metadata": {},
   "source": [
    "Beyond raw numbers and critical acclaim lies a deeper story—one about who makes the games we play. As we navigate the divide between the industry's giants and its independent creators, a clear pattern begins to emerge. Indie games, often born from limited resources but boundless creativity, tend to occupy a different space in the gaming ecosystem than their mainstream, studio-backed counterparts.\n",
    "\n",
    "But how do these two worlds compare when it comes to popularity and appreciation? Do indie games struggle for visibility despite critical praise? Are big-budget titles more likely to dominate the charts but divide audiences? To answer these questions, we looked at how indie and non-indie games perform across the spectrum of attention and acclaim."
   ]
  },
  {
   "cell_type": "code",
   "execution_count": null,
   "id": "1cb4ad6a",
   "metadata": {},
   "outputs": [],
   "source": []
  },
  {
   "cell_type": "code",
   "execution_count": null,
   "id": "58598390",
   "metadata": {},
   "outputs": [],
   "source": [
    "df['is_indie'] = False\n",
    "\n",
    "for idx, row in df.iterrows():\n",
    "    if not isinstance(row['tags'], float):\n",
    "        for tag in row['tags']:\n",
    "            if tag == 'Indie':\n",
    "                df.at[idx, 'is_indie'] = True\n",
    "    if not isinstance(row['genres'], float):\n",
    "        for genre in row['genres']:\n",
    "            if genre == 'Indie':\n",
    "                df.at[idx, 'is_indie'] = True"
   ]
  },
  {
   "cell_type": "code",
   "execution_count": null,
   "id": "f8508249",
   "metadata": {},
   "outputs": [],
   "source": [
    "df['is_indie'].value_counts()"
   ]
  },
  {
   "cell_type": "code",
   "execution_count": null,
   "id": "3db3c361",
   "metadata": {},
   "outputs": [],
   "source": [
    "df[(df['popularity_score'] < df['popularity_score'].median()) & (df['appreciation_score'] > df['appreciation_score'].median())]['is_indie'].value_counts()"
   ]
  },
  {
   "cell_type": "code",
   "execution_count": null,
   "id": "ae24f489",
   "metadata": {},
   "outputs": [],
   "source": [
    "df[(df['popularity_score'] > df['popularity_score'].median()) & (df['appreciation_score'] < df['appreciation_score'].median())]['is_indie'].value_counts()"
   ]
  },
  {
   "cell_type": "code",
   "execution_count": null,
   "id": "9857ed14",
   "metadata": {},
   "outputs": [],
   "source": [
    "df[(df['popularity_score'] > df['popularity_score'].median()) & (df['appreciation_score'] > df['appreciation_score'].median())]['is_indie'].value_counts()"
   ]
  },
  {
   "cell_type": "code",
   "execution_count": null,
   "id": "90f518b1",
   "metadata": {},
   "outputs": [],
   "source": [
    "df[(df['popularity_score'] < df['popularity_score'].median()) & (df['appreciation_score'] < df['appreciation_score'].median())]['is_indie'].value_counts()"
   ]
  },
  {
   "cell_type": "code",
   "execution_count": null,
   "id": "988c23b9",
   "metadata": {},
   "outputs": [],
   "source": [
    "(df.groupby(by='year')['is_indie'].sum()/df.groupby(by='year')['year'].count())*100"
   ]
  },
  {
   "cell_type": "code",
   "execution_count": null,
   "id": "3a802243",
   "metadata": {},
   "outputs": [],
   "source": [
    "df[df['is_indie'] == True].groupby('year')['year'].agg('count')"
   ]
  },
  {
   "cell_type": "code",
   "execution_count": null,
   "id": "e5057db0",
   "metadata": {},
   "outputs": [],
   "source": [
    "# Group by year and is_indie to count games\n",
    "games_by_type_per_year = df.groupby(['year', 'is_indie']).size().reset_index(name='game_count')\n",
    "\n",
    "# Replace boolean values with readable labels\n",
    "games_by_type_per_year['game_type'] = games_by_type_per_year['is_indie'].map({\n",
    "    True: 'Indie Games',\n",
    "    False: 'Non-Indie Games'\n",
    "})\n",
    "\n",
    "# Create grouped bar chart\n",
    "indie_vs_not_indie_by_year = alt.Chart(games_by_type_per_year).mark_bar().encode(\n",
    "    x=alt.X('year:O', title='year', axis=alt.Axis(labelAngle=270)),\n",
    "    y=alt.Y('game_count:Q', title='Number of Games'),\n",
    "    color=alt.Color('game_type:N', title='Game Type',\n",
    "                    scale=alt.Scale(domain=['Non-Indie Games', 'Indie Games'],\n",
    "                                    range=['#ff00ff', '#00ff00'])),\n",
    "    tooltip=['year:O', 'game_type:N', 'game_count:Q']\n",
    ")\n",
    "\n",
    "indie_vs_not_indie_by_year.save('assets/charts/indie_vs_not_indie_by_year.json')"
   ]
  },
  {
   "cell_type": "code",
   "execution_count": null,
   "id": "5a170fbf",
   "metadata": {},
   "outputs": [],
   "source": [
    "indie_vs_not_indie_by_year"
   ]
  },
  {
   "cell_type": "code",
   "execution_count": null,
   "id": "af18676c",
   "metadata": {},
   "outputs": [],
   "source": [
    "df[df['is_indie'] == True][['popularity_score']]"
   ]
  },
  {
   "cell_type": "code",
   "execution_count": null,
   "id": "11948ca3",
   "metadata": {},
   "outputs": [],
   "source": [
    "hist = alt.Chart(df[df['is_indie'] == True][['popularity_score']]).mark_bar().encode(\n",
    "    x = alt.X('popularity_score:Q', bin=alt.Bin(maxbins=30)),\n",
    "    y = alt.Y('count()')\n",
    ").properties(\n",
    "    width=400\n",
    ")\n",
    "\n",
    "\n",
    "kde = alt.Chart(df[df['is_indie'] == True][['popularity_score']]).transform_density(\n",
    "    'popularity_score',\n",
    "    as_=['popularity_score', 'density']\n",
    ").mark_line(color='red').encode(\n",
    "    x='popularity_score:Q',\n",
    "    y='density:Q'\n",
    ")\n",
    "\n",
    "(hist + kde).resolve_scale(y='independent')"
   ]
  },
  {
   "cell_type": "code",
   "execution_count": null,
   "id": "6d750143",
   "metadata": {},
   "outputs": [],
   "source": [
    "df[df['is_indie'] == True][['popularity_score']].median()"
   ]
  },
  {
   "cell_type": "code",
   "execution_count": null,
   "id": "f48aef60",
   "metadata": {},
   "outputs": [],
   "source": [
    "hist = alt.Chart(df[df['is_indie'] == False][['popularity_score']]).mark_bar().encode(\n",
    "    x = alt.X('popularity_score:Q', bin=alt.Bin(maxbins=30)),\n",
    "    y = alt.Y('count()')\n",
    ").properties(\n",
    "    width=400\n",
    ")\n",
    "\n",
    "\n",
    "kde = alt.Chart(df[df['is_indie'] == False][['popularity_score']]).transform_density(\n",
    "    'popularity_score',\n",
    "    as_=['popularity_score', 'density']\n",
    ").mark_line(color='red').encode(\n",
    "    x='popularity_score:Q',\n",
    "    y='density:Q'\n",
    ")\n",
    "\n",
    "(hist + kde).resolve_scale(y='independent')"
   ]
  },
  {
   "cell_type": "code",
   "execution_count": null,
   "id": "328c7e83",
   "metadata": {},
   "outputs": [],
   "source": [
    "df[df['is_indie'] == False][['popularity_score']].median()"
   ]
  },
  {
   "cell_type": "code",
   "execution_count": null,
   "id": "ad287e93",
   "metadata": {},
   "outputs": [],
   "source": [
    "hist = alt.Chart(df[df['is_indie'] == True][['appreciation_score']]).mark_bar().encode(\n",
    "    x = alt.X('appreciation_score:Q', bin=alt.Bin(maxbins=30)),\n",
    "    y = alt.Y('count()')\n",
    ").properties(\n",
    "    width=400\n",
    ")\n",
    "\n",
    "\n",
    "kde = alt.Chart(df[df['is_indie'] == True][['appreciation_score']]).transform_density(\n",
    "    'appreciation_score',\n",
    "    as_=['appreciation_score', 'density']\n",
    ").mark_line(color='red').encode(\n",
    "    x='appreciation_score:Q',\n",
    "    y='density:Q'\n",
    ")\n",
    "\n",
    "(hist + kde).resolve_scale(y='independent')"
   ]
  },
  {
   "cell_type": "code",
   "execution_count": null,
   "id": "08e693df",
   "metadata": {},
   "outputs": [],
   "source": [
    "df[df['is_indie'] == True][['appreciation_score']].median()"
   ]
  },
  {
   "cell_type": "code",
   "execution_count": null,
   "id": "e537a4cf",
   "metadata": {},
   "outputs": [],
   "source": [
    "hist = alt.Chart(df[df['is_indie'] == False][['appreciation_score']]).mark_bar().encode(\n",
    "    x = alt.X('appreciation_score:Q', bin=alt.Bin(maxbins=30)),\n",
    "    y = alt.Y('count()')\n",
    ").properties(\n",
    "    width=400\n",
    ")\n",
    "\n",
    "\n",
    "kde = alt.Chart(df[df['is_indie'] == False][['appreciation_score']]).transform_density(\n",
    "    'appreciation_score',\n",
    "    as_=['appreciation_score', 'density']\n",
    ").mark_line(color='red').encode(\n",
    "    x='appreciation_score:Q',\n",
    "    y='density:Q'\n",
    ")\n",
    "\n",
    "(hist + kde).resolve_scale(y='independent')"
   ]
  },
  {
   "cell_type": "code",
   "execution_count": null,
   "id": "fdc2d417",
   "metadata": {},
   "outputs": [],
   "source": [
    "df[df['is_indie'] == False][['appreciation_score']].median()"
   ]
  },
  {
   "cell_type": "markdown",
   "id": "f24986f3",
   "metadata": {},
   "source": [
    "While independent developers were virtually absent from the early 2000s Steam landscape, things began to shift dramatically in the 2010s. In 2010, only a quarter of the games with a Metacritic page were indie titles. By 2015, that share had soared past 66%, reflecting the growing accessibility of game development tools and digital distribution platforms.\n",
    "\n",
    "At its peak in the mid-2010s, indie representation regularly accounted for over half of all notable Steam releases—a cultural and creative boom that brought forth now-classic titles like Stardew Valley, Hollow Knight, and Celeste. Though recent years have seen a slight decline in their relative share—down to around 44% in 2023—indie games remain a driving force in shaping what we play and how we engage with games.\n",
    "\n",
    "The data tells a clear story: indie games, once rare outliers, are now integral to the fabric of PC gaming. But how do they stack up in terms of visibility and critical acclaim? We break it down next."
   ]
  },
  {
   "cell_type": "code",
   "execution_count": null,
   "id": "4b12c99c",
   "metadata": {},
   "outputs": [],
   "source": [
    "# Raggruppa mediane per anno e tipo di gioco\n",
    "games_by_type_per_year = (\n",
    "    df.groupby(['year', 'is_indie'])['appreciation_score']\n",
    "      .median()\n",
    "      .reset_index()\n",
    ")\n",
    "\n",
    "# Aggiungi colonna descrittiva\n",
    "games_by_type_per_year['game_type'] = games_by_type_per_year['is_indie'].map({\n",
    "    True: 'Indie Games',\n",
    "    False: 'Non-Indie Games'\n",
    "})\n",
    "\n",
    "# Costruisci il grafico con legenda\n",
    "indie_vs_not_indie_median_appreciation = alt.Chart(games_by_type_per_year).mark_line(point=True).encode(\n",
    "    x=alt.X('year:O', axis=alt.Axis(labelAngle=270), title='year'),\n",
    "    y=alt.Y('appreciation_score:Q', title='Median Appreciation Score', scale = alt.Scale(domain=[0.5, 1.1])),\n",
    "    color=alt.Color('game_type:N',\n",
    "        scale=alt.Scale(domain=['Indie Games', 'Non-Indie Games'],\n",
    "                        range=['#00ff00', '#ff00ff']),  # vaporwave rosa + cyan\n",
    "        legend=alt.Legend(title='Game Type')\n",
    "    ),\n",
    "    tooltip=['year:O', 'game_type:N', 'appreciation_score:Q']\n",
    ")\n",
    "\n",
    "indie_vs_not_indie_median_appreciation.save('assets/charts/indie_vs_not_indie_median_appreciation.json')"
   ]
  },
  {
   "cell_type": "code",
   "execution_count": null,
   "id": "87cf914a",
   "metadata": {},
   "outputs": [],
   "source": [
    "indie_vs_not_indie_median_appreciation"
   ]
  },
  {
   "cell_type": "markdown",
   "id": "5d2bd149",
   "metadata": {},
   "source": [
    "Over the past two decades, indie games haven’t just increased in number—they’ve consistently won over players’ hearts. When comparing appreciation scores—our measure of how well-received a game is—indie titles have often outperformed their big-budget counterparts, especially in more recent years.\n",
    "\n",
    "Since 2010, median appreciation scores for indie games have remained impressively steady, hovering around 0.70–0.76. In contrast, non-indie (or AAA) games have seen greater fluctuation and, in some years, lagged behind. By 2023, indie games posted a median appreciation of 0.75, compared to 0.69 for non-indie releases.\n",
    "\n",
    "This growing parity—and often superiority—suggests that while indie games might not always match AAA production values, they frequently resonate more deeply with players, offering originality, emotional depth, or innovative mechanics that large studios may overlook.\n",
    "\n",
    "As the indie space continues to mature, the line between \"small\" and \"great\" has never been blurrier."
   ]
  },
  {
   "cell_type": "code",
   "execution_count": null,
   "id": "cbeba2c0",
   "metadata": {},
   "outputs": [],
   "source": [
    "# Raggruppa mediane per anno e tipo di gioco\n",
    "games_by_type_per_year = (\n",
    "    df.groupby(['year', 'is_indie'])['popularity_score']\n",
    "      .median()\n",
    "      .reset_index()\n",
    ")\n",
    "\n",
    "# Aggiungi colonna descrittiva\n",
    "games_by_type_per_year['game_type'] = games_by_type_per_year['is_indie'].map({\n",
    "    True: 'Indie Games',\n",
    "    False: 'Non-Indie Games'\n",
    "})\n",
    "\n",
    "# Costruisci il grafico con legenda\n",
    "indie_vs_not_indie_median_popularity = alt.Chart(games_by_type_per_year).mark_line(point=True).encode(\n",
    "    x=alt.X('year:O', axis=alt.Axis(labelAngle=270), title='year'),\n",
    "    y=alt.Y('popularity_score:Q', title='Median Popularity Score', scale = alt.Scale(domain=[0.2, 0.9])),\n",
    "    color=alt.Color('game_type:N',\n",
    "        scale=alt.Scale(domain=['Indie Games', 'Non-Indie Games'],\n",
    "                        range=['#00ff00', '#ff00ff']),  # vaporwave rosa + cyan\n",
    "        legend=alt.Legend(title='Game Type')\n",
    "    ),\n",
    "    tooltip=['year:O', 'game_type:N', 'popularity_score:Q']\n",
    ")\n",
    "\n",
    "indie_vs_not_indie_median_popularity.save('assets/charts/indie_vs_not_indie_median_popularity.json')"
   ]
  },
  {
   "cell_type": "code",
   "execution_count": null,
   "id": "31620ccc",
   "metadata": {},
   "outputs": [],
   "source": [
    "indie_vs_not_indie_median_popularity"
   ]
  },
  {
   "cell_type": "markdown",
   "id": "8e85882e",
   "metadata": {},
   "source": [
    "While indie titles have increasingly gained critical acclaim—often outperforming AAA games in terms of appreciation—they still lag behind in terms of popularity. Median popularity scores for indie games consistently trail those of non-indie releases across most years.\n",
    "\n",
    "This gap is particularly stark in the early 2000s, where blockbuster titles dominated. But even in more recent years (e.g., 2020–2023), the most popular titles remain overwhelmingly non-indie.\n",
    "\n",
    "Notably, however, some indie games have broken through this ceiling. Titles like Terraria, Hollow Knight, and Stardew Valley have not only achieved critical success but also popularity levels comparable to large-scale productions."
   ]
  },
  {
   "cell_type": "markdown",
   "id": "2a653a16",
   "metadata": {},
   "source": [
    "The notable spike in indie game popularity in 2008 can be attributed to a handful of highly successful titles released that year. Games like World of Goo, AudioSurf, Mount & Blade, and Defense Grid: The Awakening gained significant traction on Steam, reflecting both their innovation and increasing visibility for indie titles. With only nine indie games in the dataset for that year, these standout hits heavily influenced the median popularity score, pushing it above 0.5 — the highest for indie titles until 2022. This moment marks one of the early breakthroughs of indie games into broader public awareness during the digital distribution era."
   ]
  },
  {
   "cell_type": "code",
   "execution_count": null,
   "id": "c87c5951",
   "metadata": {},
   "outputs": [],
   "source": [
    "top_pop_indie = df[df['is_indie'] == True][['appid', 'name', 'popularity_score', 'appreciation_score', 'popularity_minus_appreciation']].sort_values(by='popularity_score', ascending = False).head(15).reset_index(drop=True)\n",
    "top_pop_indie"
   ]
  },
  {
   "cell_type": "code",
   "execution_count": null,
   "id": "098aca7e",
   "metadata": {},
   "outputs": [],
   "source": [
    "top_pop_indie['name'].values"
   ]
  },
  {
   "cell_type": "markdown",
   "id": "b22b45bb",
   "metadata": {},
   "source": [
    "Indie games may lack the budgets of their AAA counterparts, but they’re more than capable of commanding attention. According to our composite popularity score, titles like Terraria, Stardew Valley, and Hollow Knight have emerged as cultural phenomena, rivaling mainstream releases in reach and resonance. From the chaotic charm of Fall Guys to the haunting elegance of Stray and the nostalgic brilliance of Cuphead, these top-performing indie titles illustrate how creativity, strong community support, and unique design can drive lasting impact — often without the backing of major publishers."
   ]
  },
  {
   "cell_type": "code",
   "execution_count": null,
   "id": "0a7e4550",
   "metadata": {},
   "outputs": [],
   "source": [
    "top_pop_indie.to_csv('top_pop_indie.csv', index=False)"
   ]
  },
  {
   "cell_type": "code",
   "execution_count": null,
   "id": "0c23be87",
   "metadata": {},
   "outputs": [],
   "source": [
    "top_appr_indie = df[df['is_indie'] == True][['appid', 'name', 'popularity_score', 'appreciation_score', 'popularity_minus_appreciation']].sort_values(by='appreciation_score', ascending = False).head(15).reset_index(drop=True)\n",
    "top_appr_indie"
   ]
  },
  {
   "cell_type": "code",
   "execution_count": null,
   "id": "4dda1fbb",
   "metadata": {},
   "outputs": [],
   "source": [
    "top_appr_indie['name'].values"
   ]
  },
  {
   "cell_type": "markdown",
   "id": "0d36ae8c",
   "metadata": {},
   "source": [
    "When it comes to appreciation, indie games shine even brighter. Topping the list are critical darlings like Hollow Knight, Hades, and Celeste — each praised for their masterful design, emotional storytelling, and polished gameplay. Titles such as Ori and the Will of the Wisps, Undertale, and Factorio showcase the genre’s breadth, from heartwarming narratives to intricate systems. Even more niche entries like Meg’s Monster or A Short Hike have found deep resonance with players. These standout games exemplify how artistic vision and thoughtful execution can earn enduring respect, regardless of a game’s scale or studio size."
   ]
  },
  {
   "cell_type": "code",
   "execution_count": null,
   "id": "f18a6e8f",
   "metadata": {},
   "outputs": [],
   "source": [
    "top_appr_indie.to_csv('top_appr_indie.csv', index=False)"
   ]
  },
  {
   "cell_type": "code",
   "execution_count": null,
   "id": "0b9e6c13",
   "metadata": {},
   "outputs": [],
   "source": []
  },
  {
   "cell_type": "code",
   "execution_count": null,
   "id": "86088220",
   "metadata": {},
   "outputs": [],
   "source": [
    "top_pop_indie_chart = alt.Chart(top_pop_indie).mark_bar(color='#00ff00').encode(\n",
    "    x = alt.X('popularity_score:Q', title='Popularity Score'),\n",
    "    y = alt.Y('name:N', sort='-x', title = ''),\n",
    "    tooltip = ['name', 'popularity_score']\n",
    ").properties(\n",
    "    width=300\n",
    ")\n",
    "\n",
    "top_appr_indie_chart = alt.Chart(top_appr_indie).mark_bar().encode(\n",
    "    x = alt.X('appreciation_score:Q', title='Appreciation Score'),\n",
    "    y = alt.Y('name:N', sort='-x', title = ''),\n",
    "    tooltip = ['name', 'appreciation_score']\n",
    ").properties(\n",
    "    width=300\n",
    ")\n",
    "\n",
    "\n",
    "top_pop_top_appr_indie = (top_pop_indie_chart | top_appr_indie_chart).resolve_scale(color='independent')\n",
    "top_pop_top_appr_indie.save('assets/charts/top_pop_top_appr_indie.json')"
   ]
  },
  {
   "cell_type": "code",
   "execution_count": null,
   "id": "e216614d",
   "metadata": {},
   "outputs": [],
   "source": [
    "top_pop_top_appr_indie"
   ]
  },
  {
   "cell_type": "code",
   "execution_count": null,
   "id": "6ebae85a",
   "metadata": {},
   "outputs": [],
   "source": []
  },
  {
   "cell_type": "code",
   "execution_count": null,
   "metadata": {},
   "outputs": [],
   "source": []
  },
  {
   "cell_type": "code",
   "execution_count": null,
   "id": "6b124c93",
   "metadata": {},
   "outputs": [],
   "source": []
  },
  {
   "cell_type": "code",
   "execution_count": null,
   "id": "be93fd70",
   "metadata": {},
   "outputs": [],
   "source": [
    "top_pop_not_indie = df[df['is_indie'] == False][['appid', 'name', 'popularity_score', 'appreciation_score', 'popularity_minus_appreciation']].sort_values(by='popularity_score', ascending = False).head(15).reset_index(drop=True)\n",
    "top_pop_not_indie"
   ]
  },
  {
   "cell_type": "code",
   "execution_count": null,
   "id": "f5d8bfd2",
   "metadata": {},
   "outputs": [],
   "source": [
    "top_pop_not_indie['name'].values"
   ]
  },
  {
   "cell_type": "markdown",
   "id": "ae7a37c2",
   "metadata": {},
   "source": [
    "On the mainstream front, popularity is dominated by industry titans. Games like Grand Theft Auto V, ELDEN RING, and Cyberpunk 2077 lead the pack with massive player bases, marketing power, and cultural impact. Live-service giants such as Counter-Strike: Global Offensive, Destiny 2, and Dota 2 maintain long-term engagement, while narrative-heavy epics like Red Dead Redemption 2, The Witcher 3, and Baldur’s Gate 3 prove that cinematic storytelling can drive lasting interest. These titles demonstrate how broad appeal, technical excellence, and community ecosystems translate into enduring popularity in the AAA space."
   ]
  },
  {
   "cell_type": "code",
   "execution_count": null,
   "id": "8b75f647",
   "metadata": {},
   "outputs": [],
   "source": [
    "top_pop_not_indie.to_csv('top_pop_not_indie.csv', index=False)"
   ]
  },
  {
   "cell_type": "code",
   "execution_count": null,
   "id": "8467f023",
   "metadata": {},
   "outputs": [],
   "source": [
    "top_appr_not_indie = df[df['is_indie'] == False][['appid', 'name', 'popularity_score', 'appreciation_score', 'popularity_minus_appreciation']].sort_values(by='appreciation_score', ascending = False).head(15).reset_index(drop=True)\n",
    "top_appr_not_indie"
   ]
  },
  {
   "cell_type": "code",
   "execution_count": null,
   "id": "cf166b49",
   "metadata": {},
   "outputs": [],
   "source": [
    "top_appr_not_indie['name'].values"
   ]
  },
  {
   "cell_type": "markdown",
   "id": "9959e25f",
   "metadata": {},
   "source": [
    "When it comes to appreciation, timeless design and narrative mastery take center stage. Baldur’s Gate 3, Half-Life 2, and Portal 2 exemplify how innovative gameplay and strong world-building can earn both critical acclaim and lasting player devotion. Classics like Half-Life, BioShock, and Grand Theft Auto: San Andreas still resonate, while story-driven epics such as Red Dead Redemption 2, Persona 5 Royal, and The Witcher 3 are praised for their emotional depth and polish. These titles reflect how, beyond scale or budget, a well-crafted experience is what ultimately earns the deepest appreciation from players."
   ]
  },
  {
   "cell_type": "code",
   "execution_count": null,
   "id": "74dba533",
   "metadata": {},
   "outputs": [],
   "source": [
    "top_appr_not_indie.to_csv('top_appr_not_indie.csv', index = False)"
   ]
  },
  {
   "cell_type": "code",
   "execution_count": null,
   "id": "065d9d4e",
   "metadata": {},
   "outputs": [],
   "source": []
  },
  {
   "cell_type": "code",
   "execution_count": null,
   "id": "e03bdf6b",
   "metadata": {},
   "outputs": [],
   "source": [
    "top_pop_not_indie_chart = alt.Chart(top_pop_not_indie).mark_bar(color='#00ff00').encode(\n",
    "    x = alt.X('popularity_score:Q', title='Popularity Score'),\n",
    "    y = alt.Y('name:N', sort='-x', title=''),\n",
    "    tooltip = ['name', 'popularity_score']\n",
    ").properties(\n",
    "    width=300\n",
    ")\n",
    "\n",
    "top_appr_not_indie_chart = alt.Chart(top_appr_not_indie).mark_bar().encode(\n",
    "    x = alt.X('appreciation_score:Q', title='Appreciation Score'),\n",
    "    y = alt.Y('name:N', sort='-x', title=''),\n",
    "    tooltip = ['name', 'appreciation_score']\n",
    ").properties(\n",
    "    width=300\n",
    ")\n",
    "\n",
    "\n",
    "top_pop_top_appr_not_indie = (top_pop_not_indie_chart | top_appr_not_indie_chart).resolve_scale(color = 'independent')\n",
    "top_pop_top_appr_not_indie.save('assets/charts/top_pop_top_appr_not_indie.json')"
   ]
  },
  {
   "cell_type": "code",
   "execution_count": null,
   "id": "7ef94da4",
   "metadata": {},
   "outputs": [],
   "source": [
    "top_pop_top_appr_not_indie"
   ]
  },
  {
   "cell_type": "code",
   "execution_count": null,
   "id": "76a58314",
   "metadata": {},
   "outputs": [],
   "source": []
  },
  {
   "cell_type": "markdown",
   "id": "780533ee",
   "metadata": {},
   "source": [
    "**Introduction to Steam Tags**\n",
    "\n",
    "Steam tags serve as the primary vocabulary of the platform's discovery system. Whether applied by developers or players, tags capture everything from genre and theme to tone and mechanics. Analyzing these tags offers insight into what types of games capture attention — and which resonate most with players or critics."
   ]
  },
  {
   "cell_type": "code",
   "execution_count": null,
   "id": "8a4d0b85",
   "metadata": {},
   "outputs": [],
   "source": []
  },
  {
   "cell_type": "markdown",
   "id": "c50380d0",
   "metadata": {},
   "source": [
    "1990's vs 1990s;  2.5D vs 25D;  4 Player Local vs 44 Player Local; ANimation & Modeling vs Animation  Modeling;  Base-Building vs Base Building; Beat 'em up vs Beat em up; \n",
    "Design & Illustration vs Design  Illustration; Dungeons & Dragons vs Dungeons  Dragons; Football (American) vs Football American; Football (Soccer) vs Football Soccer;\n",
    "LGBTQ+ vs LGBTQ; 3Match 3 vs Match 3; Point  Click vs Point & Click; Puzzle-Platformer vs Puzzle Platformer; Rogue-like vs Roguelike; Rogue-lite vs Roguelite; 2Sequel vs Sequel;\n",
    "Shoot 'Em Up vs Shoot Em Up; e-sports vs eSports"
   ]
  },
  {
   "cell_type": "code",
   "execution_count": null,
   "id": "4b31cd6a",
   "metadata": {},
   "outputs": [],
   "source": [
    "# Load your HTML file\n",
    "with open('steam_games_tags.html', 'r', encoding='utf-8') as file:\n",
    "    html_content = file.read()\n",
    "\n",
    "# Synonym map for matching purposes (only used for normalization)\n",
    "synonym_map = {\n",
    "    \"Rogue-like\": \"Roguelike\",\n",
    "    \"Rogue-lite\": \"Roguelite\",\n",
    "    \"Base-Building\": \"Base Building\",\n",
    "    \"Puzzle-Platformer\": \"Puzzle Platformer\",\n",
    "    \"Match 3\": \"3Match 3\",\n",
    "    \"2Sequel\": \"Sequel\",\n",
    "    \"e-sports\": \"eSports\",\n",
    "    \"Shoot 'Em Up\": \"Shoot Em Up\",\n",
    "    \"Beat 'em up\": \"Beat em up\",\n",
    "    \"Point & Click\": \"Point & Click\",\n",
    "    \"Design & Illustration\": \"Design Illustration\",\n",
    "    \"Animation & Modeling\": \"Animation Modeling\",\n",
    "    \"Football (Soccer)\": \"Football Soccer\",\n",
    "    \"Football (American)\": \"Football American\",\n",
    "    \"4 Player Local\" : \"44 Player Local\"\n",
    "}\n",
    "\n",
    "def clean_tag(tag_text):\n",
    "    allowed_chars = re.compile(r\"[^\\w\\s\\-&'.+]\")\n",
    "    cleaned = allowed_chars.sub('', tag_text)\n",
    "    cleaned = re.sub(r'\\s{2,}', ' ', cleaned).strip()\n",
    "    # Apply synonym mapping\n",
    "    return synonym_map.get(cleaned, cleaned)\n",
    "\n",
    "def extract_tags_to_dict(html_content):\n",
    "    soup = BeautifulSoup(html_content, 'html.parser')\n",
    "    result_dict = {}\n",
    "\n",
    "    taglist_wraps = soup.find_all('div', class_='taglist-wrap')\n",
    "\n",
    "    for wrap in taglist_wraps:\n",
    "        title_element = wrap.find('h2', class_='b')\n",
    "        if title_element:\n",
    "            title = title_element.get_text(strip=True)\n",
    "            for emoji in ['🌫', '🎭', '🌱', '💥', '😌']:\n",
    "                title = title.replace(emoji, '').strip()\n",
    "\n",
    "            tags = []\n",
    "            for label in wrap.find_all('div', class_='label'):\n",
    "                tag_text = label.find('a').get_text(strip=True)\n",
    "                cleaned_tag = clean_tag(tag_text)\n",
    "                tags.append(cleaned_tag)\n",
    "\n",
    "            result_dict[title] = tags\n",
    "\n",
    "    return result_dict\n",
    "\n",
    "def filter_tags_by_reference(reference_dict, original_tags):\n",
    "    filtered_dict = {}\n",
    "\n",
    "    # Create lookup from cleaned → original tag\n",
    "    cleaned_to_original = {\n",
    "        clean_tag(tag): tag for tag in original_tags\n",
    "    }\n",
    "\n",
    "    for category, ref_tags in reference_dict.items():\n",
    "        matched = []\n",
    "        for ref_tag in ref_tags:\n",
    "            if ref_tag in cleaned_to_original:\n",
    "                matched.append(cleaned_to_original[ref_tag])\n",
    "        if matched:\n",
    "            filtered_dict[category] = matched\n",
    "\n",
    "    return filtered_dict\n",
    "\n",
    "# Build reference dictionary\n",
    "reference_dict = extract_tags_to_dict(html_content)\n",
    "\n",
    "# Your original tags (preserved for display)\n",
    "your_tags = list(set(df.explode('tags')['tags'].dropna().unique()))\n",
    "\n",
    "# Final result\n",
    "filtered_output = filter_tags_by_reference(reference_dict, your_tags)\n",
    "print(filtered_output)"
   ]
  },
  {
   "cell_type": "code",
   "execution_count": null,
   "id": "9d62c592",
   "metadata": {},
   "outputs": [],
   "source": []
  },
  {
   "cell_type": "code",
   "execution_count": null,
   "id": "cb68f20a",
   "metadata": {},
   "outputs": [],
   "source": [
    "my_tags = []\n",
    "\n",
    "for tag_list in filtered_output.values():\n",
    "    for tag in tag_list:\n",
    "        my_tags.append(tag)\n",
    "\n",
    "my_tags_set = set(my_tags)"
   ]
  },
  {
   "cell_type": "code",
   "execution_count": null,
   "id": "6a2916c7",
   "metadata": {},
   "outputs": [],
   "source": [
    "my_tags_set.difference(set(df.explode('tags')['tags'].dropna().unique()))"
   ]
  },
  {
   "cell_type": "code",
   "execution_count": null,
   "id": "1245f940",
   "metadata": {},
   "outputs": [],
   "source": [
    "set(df.explode('tags')['tags'].dropna().unique()).difference(my_tags_set)"
   ]
  },
  {
   "cell_type": "code",
   "execution_count": null,
   "id": "8df02098",
   "metadata": {},
   "outputs": [],
   "source": [
    "tag_groups = filtered_output"
   ]
  },
  {
   "cell_type": "code",
   "execution_count": null,
   "id": "2cf28cb8",
   "metadata": {},
   "outputs": [],
   "source": [
    "tag_groups.keys()"
   ]
  },
  {
   "cell_type": "code",
   "execution_count": null,
   "id": "92ea004a",
   "metadata": {},
   "outputs": [],
   "source": [
    "tag_groups"
   ]
  },
  {
   "cell_type": "code",
   "execution_count": null,
   "id": "7f997814",
   "metadata": {},
   "outputs": [],
   "source": [
    "if 'quadrants' not in df.columns:\n",
    "    df.insert(len(df.columns), 'quadrants', [' ' for i in range(len(df))])\n",
    "else:\n",
    "    df['quadrants'] = [' ' for i in range(len(df))]\n",
    "\n",
    "\n",
    "app_thr = df['appreciation_score'].median()\n",
    "pop_thr = df['popularity_score'].median()\n",
    " \n",
    "#print(f'appreciation thr = {app_thr}, popularity thr = {pop_thr}')\n",
    " \n",
    "for index in df.index:\n",
    "    if (df.loc[index, 'appreciation_score'] < app_thr) and (df.loc[index, 'popularity_score'] < pop_thr):\n",
    "        df.loc[index, 'quadrant'] = 'LP-LA'\n",
    "    elif (df.loc[index, 'appreciation_score'] >= app_thr) and (df.loc[index, 'popularity_score'] < pop_thr):\n",
    "        df.loc[index, 'quadrant'] = 'LP-HA'\n",
    "    elif (df.loc[index, 'appreciation_score'] < app_thr) and (df.loc[index, 'popularity_score'] >= pop_thr):\n",
    "        df.loc[index, 'quadrant'] = 'HP-LA'\n",
    "    elif (df.loc[index, 'appreciation_score'] >= app_thr) and (df.loc[index, 'popularity_score'] >= pop_thr):\n",
    "        df.loc[index, 'quadrant'] = 'HP-HA'"
   ]
  },
  {
   "cell_type": "code",
   "execution_count": null,
   "id": "0618f8f7",
   "metadata": {},
   "outputs": [],
   "source": [
    "def tags_stats_builder(df):\n",
    "    tags_stats = df.explode('tags').groupby('tags').agg(\n",
    "        #total_reviews = ('reviews_total', 'sum'),\n",
    "        #avg_popularity=('popularity_score', 'mean'),\n",
    "        #avg_appreciation=('appreciation_score', 'mean'),\n",
    "        median_popularity=('popularity_score', 'median'),\n",
    "        median_appreciation=('appreciation_score', 'median'),\n",
    "        count=('popularity_score', 'count')\n",
    "    ).reset_index()\n",
    "\n",
    "    tags_stats = tags_stats[~tags_stats['tags'].isin(['[', ']'])]\n",
    "\n",
    "    for tag_group in tag_groups.keys():\n",
    "        for idx, tag in enumerate(tags_stats['tags'].values):\n",
    "            if tag in tag_groups[tag_group]:\n",
    "                tags_stats.at[idx, 'category'] = tag_group\n",
    "\n",
    "    return tags_stats"
   ]
  },
  {
   "cell_type": "code",
   "execution_count": null,
   "id": "f0c109be",
   "metadata": {},
   "outputs": [],
   "source": [
    "tags_stats = tags_stats_builder(df)"
   ]
  },
  {
   "cell_type": "code",
   "execution_count": null,
   "id": "ce9a4233",
   "metadata": {},
   "outputs": [],
   "source": [
    "tag_groups.keys()"
   ]
  },
  {
   "cell_type": "code",
   "execution_count": null,
   "id": "fc36efcd",
   "metadata": {},
   "outputs": [],
   "source": [
    "for tag_group in tag_groups.keys():\n",
    "    for idx, tag in enumerate(tags_stats['tags'].values):\n",
    "        if tag in tag_groups[tag_group]:\n",
    "            tags_stats.at[idx, 'category'] = tag_group"
   ]
  },
  {
   "cell_type": "code",
   "execution_count": null,
   "id": "1465d6e4",
   "metadata": {},
   "outputs": [],
   "source": [
    "tags_stats"
   ]
  },
  {
   "cell_type": "code",
   "execution_count": null,
   "id": "1d9c4af1",
   "metadata": {},
   "outputs": [],
   "source": []
  },
  {
   "cell_type": "code",
   "execution_count": null,
   "id": "4168a436",
   "metadata": {},
   "outputs": [],
   "source": [
    "k = 15  # number of top tags to show\n",
    "top_k = tags_stats.sort_values('count', ascending=False).head(k)\n",
    "\n",
    "top_15_tags = alt.Chart(top_k).mark_bar().encode(\n",
    "    x=alt.X('count:Q', title='count'),\n",
    "    y=alt.Y('tags:N', sort='-x', title=''),\n",
    "    tooltip=['tags:N', 'count:Q']\n",
    ").properties(\n",
    "    #title=f'Top {k} Primary Tags',\n",
    "    width=500\n",
    ")\n",
    "\n",
    "top_15_tags.save('assets/charts/top_15_tags.json')"
   ]
  },
  {
   "cell_type": "code",
   "execution_count": null,
   "id": "ef807df7",
   "metadata": {},
   "outputs": [],
   "source": [
    "top_15_tags"
   ]
  },
  {
   "cell_type": "code",
   "execution_count": null,
   "id": "fbb9909c",
   "metadata": {},
   "outputs": [],
   "source": [
    "top_k['tags'].values"
   ]
  },
  {
   "cell_type": "markdown",
   "id": "c19641e3",
   "metadata": {},
   "source": [
    "**Most Frequent Tags**\n",
    "\n",
    "A first look at Steam’s tagging ecosystem reveals the most common features and genres that define the platform’s catalog. The most frequent tags—Singleplayer, Action, Adventure, and Indie—reflect the foundational role of narrative-driven and independently developed games in Steam’s library. Tags like Atmospheric, Story Rich, and Great Soundtrack point to an emphasis on immersive experiences, while Multiplayer and Co-op signal the continued relevance of shared play. Meanwhile, 2D, Strategy, and Puzzle showcase the variety in form and mechanics that appeal to different gaming audiences."
   ]
  },
  {
   "cell_type": "code",
   "execution_count": null,
   "id": "cb8f664b",
   "metadata": {},
   "outputs": [],
   "source": []
  },
  {
   "cell_type": "code",
   "execution_count": null,
   "id": "8a856919",
   "metadata": {},
   "outputs": [],
   "source": [
    "tag_groups.keys()"
   ]
  },
  {
   "cell_type": "markdown",
   "id": "49541807",
   "metadata": {},
   "source": [
    "We are going to consider\n",
    "- 'Themes & Moods'\n",
    "- 'Top-Level Genres' \n",
    "- 'Visuals & Viewpoint'\n",
    "- 'Genres'\n",
    "- 'Sub-Genres'\n",
    "- 'Players'\n",
    "- 'Story'\n",
    "- 'Level Design'"
   ]
  },
  {
   "cell_type": "code",
   "execution_count": null,
   "id": "b347043d",
   "metadata": {},
   "outputs": [],
   "source": [
    "tags_stats"
   ]
  },
  {
   "cell_type": "code",
   "execution_count": null,
   "id": "6744b27f",
   "metadata": {},
   "outputs": [],
   "source": [
    "attribute_options = ['Themes & Moods', 'Top-Level Genres', 'Visuals & Viewpoint', 'Genres', 'Sub-Genres', 'Players', 'Story', 'Level Design']\n",
    "\n",
    "# Dropdown legato al campo 'category'\n",
    "dropdown = alt.binding_select(options=attribute_options, name='Tag Type: ')\n",
    "selection = alt.param(name='CategorySelector', bind=dropdown, value=attribute_options[0])\n",
    "\n",
    "# Filtro manuale + ranking top 10\n",
    "tags_frequency_by_category = alt.Chart(tags_stats).transform_filter(\n",
    "    alt.datum.category == selection\n",
    ").transform_window(\n",
    "    rank='rank(count)',\n",
    "    sort=[alt.SortField('count', order='descending')],\n",
    "    groupby=['category']\n",
    ").transform_filter(\n",
    "    alt.datum.rank <= 10\n",
    ").mark_bar().encode(\n",
    "    x=alt.X('count:Q', title='count'),\n",
    "    y=alt.Y('tags:N', sort='-x', title=''),\n",
    "    tooltip=['tags:N', 'count:Q']\n",
    ").add_params(\n",
    "    selection\n",
    ").properties(\n",
    "    width = 600,\n",
    "    padding={\"left\": 100, \"top\": 10, \"right\": 100, \"bottom\": 10}\n",
    ")\n",
    "\n",
    "tags_frequency_by_category.save('assets/charts/tags_frequency_by_category.json')"
   ]
  },
  {
   "cell_type": "code",
   "execution_count": null,
   "id": "6edcf6d0",
   "metadata": {},
   "outputs": [],
   "source": [
    "tags_frequency_by_category"
   ]
  },
  {
   "cell_type": "markdown",
   "id": "bc3ffad6",
   "metadata": {},
   "source": [
    "Steam’s most common tags reveal a platform defined by variety and player-driven exploration. Immersive themes like Atmospheric, Fantasy, and Sci-fi dominate, reflecting a strong appetite for escapism — while humor, nostalgia, and strategic tension provide tonal range.\n",
    "\n",
    "At the genre level, Action and Adventure lead, but the prominence of Indie and Casual shows the platform’s openness to creativity and accessibility. Visual styles range from colorful 2D pixel art to stylized 3D, with First and Third-Person perspectives shaping player experience.\n",
    "\n",
    "Steam balances reflex and reflection: Shooters and Platformers share space with Turn-Based Strategy and Visual Novels. Subgenres like Metroidvania, Puzzle-Platformer, and Rogue-lite highlight players’ appetite for layered, iterative gameplay.\n",
    "\n",
    "In player modes, Singleplayer dominates, but Co-op and PvP tag prevalence confirms the rise of social and team-based experiences. Story-related tags like Story Rich, Choices Matter, and Visual Novel underscore demand for narrative depth and agency.\n",
    "\n",
    "Finally, level design shows a split between freedom and structure — Open World and Sandbox thrive, but Side Scroller and Linear formats remain vital."
   ]
  },
  {
   "cell_type": "code",
   "execution_count": null,
   "id": "e8db30c4",
   "metadata": {},
   "outputs": [],
   "source": [
    "tags_stats[tags_stats['category'] == 'Level Design'].sort_values('count', ascending = False)[:10].reset_index(drop=True)[['tags', 'count', 'category']]"
   ]
  },
  {
   "cell_type": "markdown",
   "id": "4f97472e",
   "metadata": {},
   "source": [
    "**Themes & Moods: Atmosphere and Nostalgia Lead the Way**\n",
    "\n",
    "Among theme and mood tags, Atmospheric stands far ahead with 1,576 games — more than triple the count of any other in this category. This dominance suggests that immersive, mood-driven experiences are a core design focus and a major draw for players.\n",
    "\n",
    "Behind it, Retro and Family Friendly stand out with over 450 titles each, reflecting two contrasting but popular directions: one rooted in nostalgia, the other in broad accessibility.\n",
    "\n",
    "Other notable themes include Tactical, Mystery, and Relaxing, each with a few hundred games, showing that cerebral and calming experiences maintain solid representation. Tags like Magic, Surreal, Emotional, and Cyberpunk round out the list with smaller but still meaningful counts — indicating a steady interest in fantasy, introspection, and stylized futurism.\n",
    "\n",
    "Overall, the spread highlights how mood and theme are central to genre identity, with both mainstream and niche emotional tones well represented in the Steam catalog.\n",
    "\n",
    "\n",
    "**Top-Level Genres: Adventure and Indie Dominate the Landscape**\n",
    "\n",
    "Within the top-level genres, Adventure leads by a wide margin, appearing in over 2,600 games — a strong signal of its versatility and broad appeal across game styles and audiences.\n",
    "\n",
    "Indie follows closely with more than 2,000 titles, highlighting the significant role independent development plays in shaping the gaming ecosystem. Its presence across many genres underscores its creative diversity and growing influence.\n",
    "\n",
    "RPG and Strategy come next, each with over 1,000 games. These genres cater to players who seek depth, progression, and tactical thinking, confirming their enduring popularity.\n",
    "\n",
    "Finally, Casual rounds out the list with just under 1,000 games, representing accessible, low-commitment experiences that appeal to a wide demographic — from newcomers to those looking for relaxed gameplay.\n",
    "\n",
    "In sum, this distribution reflects a healthy balance between narrative exploration, strategic depth, and inclusive design, with indie development continuing to thrive across all categories.\n",
    "\n",
    "\n",
    "**Visuals & Viewpoint: Diverse Styles and Perspectives Define the Field**\n",
    "\n",
    "The 2D tag leads in volume with over 1,100 games, showing the continued popularity of flat, often stylized aesthetics that prioritize clarity and artistic charm. It's closely followed by Third Person and First-Person perspectives, both highly represented, reflecting their foundational role in shaping player immersion and control.\n",
    "\n",
    "Tags like Colorful, Pixel Graphics, and Cute highlight a strong appetite for visually distinctive and emotionally engaging styles, often associated with indie or family-friendly games. Their high counts suggest that players are drawn not just to realism but also to expressive, personality-driven design.\n",
    "\n",
    "While 3D remains central, it trails behind 2D in tag count, reinforcing the idea that aesthetic variety often outweighs technical complexity in shaping player preference. Meanwhile, Stylized, Isometric, and Top-Down point to niche but thriving design approaches that offer unique spatial perspectives.\n",
    "\n",
    "Altogether, the data reflects a rich ecosystem where multiple visual styles and viewpoints coexist — serving both artistic expression and gameplay clarity.\n",
    "\n",
    "\n",
    "**Genres: Classic Formats with Enduring Presence**\n",
    "\n",
    "Puzzle and Platformer games top the genre chart by count, showing that players continue to gravitate toward mechanics-driven experiences built on clarity and challenge. These genres have proven adaptability across generations, often serving as entry points for both players and developers.\n",
    "\n",
    "Arcade and Point & Click also maintain strong representation, reflecting enduring appeal for quick reflex gameplay and narrative-rich interaction, respectively.\n",
    "\n",
    "More complex strategy genres — like Turn-Based, RTS, and Grand Strategy — appear in smaller numbers but remain a vital part of the ecosystem, offering depth and long-term engagement. Rogue-like, with its procedural challenge and replayability, holds a solid middle ground, bridging traditional mechanics with modern twists.\n",
    "\n",
    "Overall, the data shows that while some genres scale through accessibility, others thrive through specialization — all contributing to a well-rounded gaming landscape.\n",
    "\n",
    "\n",
    "**Sub-Genres: Precision, Challenge, and Popular Mechanics**\n",
    "\n",
    "First-Person Shooters (FPS) lead the sub-genre category by count, reflecting their long-standing popularity and adaptability across game generations. Hack and Slash follows closely, emphasizing fast-paced combat and visceral gameplay.\n",
    "\n",
    "Puzzle-Platformers, Metroidvanias, and Platformers (2D and 3D) show strong representation as well, highlighting continued interest in spatial design, timing, and skillful movement — especially in indie and mid-scale development spaces.\n",
    "\n",
    "Meanwhile, the Rogue-lite and Action Roguelike tags reflect a strong appetite for replayability and procedural challenge, combining intensity with variety. Dungeon Crawlers round out the list, pointing to a niche but enduring taste for exploration-heavy, loot-driven design.\n",
    "\n",
    "Together, these sub-genres demonstrate that players consistently value mastery, tight feedback loops, and layered design — whether through action, puzzles, or procedural systems.\n",
    "\n",
    "\n",
    "**Player Modes: Solo Dominance, Rich Social Variety**\n",
    "\n",
    "Singleplayer leads by a wide margin, appearing in nearly 3,500 games — a clear sign that solo experiences remain the cornerstone of PC gaming. It reflects strong demand for immersive, self-paced play, often tied to narrative or exploration.\n",
    "\n",
    "Multiplayer and Co-op follow as the most common social modes, showing that shared gameplay — whether competitive or collaborative — is also deeply embedded in game design. Notably, Local Co-Op and Local Multiplayer both have sizable counts, underscoring continued interest in couch play despite the rise of online platforms.\n",
    "\n",
    "Online Co-Op and Team-Based modes highlight more coordinated, goal-oriented playstyles, while the smaller tags — 4 Player Local, Massively Multiplayer, and Co-op Campaign — suggest focused but passionate niches for specific formats.\n",
    "\n",
    "Overall, while multiplayer options are diverse and well-represented, singleplayer remains dominant — showing that even in an increasingly connected world, many players still seek deeply personal gaming experiences.\n",
    "\n",
    "\n",
    "**Story Tags: Rich Narratives Lead, Interactive Depth Follows**\n",
    "\n",
    "\"Story Rich\" dominates this category with over 1,500 games, emphasizing just how central deep narrative experiences are to the gaming landscape. Players consistently gravitate toward games that offer substantial storytelling, emotional depth, and worldbuilding.\n",
    "\n",
    "Beyond that, tags like \"Choices Matter\" and \"Multiple Endings\" show strong representation, reflecting a clear interest in agency and replayability. These elements suggest that players don’t just want to be told a story — they want to shape it.\n",
    "\n",
    "More niche tags like \"Visual Novel,\" \"Interactive Fiction,\" and \"Choose Your Own Adventure\" cater to text-heavy or choice-driven experiences, attracting dedicated audiences even with lower overall counts. Themes such as \"Historical,\" \"Detective,\" and \"Romance\" round out the list, offering narrative variety and signaling demand for specific storytelling genres.\n",
    "\n",
    "In sum, story remains a cornerstone of game design — with players valuing both depth and interactivity in the experiences they choose.\n",
    "\n",
    "\n",
    "**Level Design: Freedom Dominates, But Structure Persists**\n",
    "\n",
    "Open-world and exploration-based games lead in volume, with 856 and 817 titles respectively. This highlights a strong player preference for freedom, discovery, and emergent gameplay — features that have become defining elements in modern design.\n",
    "\n",
    "Tags like \"Sandbox\" and \"Side Scroller\" show a healthy presence too, each offering a different take on interaction: one emphasizing player-driven creativity, the other precision and pacing. Meanwhile, more structured formats like \"Linear\" and \"Nonlinear\" appear less frequently, yet still carve out space for tightly crafted or branching experiences.\n",
    "\n",
    "Overall, the data suggests that while open-ended design dominates in quantity, there's still demand for deliberate, curated environments — offering a balance between autonomy and authorship in level design."
   ]
  },
  {
   "cell_type": "code",
   "execution_count": null,
   "id": "ef209128",
   "metadata": {},
   "outputs": [],
   "source": []
  },
  {
   "cell_type": "code",
   "execution_count": null,
   "metadata": {},
   "outputs": [],
   "source": []
  },
  {
   "cell_type": "code",
   "execution_count": null,
   "id": "5b1e8688",
   "metadata": {},
   "outputs": [],
   "source": []
  },
  {
   "cell_type": "code",
   "execution_count": null,
   "metadata": {},
   "outputs": [],
   "source": []
  },
  {
   "cell_type": "code",
   "execution_count": null,
   "metadata": {},
   "outputs": [],
   "source": []
  },
  {
   "cell_type": "code",
   "execution_count": null,
   "metadata": {},
   "outputs": [],
   "source": []
  },
  {
   "cell_type": "code",
   "execution_count": null,
   "id": "ecaf090b",
   "metadata": {},
   "outputs": [],
   "source": []
  },
  {
   "cell_type": "code",
   "execution_count": null,
   "id": "e4a94227",
   "metadata": {},
   "outputs": [],
   "source": [
    "tags_stats_high_pop_high_appr = tags_stats_builder(df[df['quadrant'] == 'HP-HA'])\n",
    "tags_stats_high_pop_low_appr = tags_stats_builder(df[df['quadrant'] == 'HP-LA'])\n",
    "tags_stats_low_pop_high_appr = tags_stats_builder(df[df['quadrant'] == 'LP-HA'])\n",
    "tags_stats_low_pop_low_appr = tags_stats_builder(df[df['quadrant'] == 'LP-LA'])\n",
    "\n",
    "tags_stats_high_pop_high_appr['quadrant'] = 'HP-HA'\n",
    "tags_stats_high_pop_low_appr['quadrant'] = 'HP-LA'\n",
    "tags_stats_low_pop_high_appr['quadrant'] = 'LP-HA'\n",
    "tags_stats_low_pop_low_appr['quadrant'] = 'LP-LA'\n",
    "\n",
    "tags_stats_pop_appr = pd.concat([tags_stats_high_pop_high_appr, tags_stats_high_pop_low_appr, tags_stats_low_pop_high_appr, tags_stats_low_pop_low_appr])"
   ]
  },
  {
   "cell_type": "code",
   "execution_count": null,
   "id": "dbb3e792",
   "metadata": {},
   "outputs": [],
   "source": []
  },
  {
   "cell_type": "code",
   "execution_count": null,
   "id": "1d601598",
   "metadata": {},
   "outputs": [],
   "source": [
    "tags_stats[(tags_stats['count'] > 100) & (tags_stats['category'] == 'Themes & Moods')].sort_values('median_popularity', ascending = False)[:10].reset_index(drop=True)"
   ]
  },
  {
   "cell_type": "code",
   "execution_count": null,
   "id": "011e48af",
   "metadata": {},
   "outputs": [],
   "source": []
  },
  {
   "cell_type": "code",
   "execution_count": null,
   "id": "7343e050",
   "metadata": {},
   "outputs": [],
   "source": [
    "tags_stats"
   ]
  },
  {
   "cell_type": "code",
   "execution_count": null,
   "id": "d8f42447",
   "metadata": {},
   "outputs": [],
   "source": []
  },
  {
   "cell_type": "code",
   "execution_count": null,
   "id": "756e2cfe",
   "metadata": {},
   "outputs": [],
   "source": [
    "#attribute_options = ['Themes & Moods', 'Top-Level Genres', 'Visuals & Viewpoint', 'Genres', 'Sub-Genres', 'Players', 'Story', 'Level Design']\n",
    "attribute_options = ['Genres', 'Sub-Genres']\n",
    "\n",
    "# Dropdown legato al campo 'category'\n",
    "dropdown1 = alt.binding_select(options=attribute_options, name='Tag Type: ')\n",
    "dropdown2 = alt.binding_select(options=['HP-HA', 'HP-LA', 'LP-HA', 'LP-LA'], name='Quadrant: ')\n",
    "selection1 = alt.param(name='CategorySelector1', bind=dropdown1, value=attribute_options[0])\n",
    "selection2 = alt.param(name='CategorySelector2', bind=dropdown2, value='HP-HA')\n",
    "\n",
    "\n",
    "chart = alt.Chart(tags_stats_pop_appr).add_params(\n",
    "    selection1,\n",
    "    selection2\n",
    ").transform_filter(\n",
    "    (alt.datum.category == selection1) & (alt.datum.quadrant == selection2)\n",
    ").transform_window(\n",
    "    rank='rank(count)',\n",
    "    sort=[alt.SortField('count', order='descending')],\n",
    "    groupby=['category']\n",
    ").transform_filter(\n",
    "    alt.datum.rank <= 10\n",
    ").mark_bar().encode(\n",
    "    x=alt.X('count:Q'),\n",
    "    y=alt.Y('tags:N', sort='-x', title=''),\n",
    "    tooltip=['tags:N', 'count:Q']\n",
    ").properties(width=600)\n",
    "\n",
    "\n",
    "top_genres_subgenres_by_quadrant = chart\n",
    "\n",
    "top_genres_subgenres_by_quadrant = top_genres_subgenres_by_quadrant.properties(\n",
    "    # Aggiunge padding al lato destro della vista complessiva\n",
    "    padding={\"left\": 30, \"top\": 10, \"right\": 100, \"bottom\": 10}\n",
    ")\n",
    "\n",
    "top_genres_subgenres_by_quadrant.save('assets/charts/top_genres_subgenres_by_quadrant.json')"
   ]
  },
  {
   "cell_type": "code",
   "execution_count": null,
   "id": "312d491c",
   "metadata": {},
   "outputs": [],
   "source": [
    "top_genres_subgenres_by_quadrant"
   ]
  },
  {
   "cell_type": "code",
   "execution_count": null,
   "id": "8f1c02a6",
   "metadata": {},
   "outputs": [],
   "source": [
    "tags_stats_pop_appr[(tags_stats_pop_appr['category'] == 'Sub-Genres') & (tags_stats_pop_appr['quadrant'] == 'LP-LA')][['tags', 'count', 'category', 'quadrant']].sort_values('count', ascending=False)[:10].reset_index(drop=True)"
   ]
  },
  {
   "cell_type": "markdown",
   "metadata": {},
   "source": [
    "**Genres: High popularity High appreciation**\n",
    "\n",
    "This list showcases genres that consistently hit the sweet spot of High Popularity and High Appreciation (HP-HA) — indicating not just mass appeal, but strong player satisfaction as well.\n",
    "\n",
    "Puzzle leads the pack, suggesting that logic-based, mentally stimulating gameplay continues to resonate deeply with a wide audience. Platformers, Arcade, and Point & Click follow closely, highlighting enduring affection for precise, mechanics-driven, and often nostalgic formats. These genres thrive by offering clear goals, tight feedback loops, and accessible design.\n",
    "\n",
    "Interestingly, strategic genres — like Turn-Based Strategy, RTS, Grand Strategy, and Rogue-like — are also well-represented. Their presence signals a demand for thoughtful, systems-driven play where depth and challenge lead to lasting engagement. Even more niche genres like Rhythm and Beat ’em up appear here, showing that when done well, even less common formats can earn both player admiration and wide traction.\n",
    "\n",
    "Altogether, these HP-HA genres reflect a strong player preference for games that balance engaging mechanics with high-quality execution — proving that timeless gameplay still holds powerful appeal.\n",
    "\n",
    "**Genres: High popularity low appreciation**\n",
    "\n",
    "This High Popularity–Low Appreciation (HP-LA) list highlights genres that attract attention but don’t always land well with players in terms of satisfaction.\n",
    "\n",
    "Genres like Arcade, Puzzle, and Platformer continue to draw large player bases, but their lower appreciation suggests either oversaturation, shallow design, or execution that fails to innovate. They remain accessible and familiar, yet may lack the depth or novelty that today’s players increasingly seek.\n",
    "\n",
    "Notably, strategic genres like RTS, Turn-Based Strategy, and Grand Strategy also appear here — a sign that while there's strong interest in complex systems, these games might struggle with approachability, UX, or evolving player expectations.\n",
    "\n",
    "The presence of e-sports could point to high visibility and player engagement but also to frustrations with balancing, competitiveness, or limited appeal outside niche audiences.\n",
    "\n",
    "In essence, these are genres with strong reach but room to grow — and possibly a disconnect between what players expect and what they receive.\n",
    "\n",
    "**Genres: Low popularity high appreciation**\n",
    "\n",
    "This Low Popularity–High Appreciation (LP-HA) quadrant highlights genres that may not dominate in visibility but deeply resonate with their audiences.\n",
    "\n",
    "Genres like Puzzle, Platformer, and Arcade continue to show strong player satisfaction despite lower prominence — signaling that these mechanics-driven experiences offer clarity, challenge, and replayability that loyal fans love. Their enduring appeal often lies in tight design and nostalgic roots.\n",
    "\n",
    "More niche entries like Point & Click, Rhythm, and Tower Defense may serve smaller communities, but they punch above their weight in appreciation — likely due to focused design, clear goals, and rewarding mechanics.\n",
    "\n",
    "Strategic and procedural genres like Turn-Based Strategy, RTS, and Rogue-like suggest that when well-executed, even complex systems can generate strong goodwill, even without mainstream appeal.\n",
    "\n",
    "In short, these are under-the-radar favorites — genres that deliver meaningful experiences and foster deep engagement, even without widespread popularity.\n",
    "\n",
    "**Genres: Low popularity low appreciation**\n",
    "\n",
    "The Low Popularity–Low Appreciation (LP–LA) quadrant reflects genres that struggle both in visibility and player reception — often due to stagnation, oversaturation, or niche appeal without broad resonance.\n",
    "\n",
    "Tags like Puzzle, Platformer, and Arcade appear here in notable numbers, suggesting that while these classic genres have strong historical roots, some titles may lack the innovation or polish needed to truly engage modern audiences.\n",
    "\n",
    "More specialized formats like Point & Click, Turn-Based Strategy, and Rogue-like also show up frequently, perhaps weighed down by inconsistent quality or design complexity that doesn’t translate into wider appreciation.\n",
    "\n",
    "Meanwhile, deeper strategic tags like RTS, Tower Defense, and Grand Strategy reinforce that even long-established genres need reinvention to maintain relevance.\n",
    "\n",
    "This quadrant serves as a reminder: familiarity alone isn’t enough — consistent quality, fresh ideas, and player-centric design are key to sustaining both popularity and appreciation."
   ]
  },
  {
   "cell_type": "markdown",
   "id": "906958de",
   "metadata": {},
   "source": [
    "**Sub-Genres: High popularity High appreciation**\n",
    "\n",
    "This High Popularity–High Appreciation (HP–HA) list of sub-genres showcases formats that not only draw substantial player interest but also deliver highly satisfying experiences.\n",
    "\n",
    "Leading the pack is FPS, reaffirming its status as a staple with broad appeal and polished execution. Action-heavy styles like Hack and Slash, Third-Person Shooter, and Action Roguelike also feature prominently, highlighting a player preference for fast-paced, skill-based combat when well-designed.\n",
    "\n",
    "Meanwhile, Metroidvania, Souls-like, and Rogue-lite reflect growing appreciation for layered, exploratory, and challenging gameplay loops. Their presence suggests that complexity, progression, and replayability continue to resonate strongly when combined with strong design fundamentals.\n",
    "\n",
    "Finally, hybrid and spatial genres like Puzzle-Platformer, 3D Platformer, and Dungeon Crawler round out the list — reinforcing that thoughtful level design and mechanical variety still earn high marks when executed with care.\n",
    "\n",
    "Overall, these sub-genres strike a strong balance between accessibility, challenge, and player satisfaction.\n",
    "\n",
    "**Sub-Genres: High popularity low appreciation**\n",
    "\n",
    "The High Popularity–Low Appreciation (HP–LA) sub-genres list reflects formats that draw significant attention but may fall short in player satisfaction.\n",
    "\n",
    "FPS, Hack and Slash, and Third-Person Shooter dominate in count, showing that while action and shooter formats remain widely played, they risk formulaic design, repetition, or lack of innovation — leading to lukewarm reception.\n",
    "\n",
    "Genres like Souls-like, Rogue-lite, and Metroidvania appear here too, suggesting that their rising popularity may sometimes outpace the quality or polish of their implementations, especially in oversaturated indie markets.\n",
    "\n",
    "3D Platformer and Dungeon Crawler further reflect this gap, where strong concepts may falter in execution. The presence of Immersive Sim and 2D Platformer hints at niche complexity or dated mechanics not always aligning with broader expectations.\n",
    "\n",
    "Overall, these sub-genres succeed in attracting players but often struggle to deliver experiences that meet rising standards — pointing to opportunity for refinement and innovation.\n",
    "\n",
    "**Sub-Genres: low popularity High appreciation**\n",
    "\n",
    "The Low Popularity–High Appreciation (LP–HA) sub-genres reveal hidden gems — not widely played, but deeply valued by those who engage with them.\n",
    "\n",
    "Puzzle-Platformer, 2D Platformer, and Shoot 'Em Up top the list, showing that skill-based, focused experiences still resonate strongly with dedicated audiences. These formats often shine through precise mechanics and tight level design.\n",
    "\n",
    "Bullet Hell, Metroidvania, and Rogue-lite stand out as niche favorites, often delivering challenge and replayability in ways that reward mastery. Similarly, Hack and Slash and Dungeon Crawler appeal to players who enjoy depth and combat intensity, even if they're less mainstream.\n",
    "\n",
    "Interestingly, even FPS and 3D Platformer — usually associated with mass appeal — appear here, suggesting that well-crafted entries in familiar formats can still surprise and satisfy.\n",
    "\n",
    "In short, these sub-genres may not dominate in visibility, but they earn strong appreciation through thoughtful, refined design.\n",
    "\n",
    "\n",
    "**Sub-Genres: low popularity low appreciation**\n",
    "\n",
    "The Low Popularity–Low Appreciation (LP–LA) sub-genres reveal formats that currently struggle to capture both wide attention and strong acclaim.\n",
    "\n",
    "Despite their foundational appeal, staples like Hack and Slash, FPS, and Puzzle-Platformer appear here in high numbers — suggesting oversaturation, inconsistent quality, or a lack of innovation that’s causing fatigue among players.\n",
    "\n",
    "Niche tags like Rogue-lite, Bullet Hell, and Shoot 'Em Up also populate this quadrant. These often demand high skill or feature repetitive gameplay, which may limit their broader appeal and risk polarizing audiences.\n",
    "\n",
    "Meanwhile, Metroidvania, 3D Platformer, and Dungeon Crawler — known for depth and exploration — may suffer here from uneven execution or difficulty spikes that undercut accessibility.\n",
    "\n",
    "Overall, this quadrant signals an opportunity: these sub-genres have strong foundations, but need creative refreshes, modern polish, or player-focused refinement to regain momentum and trust."
   ]
  },
  {
   "cell_type": "code",
   "execution_count": null,
   "id": "5068aa0e",
   "metadata": {},
   "outputs": [],
   "source": []
  },
  {
   "cell_type": "code",
   "execution_count": null,
   "id": "d66f155d",
   "metadata": {},
   "outputs": [],
   "source": [
    "tags_stats[(tags_stats['Themes & Moods'] == True) & (tags_stats['count'] >= 300)][['tags', 'median_popularity', 'median_appreciation', 'count']].reset_index(drop = True)"
   ]
  },
  {
   "cell_type": "markdown",
   "id": "e98c53fd",
   "metadata": {},
   "source": [
    "**Themes & Moods: Feeling the Game**\n",
    "\n",
    "Some games capture our attention with mechanics — others hook us through atmosphere and emotional tone. The most frequent themes and moods on Steam reflect players’ deepening appetite for tonal variety, from the whimsical to the intense.\n",
    "\n",
    "Atmospheric, Fantasy, and Sci-fi top the list in both popularity and appreciation, showing that immersive worlds and speculative settings remain perennial favorites. Notably, Atmospheric titles boast a median popularity of 0.478 and an appreciation of 0.740 — comfortably above both thresholds. These are the kinds of games that pull players in not with action, but ambiance.\n",
    "\n",
    "Comedy also punches above its weight: both Comedy and Funny tags show not just strong visibility, but some of the highest median appreciation scores across the board (0.755 and 0.750, respectively). In a market often dominated by gritty realism, the success of humor is a striking reminder that levity has power.\n",
    "\n",
    "At the lower end of the appreciation spectrum are more intense emotional experiences. Horror and Psychological Horror retain solid popularity, but appreciation dips just under the critical 0.71 mark — suggesting that while fear grabs attention, it may divide opinion or wear thin more quickly.\n",
    "\n",
    "A few quieter standouts like Retro and Mystery perform admirably, especially in terms of appreciation. Retro, with a modest popularity of 0.359, still earns a stellar 0.752 in appreciation — proving that nostalgia, when done right, resonates deeply.\n",
    "\n",
    "Ultimately, themes and moods help players choose not just what to play, but how to feel. And the data is clear: players appreciate when games make them laugh, wonder, or simply immerse them in beautifully strange worlds."
   ]
  },
  {
   "cell_type": "code",
   "execution_count": null,
   "id": "f2ef093a",
   "metadata": {},
   "outputs": [],
   "source": [
    "tags_stats[(tags_stats['Top-Level Genres'] == True) & (tags_stats['count'] >= 100)][['tags', 'median_popularity', 'median_appreciation', 'count']].reset_index(drop = True)"
   ]
  },
  {
   "cell_type": "markdown",
   "id": "76b895c1",
   "metadata": {},
   "source": [
    "**Top-Level Genres: Popular Giants and Quiet Achievers**\n",
    "\n",
    "When it comes to defining a game’s identity, top-level genres are the broad strokes — the categories players search first, and often the ones most closely tied to commercial expectations. But the data shows a fascinating divide: popularity doesn't always track with appreciation.\n",
    "\n",
    "Action, the largest genre by volume (nearly 3,000 titles), predictably enjoys strong visibility with a median popularity of 0.424 — above the threshold. Yet it narrowly misses the appreciation cutoff (0.709), hinting that while Action games draw eyes, they don’t always win hearts. A similar pattern appears in Simulation, RPG, and Strategy — all comfortably popular, but just shy of the highest appreciation tier.\n",
    "\n",
    "By contrast, Adventure games thread the needle: with 0.432 in popularity and 0.724 in appreciation, they’re a rare example of both broad appeal and consistent acclaim. Action-Adventure follows closely, showing players value hybrid experiences that balance exploration with intensity.\n",
    "\n",
    "Meanwhile, Casual games stand out as stealth favorites. Despite a below-threshold popularity of 0.361, they deliver high appreciation (0.723), proving that smaller, more accessible experiences can still make lasting impressions.\n",
    "\n",
    "At the other end of the spectrum, Racing and Sports titles face an uphill climb. Both genres fall below 0.71 in appreciation — and in the case of Sports, well below it (0.659). These findings suggest niche audiences and limited appeal outside of enthusiast circles.\n",
    "\n",
    "Finally, Indie games tell a familiar story: a massive pool of titles (over 2,000), low median popularity (0.344), but still solid appreciation (0.718). The Indie label may not guarantee visibility — but quality is clearly being recognized by those who seek it out.\n",
    "\n",
    "In the end, the data underscores an essential truth: top-level genre is just the beginning of a game’s story. It may determine the crowd it attracts — but not necessarily the experience they walk away with."
   ]
  },
  {
   "cell_type": "code",
   "execution_count": null,
   "id": "9702bdf9",
   "metadata": {},
   "outputs": [],
   "source": [
    "tags_stats[(tags_stats['Visuals & Viewpoint'] == True) & (tags_stats['count'] >= 200)][['tags', 'median_popularity', 'median_appreciation', 'count']].reset_index(drop = True)"
   ]
  },
  {
   "cell_type": "markdown",
   "id": "5e53bcc7",
   "metadata": {},
   "source": [
    "**Visuals & Viewpoints: Pixel Charm, 2D Prestige, and a Popularity Paradox**\n",
    "\n",
    "Visuals are more than aesthetic — they shape tone, accessibility, and even gameplay itself. And yet, the data on visual styles and camera perspectives reveals a surprising contradiction: the most popular viewpoints aren’t always the most beloved.\n",
    "\n",
    "Take 2D games. With a popularity just under the 0.39 threshold (0.371), they might be considered a niche in today’s 3D-dominated world. But the appreciation score tells another story — a robust 0.751, placing 2D titles among the most appreciated visual styles. It’s a similar tale for Pixel Graphics and Hand-drawn visuals: low popularity, high admiration. The retro aesthetic, often a hallmark of indie titles, may lack mainstream pull but consistently resonates with players.\n",
    "\n",
    "Even Cartoony, Colorful, and Cute styles — often dismissed as “casual” or “kiddie” — post impressive appreciation numbers, all above 0.73. Cute, in particular, balances right on the popularity line (0.390), but earns one of the highest approval ratings (0.752). These visuals may not shout for attention, but they quietly charm players once discovered.\n",
    "\n",
    "On the flip side, 3D and Realistic visuals, while popular (especially Realistic at 0.497), tend to underperform in appreciation. Realistic visual style is the only one here to dip well below the 0.71 line (0.681), suggesting that visual fidelity alone no longer wins hearts — it may, in fact, raise expectations that are harder to meet.\n",
    "\n",
    "In terms of camera perspective, Third Person and First-Person dominate in popularity — unsurprising, as they're standard in most AAA genres. However, their appreciation is middling, hovering around the threshold. Isometric and Top-Down views, while less common, are both above the 0.71 mark, indicating that their appeal may lie in their functional clarity and tactical depth rather than cinematic flair.\n",
    "\n",
    "Then there’s Anime and Stylized — both blend distinct visual identity with strong appreciation. Anime-style games, in particular, strike a successful balance with high popularity (0.425) and high appreciation (0.734), one of the few tags to do both.\n",
    "\n",
    "The verdict? While glossy 3D visuals and familiar camera angles bring visibility, it’s the artful, expressive, and nostalgic styles — especially in 2D and stylized formats — that truly leave an impact."
   ]
  },
  {
   "cell_type": "code",
   "execution_count": null,
   "id": "6da906f3",
   "metadata": {},
   "outputs": [],
   "source": [
    "tags_stats[(tags_stats['Genres'] == True) & (tags_stats['count'] >= 200)][['tags', 'median_popularity', 'median_appreciation', 'count']].reset_index(drop = True)"
   ]
  },
  {
   "cell_type": "markdown",
   "id": "bf443d46",
   "metadata": {},
   "source": [
    "**Genres in Focus: Balancing Popularity and Player Love**\n",
    "\n",
    "When looking at how genre tags map onto popularity and appreciation, the picture is one of subtle contrasts rather than sharp divides. A few genres like Sandbox and JRPG manage to balance strong appreciation with solid popularity, sitting comfortably in the upper-right quadrant. Shooter and Action RPG also perform well on the popularity front, though their appreciation scores are slightly more muted.\n",
    "\n",
    "On the other hand, genres like Puzzle, Platformer, and Visual Novel aren’t the most played but stand out for their consistently high appreciation. These tags suggest that while they might cater to smaller audiences, those audiences are deeply satisfied.\n",
    "\n",
    "At the lower end of both metrics, genres such as Point & Click, Arcade, and especially Walking Simulator show limited reach and more tempered reception—possibly reflecting niche appeal or genre fatigue. Overall, while no genre dominates both dimensions, some carve out strong identities through either cultural relevance, emotional resonance, or lasting design appeal."
   ]
  },
  {
   "cell_type": "code",
   "execution_count": null,
   "id": "bc1fc0cc",
   "metadata": {},
   "outputs": [],
   "source": [
    "tags_stats[(tags_stats['Sub-Genres'] == True) & (tags_stats['count'] >= 150)][['tags', 'median_popularity', 'median_appreciation', 'count']].reset_index(drop = True)"
   ]
  },
  {
   "cell_type": "markdown",
   "id": "02ee0bbe",
   "metadata": {},
   "source": [
    "**Subgenres Spotlight: A Tale of Niche Appeal and Broad Reach**\n",
    "\n",
    "The subgenre tags show a rich variety in how different gameplay styles resonate with players in terms of both popularity and appreciation. A few patterns stand out.\n",
    "\n",
    "Third-Person Shooter leads in popularity, crossing the upper threshold with a median of 0.56, though it doesn’t quite reach the appreciation benchmark. It’s a genre with mainstream appeal, but perhaps more functional than emotionally resonant. Similarly, FPS and Hack and Slash enjoy broad reach (both above 0.45 in popularity), yet land just below the appreciation threshold, suggesting these fast-paced experiences are more accessible than deeply loved.\n",
    "\n",
    "On the other hand, Metroidvania, Puzzle-Platformer, and 2D Platformer all exhibit strong appreciation scores (above 0.74), indicating that games in these subgenres—though less dominant in overall player base—tend to leave a lasting impression on those who engage with them. Puzzle-Platformer in particular stands out with one of the highest appreciation medians (0.75), reflecting the value players place on creativity and design nuance.\n",
    "\n",
    "Exploration, Rogue-lite, and 3D Platformer hover near the appreciation threshold and maintain moderate popularity, showing a balanced appeal. Meanwhile, subgenres like Action Roguelike and Turn-Based Tactics fall just short on both axes, indicating niche status despite their loyal fanbases.\n",
    "\n",
    "Altogether, these results reinforce that subgenres focused on tight design and inventive mechanics tend to perform well in appreciation, even when they don’t dominate in popularity. Conversely, highly popular subgenres may sometimes sacrifice distinctiveness or emotional engagement for broader reach."
   ]
  },
  {
   "cell_type": "code",
   "execution_count": null,
   "id": "f7ea2570",
   "metadata": {},
   "outputs": [],
   "source": [
    "tags_stats[(tags_stats['Players'] == True) & (tags_stats['count'] >= 100)][['tags', 'median_popularity', 'median_appreciation', 'count']].reset_index(drop=True)"
   ]
  },
  {
   "cell_type": "markdown",
   "id": "9cbbbde7",
   "metadata": {},
   "source": [
    "**Player Modes: The Social Pulse of Gaming**\n",
    "\n",
    "The distribution of player-oriented tags offers a clear picture of how different play modes perform in terms of popularity and appreciation, with some striking imbalances between the two dimensions.\n",
    "\n",
    "Team-Based, Online Co-Op, and Massively Multiplayer stand out on the popularity front, all exceeding the 0.5 popularity threshold. However, none of them cross the appreciation benchmark, suggesting that while these modes attract many players, they might not deliver consistently memorable or satisfying experiences. This is particularly noticeable for Massively Multiplayer, which is the least appreciated tag in the set despite its high popularity—a sign of potential issues with quality or coherence in large-scale multiplayer games.\n",
    "\n",
    "In contrast, Singleplayer emerges as a strong performer on the appreciation side (0.73), and while it’s not one of the most popular tags, it still enjoys a solid player base, especially given its massive count. Similarly, Local Co-Op and Local Multiplayer—though less prominent overall—show relatively high appreciation, pointing to a persistent affection for shared-screen or couch co-op formats. This suggests that proximity and social play still hold unique value for many players.\n",
    "\n",
    "Co-op and Multiplayer in general maintain a healthy balance, with both metrics above the thresholds. These modes appear to hit the sweet spot—broadly appealing and decently appreciated—likely due to their flexibility and ubiquity across genres.\n",
    "\n",
    "PvP and 4 Player Local, meanwhile, fall into a more middle-ground zone: neither disliked nor particularly standout. These results may reflect niche appeal or experiences that are more dependent on external factors (like player community or match quality) than on game design alone.\n",
    "\n",
    "Overall, these data hint at a recurring theme: social and cooperative formats are popular but not always deeply appreciated, while singleplayer and local experiences, though more contained, often resonate more meaningfully with players."
   ]
  },
  {
   "cell_type": "code",
   "execution_count": null,
   "id": "071bb3ec",
   "metadata": {},
   "outputs": [],
   "source": [
    "tags_stats[(tags_stats['Story'] == True) & (tags_stats['count'] >= 100)][['tags', 'median_popularity', 'median_appreciation', 'count']].reset_index(drop=True)"
   ]
  },
  {
   "cell_type": "markdown",
   "id": "22ce3247",
   "metadata": {},
   "source": [
    "**Storytelling in Games: Where Player Choice Meets Rich Narratives**\n",
    "\n",
    "Story-driven elements remain a vital pillar in game design, shaping immersive worlds and emotional connections that captivate players.\n",
    "\n",
    "Leading the pack is the Story Rich tag, boasting both high popularity (0.466) and strong appreciation (0.748) across a vast catalog of 1,532 games. This confirms that players crave deep, well-crafted narratives that offer expansive storytelling and meaningful engagement.\n",
    "\n",
    "Closely tied are tags like Choices Matter (popularity 0.438, appreciation 0.741) and Multiple Endings (0.428 / 0.744), both emphasizing player agency and branching storylines. These features resonate with players who want their decisions to impact the game world, enhancing replayability and emotional investment.\n",
    "\n",
    "Genres centered on narrative interactivity such as Visual Novel (0.393 popularity, 0.741 appreciation), Interactive Fiction (0.376 / 0.729), and Choose Your Own Adventure (0.383 / 0.727) maintain solid appreciation despite slightly below-threshold popularity. This suggests a niche but dedicated audience that values story-first gameplay.\n",
    "\n",
    "Themes like Detective (0.400 popularity, 0.739 appreciation) and Historical settings (0.432 / 0.724) also find their footing, indicating players’ appetite for mystery, investigation, and richly contextualized worlds that blend narrative with setting.\n",
    "\n",
    "Even tags with lower popularity, such as Narration (0.369 popularity, 0.737 appreciation) and Romance (0.413 / 0.737), maintain high appreciation scores — showcasing how effective storytelling and emotional themes captivate those who experience them.\n",
    "\n",
    "Overall, story-focused games demonstrate that strong narrative design and player choice remain central to player enjoyment. While not every narrative tag attracts mass popularity, those that do tend to also enjoy high appreciation, underscoring storytelling’s role in creating memorable and impactful gaming experiences."
   ]
  },
  {
   "cell_type": "code",
   "execution_count": null,
   "id": "7e009bf6",
   "metadata": {},
   "outputs": [],
   "source": [
    "tags_stats[(tags_stats['Level Design'] == True) & (tags_stats['count'] >= 100)][['tags', 'median_popularity', 'median_appreciation', 'count']].reset_index(drop=True)"
   ]
  },
  {
   "cell_type": "markdown",
   "id": "997caa20",
   "metadata": {},
   "source": [
    "**Level Design Trends: Freedom Leads, But Structure Still Shines**\n",
    "\n",
    "In the evolving landscape of video game design, level structure plays a pivotal role in shaping how players engage with game worlds. Whether it’s a tightly guided experience or a sprawling world ripe for discovery, the data reveals a strong appetite for a range of design philosophies.\n",
    "\n",
    "Open World titles lead the popularity chart with a median score of 0.549, indicating their dominance in the modern gaming imagination. Despite their broad appeal, they register a slightly lower appreciation score of 0.718 — just above the threshold. This suggests that while players are drawn to freedom and scale, delivering consistent quality across such massive spaces remains a creative challenge.\n",
    "\n",
    "Meanwhile, Sandbox design — often overlapping with open world but emphasizing systemic freedom — performs exceptionally well, with both high popularity (0.527) and strong appreciation (0.734). This reflects a clear enthusiasm for games that allow experimentation and emergent gameplay, where players craft their own stories and solutions.\n",
    "\n",
    "Interestingly, Exploration as a design focus also maintains solid footing, with moderate popularity (0.430) and high appreciation (0.729). It underscores a broader trend: players enjoy being given the space to uncover secrets and immerse themselves in richly layered environments.\n",
    "\n",
    "Contrastingly, Linear level design — though far less popular (0.362) — boasts one of the highest appreciation scores (0.745). This disparity suggests that while linear games might not be as widely produced or sought-after, when done well, they resonate deeply with players seeking tight pacing, cinematic flow, and refined control over narrative delivery.\n",
    "\n",
    "Side Scroller design straddles the middle ground: modest popularity (0.368, just under the threshold) but strong appreciation (0.736), pointing to enduring love for classic forms reimagined with modern mechanics.\n",
    "\n",
    "Overall, the data points to a healthy diversity in player preferences. Whether expansive and emergent or compact and curated, great level design — when aligned with player expectations — remains one of the most appreciated elements in game development today."
   ]
  },
  {
   "cell_type": "code",
   "execution_count": null,
   "id": "802991e0",
   "metadata": {},
   "outputs": [],
   "source": []
  },
  {
   "cell_type": "code",
   "execution_count": null,
   "id": "e3fb57f2",
   "metadata": {},
   "outputs": [],
   "source": []
  },
  {
   "cell_type": "code",
   "execution_count": null,
   "id": "6e083563",
   "metadata": {},
   "outputs": [],
   "source": [
    "df['popularity_plus_appreciation'] = df['popularity_score'] + df['appreciation_score']"
   ]
  },
  {
   "cell_type": "code",
   "execution_count": null,
   "id": "900008c6",
   "metadata": {},
   "outputs": [],
   "source": [
    "# Drop righe senza tag\n",
    "df_clean = df.dropna(subset=['tags']).copy(deep=True)\n",
    "\n",
    "# Crea colonna 'tag_pairs' con tutte le combinazioni di 2\n",
    "df_clean['tag_pairs'] = df_clean['tags'].apply(\n",
    "    lambda tags: list(combinations(sorted(set(tags)), 2)) if len(tags) >= 2 else []\n",
    ")\n",
    "\n",
    "# Esplodi in una riga per ogni coppia\n",
    "df_pairs = df_clean.explode('tag_pairs').dropna(subset=['tag_pairs'])\n",
    "\n",
    "# Estrai i singoli tag per leggibilità\n",
    "df_pairs['tag1'] = df_pairs['tag_pairs'].apply(lambda x: x[0])\n",
    "df_pairs['tag2'] = df_pairs['tag_pairs'].apply(lambda x: x[1])"
   ]
  },
  {
   "cell_type": "code",
   "execution_count": null,
   "id": "f71bdd15",
   "metadata": {},
   "outputs": [],
   "source": [
    "tag_pairs_stats = df_pairs.groupby(['tag1', 'tag2']).agg(\n",
    "    median_popularity=('popularity_score', 'median'),\n",
    "    median_appreciation=('appreciation_score', 'median'),\n",
    "    median_popularity_plus_appreciation=('popularity_plus_appreciation', 'median'),\n",
    "    median_popularity_minus_appreciation=('popularity_minus_appreciation', 'median'),\n",
    "    count=('popularity_score', 'count')\n",
    ").reset_index()"
   ]
  },
  {
   "cell_type": "code",
   "execution_count": null,
   "id": "11335273",
   "metadata": {},
   "outputs": [],
   "source": [
    "tag_pairs_stats.sort_values('count', ascending=False)[:10]"
   ]
  },
  {
   "cell_type": "code",
   "execution_count": null,
   "id": "24b2e798",
   "metadata": {},
   "outputs": [],
   "source": []
  },
  {
   "cell_type": "code",
   "execution_count": null,
   "id": "086074cd",
   "metadata": {},
   "outputs": [],
   "source": [
    "tag_pairs_stats[tag_pairs_stats['count'] >= 100].sort_values(by='median_popularity', ascending=False).reset_index(drop=True)[:10]"
   ]
  },
  {
   "cell_type": "code",
   "execution_count": null,
   "id": "ebefe7bb",
   "metadata": {},
   "outputs": [],
   "source": [
    "tag_pairs_stats.sort_values(by='count', ascending=False).reset_index(drop=True)[:100][['tag1','tag2','count']][:10]"
   ]
  },
  {
   "cell_type": "code",
   "execution_count": null,
   "id": "ad3b7c59",
   "metadata": {},
   "outputs": [],
   "source": [
    "# Create tag pair labels\n",
    "tag_pairs_stats['tag_pair'] = tag_pairs_stats['tag1'] + ' + ' + tag_pairs_stats['tag2']\n",
    "\n",
    "alt.Chart(tag_pairs_stats.sort_values(by='count', ascending=False).reset_index(drop=True)[:100]).mark_rect().encode(\n",
    "    y=alt.Y('tag1:N', title=''),\n",
    "    x=alt.X('tag2:N', title='', axis=alt.Axis(labelAngle=270)),\n",
    "    color=alt.Color('count:Q',\n",
    "                    scale=alt.Scale(scheme='orangered', reverse=False),\n",
    "                    title='Count'),\n",
    "    tooltip=[\n",
    "        'tag1', 'tag2',\n",
    "        alt.Tooltip('count:Q'),\n",
    "    ]\n",
    ").properties(\n",
    "    width=600,\n",
    "    height=600\n",
    ")"
   ]
  },
  {
   "cell_type": "markdown",
   "id": "ad2d82d3",
   "metadata": {},
   "source": [
    "The most popular tag pairs blend immersion, freedom, and interaction. Leading combinations like Atmospheric + Third-Person Shooter or Open World + Stealth highlight the appeal of moody environments, tactical movement, and player agency.\n",
    "\n",
    "Action-focused duos such as Shooter + Story Rich or FPS + Story Rich show growing demand for narrative depth in traditionally mechanic-heavy genres. Meanwhile, Online Co-Op pairings with immersive or first-person tags reflect the strong draw of shared, engaging experiences.\n",
    "\n",
    "Across the board, high popularity emerges not from individual features, but from well-matched combinations that offer both intensity and depth — emotional, strategic, or social."
   ]
  },
  {
   "cell_type": "markdown",
   "id": "71486b9b",
   "metadata": {},
   "source": [
    "**Power Duos: The Tag Pairs Behind Gaming’s Most Popular Experiences**\n",
    "\n",
    "In the vast and ever-growing landscape of video game design, certain combinations of features strike a chord so strongly with players that they become magnetic. Analyzing the top-performing tag pairs based on median popularity, a clear pattern emerges: success often lies in fusing immersive environments, dynamic perspectives, and cooperative or narrative elements.\n",
    "\n",
    "At the very top, “Atmospheric + Third-Person Shooter” games take the crown with an astonishing median popularity of 0.655. This pairing, seen in titles like The Last of Us Part II or Control, blends moody, environmental storytelling with fluid combat — a formula that evidently resonates with players looking for depth and intensity.\n",
    "\n",
    "Close behind is the combo of “Open World + Stealth” (0.647), suggesting that players relish the freedom to move and the thrill of remaining unseen. Think Assassin’s Creed or Metal Gear Solid V, where the sandbox is not just for roaming but for orchestrating silent takedowns.\n",
    "\n",
    "Open-world brutality also finds an audience: both “Open World + Violent” and “Gore + Open World” appear in the top 10, each with popularity above 0.60. These combinations indicate the continued draw of mature, visceral experiences — a domain dominated by titles like GTA V, Days Gone, or Far Cry.\n",
    "\n",
    "Narrative depth finds its place too. The pairings “Shooter + Story Rich” and “FPS + Story Rich” boast popularity scores above 0.62, while maintaining high appreciation scores (above 0.77). These numbers reinforce the rise of storytelling in genres traditionally defined by mechanics — a sign of players demanding both gunplay and gravitas.\n",
    "\n",
    "On the multiplayer front, combinations like “Atmospheric + Online Co-Op” and “First-Person + Online Co-Op” reflect the social shift in modern gaming. These duos offer the best of both worlds: immersive perspectives and the ability to share those experiences with others. Whether it's surviving in eerie post-apocalyptic settings or exploring alien worlds, players crave connection without compromising mood or immersion.\n",
    "\n",
    "Finally, “Sandbox + Third Person” rounds out the list — a pairing that underscores player love for spatial awareness and creative autonomy, echoing the design philosophies of games like Garry’s Mod, Just Cause, or Red Dead Redemption 2.\n",
    "\n",
    "In short, these high-performing tag pairings tell a clear story: the most popular experiences are those that successfully blend freedom, immersion, and interaction, often underpinned by narrative or social depth. It’s not just about doing one thing well — it’s about how the right elements reinforce each other to build games players can’t get enough of."
   ]
  },
  {
   "cell_type": "code",
   "execution_count": null,
   "id": "b181917e",
   "metadata": {},
   "outputs": [],
   "source": [
    "df['popularity_score'].median()"
   ]
  },
  {
   "cell_type": "code",
   "execution_count": null,
   "id": "a866497e",
   "metadata": {},
   "outputs": [],
   "source": [
    "df['appreciation_score'].median()"
   ]
  },
  {
   "cell_type": "markdown",
   "id": "86d9679b",
   "metadata": {},
   "source": [
    "When trying to categorize tag pairs or triples into the classic four-quadrant split—high vs. low popularity and high vs. low appreciation—a noticeable complication emerges. Unlike single tags, which often fall cleanly into one quadrant, combinations tend to cluster near the dividing lines. Most tag pairs and triples hover around the threshold values, making it difficult to assign them confidently to any one quadrant. This distribution blurs the boundaries and suggests that while combinations do add context, they also dilute clarity. In practice, this makes it harder to extract sharp, actionable insights from composite tags using the quadrant model."
   ]
  },
  {
   "cell_type": "code",
   "execution_count": null,
   "id": "1133c438",
   "metadata": {},
   "outputs": [],
   "source": [
    "tag_pairs_stats[(tag_pairs_stats['count'] >= 100) & (tag_pairs_stats['median_popularity'] > df['popularity_score'].median()) & (tag_pairs_stats['median_appreciation'] > df['appreciation_score'].median())].sort_values(by='median_popularity_plus_appreciation', ascending=False)[['tag1', 'tag2', 'median_popularity', 'median_appreciation', 'count']].reset_index(drop=True)[:10]"
   ]
  },
  {
   "cell_type": "markdown",
   "id": "58ffd903",
   "metadata": {},
   "source": [
    "Some tag pairings don’t just succeed—they excel, drawing both wide audiences and strong appreciation. Atmospheric + Third-Person Shooter leads with cinematic tension and satisfying action, showing how mood can enhance gameplay. Story Rich combined with Shooter or FPS demonstrates that players crave narrative, even in action-heavy experiences. Customization is another winner: Moddable + Singleplayer or Multiplayer games clearly resonate, offering creative freedom and replay value. And across genres, Great Soundtrack continues to boost emotional impact, whether paired with Sandbox or Third Person play. These combinations offer more than trends—they reflect what players genuinely value."
   ]
  },
  {
   "cell_type": "code",
   "execution_count": null,
   "id": "8d5de5fd",
   "metadata": {},
   "outputs": [],
   "source": [
    "tag_pairs_stats[(tag_pairs_stats['count'] >= 100) & (tag_pairs_stats['median_popularity'] > df['popularity_score'].median()) & (tag_pairs_stats['median_appreciation'] < df['appreciation_score'].median())].sort_values(by='median_popularity_minus_appreciation', ascending=False)[['tag1', 'tag2', 'median_popularity', 'median_appreciation', 'count']].reset_index(drop=True)[:10]"
   ]
  },
  {
   "cell_type": "markdown",
   "id": "498514a4",
   "metadata": {},
   "source": [
    "The data around popular but underappreciated tag pairs offers insight into a recurring dynamic in game design: crowd appeal versus critical engagement. Combinations like Co-op + Violent or Multiplayer + Stealth draw strong interest — their median popularity scores comfortably exceed the threshold — but they consistently fall short in appreciation. These games often promise action and social interaction, yet fail to deliver experiences that resonate or endure.\n",
    "\n",
    "A similar pattern emerges with Open World games paired with Gore, FPS, or Online Co-Op. Their high visibility suggests marketing hooks and genre familiarity work well to bring players in. However, the appreciation scores remain below par, hinting at a potential fatigue with formulaic execution or bloated design. The thrill of scale and intensity may attract, but without emotional or mechanical depth, satisfaction wanes.\n",
    "\n",
    "This segment of the market seems caught in a loop: emphasizing mass appeal through well-known mechanics and themes, but rarely earning the lasting regard that comes from originality, balance, or storytelling."
   ]
  },
  {
   "cell_type": "code",
   "execution_count": null,
   "id": "6adf90e2",
   "metadata": {},
   "outputs": [],
   "source": [
    "tag_pairs_stats[(tag_pairs_stats['count'] >= 100) & (tag_pairs_stats['median_popularity'] < df['popularity_score'].median()) & (tag_pairs_stats['median_appreciation'] > df['appreciation_score'].median())].sort_values(by='median_popularity_minus_appreciation', ascending=True)[['tag1', 'tag2', 'median_popularity', 'median_appreciation', 'count']].reset_index(drop=True)[:10]"
   ]
  },
  {
   "cell_type": "markdown",
   "id": "25152df0",
   "metadata": {},
   "source": [
    "Some games don’t make waves in the mainstream, but they quietly earn deep appreciation from those who play them. Tag pairs like 2D Platformer + Puzzle-Platformer or Arcade + Pixel Graphics recall an era of tight design and visual charm—traits that still resonate strongly with dedicated players. Similarly, combinations like 2D + Singleplayer or Action + Bullet Hell may not dominate charts, but they deliver engaging, skill-driven experiences that foster loyalty. These are the connoisseur’s choices: less visible, but highly valued by their communities."
   ]
  },
  {
   "cell_type": "code",
   "execution_count": null,
   "id": "62b69bc8",
   "metadata": {},
   "outputs": [],
   "source": [
    "tag_pairs_stats[(tag_pairs_stats['count'] >= 100) & (tag_pairs_stats['median_popularity'] < df['popularity_score'].median()) & (tag_pairs_stats['median_appreciation'] < df['appreciation_score'].median())].sort_values(by='median_popularity_plus_appreciation', ascending=True)[['tag1', 'tag2', 'median_popularity', 'median_appreciation', 'count']].reset_index(drop=True)[:10]"
   ]
  },
  {
   "cell_type": "markdown",
   "id": "3c5b9aeb",
   "metadata": {},
   "source": [
    "Some combinations struggle to find a strong foothold, with low popularity and modest appreciation. Tags like Indie + Space and Action + VR highlight niche or emerging areas that haven’t yet hit mainstream appeal. Similarly, Arcade + Casual or Singleplayer + VR suggest experiments that haven’t fully connected with players. Even traditionally popular genres like 3D Action-Adventure and Horror Indie show that innovation alone isn’t enough—execution and player interest must align to succeed. These pairs reveal opportunities for growth but also cautionary tales."
   ]
  },
  {
   "cell_type": "code",
   "execution_count": null,
   "id": "8e311c7b",
   "metadata": {},
   "outputs": [],
   "source": []
  },
  {
   "cell_type": "code",
   "execution_count": null,
   "id": "792c805d",
   "metadata": {},
   "outputs": [],
   "source": [
    "valid_tags = df['tags'].dropna()\n",
    "valid_tags = valid_tags.apply(lambda tags: [tag.replace(' ', '_') for tag in tags])\n",
    "\n",
    "tag_pairs = []\n",
    "for tags in valid_tags:\n",
    "    pairs = combinations(sorted(set(tags)), 2)  # Sorted per evitare (a, b) vs (b, a)\n",
    "    tag_pairs.extend(pairs)\n",
    "\n",
    "# Conta le coppie\n",
    "pair_counter = Counter(tag_pairs)\n",
    "pair_counter.pop(('[', ']'), None)"
   ]
  },
  {
   "cell_type": "code",
   "execution_count": null,
   "id": "42397865",
   "metadata": {},
   "outputs": [],
   "source": [
    "# Create a graph\n",
    "G = nx.Graph()\n",
    "\n",
    "# Add edges from tag pairs with their frequency as weight\n",
    "for (tag1, tag2), count in pair_counter.items():\n",
    "    if count >= 100:\n",
    "        G.add_edge(tag1, tag2, weight=count/100)"
   ]
  },
  {
   "cell_type": "code",
   "execution_count": null,
   "id": "253df3e4",
   "metadata": {},
   "outputs": [],
   "source": [
    "with open(\"tags_graph.ncol\", \"w\") as f:\n",
    "    for u, v, data in G.edges(data=True):\n",
    "        weight = data.get(\"weight\", 1.0)\n",
    "        f.write(f\"{u} {v} {weight}\\n\")"
   ]
  },
  {
   "cell_type": "code",
   "execution_count": null,
   "id": "5950c08d",
   "metadata": {},
   "outputs": [],
   "source": [
    "# Initialize PyVis network\n",
    "net = Network()\n",
    "\n",
    "# Load graph from NetworkX\n",
    "net.from_nx(G)\n",
    "\n",
    "# Update node properties\n",
    "for node in net.get_nodes():\n",
    "    net.get_node(node)['label'] = str(node)\n",
    "    net.get_node(node)['physics'] = True\n",
    "    net.get_node(node)['size'] = 100          # Increase node size (default is around 15)\n",
    "    net.get_node(node)['font'] = {'size': 100}  # Increase label font size\n",
    "\n",
    "# Enable physics globally\n",
    "net.toggle_physics(True)\n",
    "\n",
    "# Adjust physics parameters to increase node distance\n",
    "net.barnes_hut(spring_length=150)  # Default is around 100; increase to spread nodes more\n",
    "\n",
    "# Show the graph\n",
    "net.show('tags_graph.html', notebook=False)"
   ]
  },
  {
   "cell_type": "code",
   "execution_count": null,
   "id": "eddbe620",
   "metadata": {},
   "outputs": [],
   "source": [
    "# Drop righe senza tag\n",
    "df_clean = df.dropna(subset=['tags']).copy(deep=True)\n",
    "\n",
    "# Crea colonna 'tag_pairs' con tutte le combinazioni di 2\n",
    "df_clean['tag_triples'] = df_clean['tags'].apply(\n",
    "    lambda tags: list(combinations(sorted(set(tags)), 3)) if len(tags) >= 2 else []\n",
    ")\n",
    "\n",
    "# Esplodi in una riga per ogni coppia\n",
    "df_triples = df_clean.explode('tag_triples').dropna(subset=['tag_triples'])\n",
    "\n",
    "# Estrai i singoli tag per leggibilità\n",
    "df_triples['tag1'] = df_triples['tag_triples'].apply(lambda x: x[0])\n",
    "df_triples['tag2'] = df_triples['tag_triples'].apply(lambda x: x[1])\n",
    "df_triples['tag3'] = df_triples['tag_triples'].apply(lambda x: x[2])"
   ]
  },
  {
   "cell_type": "code",
   "execution_count": null,
   "id": "018ff370",
   "metadata": {},
   "outputs": [],
   "source": [
    "tag_triples_stats = df_triples.groupby(['tag1', 'tag2', 'tag3']).agg(\n",
    "    median_popularity=('popularity_score', 'median'),\n",
    "    median_appreciation=('appreciation_score', 'median'),\n",
    "    median_popularity_plus_appreciation=('popularity_plus_appreciation', 'median'),\n",
    "    median_popularity_minus_appreciation=('popularity_minus_appreciation', 'median'),\n",
    "    count=('popularity_score', 'count')\n",
    ").reset_index()"
   ]
  },
  {
   "cell_type": "code",
   "execution_count": null,
   "id": "462a647e",
   "metadata": {},
   "outputs": [],
   "source": [
    "tag_triples_stats[tag_triples_stats['count'] >= 100].sort_values(by='median_popularity', ascending=False)[:10]"
   ]
  },
  {
   "cell_type": "code",
   "execution_count": null,
   "id": "e5f77e65",
   "metadata": {},
   "outputs": [],
   "source": [
    "tag_triples_stats[tag_triples_stats['count'] >= 100].sort_values(by='median_popularity', ascending=False)[['tag1', 'tag2', 'tag3', 'median_popularity', 'median_appreciation', 'count']].reset_index(drop = True)[:10]"
   ]
  },
  {
   "cell_type": "markdown",
   "id": "53783d09",
   "metadata": {},
   "source": [
    "When looking at the most popular tag triples in today’s gaming landscape, a clear picture emerges: players crave scale, spectacle, and story—ideally all at once. The trio of Multiplayer, Story Rich, and Third Person tops the list, showing that narrative ambition isn’t reserved for solo play. Whether it’s a cooperative journey or a competitive arena, players still want a well-told story anchoring their experience.\n",
    "\n",
    "Other standouts, like Atmospheric, Shooter, Story Rich and Adventure, Shooter, Story Rich, confirm that emotional depth and explosive action are no longer opposing forces—they’re complementary. These combinations are not only highly popular but also sit comfortably above the appreciation threshold, signaling critical and player acclaim.\n",
    "\n",
    "Even formulas like Open World, Stealth, Singleplayer or Action, Open World, Stealth—which flirt with the edges of high appreciation—highlight a desire for agency and strategic freedom. What’s missing, interestingly, are novelty or niche mechanics. Instead, the data rewards polish, familiarity, and integration of proven elements into cohesive experiences.\n",
    "\n",
    "This top tier of tag trios doesn’t reinvent the wheel, but it shows us which wheels are turning fastest—and why.\n"
   ]
  },
  {
   "cell_type": "code",
   "execution_count": null,
   "id": "66525c7d",
   "metadata": {},
   "outputs": [],
   "source": []
  },
  {
   "cell_type": "code",
   "execution_count": null,
   "id": "014e5288",
   "metadata": {},
   "outputs": [],
   "source": [
    "tag_triples_stats[(tag_triples_stats['count'] >= 100) & (tag_triples_stats['median_popularity'] > df['popularity_score'].median()) & (tag_triples_stats['median_appreciation'] > df['appreciation_score'].median())].sort_values(by='median_popularity_plus_appreciation', ascending=False)[['tag1', 'tag2', 'tag3', 'median_popularity', 'median_appreciation', 'count']].reset_index(drop = True)[:10]"
   ]
  },
  {
   "cell_type": "code",
   "execution_count": null,
   "id": "54b1f471",
   "metadata": {},
   "outputs": [],
   "source": [
    "tag_triples_stats[(tag_triples_stats['count'] >= 100) & (tag_triples_stats['median_popularity'] > df['popularity_score'].median()) & (tag_triples_stats['median_appreciation'] < df['appreciation_score'].median())].sort_values(by='median_popularity_minus_appreciation', ascending=False)[['tag1', 'tag2', 'tag3', 'median_popularity', 'median_appreciation', 'count']].reset_index(drop = True)[:10]"
   ]
  },
  {
   "cell_type": "code",
   "execution_count": null,
   "id": "66f180d4",
   "metadata": {},
   "outputs": [],
   "source": [
    "tag_triples_stats[(tag_triples_stats['count'] >= 100) & (tag_triples_stats['median_popularity'] < df['popularity_score'].median()) & (tag_triples_stats['median_appreciation'] > df['appreciation_score'].median())].sort_values(by='median_popularity_minus_appreciation', ascending=True)[['tag1', 'tag2', 'tag3', 'median_popularity', 'median_appreciation', 'count']].reset_index(drop = True)[:10]"
   ]
  },
  {
   "cell_type": "code",
   "execution_count": null,
   "id": "40a31c88",
   "metadata": {},
   "outputs": [],
   "source": [
    "tag_triples_stats[(tag_triples_stats['count'] >= 100) & (tag_triples_stats['median_popularity'] < df['popularity_score'].median()) & (tag_triples_stats['median_appreciation'] < df['appreciation_score'].median())].sort_values(by='median_popularity_plus_appreciation', ascending=True)[['tag1', 'tag2', 'tag3', 'median_popularity', 'median_appreciation', 'count']].reset_index(drop = True)[:10]"
   ]
  },
  {
   "cell_type": "markdown",
   "id": "81187bb4",
   "metadata": {},
   "source": [
    "Are there some genres/tags that are more frequent in the indie context? What about non indie context instead?"
   ]
  },
  {
   "cell_type": "code",
   "execution_count": null,
   "id": "f8bc048d",
   "metadata": {},
   "outputs": [],
   "source": [
    "inverted_tag_groups = {value : key for key, value_list in tag_groups.items() for value in value_list}"
   ]
  },
  {
   "cell_type": "code",
   "execution_count": null,
   "id": "022f8885",
   "metadata": {},
   "outputs": [],
   "source": [
    "indie_tags = df[df['is_indie'] == True].explode('tags')['tags'].value_counts().reset_index()\n",
    "\n",
    "for idx, row in indie_tags.iterrows():\n",
    "    if row['tags'] in inverted_tag_groups.keys():\n",
    "        indie_tags.at[idx, 'group'] = inverted_tag_groups[row['tags']]"
   ]
  },
  {
   "cell_type": "code",
   "execution_count": null,
   "id": "44667349",
   "metadata": {},
   "outputs": [],
   "source": [
    "alt.Chart(indie_tags[indie_tags['group'] == 'Sub-Genres'].sort_values(by='count', ascending=False)[:10]).mark_bar().encode(\n",
    "    x = alt.X('count:Q'),\n",
    "    y = alt.Y('tags:N', sort='-x')\n",
    ")"
   ]
  },
  {
   "cell_type": "code",
   "execution_count": null,
   "id": "85ba5231",
   "metadata": {},
   "outputs": [],
   "source": [
    "indie_tags[indie_tags['group'] == 'Sub-Genres'].sort_values(by='count', ascending=False).reset_index(drop=True)[:10]"
   ]
  },
  {
   "cell_type": "code",
   "execution_count": null,
   "id": "7f2b9b96",
   "metadata": {},
   "outputs": [],
   "source": [
    "not_indie_tags = df[df['is_indie'] == False].explode('tags')['tags'].value_counts().reset_index()\n",
    "\n",
    "for idx, row in not_indie_tags.iterrows():\n",
    "    if row['tags'] in inverted_tag_groups.keys():\n",
    "        not_indie_tags.at[idx, 'group'] = inverted_tag_groups[row['tags']]"
   ]
  },
  {
   "cell_type": "code",
   "execution_count": null,
   "id": "40c0c5c7",
   "metadata": {},
   "outputs": [],
   "source": [
    "alt.Chart(not_indie_tags[not_indie_tags['group'] == 'Sub-Genres'].sort_values(by='count', ascending=False)[:10]).mark_bar().encode(\n",
    "    x = alt.X('count:Q'),\n",
    "    y = alt.Y('tags:N', sort='-x')\n",
    ")"
   ]
  },
  {
   "cell_type": "code",
   "execution_count": null,
   "id": "ab8f9ad2",
   "metadata": {},
   "outputs": [],
   "source": [
    "not_indie_tags[not_indie_tags['group'] == 'Sub-Genres'].sort_values(by='count', ascending=False).reset_index(drop=True)[:10]"
   ]
  },
  {
   "cell_type": "markdown",
   "id": "6df9217e",
   "metadata": {},
   "source": [
    "This comparison between sub-genre tags in indie and non-indie games reveals some clear stylistic and design preferences that distinguish the two spheres.\n",
    "\n",
    "Indie games show a strong inclination toward mechanically tight, design-driven genres—Puzzle-Platformers, Rogue-lites, Metroidvanias, and 2D Platformers dominate the list. These are genres well-suited to smaller teams, emphasizing innovation in level design, procedural generation, and challenge-based gameplay over expensive production values. The prominence of Action Roguelikes and Shoot 'Em Ups further reflects a preference for replayability, precision mechanics, and retro inspirations—core pillars of many successful indie titles.\n",
    "\n",
    "On the other hand, non-indie titles lean heavily into cinematic, high-production genres. FPS and Third-Person Shooters top the list, signaling big-budget investments in action, polish, and visual fidelity. Tags like Immersive Sim, Souls-like, and even 3D Platformer appear more frequently here than in the indie set, likely due to the development complexity and resource demands these genres typically require.\n",
    "\n",
    "Some tags—Hack and Slash, FPS, and Dungeon Crawler—bridge both worlds, but their relative counts show how differently they're emphasized. For example, Metroidvania and 2D Platformer are far more prevalent in indie games, while Souls-like and Immersive Sim are nearly exclusive to non-indie productions.\n",
    "\n",
    "In short, indie games tend to favor creative, systems-driven subgenres with lower production overhead, while non-indie games lean toward immersive, large-scale action experiences. This reflects not just budget differences, but also differing creative priorities and audience expectations."
   ]
  },
  {
   "cell_type": "code",
   "execution_count": null,
   "id": "aedc8e47",
   "metadata": {},
   "outputs": [],
   "source": []
  },
  {
   "cell_type": "code",
   "execution_count": null,
   "id": "bc289081",
   "metadata": {},
   "outputs": [],
   "source": [
    "# top_count_tags = compute_subgroup_stats(df, 'tags', tag_map, 'tag', 'count')\n",
    "# top_popularity_tags = compute_subgroup_stats(df, 'tags', tag_map, 'tag', 'median_popularity')\n",
    "# top_appreciation_tags = compute_subgroup_stats(df, 'tags', tag_map, 'tag', 'median_appreciation')"
   ]
  },
  {
   "cell_type": "code",
   "execution_count": null,
   "id": "f5d58636",
   "metadata": {},
   "outputs": [],
   "source": [
    "min(df['initial_price'])"
   ]
  },
  {
   "cell_type": "code",
   "execution_count": null,
   "id": "226027b7",
   "metadata": {},
   "outputs": [],
   "source": [
    "min(df['current_price'])"
   ]
  },
  {
   "cell_type": "code",
   "execution_count": null,
   "id": "f7b31ff3",
   "metadata": {},
   "outputs": [],
   "source": [
    "(df['current_price'] == 0.).value_counts()"
   ]
  },
  {
   "cell_type": "code",
   "execution_count": null,
   "id": "bc393255",
   "metadata": {},
   "outputs": [],
   "source": [
    "df['initial_price'].isna().value_counts()"
   ]
  },
  {
   "cell_type": "code",
   "execution_count": null,
   "id": "611965a2",
   "metadata": {},
   "outputs": [],
   "source": [
    "df['current_price'].isna().value_counts()"
   ]
  },
  {
   "cell_type": "code",
   "execution_count": null,
   "id": "a5d20c07",
   "metadata": {},
   "outputs": [],
   "source": [
    "((df['initial_price'].isna()) & (df['current_price'].isna())).value_counts()"
   ]
  },
  {
   "cell_type": "code",
   "execution_count": null,
   "id": "5da8af03",
   "metadata": {},
   "outputs": [],
   "source": []
  },
  {
   "cell_type": "code",
   "execution_count": null,
   "id": "b631c113",
   "metadata": {},
   "outputs": [],
   "source": [
    "df['initial_price'].describe()"
   ]
  },
  {
   "cell_type": "code",
   "execution_count": null,
   "id": "94ae5090",
   "metadata": {},
   "outputs": [],
   "source": [
    "df['current_price'].describe()"
   ]
  },
  {
   "cell_type": "code",
   "execution_count": null,
   "id": "607d4f16",
   "metadata": {},
   "outputs": [],
   "source": [
    "for idx, row in df.iterrows():\n",
    "    if not isinstance(row['tags'], float):\n",
    "        for tags in row['tags']:\n",
    "            if ('Free to Play' in tags) and pd.isna(row['initial_price']):\n",
    "                df.at[idx, 'initial_price'] = float(0)\n",
    "                df.at[idx, 'current_price'] = float(0)"
   ]
  },
  {
   "cell_type": "code",
   "execution_count": null,
   "id": "e1dc67c0",
   "metadata": {},
   "outputs": [],
   "source": [
    "for idx, row in df.iterrows():\n",
    "    if row['initial_price'] == 0.:\n",
    "        df.at[idx, 'initial_price_range'] = 'Free' \n",
    "    elif 0. < row['initial_price'] <= 5.:\n",
    "        df.at[idx, 'initial_price_range'] = '0-5'\n",
    "    elif 5. < row['initial_price'] <= 10.:\n",
    "        df.at[idx, 'initial_price_range'] = '5-10'\n",
    "    elif 10. < row['initial_price'] <= 20.:\n",
    "        df.at[idx, 'initial_price_range'] = '10-20'\n",
    "    elif 20. < row['initial_price'] <= 50.:\n",
    "        df.at[idx, 'initial_price_range'] = '20-50'\n",
    "    elif 50. < row['initial_price'] <= 100.:\n",
    "        df.at[idx, 'initial_price_range'] = '50-100'\n",
    "    "
   ]
  },
  {
   "cell_type": "code",
   "execution_count": null,
   "id": "c6c7ce6c",
   "metadata": {},
   "outputs": [],
   "source": [
    "for idx, row in df.iterrows():\n",
    "    if row['current_price'] == 0.:\n",
    "        df.at[idx, 'current_price_range'] = 'Free'\n",
    "    elif 0. < row['current_price'] <= 5.:\n",
    "        df.at[idx, 'current_price_range'] = '0-5'\n",
    "    elif 5. < row['current_price'] <= 10.:\n",
    "        df.at[idx, 'current_price_range'] = '5-10'\n",
    "    elif 10. < row['current_price'] <= 20.:\n",
    "        df.at[idx, 'current_price_range'] = '10-20'\n",
    "    elif 20. < row['current_price'] <= 50.:\n",
    "        df.at[idx, 'current_price_range'] = '20-50'\n",
    "    elif 50. < row['current_price'] <= 70.:\n",
    "        df.at[idx, 'current_price_range'] = '50-70'"
   ]
  },
  {
   "cell_type": "code",
   "execution_count": null,
   "id": "3eae860e",
   "metadata": {},
   "outputs": [],
   "source": [
    "df[df['is_indie'] == True]['initial_price_range'].value_counts()"
   ]
  },
  {
   "cell_type": "code",
   "execution_count": null,
   "id": "33d0be43",
   "metadata": {},
   "outputs": [],
   "source": [
    "(df['is_indie'] == True).value_counts()"
   ]
  },
  {
   "cell_type": "code",
   "execution_count": null,
   "id": "3c548b3e",
   "metadata": {},
   "outputs": [],
   "source": [
    "df[df['is_indie'] == False]['initial_price_range'].value_counts()"
   ]
  },
  {
   "cell_type": "code",
   "execution_count": null,
   "id": "ed7983b9",
   "metadata": {},
   "outputs": [],
   "source": [
    "df['initial_price_range'].unique()"
   ]
  },
  {
   "cell_type": "code",
   "execution_count": null,
   "id": "5191e620",
   "metadata": {},
   "outputs": [],
   "source": [
    "df['current_price_range'].unique()"
   ]
  },
  {
   "cell_type": "code",
   "execution_count": null,
   "id": "339a9194",
   "metadata": {},
   "outputs": [],
   "source": [
    "alt.Chart(df[df['initial_price'].notna()]).mark_bar().encode(\n",
    "    x = alt.X('initial_price_range:O', sort=['Free','0-5', '5-10', '10-20', '20-50', '50-100']),\n",
    "    y = alt.Y('count()')\n",
    ").properties(\n",
    "    width = 300\n",
    ")"
   ]
  },
  {
   "cell_type": "code",
   "execution_count": null,
   "id": "5cc4b56d",
   "metadata": {},
   "outputs": [],
   "source": [
    "alt.Chart(df[df['current_price'].notna()]).mark_bar().encode(\n",
    "    x = alt.X('current_price_range:O', sort=['Free','0-5', '5-10', '10-20', '20-50', '50-70']),\n",
    "    y = alt.Y('count()')\n",
    ").properties(\n",
    "    width = 300\n",
    ")"
   ]
  },
  {
   "cell_type": "code",
   "execution_count": null,
   "id": "f9e312d2",
   "metadata": {},
   "outputs": [],
   "source": [
    "alt.Chart(df[df['initial_price'].notna()]).mark_line(point=True).encode(\n",
    "    x = alt.X('initial_price_range:O', sort=['Free','0-5', '5-10', '10-20', '20-50', '50-100']),\n",
    "    y = alt.Y('median(popularity_score):Q')\n",
    ").properties(\n",
    "    width=300\n",
    ")"
   ]
  },
  {
   "cell_type": "code",
   "execution_count": null,
   "id": "b0171a8a",
   "metadata": {},
   "outputs": [],
   "source": [
    "alt.Chart(df[df['current_price'].notna()]).mark_line(point=True).encode(\n",
    "    x = alt.X('current_price_range:O', sort=['Free','0-5', '5-10', '10-20', '20-50', '50-70']),\n",
    "    y = alt.Y('median(popularity_score):Q')\n",
    ").properties(\n",
    "    width=300\n",
    ")"
   ]
  },
  {
   "cell_type": "code",
   "execution_count": null,
   "id": "71e89b42",
   "metadata": {},
   "outputs": [],
   "source": [
    "alt.Chart(df[df['initial_price'].notna()]).mark_line(point=True).encode(\n",
    "    x = alt.X('initial_price_range:O', sort=['Free','0-5', '5-10', '10-20', '20-50', '50-100']),\n",
    "    y = alt.Y('median(appreciation_score):Q')\n",
    ").properties(\n",
    "    width=300\n",
    ")"
   ]
  },
  {
   "cell_type": "code",
   "execution_count": null,
   "id": "6fa306a6",
   "metadata": {},
   "outputs": [],
   "source": [
    "alt.Chart(df[df['current_price'].notna()]).mark_line(point=True).encode(\n",
    "    x = alt.X('current_price_range:O', sort=['Free','0-5', '5-10', '10-20', '20-50', '50-70']),\n",
    "    y = alt.Y('median(appreciation_score):Q')\n",
    ").properties(\n",
    "    width=300\n",
    ")"
   ]
  },
  {
   "cell_type": "code",
   "execution_count": null,
   "id": "58745b39",
   "metadata": {},
   "outputs": [],
   "source": []
  },
  {
   "cell_type": "code",
   "execution_count": null,
   "id": "2458552f",
   "metadata": {},
   "outputs": [],
   "source": [
    "tags_by_initial_price = df.explode('tags').groupby(['initial_price_range', 'tags']).agg(count = ('tags', 'count')).reset_index()\n",
    "tags_by_initial_price = tags_by_initial_price[~tags_by_initial_price['tags'].isin(['[', ']'])]\n",
    "tags_by_initial_price['tag_group'] = tags_by_initial_price['tags'].apply(lambda tag: inverted_tag_groups[tag])"
   ]
  },
  {
   "cell_type": "code",
   "execution_count": null,
   "id": "292dae5b",
   "metadata": {},
   "outputs": [],
   "source": [
    "tags_by_initial_price"
   ]
  },
  {
   "cell_type": "code",
   "execution_count": null,
   "id": "4555e32f",
   "metadata": {},
   "outputs": [],
   "source": [
    "count = 0\n",
    "for real_tag in df.explode('tags')['tags'].unique():\n",
    "    if real_tag in inverted_tag_groups.keys():\n",
    "        count += 1\n",
    "\n",
    "print(len(df.explode('tags')['tags'].unique()), count)"
   ]
  },
  {
   "cell_type": "code",
   "execution_count": null,
   "id": "7b5ad9f2",
   "metadata": {},
   "outputs": [],
   "source": []
  },
  {
   "cell_type": "code",
   "execution_count": null,
   "id": "9b061ecf",
   "metadata": {},
   "outputs": [],
   "source": [
    "tags_stats_free = df[df['initial_price_range'] == 'Free'].explode('tags').groupby('tags').agg(\n",
    "    total_reviews = ('reviews_total', 'sum'),\n",
    "    avg_popularity=('popularity_score', 'mean'),\n",
    "    avg_appreciation=('appreciation_score', 'mean'),\n",
    "    median_popularity=('popularity_score', 'median'),\n",
    "    median_appreciation=('appreciation_score', 'median'),\n",
    "    count=('popularity_score', 'count')\n",
    ").reset_index()"
   ]
  },
  {
   "cell_type": "code",
   "execution_count": null,
   "id": "ba0efd75",
   "metadata": {},
   "outputs": [],
   "source": [
    "for tag_group in tag_groups.keys():\n",
    "    for idx, tag in enumerate(tags_stats_free['tags'].values):\n",
    "        if tag in tag_groups[tag_group]:\n",
    "            tags_stats_free.at[idx, tag_group] = True\n",
    "        else:\n",
    "            tags_stats_free.at[idx, tag_group] = False"
   ]
  },
  {
   "cell_type": "code",
   "execution_count": null,
   "id": "098ac49e",
   "metadata": {},
   "outputs": [],
   "source": [
    "tag_groups.keys()"
   ]
  },
  {
   "cell_type": "code",
   "execution_count": null,
   "id": "571ce1ce",
   "metadata": {},
   "outputs": [],
   "source": [
    "alt.Chart(tags_stats_free[tags_stats_free['Primary_Genres'] == True]).mark_bar().encode(\n",
    "    x=alt.X('count:Q', title='Frequency of the tag'),\n",
    "    y=alt.Y('tags:N', sort='-x', title='Tag'),\n",
    "    tooltip=['tags:N', 'median_popularity:Q', 'count:Q']\n",
    ").properties(\n",
    "    title='Frequency of Primary Genres Tags'\n",
    ")"
   ]
  },
  {
   "cell_type": "code",
   "execution_count": null,
   "id": "ccc5d675",
   "metadata": {},
   "outputs": [],
   "source": [
    "alt.Chart(tags_stats_free[tags_stats_free['Core_Gameplay_Mechanics'] == True]).mark_bar().encode(\n",
    "    x=alt.X('count:Q', title='Frequency of the tag'),\n",
    "    y=alt.Y('tags:N', sort='-x', title='Tag'),\n",
    "    tooltip=['tags:N', 'median_popularity:Q', 'count:Q']\n",
    ").properties(\n",
    "    title='Frequency of Core Gameplay Mechanics Tags'\n",
    ")"
   ]
  },
  {
   "cell_type": "code",
   "execution_count": null,
   "id": "84290aaf",
   "metadata": {},
   "outputs": [],
   "source": [
    "alt.Chart(tags_stats_free[tags_stats_free['Subgenre_Combinations'] == True]).mark_bar().encode(\n",
    "    x=alt.X('count:Q', title='Frequency of the tag'),\n",
    "    y=alt.Y('tags:N', sort='-x', title='Tag'),\n",
    "    tooltip=['tags:N', 'median_popularity:Q', 'count:Q']\n",
    ").properties(\n",
    "    title='Frequency of Subgenre Combinations Tags'\n",
    ")"
   ]
  },
  {
   "cell_type": "code",
   "execution_count": null,
   "id": "9f0d6168",
   "metadata": {},
   "outputs": [],
   "source": []
  },
  {
   "cell_type": "markdown",
   "id": "536fe0d2",
   "metadata": {},
   "source": [
    "How are indie games distributed according to price?"
   ]
  },
  {
   "cell_type": "code",
   "execution_count": null,
   "id": "3036fe9d",
   "metadata": {},
   "outputs": [],
   "source": [
    "df[df['is_indie'] == True]['initial_price_range'].value_counts().reset_index()"
   ]
  },
  {
   "cell_type": "code",
   "execution_count": null,
   "id": "b8327a32",
   "metadata": {},
   "outputs": [],
   "source": [
    "alt.Chart(df[df['is_indie'] == True]['initial_price_range'].value_counts().reset_index()).mark_bar().encode(\n",
    "    x = alt.X('count:Q'),\n",
    "    y = alt.Y('initial_price_range:N', sort='-x')\n",
    ")"
   ]
  },
  {
   "cell_type": "code",
   "execution_count": null,
   "id": "f81fd9d4",
   "metadata": {},
   "outputs": [],
   "source": [
    "df[df['is_indie'] == False]['initial_price_range'].value_counts()"
   ]
  },
  {
   "cell_type": "code",
   "execution_count": null,
   "id": "5be59eb8",
   "metadata": {},
   "outputs": [],
   "source": [
    "alt.Chart(df[df['is_indie'] == False]['initial_price_range'].value_counts().reset_index()).mark_bar().encode(\n",
    "    x = alt.X('count:Q'),\n",
    "    y = alt.Y('initial_price_range:N', sort='-x')\n",
    ")"
   ]
  },
  {
   "cell_type": "code",
   "execution_count": null,
   "id": "dc5ac07c",
   "metadata": {},
   "outputs": [],
   "source": []
  },
  {
   "cell_type": "markdown",
   "id": "e0127f63",
   "metadata": {},
   "source": [
    "If there's one takeaway from our analysis, it's this: there is no universal recipe for making a successful game. While our predictive models uncovered consistent patterns—like the strong influence of wishlist interest, the positive role of localization and accessibility, or the impact of some tags—they are not crystal balls. The models can detect statistical associations, not causal relationships. They help us understand what tends to matter, but not why or how it leads to success in every case.\n",
    "\n",
    "Crucially, our findings show that success—whether measured as popularity or appreciation—can take many forms. AAA games, with their broad platform releases and marketing power, often dominate in popularity. But they are not always the most appreciated. In fact, our model highlights a curious quadrant: games that gain a lot of attention but receive lukewarm reception. These are often large-scale titles that may attract players initially but fail to deliver a satisfying experience over time.\n",
    "\n",
    "In contrast, some indie games quietly achieve high appreciation with far fewer resources. Titles like Freud’s Bones, for example, are testament to how originality, thoughtful design, and strong narrative identity can create deeply resonant experiences. Our analysis found that features often associated with indie development appear frequently in games with high appreciation but limited popularity. This suggests that innovation and emotional connection matter just as much as scale.\n",
    "\n",
    "In the end, what players truly value seems to go beyond big budgets or mainstream visibility. Games that are crafted with care, that express a clear creative vision, and that dare to be different can find strong appreciation—even if they don’t dominate the charts. Success in games, as in art, is multifaceted. And perhaps that’s exactly what makes this medium so exciting."
   ]
  },
  {
   "cell_type": "code",
   "execution_count": null,
   "id": "b0d2223f",
   "metadata": {},
   "outputs": [],
   "source": []
  },
  {
   "cell_type": "code",
   "execution_count": null,
   "id": "7928ec77",
   "metadata": {},
   "outputs": [],
   "source": [
    "df.to_csv('steam_games_dataset.csv', index=False)"
   ]
  }
 ],
 "metadata": {
  "kernelspec": {
   "display_name": "env_master_2025",
   "language": "python",
   "name": "python3"
  },
  "language_info": {
   "codemirror_mode": {
    "name": "ipython",
    "version": 3
   },
   "file_extension": ".py",
   "mimetype": "text/x-python",
   "name": "python",
   "nbconvert_exporter": "python",
   "pygments_lexer": "ipython3",
   "version": "3.12.7"
  }
 },
 "nbformat": 4,
 "nbformat_minor": 5
}
