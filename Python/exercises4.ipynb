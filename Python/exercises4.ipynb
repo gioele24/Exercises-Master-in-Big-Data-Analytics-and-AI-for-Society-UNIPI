{
 "cells": [
  {
   "cell_type": "code",
   "execution_count": 1,
   "id": "da836557",
   "metadata": {},
   "outputs": [
    {
     "name": "stdout",
     "output_type": "stream",
     "text": [
      "1 e\n",
      "4 o\n",
      "7 o\n"
     ]
    }
   ],
   "source": [
    "# Write code that for a string prints the indices of all of its vowels (a, e,\n",
    "# i, o, and u). This can be done with a for loop or a while loop, though\n",
    "# the while loop is more suitable\n",
    "\n",
    "\n",
    "s = \"Hello World!\"\n",
    "\n",
    "count = 0\n",
    "\n",
    "for letter in s:\n",
    "    if letter in \"aAeEiIoOuU\":\n",
    "        print(count, s[count])\n",
    "    count += 1"
   ]
  },
  {
   "cell_type": "code",
   "execution_count": 2,
   "id": "3fa4f3af",
   "metadata": {},
   "outputs": [
    {
     "name": "stdout",
     "output_type": "stream",
     "text": [
      "5 o\n",
      "11 a\n",
      "5 o\n",
      "11 a\n"
     ]
    }
   ],
   "source": [
    "# Write code that uses two strings. For each character in the first string \n",
    "# that has exactly the same character at the same index in the second \n",
    "# string, you print the character and the index. Watch out that you do \n",
    "# not get an “index out of bounds” runtime error. Test it with the strings \n",
    "# \"The Holy Grail\" and \"Life of Brian\"\n",
    "\n",
    "\n",
    "s1 = \"The Holy Grail\"\n",
    "s2 = \"Life of Brian\"\n",
    "\n",
    "#My first approach\n",
    "for i in range(0,len(s1)):\n",
    "    for j in range(0,len(s2)):\n",
    "        if i==j and s1[i]==s2[i]:\n",
    "            print(i,s1[i])\n",
    "#Optimization\n",
    "for i in range(0,len(s1)):\n",
    "    if i<len(s2) and s1[i]==s2[i]:\n",
    "        print(i,s1[i])"
   ]
  },
  {
   "cell_type": "code",
   "execution_count": 4,
   "id": "ce414c04",
   "metadata": {},
   "outputs": [
    {
     "name": "stdout",
     "output_type": "stream",
     "text": [
      "Help on method_descriptor:\n",
      "\n",
      "replace(self, old, new, count=-1, /) unbound builtins.str method\n",
      "    Return a copy with all occurrences of substring old replaced by new.\n",
      "\n",
      "      count\n",
      "        Maximum number of occurrences to replace.\n",
      "        -1 (the default value) means replace all occurrences.\n",
      "\n",
      "    If the optional argument count is given, only the first count occurrences are\n",
      "    replaced.\n",
      "\n",
      "How much wood would a woodchuck chuck if a woodchuck could chuck the wood\n"
     ]
    }
   ],
   "source": [
    "# In the string “How much woot would a wootchuck \n",
    "# chuck if a wootchuck could chuck the woot” the word \n",
    "# \"wood\" is misspelled. Use replace() to replace all \n",
    "# occurrences of this spelling error with the correct \n",
    "# spelling\n",
    "\n",
    "\n",
    "help(str.replace)\n",
    "\n",
    "s = \"How much woot would a wootchuck \\\n",
    "chuck if a wootchuck could chuck the woot\"\n",
    "\n",
    "s_new = s.replace(\"woot\", \"wood\")\n",
    "\n",
    "print(s_new)"
   ]
  },
  {
   "cell_type": "code",
   "execution_count": 5,
   "id": "f3b619fc",
   "metadata": {},
   "outputs": [
    {
     "name": "stdout",
     "output_type": "stream",
     "text": [
      "['i', 'm', 'sorry', 'sir']\n"
     ]
    }
   ],
   "source": [
    "# Write a program that prints a “cleaned” version of \n",
    "# all the words in a string. Everything that is not a \n",
    "# letter should be removed and be considered a \n",
    "# separator. All the letters should be lower case. For \n",
    "# example, the string \"I'm sorry, sir.\" should produce \n",
    "# four words, namely \"i\", \"m\", \"sorry\", and \"sir\"\n",
    "\n",
    "\n",
    "s = \"I'm sorry, sir\"\n",
    "\n",
    "#help(str.split)\n",
    "\n",
    "s = s.lower()\n",
    "s_new = s\n",
    "\n",
    "for i in s:\n",
    "    if ord(i) not in range(ord(\"a\"), ord(\"z\") + 1):\n",
    "        s_new = s_new.replace(i, \" \")\n",
    "\n",
    "print(s_new.split())"
   ]
  },
  {
   "cell_type": "code",
   "execution_count": 6,
   "id": "c020468a",
   "metadata": {},
   "outputs": [
    {
     "name": "stdout",
     "output_type": "stream",
     "text": [
      "[1, 2, 3, 4, 5]\n"
     ]
    }
   ],
   "source": [
    "# Write a program that reads an integer number n, creates \n",
    "# a list that contains the first n positive integers, and prints \n",
    "# it\n",
    "\n",
    "\n",
    "n = int(input(\"Insert an integer number: \"))\n",
    "l = [x for x in range(1, n+1)]\n",
    "print(l)"
   ]
  },
  {
   "cell_type": "code",
   "execution_count": 7,
   "id": "e208269a",
   "metadata": {},
   "outputs": [
    {
     "name": "stdout",
     "output_type": "stream",
     "text": [
      "[5, 3, 8]\n",
      "sum = 8, mean = 8.0, max = 8, min = 8\n"
     ]
    }
   ],
   "source": [
    "# Write a program that reads from input a list of n integers \n",
    "# and displays the sum, the mean, the max and the min \n",
    "# only of the even numbers in the list\n",
    "\n",
    "\n",
    "l = []\n",
    "\n",
    "n = int(input(\"How many numbers do you want to type? \"))\n",
    "for i in range(n):\n",
    "    num = int(input())\n",
    "    l.append(num)\n",
    "\n",
    "print(l)\n",
    "\n",
    "l_even = []\n",
    "\n",
    "for j in l:\n",
    "    if j % 2 == 0:\n",
    "        l_even.append(j)\n",
    "\n",
    "print(f\"sum = {sum(l_even)}, mean = {sum(l_even)/len(l_even)}, max = {max(l_even)}, min = {min(l_even)}\")"
   ]
  },
  {
   "cell_type": "code",
   "execution_count": 8,
   "id": "174bc94e",
   "metadata": {},
   "outputs": [
    {
     "name": "stdout",
     "output_type": "stream",
     "text": [
      "Insert your friends names:\n",
      "Press Enter to stop typing\n",
      "Press Enter to stop typing\n",
      "Press Enter to stop typing\n",
      "Press Enter to stop typing\n",
      "pippo\n",
      "pluto\n",
      "topolino\n"
     ]
    }
   ],
   "source": [
    "# Write a program that asks the user to enter some data, \n",
    "# for instance the names of their friends. When the user \n",
    "# wants to stop providing inputs, he just presses Enter. The \n",
    "# program then displays an alphabetically sorted list of the \n",
    "# data items entered. Do not just print the list, but print \n",
    "# each item separately, on a different line\n",
    "\n",
    "\n",
    "l = []\n",
    "print(\"Insert your friends names:\")\n",
    "\n",
    "while True:\n",
    "    name = input()\n",
    "    print(\"Press Enter to stop typing\")\n",
    "    if name == \"\":\n",
    "        break\n",
    "    else:\n",
    "        l.append(name)\n",
    "\n",
    "l.sort()\n",
    "\n",
    "for i in l:\n",
    "    print(i)"
   ]
  },
  {
   "cell_type": "code",
   "execution_count": 9,
   "id": "7880102d",
   "metadata": {},
   "outputs": [
    {
     "name": "stdout",
     "output_type": "stream",
     "text": [
      "[3, -1, 2, -4, 0]\n",
      "[0, 1, 2, 3, 4]\n"
     ]
    }
   ],
   "source": [
    "# Sort a list of numbers using their absolute values; use \n",
    "# the abs() function as key\n",
    "\n",
    "\n",
    "l = [3, -1, 2, -4, 0]\n",
    "print(l)\n",
    "\n",
    "l.sort(key = abs)\n",
    "\n",
    "for i in range(len(l)):\n",
    "    if l[i] < 0:\n",
    "        l[i] = abs(l[i])\n",
    "\n",
    "print(l)"
   ]
  },
  {
   "cell_type": "code",
   "execution_count": 10,
   "id": "26773479",
   "metadata": {},
   "outputs": [
    {
     "name": "stdout",
     "output_type": "stream",
     "text": [
      "Hello, World!\n",
      "[0, 0, 0, 1, 1, 0, 0, 1, 0, 0, 0, 3, 0, 0, 2, 0, 0, 1, 0, 0, 0, 0, 1, 0, 0, 0]\n"
     ]
    }
   ],
   "source": [
    "# Count how often each letter occurs in a string (case-insensitively).\n",
    "# You can ignore every character that is not \n",
    "# a letter. Store the counts in a list of 26 items that all start \n",
    "# at zero. Print the resulting counts. As index you can use \n",
    "# ord(letter) - ord(\"a\"), where letter is a lower case letter\n",
    "\n",
    "\n",
    "s = \"Hello, World!\"\n",
    "print(s)\n",
    "s = s.lower()\n",
    "\n",
    "l0 = []\n",
    "l = 26*[0]\n",
    "\n",
    "for i in s:\n",
    "    if ord(i) in range(ord(\"a\"), ord(\"z\") + 1):\n",
    "        l0.append(i)\n",
    "\n",
    "l1 = []\n",
    "\n",
    "for i in l0:\n",
    "    if l1.count(i) < 1:\n",
    "        l1.append(i)\n",
    "    else:\n",
    "        continue\n",
    "\n",
    "#The previous for loop could be avoided using set(l0) instead of l1 in the following loop\n",
    "\n",
    "for i in l1:\n",
    "    l[ord(i) - ord(\"a\")] = l0.count(i)\n",
    "\n",
    "print(l)"
   ]
  },
  {
   "cell_type": "code",
   "execution_count": 11,
   "id": "05a02c3c",
   "metadata": {},
   "outputs": [
    {
     "name": "stdout",
     "output_type": "stream",
     "text": [
      "hello world\n",
      "hello mondo\n"
     ]
    }
   ],
   "source": [
    "# The code block below contains a very small dictionary that contains \n",
    "# the translations of English words to Italian. Write and test program \n",
    "# that uses this dictionary to create a word-for-word translation of the \n",
    "# given sentence. A word for which you cannot find a translation, you \n",
    "# can leave “as is.” The dictionary is supposed to be used case\n",
    "# insensitively, but your translation may consist of all lower case \n",
    "# words. It is nice if you leave punctuation in the translation, but if you \n",
    "# take it out, that is acceptable (as leaving punctuation in is quite a bit \n",
    "# of work, and does not really have anything to do with dictionaries – \n",
    "# besides, leaving punctuation in is much easier to do once you have \n",
    "# learned about regular expressions)\n",
    "\n",
    "\n",
    "en_it= {\"last\":\"ultimo\", \"week\":\"settimana\", \"the\":\"il\", \"royal\":\"reale\",\\\n",
    "\"festival\":\"festa\", \"hall\":\"sala\", \"saw\": \"sega\", \"first\":\"primo\", \\\n",
    "\"performance\":\"esibizione\", \"of\":\"di\", \"a\":\"un\", \"new\":\"nuovo\", \\\n",
    "\"symphony\":\"sinfonia\", \"by\":\"da\", \"one\":\"uno\", \"world\":\"mondo\", \"leading\":\"alla \\\n",
    "guida di\", \"modern\": \"moderno\", \"composer\":\"compositore\", \\\n",
    "\"composers\":\"compositori\", \"two\":\"due\"}\n",
    "\n",
    "s_eng = \"Hello, World!\"\n",
    "s_eng = s_eng.lower()\n",
    "s_eng_clean = s_eng\n",
    "\n",
    "for i in s_eng:\n",
    "    if ord(i) not in range(ord(\"a\"), ord(\"z\") + 1):\n",
    "        if ord(i) == ord(\" \"):\n",
    "            continue\n",
    "        else:\n",
    "            s_eng_clean = s_eng_clean.replace(i, \"\")\n",
    "\n",
    "print(s_eng_clean)\n",
    "\n",
    "s_eng_list = s_eng_clean.split()\n",
    "s_ita = s_eng_clean\n",
    "\n",
    "for i in s_eng_list:\n",
    "    if i in en_it.keys():\n",
    "        s_ita = s_ita.replace(i, en_it[i])\n",
    "\n",
    "print(s_ita)"
   ]
  },
  {
   "cell_type": "code",
   "execution_count": 15,
   "id": "5054e7e0",
   "metadata": {},
   "outputs": [
    {
     "name": "stdout",
     "output_type": "stream",
     "text": [
      "Insert 2 pairs of the form: name telephone_number: \n",
      "pluto's number is:  234\n"
     ]
    }
   ],
   "source": [
    "# Write a program that reads from input n pairs name, \n",
    "# telephone number, and inserts the, in a dictionary. Then, \n",
    "# read a name and display its telephone number, or “not \n",
    "# present” if the name is not in the dictionary\n",
    "\n",
    "\n",
    "n = int(input(\"How many entries? \"))\n",
    "print(\"Insert {} pairs of the form: name telephone_number: \".format(n))\n",
    "\n",
    "name_tel_dict = {}\n",
    "\n",
    "for i in range(n):\n",
    "    name_tel_list = []\n",
    "    name_tel = input()\n",
    "    name_tel_list = name_tel.split()\n",
    "    name_tel_dict[name_tel_list[0]] = name_tel_list[1]\n",
    "\n",
    "name = input(\"Insert the name of the person to search: \")\n",
    "print(f\"{name}'s number is: \", name_tel_dict[name])"
   ]
  },
  {
   "cell_type": "code",
   "execution_count": 16,
   "id": "df21c5e9",
   "metadata": {},
   "outputs": [
    {
     "name": "stdout",
     "output_type": "stream",
     "text": [
      "Insert 3 integers:\n",
      "{'6': 1, '4': 1, '7': 1}\n"
     ]
    }
   ],
   "source": [
    "# Write a program that reads n integers and, for each \n",
    "# integer, displays its frequency\n",
    "\n",
    "\n",
    "n = int(input(\"How many integers? \"))\n",
    "print(f\"Insert {n} integers:\")\n",
    "\n",
    "l = []\n",
    "d = {}\n",
    "\n",
    "for i in range(n):\n",
    "    num = input()\n",
    "    l.append(num)\n",
    "# If the use of the set() function is not allowed proceed like three exercises above\n",
    "for i in set(l):\n",
    "    d[i] = l.count(i)\n",
    "\n",
    "print(d)"
   ]
  }
 ],
 "metadata": {
  "kernelspec": {
   "display_name": "env_master_2025",
   "language": "python",
   "name": "python3"
  },
  "language_info": {
   "codemirror_mode": {
    "name": "ipython",
    "version": 3
   },
   "file_extension": ".py",
   "mimetype": "text/x-python",
   "name": "python",
   "nbconvert_exporter": "python",
   "pygments_lexer": "ipython3",
   "version": "3.12.7"
  }
 },
 "nbformat": 4,
 "nbformat_minor": 5
}
