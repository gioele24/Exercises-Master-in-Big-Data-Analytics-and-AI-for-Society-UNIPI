{
 "cells": [
  {
   "cell_type": "code",
   "execution_count": 1,
   "id": "a2382105",
   "metadata": {},
   "outputs": [
    {
     "name": "stdout",
     "output_type": "stream",
     "text": [
      "Hello, World!\n",
      "[0, 0, 0, 1, 1, 0, 0, 1, 0, 0, 0, 3, 0, 0, 2, 0, 0, 1, 0, 0, 0, 0, 1, 0, 0, 0]\n",
      "[0, 0, 0, 1, 1, 0, 0, 1, 0, 0, 0, 3, 0, 0, 2, 0, 0, 1, 0, 0, 0, 0, 1, 0, 0, 0]\n"
     ]
    }
   ],
   "source": [
    "# This is an exercise given at the end of the first lecture about functions:\n",
    "\n",
    "# Python function that, given a string (all small letters),\n",
    "# stores into a list the frequency of each letter\n",
    "\n",
    "\n",
    "def only_letters_filter(word):\n",
    "\n",
    "    l0 = []\n",
    "    for i in word:\n",
    "        if ord(i) in range(ord(\"a\"), ord(\"z\") + 1):\n",
    "            l0.append(i)\n",
    "\n",
    "    return l0\n",
    "\n",
    "def letter_count(lp):\n",
    "    l = 26 * [0]\n",
    "    for i in set(lp):\n",
    "        l[ord(i) - ord(\"a\")] = lp.count(i)\n",
    "    return l\n",
    "\n",
    "s = \"Hello, World!\"\n",
    "print(s)\n",
    "s = s.lower()\n",
    "\n",
    "\n",
    "lf = only_letters_filter(s)\n",
    "l = letter_count(lf)\n",
    "\n",
    "print(l)\n",
    "\n",
    "# OTHERWISE (AND BETTER)\n",
    "\n",
    "def letter_count(word):\n",
    "\n",
    "    list_freq = 26*[0]\n",
    "\n",
    "    for c in word:\n",
    "        list_freq[ord(c) - ord(\"a\")] += 1\n",
    "\n",
    "    return list_freq\n",
    "\n",
    "\n",
    "s = \"helloworld\"\n",
    "result = letter_count(s)\n",
    "print(result)"
   ]
  },
  {
   "cell_type": "code",
   "execution_count": 3,
   "id": "bdde72bf",
   "metadata": {},
   "outputs": [
    {
     "name": "stdout",
     "output_type": "stream",
     "text": [
      "False\n",
      "False\n"
     ]
    }
   ],
   "source": [
    "# Write and test a function isEven()\n",
    "\n",
    "\n",
    "def isEven(n):\n",
    "\n",
    "    if n % 2 == 0:\n",
    "        return True\n",
    "\n",
    "    return False\n",
    "\n",
    "print(isEven(3))\n",
    "\n",
    "# or better\n",
    "\n",
    "def isEven(n):\n",
    "    return n % 2 == 0\n",
    "\n",
    "print(isEven(3))"
   ]
  },
  {
   "cell_type": "code",
   "execution_count": 4,
   "id": "dd07c2d4",
   "metadata": {},
   "outputs": [
    {
     "name": "stdout",
     "output_type": "stream",
     "text": [
      "True\n",
      "True\n"
     ]
    }
   ],
   "source": [
    "# Write and test a function isOdd(), which determines \n",
    "# whether a number is odd, by calling the function \n",
    "# isEven() and inverting its result\n",
    "\n",
    "\n",
    "def isOdd(n):\n",
    "\n",
    "    if not isEven(n):\n",
    "        return True\n",
    "\n",
    "    return False\n",
    "\n",
    "print(isOdd(7))\n",
    "\n",
    "def isOdd(n):\n",
    "    return not isEven(n)\n",
    "\n",
    "print(isOdd(3))"
   ]
  },
  {
   "cell_type": "code",
   "execution_count": 5,
   "id": "5716bd97",
   "metadata": {},
   "outputs": [
    {
     "name": "stdout",
     "output_type": "stream",
     "text": [
      "0.1999999999999993\n"
     ]
    }
   ],
   "source": [
    "# Write and test a function getFraction() that gets the \n",
    "# fractional part of a float (i.e., the decimals)\n",
    "\n",
    "\n",
    "def getFraction(x):\n",
    "\n",
    "    decimals = x - int(x)\n",
    "\n",
    "    return decimals\n",
    "\n",
    "print(getFraction(23.2))"
   ]
  },
  {
   "cell_type": "code",
   "execution_count": 6,
   "id": "f28b6019",
   "metadata": {},
   "outputs": [
    {
     "name": "stdout",
     "output_type": "stream",
     "text": [
      "885\n"
     ]
    }
   ],
   "source": [
    "# Write and test a function that returns the number of \n",
    "# days in A years, B months and C weeks?\n",
    "\n",
    "\n",
    "def days_number(A, B, C):\n",
    "\n",
    "    num_days = 365*A + 30*B + 7*C\n",
    "\n",
    "    return num_days\n",
    "\n",
    "print(days_number(2,4,5))"
   ]
  },
  {
   "cell_type": "code",
   "execution_count": 7,
   "id": "0bb00a30",
   "metadata": {},
   "outputs": [
    {
     "name": "stdout",
     "output_type": "stream",
     "text": [
      "3\n"
     ]
    }
   ],
   "source": [
    "# Define a function called distance_from_zero, with \n",
    "# one argument. If the type of the argument is either \n",
    "# int or float, the function returns the absolute value \n",
    "# of the input. Otherwise, the function returns “Nope”\n",
    "\n",
    "\n",
    "def distance_from_zero(x):\n",
    "\n",
    "    if isinstance(x, int) or isinstance(x, float):\n",
    "        return abs(x)\n",
    "\n",
    "    return \"Nope\"\n",
    "\n",
    "print(distance_from_zero(3))"
   ]
  },
  {
   "cell_type": "markdown",
   "id": "545aee6a",
   "metadata": {},
   "source": [
    "##### Some exercises from 'The Coder’s Apprentice Learning Programming with Python 3' by Pieter Spronck"
   ]
  },
  {
   "cell_type": "code",
   "execution_count": 8,
   "id": "9a3c6604",
   "metadata": {},
   "outputs": [
    {
     "name": "stdout",
     "output_type": "stream",
     "text": [
      "hello and hi have 1 letter(s) in common\n"
     ]
    }
   ],
   "source": [
    "# Exercise 8.2 Write a function that gets as parameters two strings. The function returns\n",
    "# the number of characters that the strings have in common. Each character counts only once,\n",
    "# e.g., the strings \"bee\" and \"peer\" only have one character in common (the letter “e”). You\n",
    "# can consider capitals different from lower case letters. Note: the function should return the\n",
    "# number of characters that the strings have in common, and not print it. To test the function,\n",
    "# you can print the result in your main program\n",
    "\n",
    "\n",
    "def num_char_in_common(s1, s2):\n",
    "\n",
    "    count_tot = 0\n",
    "    l = []\n",
    "\n",
    "    for i in s1:\n",
    "        if (i in s2) and (i not in l):\n",
    "            count_tot += 1\n",
    "            l.append(i)\n",
    "\n",
    "    return count_tot\n",
    "\n",
    "word1 = \"hello\"\n",
    "word2 = \"hi\"\n",
    "\n",
    "n = num_char_in_common(word1, word2)\n",
    "print(f\"{word1} and {word2} have {n} letter(s) in common\")"
   ]
  },
  {
   "cell_type": "code",
   "execution_count": 9,
   "id": "8121d5c6",
   "metadata": {},
   "outputs": [
    {
     "name": "stdout",
     "output_type": "stream",
     "text": [
      "(0, None, None)\n"
     ]
    }
   ],
   "source": [
    "# Exercise 8.4 In Chapter 6 you were asked to implement the quadratic formula to solve\n",
    "# quadratic equations. A quadratic equation is described by three numeric values, usually\n",
    "# called A, B, and C. It has zero, one, or two solutions, depending on the discriminant (the\n",
    "# part under the square root). Write a function that solves a quadratic equation. As param\n",
    "# eters it gets A, B, and C. It returns three values. The first is an integer that indicates the\n",
    "# number of solutions. The second is the first solution. The third is the second solution. Any\n",
    "# of the solutions that do not exist, you can return as zero\n",
    "\n",
    "\n",
    "from math import sqrt\n",
    "\n",
    "def quadratic_eq_solver(A, B, C):\n",
    "\n",
    "    Delta = B ** 2 - 4 * A * C\n",
    "\n",
    "    if A != 0:\n",
    "        if Delta > 0:\n",
    "            return 2, (-B + sqrt(Delta))/(2*A), (-B - sqrt(Delta))/(2*A)\n",
    "        elif Delta == 0:\n",
    "            if (B/(2*A)) == 0:\n",
    "                return 1, 0, None\n",
    "            else:\n",
    "                return 1, -B/(2*A), None\n",
    "        else:\n",
    "            return 0, None, None\n",
    "\n",
    "    if A == 0:\n",
    "        if B != 0 and C != 0:\n",
    "            return 1, -C/B, None\n",
    "        elif B != 0 and C == 0:\n",
    "            return 1, 0, Null\n",
    "        elif B == 0 and C != 0:\n",
    "            return 0, None, None\n",
    "        elif B == 0 and C == 0:\n",
    "            return \"The equation is trivially satisfied\"\n",
    "\n",
    "print(quadratic_eq_solver(1, 0, 1))"
   ]
  },
  {
   "cell_type": "code",
   "execution_count": 10,
   "id": "e6a39cfc",
   "metadata": {},
   "outputs": [
    {
     "name": "stdout",
     "output_type": "stream",
     "text": [
      "10.0\n",
      "The first parameter should be greater or equal to the second!\n"
     ]
    }
   ],
   "source": [
    "# Exercise 8.6 In statistics, the binomial coefficient indexed by n and k (often expressed as\n",
    "# “n over k,” whereby n must be bigger than or equal to k) is calculated as n!/(k! (n-k)!),\n",
    "# whereby n! indicates the factorial of n. As I explained in Chapter 7: the factorial of a\n",
    "# positive integer is that integer, multiplied by all positive integers that are lower (excluding\n",
    "# zero). You write the factorial as the number with an exclamation mark after it. E.g., the\n",
    "# factorial of 5 is 5! = 5 4 3 2 1 = 120. If you did all the exercises until now, you\n",
    "# wrote some code for this. Write a function that calculates the binomial coefficient for its\n",
    "# two parameters, and returns the value. Write the code in such a way that it can be used as\n",
    "# a module by another program (i.e., put the tests of your program in a main() function that\n",
    "# is called as explained above).\n",
    "\n",
    "def factorial(n):\n",
    "\n",
    "    fact = 1\n",
    "\n",
    "    for i in range(1, n + 1):\n",
    "        fact *= i\n",
    "\n",
    "    return fact\n",
    "\n",
    "\n",
    "def binomial_coeff(n, k):\n",
    "\n",
    "    if n >= k:\n",
    "        return (factorial(n)/(factorial(k)*factorial(n - k)))\n",
    "\n",
    "    return \"The first parameter should be greater or equal to the second!\"\n",
    "\n",
    "if __name__ == \"__main__\":\n",
    "    print(binomial_coeff(5,3))\n",
    "    print(binomial_coeff(3, 5))"
   ]
  }
 ],
 "metadata": {
  "kernelspec": {
   "display_name": "env_master_2025",
   "language": "python",
   "name": "python3"
  },
  "language_info": {
   "codemirror_mode": {
    "name": "ipython",
    "version": 3
   },
   "file_extension": ".py",
   "mimetype": "text/x-python",
   "name": "python",
   "nbconvert_exporter": "python",
   "pygments_lexer": "ipython3",
   "version": "3.12.7"
  }
 },
 "nbformat": 4,
 "nbformat_minor": 5
}
