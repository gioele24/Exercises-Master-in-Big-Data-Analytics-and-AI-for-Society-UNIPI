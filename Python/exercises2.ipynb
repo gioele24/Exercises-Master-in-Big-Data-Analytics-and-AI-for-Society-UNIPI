{
 "cells": [
  {
   "cell_type": "code",
   "execution_count": 1,
   "id": "00b33a06",
   "metadata": {},
   "outputs": [
    {
     "name": "stdout",
     "output_type": "stream",
     "text": [
      "The perimeter is  14.0\n"
     ]
    }
   ],
   "source": [
    "# Write a program that takes as input the length of the\n",
    "# sides of a rectangle and computes its perimeter and area\n",
    "\n",
    "side1 = float(input(\"Enter the base length: \"))\n",
    "side2 = float(input(\"Enter the height length: \"))\n",
    "perimeter = (side1 + side2)*2\n",
    "print(\"The perimeter is \", perimeter)"
   ]
  },
  {
   "cell_type": "code",
   "execution_count": 2,
   "id": "2a8a38c1",
   "metadata": {},
   "outputs": [
    {
     "name": "stdout",
     "output_type": "stream",
     "text": [
      "The sum of the two numbers is:  12.0\n",
      "The product of the two numbers is:  32.0\n"
     ]
    }
   ],
   "source": [
    "# Write some code that asks the user for two numbers, \n",
    "# then shows the result when you add them, and when you \n",
    "# multiply them\n",
    "\n",
    "\n",
    "num1 = float(input(\"Insert a number: \"))\n",
    "num2 = float(input(\"Insert another number: \"))\n",
    "\n",
    "print(\"The sum of the two numbers is: \", num1 + num2)\n",
    "print(\"The product of the two numbers is: \", num1 * num2)"
   ]
  },
  {
   "cell_type": "code",
   "execution_count": 3,
   "id": "1e73320b",
   "metadata": {},
   "outputs": [
    {
     "name": "stdout",
     "output_type": "stream",
     "text": [
      "I am writing ten times this string! \n",
      "I am writing ten times this string! \n",
      "I am writing ten times this string! \n",
      "I am writing ten times this string! \n",
      "I am writing ten times this string! \n",
      "I am writing ten times this string! \n",
      "I am writing ten times this string! \n",
      "I am writing ten times this string! \n",
      "I am writing ten times this string! \n",
      "I am writing ten times this string! \n"
     ]
    }
   ],
   "source": [
    "# Write ten times the string “I am writing ten times this \n",
    "# string!”\n",
    "\n",
    "print(10 * \"I am writing ten times this string! \\n\", end=\"\")"
   ]
  },
  {
   "cell_type": "code",
   "execution_count": 4,
   "id": "d04f145a",
   "metadata": {},
   "outputs": [
    {
     "name": "stdout",
     "output_type": "stream",
     "text": [
      "You have typed the following: \n",
      "3.2 5 ciao A\n"
     ]
    }
   ],
   "source": [
    "# Create or download the pcinput module, make sure that \n",
    "# it is located in the folder where you write your Python \n",
    "# code, then create a program that uses the functions \n",
    "# described earlier\n",
    "\n",
    "import pcinput\n",
    "\n",
    "f = pcinput.getFloat(\"Insert a float: \")\n",
    "i = pcinput.getInteger(\"Insert an integer: \")\n",
    "s = pcinput.getString(\"Insert a string: \")\n",
    "l = pcinput.getLetter(\"Insert a letter: \")\n",
    "\n",
    "print(\"You have typed the following: \")\n",
    "print(f, i, s, l)"
   ]
  },
  {
   "cell_type": "markdown",
   "id": "53e3d42d",
   "metadata": {},
   "source": [
    "##### All exercises at the end of Chapter 5 of the book 'The Coder’s Apprentice Learning Programming with Python 3' by Pieter Spronck\n",
    "\n"
   ]
  },
  {
   "cell_type": "code",
   "execution_count": 5,
   "id": "70f7c462",
   "metadata": {},
   "outputs": [
    {
     "name": "stdout",
     "output_type": "stream",
     "text": [
      "The string length is:  5\n"
     ]
    }
   ],
   "source": [
    "# Exercise 5.1 Ask the user to enter a string. Then print the length of that string. Use the\n",
    "# input() function rather that the getString() function from pcinput, as the getString()\n",
    "# function removes leading and trailing spaces\n",
    "\n",
    "s = input(\"Insert a sting: \")\n",
    "\n",
    "print(\"The string length is: \", len(s))"
   ]
  },
  {
   "cell_type": "code",
   "execution_count": 6,
   "id": "dbc9f982",
   "metadata": {},
   "outputs": [
    {
     "name": "stdout",
     "output_type": "stream",
     "text": [
      "The hypotenuse is:  5.830951894845301\n"
     ]
    }
   ],
   "source": [
    "# Exercise 5.2 The Pythagorean theorem states that of a right triangle, the square of the\n",
    "# length of the diagonal side is equal to the sum of the squares of the lengths of the other two\n",
    "# sides (or a2 + b2 = c2). Write a program that asks the user for the lengths of the two sides\n",
    "# that meet at a right angle, then calculate the length of the third side (in other words: take\n",
    "# the square root of the sum of the squares of the two sides that you asked for), and display\n",
    "# it in a nicely formatted way. You may ignore the fact that the user can enter negative or\n",
    "# zero lengths for the sides.\n",
    "\n",
    "\n",
    "from math import sqrt\n",
    "\n",
    "side1 = float(input(\"Insert the length of a cathetus: \"))\n",
    "side2 = float(input(\"Insert the length of the other cathetus: \"))\n",
    "\n",
    "side3 = sqrt(side1**2 + side2**2)\n",
    "\n",
    "print(\"The hypotenuse is: \", side3)"
   ]
  },
  {
   "cell_type": "code",
   "execution_count": 7,
   "id": "533aad1c",
   "metadata": {},
   "outputs": [
    {
     "name": "stdout",
     "output_type": "stream",
     "text": [
      "Enter 3 numbers: \n",
      "The largest is:  8.0\n",
      "The smallest is:  2.0\n",
      "Their average is:  4.67\n"
     ]
    }
   ],
   "source": [
    "# Exercise 5.3 Ask the user to enter three numbers. Then print the largest, the smallest,\n",
    "# and their average, rounded to 2 decimals\n",
    "\n",
    "\n",
    "print(\"Enter 3 numbers: \")\n",
    "n1 = float(input())\n",
    "n2 = float(input())\n",
    "n3 = float(input())\n",
    "\n",
    "print(\"The largest is: \", round(max(n1, n2, n3), 2))\n",
    "print(\"The smallest is: \", round(min(n1, n2, n3), 2))\n",
    "print(\"Their average is: \", round((n1 + n2 + n3)/3, 2))"
   ]
  },
  {
   "cell_type": "code",
   "execution_count": 8,
   "id": "b0a2faf9",
   "metadata": {},
   "outputs": [
    {
     "name": "stdout",
     "output_type": "stream",
     "text": [
      "exp(-1) = 0.36788, exp(0) = 1.0, exp(1) = 2.71828, exp(2) = 7.38906, exp(3) = 20.08554\n"
     ]
    }
   ],
   "source": [
    "# Exercise 5.4 Calculate the value of e to the power of-1, 0, 1, 2, and 3, and display the\n",
    "# results, with 5 decimals, in a nicely formatted manner.\n",
    "\n",
    "\n",
    "from math import exp\n",
    "\n",
    "print(\"exp(-1) = {}, exp(0) = {}, exp(1) = {}, exp(2) = {}, exp(3) = {}\"\\\n",
    ".format(round(exp(-1), 5), round(exp(0), 5), round(exp(1), 5), round(exp(2), 5), round(exp(3), 5)))"
   ]
  },
  {
   "cell_type": "code",
   "execution_count": 12,
   "id": "e248814c",
   "metadata": {},
   "outputs": [
    {
     "name": "stdout",
     "output_type": "stream",
     "text": [
      "9\n"
     ]
    }
   ],
   "source": [
    "# Exercise 5.5 Suppose you want to generate a random integer between 1 and 10 (1 and\n",
    "# 10 both included), but from the random module you only have the random() function\n",
    "# available (you can use functions from other modules, though). How do you do that?\n",
    "\n",
    "\n",
    "from random import random\n",
    "\n",
    "n = round(10 * random())\n",
    "print(n)"
   ]
  },
  {
   "cell_type": "markdown",
   "id": "8101fc1b",
   "metadata": {},
   "source": [
    "##### Others exercises from the same book"
   ]
  },
  {
   "cell_type": "code",
   "execution_count": 13,
   "id": "e942ea56",
   "metadata": {},
   "outputs": [
    {
     "name": "stdout",
     "output_type": "stream",
     "text": [
      "C\n"
     ]
    }
   ],
   "source": [
    "# Exercise 6.1 Grades are values between zero and 10 (both zero and 10 included), and\n",
    "# are always rounded to the nearest half point. To translate grades to the American style, 8.5\n",
    "# to 10 become an “A,” 7.5 and 8 become a “B,” 6.5 and 7 become a “C,” 5.5 and 6 become\n",
    "# a “D,” and other grades become an “F.” Implement this translation, whereby you ask the\n",
    "# user for a grade, and then give the American translation. If the user enters a grade lower\n",
    "# than zero or higher than 10, just give an error message. You do not need to handle the user\n",
    "# entering grades that do not end in .0 or .5, though you may dothat if you like– in that case,\n",
    "# if the user enters such an illegal grade, give an appropriate error message.\n",
    "\n",
    "\n",
    "\n",
    "def round_to_nearest_half_point(grade):\n",
    "    decimal_part = grade - int(grade)\n",
    "    if decimal_part <= 0.5:\n",
    "        if decimal_part < 0.5 - decimal_part:\n",
    "            return int(grade)\n",
    "        else:\n",
    "            return int(grade) + 0.5\n",
    "    if decimal_part > 0.5:\n",
    "        if decimal_part - 0.5 < 1 - decimal_part:\n",
    "            return int(grade) + 0.5\n",
    "        else:\n",
    "            return int(grade) + 1\n",
    "\n",
    "def insert_grade():\n",
    "    while True:\n",
    "        grade = float(input(\"Insert a grade: \"))\n",
    "        if grade < 0 or grade > 10:\n",
    "            print(\"The grade should be in te range 0-10\")\n",
    "            continue\n",
    "        rounded_grade = round_to_nearest_half_point(grade)\n",
    "        return rounded_grade\n",
    "\n",
    "def american_grade_translation(grade):\n",
    "    if grade <= 10 and grade >= 8.5:\n",
    "        return \"A\"\n",
    "    elif grade <= 8 and grade >= 7.5:\n",
    "        return \"B\"\n",
    "    elif grade <= 7 and grade >= 6.5:\n",
    "        return \"C\"\n",
    "    elif grade <= 6 and grade >= 5.5:\n",
    "        return \"D\"\n",
    "    else:\n",
    "        return \"F\"\n",
    "\n",
    "print(american_grade_translation(insert_grade()))"
   ]
  },
  {
   "cell_type": "code",
   "execution_count": 14,
   "id": "60810eba",
   "metadata": {},
   "outputs": [
    {
     "name": "stdout",
     "output_type": "stream",
     "text": [
      "There are 2 different vowels in the string\n"
     ]
    }
   ],
   "source": [
    "# Exercise 6.3 Ask the user to supply a string. Print how many different vowels there\n",
    "# are in the string. The capital version of a lower case vowel is considered to be the same\n",
    "# vowel. y is not considered a vowel. Try to print nice output (e.g., printing “There are 1\n",
    "# different vowels in the string” is ugly). Example: When the user enters the string “It’s Owl\n",
    "# Stretching Time,” the program should say that there are 3 different vowels in the string\n",
    "\n",
    "s = input(\"Insert a string: \")\n",
    "\n",
    "vowels_num = 0\n",
    "\n",
    "if (\"a\" in s) or (\"A\" in s):\n",
    "     vowels_num += 1\n",
    "if (\"e\" in s) or (\"E\" in s):\n",
    "     vowels_num += 1\n",
    "if (\"i\" in s) or (\"I\" in s):\n",
    "     vowels_num += 1\n",
    "if (\"o\" in s) or (\"O\" in s):\n",
    "     vowels_num += 1\n",
    "if (\"u\" in s) or (\"U\" in s):\n",
    "     vowels_num += 1\n",
    "\n",
    "if vowels_num == 0:\n",
    "    print(\"There are no vowels in the string\")\n",
    "elif vowels_num == 1:\n",
    "    print(\"There is only 1 vowel in the string\")\n",
    "else:\n",
    "    print(\"There are {} different vowels in the string\".format(vowels_num))"
   ]
  },
  {
   "cell_type": "code",
   "execution_count": 15,
   "id": "5f05fe88",
   "metadata": {},
   "outputs": [
    {
     "name": "stdout",
     "output_type": "stream",
     "text": [
      "Let's solve a quadratic equation of the form A*x^2 + B*x + C = 0\n",
      "Insert the three coefficients: \n",
      "There are 2 different solutions which are:\n",
      "3.0  and  -2.0\n"
     ]
    }
   ],
   "source": [
    "# Exercise 6.4 You can solve quadratic equations using the quadratic formula. Quadratic\n",
    "# equations are of the form Ax2 + Bx + C = 0. Such equations have zero, one or two\n",
    "# solutions. The first solution is ( -B + sqrt(B2-4AC))/(2A). The second solution is\n",
    "# ( -B-sqrt(B2-4AC))/(2A). There are no solutions if the value under the square root\n",
    "# is negative. There is one solution if the value under the square root is zero. Write a pro\n",
    "# gram that asks the user for the values of A, B, and C, then reports whether there are zero,\n",
    "# one, or two solutions, then prints those solutions. Note: Make sure that you also take into\n",
    "# account the case that A is zero (there is only one solution then, namely -C/B), and the\n",
    "# case that both A and B are zero\n",
    "\n",
    "# Hint: To determine whether there are zero, one, or two solutions, first calculate B*B - 4\n",
    "# A*C. If that is less than zero, there are no solutions (as you cannot take the square root of\n",
    "# a negative number). If it is zero, there is only one solution (namely -B/(2*A), as the part\n",
    "# with the square root is zero). Otherwise, there are two solutions, as listed\n",
    "\n",
    "\n",
    "from math import sqrt\n",
    "\n",
    "print(\"Let's solve a quadratic equation of the form A*x^2 + B*x + C = 0\")\n",
    "print(\"Insert the three coefficients: \")\n",
    "A = float(input(\"A = \"))\n",
    "B = float(input(\"B = \"))\n",
    "C = float(input(\"C = \"))\n",
    "\n",
    "Delta = B**2 - 4*A*C\n",
    "\n",
    "if A != 0:\n",
    "    if Delta > 0:\n",
    "        print(\"There are 2 different solutions which are:\")\n",
    "        print((-B + sqrt(Delta))/(2*A), \" and \", (-B - sqrt(Delta))/(2*A))\n",
    "    elif Delta == 0:\n",
    "        print(\"There is only a solution which is:\")\n",
    "        if (B/(2*A)) == 0:\n",
    "            print(float(0))\n",
    "        else:\n",
    "            print(-B/(2*A))\n",
    "    else:\n",
    "        print(\"There are no real solutions\")\n",
    "\n",
    "if A == 0:\n",
    "    if B != 0 and C != 0:\n",
    "        print(\"There is only a solution which is:\")\n",
    "        print(-C/B)\n",
    "    elif B != 0 and C == 0:\n",
    "        print(\"There is only a solution which is:\")\n",
    "        print(float(0))\n",
    "    elif B == 0 and C != 0:\n",
    "        print(\"The equation has no solution\")\n",
    "    elif B == 0 and C == 0:\n",
    "        print(\"The equation is trivially satisfied\")"
   ]
  },
  {
   "cell_type": "code",
   "execution_count": 16,
   "id": "a3701d61",
   "metadata": {},
   "outputs": [
    {
     "name": "stdout",
     "output_type": "stream",
     "text": [
      "The max value is  87.0 , the min value is -32.0\n",
      "In the list of number provided, there are 5 numbers which are divisible by 3\n"
     ]
    }
   ],
   "source": [
    "# Exercise 7.3 Write a program that asks the user for ten numbers, and then prints the\n",
    "# largest, the smallest, and how many are divisible by 3. Use the algorithm described earlier\n",
    "# in this chapter.\n",
    "\n",
    "div3_count = 0\n",
    "\n",
    "for i in range(10):\n",
    "    num = float(input())\n",
    "    if num % 3 == 0:\n",
    "        div3_count += 1\n",
    "    if i == 0:\n",
    "        max_num = num\n",
    "        min_num = num\n",
    "        continue\n",
    "    if num > max_num:\n",
    "        max_num = num\n",
    "    if num < min_num:\n",
    "        min_num = num\n",
    "\n",
    "print(\"The max value is \", max_num, \", the min value is\", min_num)\n",
    "print(f\"In the list of number provided, there are {div3_count} numbers which are divisible by 3\")"
   ]
  }
 ],
 "metadata": {
  "kernelspec": {
   "display_name": "env_master_2025",
   "language": "python",
   "name": "python3"
  },
  "language_info": {
   "codemirror_mode": {
    "name": "ipython",
    "version": 3
   },
   "file_extension": ".py",
   "mimetype": "text/x-python",
   "name": "python",
   "nbconvert_exporter": "python",
   "pygments_lexer": "ipython3",
   "version": "3.12.7"
  }
 },
 "nbformat": 4,
 "nbformat_minor": 5
}
