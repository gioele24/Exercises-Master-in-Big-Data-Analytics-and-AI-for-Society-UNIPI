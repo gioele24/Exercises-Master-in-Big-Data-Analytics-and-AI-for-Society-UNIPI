{
 "cells": [
  {
   "cell_type": "code",
   "execution_count": 1,
   "id": "17ea910a",
   "metadata": {},
   "outputs": [
    {
     "name": "stdout",
     "output_type": "stream",
     "text": [
      "Gioele Eterno\n"
     ]
    }
   ],
   "source": [
    "#Write and run a program that displays your first and last name\n",
    "\n",
    "print(\"Gioele Eterno\")"
   ]
  },
  {
   "cell_type": "code",
   "execution_count": 2,
   "id": "c1d56cc5",
   "metadata": {},
   "outputs": [
    {
     "name": "stdout",
     "output_type": "stream",
     "text": [
      "4 1 6 1.5 1 9 1\n"
     ]
    }
   ],
   "source": [
    "#Write and run a program that uses all math operations (pay attention to precedences)\n",
    "\n",
    "print(2+2, 3-2, 3*2, 3/2, 3//2, 3**2, 3%2)"
   ]
  },
  {
   "cell_type": "code",
   "execution_count": 3,
   "id": "fe3fc7d0",
   "metadata": {},
   "outputs": [
    {
     "name": "stdout",
     "output_type": "stream",
     "text": [
      "604800\n"
     ]
    }
   ],
   "source": [
    "#Write a program that displays the number of seconds in a week\n",
    "\n",
    "seconds_in_a_minute = 60\n",
    "seconds_in_a_hour = seconds_in_a_minute*60\n",
    "seconds_in_a_day = seconds_in_a_hour*24\n",
    "seconds_in_a_week = seconds_in_a_day*7\n",
    "print(seconds_in_a_week)"
   ]
  },
  {
   "cell_type": "code",
   "execution_count": 4,
   "id": "48f6fca9",
   "metadata": {},
   "outputs": [
    {
     "name": "stdout",
     "output_type": "stream",
     "text": [
      "945.4499999999999\n"
     ]
    }
   ],
   "source": [
    "#The cover price of a book is €24.95, but bookstores get\n",
    "# a 40 percent discount. Shipping costs €3 for the first\n",
    "# copy and 75 cents for each additional copy. Calculate\n",
    "# the total wholesale costs for 60 copies\n",
    "\n",
    "book_cover_price = 24.95\n",
    "discount = 0.4\n",
    "shipping_costs_1 = 3\n",
    "shipping_costs_al= 0.75\n",
    "total_cost = ((book_cover_price - discount*book_cover_price) + shipping_costs_1) + 59*((book_cover_price - discount*book_cover_price) + shipping_costs_al)\n",
    "print(total_cost)"
   ]
  },
  {
   "cell_type": "code",
   "execution_count": 5,
   "id": "975246e1",
   "metadata": {},
   "outputs": [
    {
     "ename": "ZeroDivisionError",
     "evalue": "division by zero",
     "output_type": "error",
     "traceback": [
      "\u001b[1;31m---------------------------------------------------------------------------\u001b[0m",
      "\u001b[1;31mZeroDivisionError\u001b[0m                         Traceback (most recent call last)",
      "Cell \u001b[1;32mIn[5], line 3\u001b[0m\n\u001b[0;32m      1\u001b[0m \u001b[38;5;66;03m#Write a program that generates the ZeroDivisionError\u001b[39;00m\n\u001b[1;32m----> 3\u001b[0m \u001b[38;5;28mprint\u001b[39m(\u001b[38;5;241;43m2\u001b[39;49m\u001b[38;5;241;43m/\u001b[39;49m\u001b[38;5;241;43m0\u001b[39;49m)\n",
      "\u001b[1;31mZeroDivisionError\u001b[0m: division by zero"
     ]
    }
   ],
   "source": [
    "#Write a program that generates the ZeroDivisionError\n",
    "\n",
    "print(2/0)"
   ]
  },
  {
   "cell_type": "code",
   "execution_count": 6,
   "id": "d35ed85e",
   "metadata": {},
   "outputs": [
    {
     "name": "stdout",
     "output_type": "stream",
     "text": [
      "21\n"
     ]
    }
   ],
   "source": [
    "# You look at the clock and see that it is currently 14.00h.\n",
    "# You set an alarm to go off 535 hours later. At what time\n",
    "# will the alarm go off? Write a program that prints the\n",
    "# answer. Hint: for the best solution, you will need the\n",
    "# modulo operator\n",
    "\n",
    "current_hour = 14\n",
    "hours_for_the_alarm_to_go_off = 535\n",
    "future_hour = (current_hour + hours_for_the_alarm_to_go_off)%24\n",
    "print(future_hour)"
   ]
  },
  {
   "cell_type": "markdown",
   "id": "5443adc7",
   "metadata": {},
   "source": [
    "##### All exercises at the end of Chapter 4 of the book 'The Coder’s Apprentice Learning Programming with Python 3' by Pieter Spronck"
   ]
  },
  {
   "cell_type": "code",
   "execution_count": 7,
   "id": "d0597060",
   "metadata": {},
   "outputs": [
    {
     "name": "stdout",
     "output_type": "stream",
     "text": [
      "4.066666666666667\n"
     ]
    }
   ],
   "source": [
    "# Exercise 4.1 Define three variables var1, var2 and var3. Calculate the average of these\n",
    "# variables and assign it to average. Print the average. Add three comments\n",
    "\n",
    "var1 = 4\n",
    "var2 = 4.3\n",
    "var3 = 3.9\n",
    "\n",
    "average_val = (var1 + var2 + var3)/3\n",
    "print(average_val)"
   ]
  },
  {
   "cell_type": "code",
   "execution_count": 8,
   "id": "e89f5d33",
   "metadata": {},
   "outputs": [
    {
     "name": "stdout",
     "output_type": "stream",
     "text": [
      "The surface area of a circle with radius 1.5 is 7.0685775\n"
     ]
    }
   ],
   "source": [
    "# Exercise 4.2 Write code that can compute the surface of circle, using the variables radius\n",
    "# and pi = 3.14159. The formula, in case you do not know, is radius times radius times pi.\n",
    "# Print the outcome of your program as follows: “The surface area of a circle with radius ...\n",
    "# is ...”\n",
    "\n",
    "radius = 1.5\n",
    "pi = 3.14159\n",
    "surface = pi*radius**2\n",
    "\n",
    "print(f\"The surface area of a circle with radius {radius} is {surface}\")"
   ]
  },
  {
   "cell_type": "code",
   "execution_count": 9,
   "id": "8c5ee075",
   "metadata": {},
   "outputs": [
    {
     "name": "stdout",
     "output_type": "stream",
     "text": [
      "The amount of 34358 ct corresponds to 343 dollars, 2 quarters, 0 dimes, 1 nickels and 3 pennies\n"
     ]
    }
   ],
   "source": [
    "# Exercise 4.3 Write code that classifies a given amount of money (which you store in a\n",
    "# variable named amount), specified in cents, as greater monetary units. Your code lists the\n",
    "# monetary equivalent in dollars (100 ct), quarters (25 ct), dimes (10 ct), nickels (5 ct), and\n",
    "# pennies (1 ct). Your program should report the maximum number of dollars that fit in the\n",
    "# amount, then the maximum number of quarters that fit in the remainder after you subtract\n",
    "# the dollars, then the maximum number of dimes that fit in the remainder after you subtract\n",
    "# the dollars and quarters, and so on for nickels and pennies. The result is that you express\n",
    "# the amount as the minimum number of coins needed\n",
    "\n",
    "amount = 34_358\n",
    "num_dollars = amount // 100\n",
    "reminder1 = amount % 100\n",
    "num_quarters = reminder1 // 25\n",
    "reminder2 = reminder1 % 25\n",
    "num_dimes = reminder2 // 10\n",
    "reminder3 = reminder2 % 10\n",
    "num_nickels = reminder3 // 5\n",
    "reminder4 = reminder3 % 5\n",
    "num_pennies = reminder4\n",
    "\n",
    "print(f\"The amount of {amount} ct corresponds to {num_dollars} dollars, {num_quarters} quarters, {num_dimes} dimes, {num_nickels} nickels and {num_pennies} pennies\")"
   ]
  },
  {
   "cell_type": "code",
   "execution_count": 10,
   "id": "42fe8d34",
   "metadata": {},
   "outputs": [
    {
     "name": "stdout",
     "output_type": "stream",
     "text": [
      "a = 17 and b = 23\n",
      "a = 23 and b = 17\n"
     ]
    }
   ],
   "source": [
    "# Exercise 4.4 Can you think of a way to swap the values of two variables that does not\n",
    "# need a third variable as a temporary storage? In the code block below, try to implement\n",
    "# the swapping of the values of a and b without using a third variable. To help you out, the\n",
    "# first step to do this is already given. You just need to add two more lines of code.\n",
    "\n",
    "a = 17\n",
    "b = 23\n",
    "print(\"a =\", a, \"and b =\", b)\n",
    "a += b\n",
    "# add two more lines of code here to cause swapping of a and b\n",
    "b = a - b\n",
    "a = a - b\n",
    "\n",
    "print(\"a =\", a, \"and b =\", b)"
   ]
  }
 ],
 "metadata": {
  "kernelspec": {
   "display_name": "env_master_2025",
   "language": "python",
   "name": "python3"
  },
  "language_info": {
   "codemirror_mode": {
    "name": "ipython",
    "version": 3
   },
   "file_extension": ".py",
   "mimetype": "text/x-python",
   "name": "python",
   "nbconvert_exporter": "python",
   "pygments_lexer": "ipython3",
   "version": "3.12.7"
  }
 },
 "nbformat": 4,
 "nbformat_minor": 5
}
