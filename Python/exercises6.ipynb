{
 "cells": [
  {
   "cell_type": "code",
   "execution_count": 1,
   "id": "de91c478",
   "metadata": {},
   "outputs": [],
   "source": [
    "import math"
   ]
  },
  {
   "cell_type": "code",
   "execution_count": 2,
   "id": "16d4353e",
   "metadata": {},
   "outputs": [
    {
     "name": "stdout",
     "output_type": "stream",
     "text": [
      "(4,5,180)\n"
     ]
    }
   ],
   "source": [
    "class Vehicle:\n",
    "    def __init__(self, par1 = 4, par2 = 5, par3 = 180):\n",
    "        self.wheels = par1\n",
    "        self.seats = par2\n",
    "        self.max_speed = par3\n",
    "\n",
    "    def __repr__(self):\n",
    "        return \"({},{},{})\".format(self.wheels, self.seats, self.max_speed)\n",
    "\n",
    "car = Vehicle()\n",
    "print(car)"
   ]
  },
  {
   "cell_type": "code",
   "execution_count": 3,
   "id": "7f0149f3",
   "metadata": {},
   "outputs": [],
   "source": [
    "class Point:\n",
    "    def __init__(self, x, y):\n",
    "        self.x = x\n",
    "        self.y = y\n",
    "\n",
    "    def __repr__(self):\n",
    "        return \"({},{})\".format(self.x, self.y)\n",
    "\n",
    "    def translate(self, dx, dy):\n",
    "        self.x = self.x + dx\n",
    "        self.y = self.y + dy\n",
    "\n",
    "    def distance_from_origin(self):\n",
    "        return math.sqrt(self.x ** 2 + self.y **2)\n",
    "\n",
    "    def distance(self, other):\n",
    "        return math.sqrt((self.x - other.x)**2 + (self.y - other.y)**2)\n",
    "\n",
    "    def __add__(self, other):\n",
    "        return Point(self.x + other.x, self.y + other.y)\n",
    "\n",
    "    def __sub__(self, other):\n",
    "        return Point(self.x - other.x, self.y - other.y)\n",
    "\n",
    "    def __mul__(self, other):\n",
    "        return Point(self.x * other.x, self.y * other.y)\n",
    "\n",
    "    def __truediv__(self, other):\n",
    "        if other.x == 0 or other.y == 0:\n",
    "            raise ZeroDivisionError\n",
    "        else:\n",
    "            return Point(self.x / other.x, self.y / other.y)\n",
    "\n",
    "    def __eq__(self, other):\n",
    "        return self.x == other.x and self.y == other.y\n",
    "\n",
    "    def __lt__(self, other):\n",
    "        return self.distance_from_origin() < other.distance_from_origin()"
   ]
  },
  {
   "cell_type": "code",
   "execution_count": 4,
   "id": "738d48f9",
   "metadata": {},
   "outputs": [],
   "source": [
    "class Rectangle:\n",
    "    def __init__(self, p, w, h):\n",
    "        self.p = p\n",
    "        self.w = w\n",
    "        self.h = h\n",
    "\n",
    "    def area(self):\n",
    "        return self.w * self.h\n",
    "\n",
    "    def __eq__(self, other):\n",
    "        return self.w == other.w and self.h == other.h\n",
    "\n",
    "    def __lt__(self, other):\n",
    "        return self.area() < other.area()"
   ]
  },
  {
   "cell_type": "code",
   "execution_count": 5,
   "id": "ed6a1941",
   "metadata": {},
   "outputs": [],
   "source": [
    "class Circle:\n",
    "    def __init__(self, r):\n",
    "        self.radius = r\n",
    "\n",
    "    def perimeter(self):\n",
    "        return 2 * math.pi * self.radius\n",
    "\n",
    "    def area(self):\n",
    "        return math.pi * self.radius**2"
   ]
  },
  {
   "cell_type": "code",
   "execution_count": 6,
   "id": "5e36ad1c",
   "metadata": {},
   "outputs": [],
   "source": [
    "p1 = Point(0,2)\n",
    "p2 = Point(2,2)\n",
    "r1 = Rectangle(p1, 2, 3)\n",
    "r2 = Rectangle(p2, 3, 5)\n",
    "c1 = Circle(1)"
   ]
  },
  {
   "cell_type": "code",
   "execution_count": 7,
   "id": "0b6ada55",
   "metadata": {},
   "outputs": [
    {
     "name": "stdout",
     "output_type": "stream",
     "text": [
      "False\n",
      "2.0\n",
      "(0,4)\n",
      "6 15 False\n",
      "6.283185307179586 3.141592653589793\n"
     ]
    }
   ],
   "source": [
    "print(p1 > p2)\n",
    "print(p1.distance(p2))\n",
    "print(p1*p2)\n",
    "print(r1.area(), r2.area(), r1 > r2)\n",
    "print(c1.perimeter(), c1.area())"
   ]
  }
 ],
 "metadata": {
  "kernelspec": {
   "display_name": "env_master_2025",
   "language": "python",
   "name": "python3"
  },
  "language_info": {
   "codemirror_mode": {
    "name": "ipython",
    "version": 3
   },
   "file_extension": ".py",
   "mimetype": "text/x-python",
   "name": "python",
   "nbconvert_exporter": "python",
   "pygments_lexer": "ipython3",
   "version": "3.12.7"
  }
 },
 "nbformat": 4,
 "nbformat_minor": 5
}
