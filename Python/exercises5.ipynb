{
 "cells": [
  {
   "cell_type": "markdown",
   "id": "3ace83e4",
   "metadata": {},
   "source": [
    "##### Some exercises from 'The Coder’s Apprentice Learning Programming with Python 3' by Pieter Spronck"
   ]
  },
  {
   "cell_type": "code",
   "execution_count": null,
   "id": "1fd5b6cf",
   "metadata": {},
   "outputs": [],
   "source": [
    "# Exercise 15.1 Write a program that lists all the files and directories in the current directory,\n",
    "# displaying them with their full path names.\n",
    "\n",
    "\n",
    "from os import getcwd, listdir\n",
    "\n",
    "flist = listdir('.')\n",
    "\n",
    "for name in flist:\n",
    "     print(getcwd() + \"\\\\\" + name)"
   ]
  },
  {
   "cell_type": "code",
   "execution_count": 3,
   "id": "5a77ce8e",
   "metadata": {},
   "outputs": [
    {
     "name": "stdout",
     "output_type": "stream",
     "text": [
      "['how much wood would a woodchuck chuck', 'if a woodchuck could chuck wood', 'he would chuck he would as much as he could', 'and chuck as much as a woodchuck would', 'if a woodchuck could chuck wood']\n",
      "{'a': 4, 'and': 1, 'as': 4, 'chuck': 5, 'could': 3, 'he': 3, 'how': 1, 'if': 2, 'much': 3, 'wood': 3, 'woodchuck': 4, 'would': 4}\n"
     ]
    }
   ],
   "source": [
    "# Exercise 16.1 Write a program that reads the contents of the file “pc_woodchuck.txt,”\n",
    "# splits it into words (where everything that is not a letter is considered a word boundary),\n",
    "# and case-insensitively builds a dictionary that stores for every word how often it occurs in\n",
    "# the text. Then print all the words with their quantities in alphabetical order.\n",
    "\n",
    "\n",
    "def no_rep_sort(l):\n",
    "\n",
    "    l_out = list(set(l))\n",
    "    l_out.sort()\n",
    "\n",
    "    return l_out\n",
    "\n",
    "# This function applies on a list of string. If a string\n",
    "# has more then one word the function splits the string and\n",
    "# gives a new list with each string splitted in words\n",
    "\n",
    "def splitted(l):\n",
    "\n",
    "    h_l0 = []\n",
    "\n",
    "    for s in l:\n",
    "        s1 = s.split()\n",
    "        for j in s1:\n",
    "            h_l0.append(j)\n",
    "\n",
    "    return h_l0\n",
    "\n",
    "\n",
    "h = open(\"pc_woodchuck.txt\")\n",
    "d = {}\n",
    "\n",
    "h_l = h.readlines()\n",
    "\n",
    "#print(h_l)\n",
    "\n",
    "count = 0\n",
    "\n",
    "for s in h_l:\n",
    "    s = s.lower()\n",
    "    for c in s:\n",
    "        if ord(c) not in range(ord(\"a\"), ord(\"z\") + 1) and c != \" \":\n",
    "            s = s.replace(c, \"\")\n",
    "    h_l[count] = s\n",
    "    count += 1\n",
    "\n",
    "\n",
    "print(h_l)\n",
    "\n",
    "h_l_s = splitted(h_l)\n",
    "\n",
    "for i in no_rep_sort(h_l_s):\n",
    "    freq = h_l_s.count(i)\n",
    "    d[i] = freq\n",
    "\n",
    "h.close()\n",
    "\n",
    "print(d)"
   ]
  },
  {
   "cell_type": "code",
   "execution_count": 4,
   "id": "ff90d16e",
   "metadata": {},
   "outputs": [
    {
     "name": "stdout",
     "output_type": "stream",
     "text": [
      "['How', 'much', 'wood', 'would', 'a', 'woodchuck', 'chuck']\n",
      "['If', 'a', 'woodchuck', 'could', 'chuck', 'wood?']\n",
      "['He', 'would', 'chuck,', 'he', 'would,', 'as', 'much', 'as', 'he', 'could,']\n",
      "['And', 'chuck', 'as', 'much', 'as', 'a', 'woodchuck', 'would']\n",
      "['If', 'a', 'woodchuck', 'could', 'chuck', 'wood.']\n"
     ]
    }
   ],
   "source": [
    "# Exercise 16.2 Do the same thing as you did for the previous exercise, but now process\n",
    "# the text line by line. This is something that you would have to do if you had to process a\n",
    "# very long text\n",
    "\n",
    "\n",
    "h = open(\"pc_woodchuck.txt\")\n",
    "\n",
    "while True:\n",
    "\n",
    "    line = h.readline()\n",
    "\n",
    "    if line == \"\":\n",
    "        break\n",
    "\n",
    "    line_list = line.split()\n",
    "\n",
    "    print(line_list)\n",
    "    #print(line, end='')"
   ]
  },
  {
   "cell_type": "code",
   "execution_count": 5,
   "id": "a6c0ca0d",
   "metadata": {},
   "outputs": [
    {
     "name": "stdout",
     "output_type": "stream",
     "text": [
      "Can't divide by zero!\n"
     ]
    }
   ],
   "source": [
    "# Exercise 17.1 Which exceptions can the code below raise? Extend the code to handle all\n",
    "# of them in a reasonable manner\n",
    "\n",
    "numlist = [100, 101, 0, \"103\", 104]\n",
    "i1 = int(input(\"Give an index: \"))\n",
    "\n",
    "try:\n",
    "    print(\"100 /\", numlist[i1], \"=\", 100 / numlist[i1])\n",
    "except ZeroDivisionError:\n",
    "    print(\"Can't divide by zero!\")\n",
    "except TypeError:\n",
    "    print(\"Can't divide a number by a string!\")\n",
    "except IndexError:\n",
    "    print(\"Index out of range!\")\n",
    "except:\n",
    "    print(\"Something else went wrong!\")"
   ]
  }
 ],
 "metadata": {
  "kernelspec": {
   "display_name": "env_master_2025",
   "language": "python",
   "name": "python3"
  },
  "language_info": {
   "codemirror_mode": {
    "name": "ipython",
    "version": 3
   },
   "file_extension": ".py",
   "mimetype": "text/x-python",
   "name": "python",
   "nbconvert_exporter": "python",
   "pygments_lexer": "ipython3",
   "version": "3.12.7"
  }
 },
 "nbformat": 4,
 "nbformat_minor": 5
}
