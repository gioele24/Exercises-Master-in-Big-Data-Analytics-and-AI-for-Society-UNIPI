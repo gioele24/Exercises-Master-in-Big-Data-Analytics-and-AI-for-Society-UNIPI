{
 "cells": [
  {
   "cell_type": "code",
   "execution_count": 51,
   "metadata": {},
   "outputs": [],
   "source": [
    "import pandas as pd\n",
    "from scipy import stats\n",
    "import statsmodels.api as sm\n",
    "import matplotlib.pyplot as plt\n",
    "import numpy as np\n",
    "import seaborn as sns\n",
    "from random import choices"
   ]
  },
  {
   "cell_type": "markdown",
   "metadata": {},
   "source": [
    "## 1\n",
    "\n",
    "The dataset\n",
    " heart_failure.csv contains medical records of patients with heart failure. It includes\n",
    " various clinical and demographic attributes that help analyze factors contributing to heart failure. Each\n",
    " record in the dataset represents a patient sample, with the goal of predicting ’death_event’ of the sample:\n",
    " False (y = 0) or True (y = 1)."
   ]
  },
  {
   "cell_type": "code",
   "execution_count": null,
   "metadata": {},
   "outputs": [],
   "source": []
  },
  {
   "cell_type": "markdown",
   "metadata": {},
   "source": [
    " (1) Compute the Pearson correlation coefficient between ’ejection_fraction’ and ’serum_sodium’;\n",
    " ’ejection_fraction’ and ’creatinine_phosphokinase’. Then discuss if they are significant at the\n",
    " 95% confidence level."
   ]
  },
  {
   "cell_type": "code",
   "execution_count": 3,
   "metadata": {},
   "outputs": [
    {
     "data": {
      "text/html": [
       "<div>\n",
       "<style scoped>\n",
       "    .dataframe tbody tr th:only-of-type {\n",
       "        vertical-align: middle;\n",
       "    }\n",
       "\n",
       "    .dataframe tbody tr th {\n",
       "        vertical-align: top;\n",
       "    }\n",
       "\n",
       "    .dataframe thead th {\n",
       "        text-align: right;\n",
       "    }\n",
       "</style>\n",
       "<table border=\"1\" class=\"dataframe\">\n",
       "  <thead>\n",
       "    <tr style=\"text-align: right;\">\n",
       "      <th></th>\n",
       "      <th>age</th>\n",
       "      <th>creatinine_phosphokinase</th>\n",
       "      <th>ejection_fraction</th>\n",
       "      <th>platelets</th>\n",
       "      <th>serum_creatinine</th>\n",
       "      <th>serum_sodium</th>\n",
       "      <th>death_event</th>\n",
       "    </tr>\n",
       "  </thead>\n",
       "  <tbody>\n",
       "    <tr>\n",
       "      <th>0</th>\n",
       "      <td>75.0</td>\n",
       "      <td>582</td>\n",
       "      <td>20</td>\n",
       "      <td>265000.00</td>\n",
       "      <td>1.9</td>\n",
       "      <td>130</td>\n",
       "      <td>1</td>\n",
       "    </tr>\n",
       "    <tr>\n",
       "      <th>1</th>\n",
       "      <td>55.0</td>\n",
       "      <td>7861</td>\n",
       "      <td>38</td>\n",
       "      <td>263358.03</td>\n",
       "      <td>1.1</td>\n",
       "      <td>136</td>\n",
       "      <td>1</td>\n",
       "    </tr>\n",
       "    <tr>\n",
       "      <th>2</th>\n",
       "      <td>65.0</td>\n",
       "      <td>146</td>\n",
       "      <td>20</td>\n",
       "      <td>162000.00</td>\n",
       "      <td>1.3</td>\n",
       "      <td>129</td>\n",
       "      <td>1</td>\n",
       "    </tr>\n",
       "    <tr>\n",
       "      <th>3</th>\n",
       "      <td>50.0</td>\n",
       "      <td>111</td>\n",
       "      <td>20</td>\n",
       "      <td>210000.00</td>\n",
       "      <td>1.9</td>\n",
       "      <td>137</td>\n",
       "      <td>1</td>\n",
       "    </tr>\n",
       "    <tr>\n",
       "      <th>4</th>\n",
       "      <td>65.0</td>\n",
       "      <td>160</td>\n",
       "      <td>20</td>\n",
       "      <td>327000.00</td>\n",
       "      <td>2.7</td>\n",
       "      <td>116</td>\n",
       "      <td>1</td>\n",
       "    </tr>\n",
       "  </tbody>\n",
       "</table>\n",
       "</div>"
      ],
      "text/plain": [
       "    age  creatinine_phosphokinase  ejection_fraction  platelets  \\\n",
       "0  75.0                       582                 20  265000.00   \n",
       "1  55.0                      7861                 38  263358.03   \n",
       "2  65.0                       146                 20  162000.00   \n",
       "3  50.0                       111                 20  210000.00   \n",
       "4  65.0                       160                 20  327000.00   \n",
       "\n",
       "   serum_creatinine  serum_sodium  death_event  \n",
       "0               1.9           130            1  \n",
       "1               1.1           136            1  \n",
       "2               1.3           129            1  \n",
       "3               1.9           137            1  \n",
       "4               2.7           116            1  "
      ]
     },
     "execution_count": 3,
     "metadata": {},
     "output_type": "execute_result"
    }
   ],
   "source": [
    "heart_df = pd.read_csv('heart_failure.csv')\n",
    "heart_df.head()"
   ]
  },
  {
   "cell_type": "code",
   "execution_count": 5,
   "metadata": {},
   "outputs": [
    {
     "data": {
      "text/plain": [
       "PearsonRResult(statistic=0.17590228200796235, pvalue=0.002267684324417484)"
      ]
     },
     "execution_count": 5,
     "metadata": {},
     "output_type": "execute_result"
    }
   ],
   "source": [
    "stats.pearsonr(heart_df['ejection_fraction'],heart_df['serum_sodium'])"
   ]
  },
  {
   "cell_type": "markdown",
   "metadata": {},
   "source": [
    "The correlation between 'ejection_fraction' and 'serum_sodium' is statistically significant with confidence level $95$% since the pvalue $< 0.05$. Therefore we reject the null hypothesis of zero correlation."
   ]
  },
  {
   "cell_type": "code",
   "execution_count": 6,
   "metadata": {},
   "outputs": [
    {
     "data": {
      "text/plain": [
       "PearsonRResult(statistic=-0.04407955445671149, pvalue=0.4476232991241134)"
      ]
     },
     "execution_count": 6,
     "metadata": {},
     "output_type": "execute_result"
    }
   ],
   "source": [
    "stats.pearsonr(heart_df['ejection_fraction'],heart_df['creatinine_phosphokinase'])"
   ]
  },
  {
   "cell_type": "markdown",
   "metadata": {},
   "source": [
    "The correlation between 'ejection_fraction' and 'creatinine_phosphokinase' is not statistically significant with confidence level $95$% since the pvalue $> 0.05$. Therefore we cannot reject the null hypothesis of zero correlation."
   ]
  },
  {
   "cell_type": "code",
   "execution_count": null,
   "metadata": {},
   "outputs": [],
   "source": []
  },
  {
   "cell_type": "markdown",
   "metadata": {},
   "source": [
    "(2) Write down the logistic regression model:y=’death_event’,\n",
    " X=[’age’,’creatinine_phosphokinase’, ’ejection_fraction’,’platelets’,’serum_creatinine’].\n",
    " Fit WITH the constant."
   ]
  },
  {
   "cell_type": "code",
   "execution_count": 12,
   "metadata": {},
   "outputs": [
    {
     "name": "stdout",
     "output_type": "stream",
     "text": [
      "Optimization terminated successfully.\n",
      "         Current function value: 0.506968\n",
      "         Iterations 6\n"
     ]
    }
   ],
   "source": [
    "logit_m = sm.Logit(heart_df['death_event'], sm.add_constant(heart_df[['age','creatinine_phosphokinase', 'ejection_fraction','platelets','serum_creatinine']])).fit()"
   ]
  },
  {
   "cell_type": "code",
   "execution_count": null,
   "metadata": {},
   "outputs": [],
   "source": []
  },
  {
   "cell_type": "markdown",
   "metadata": {},
   "source": [
    "(3) Look at the output of the logistic regression model. Formally, which predictors have a significant\n",
    " influence on the response, at the 95% confidence level? Motivate your answer."
   ]
  },
  {
   "cell_type": "code",
   "execution_count": 13,
   "metadata": {},
   "outputs": [
    {
     "name": "stdout",
     "output_type": "stream",
     "text": [
      "                           Logit Regression Results                           \n",
      "==============================================================================\n",
      "Dep. Variable:            death_event   No. Observations:                  299\n",
      "Model:                          Logit   Df Residuals:                      293\n",
      "Method:                           MLE   Df Model:                            5\n",
      "Date:                Tue, 11 Feb 2025   Pseudo R-squ.:                  0.1923\n",
      "Time:                        17:46:21   Log-Likelihood:                -151.58\n",
      "converged:                       True   LL-Null:                       -187.67\n",
      "Covariance Type:            nonrobust   LLR p-value:                 3.600e-14\n",
      "============================================================================================\n",
      "                               coef    std err          z      P>|z|      [0.025      0.975]\n",
      "--------------------------------------------------------------------------------------------\n",
      "const                       -2.5076      0.942     -2.661      0.008      -4.355      -0.661\n",
      "age                          0.0535      0.013      4.277      0.000       0.029       0.078\n",
      "creatinine_phosphokinase     0.0002      0.000      1.455      0.146   -6.73e-05       0.000\n",
      "ejection_fraction           -0.0703      0.014     -4.867      0.000      -0.099      -0.042\n",
      "platelets                -2.651e-07   1.51e-06     -0.176      0.860   -3.22e-06    2.69e-06\n",
      "serum_creatinine             0.6694      0.163      4.115      0.000       0.351       0.988\n",
      "============================================================================================\n"
     ]
    }
   ],
   "source": [
    "print(logit_m.summary())"
   ]
  },
  {
   "cell_type": "markdown",
   "metadata": {},
   "source": [
    "The statistical significant regressors at $95$% confidence level are 'const', 'age', 'ejection_fraction' and 'serum_creatine' because the pvalue associated to their t-statistic is lower than $0.05$. For these regressors we reject the null hypothesis of zero coefficients. The remaining regressors are not statistically significant to this confidence level and we cannot reject the null hypothesis of zero coefficients."
   ]
  },
  {
   "cell_type": "code",
   "execution_count": null,
   "metadata": {},
   "outputs": [],
   "source": []
  },
  {
   "cell_type": "markdown",
   "metadata": {},
   "source": [
    " (4) Given that\n",
    " X_test=[constant, ’age’,’creatinine_phosphokinase’, ’ejection_fraction’,’platelets’,’serum_creatinine’],\n",
    " estimate the probability for y = 1 with X_test1=[const=1,78,200,38,404500,0.6] and\n",
    " X_test2=[const=1,1,55,500,12,303500,1]. What would be your prediction for y in these cases?"
   ]
  },
  {
   "cell_type": "code",
   "execution_count": 17,
   "metadata": {},
   "outputs": [],
   "source": [
    "X_test1=[1,78,200,38,404500,0.6]\n",
    "X_test2=[1,55,500,12,303500,1]"
   ]
  },
  {
   "cell_type": "code",
   "execution_count": 18,
   "metadata": {},
   "outputs": [
    {
     "data": {
      "text/plain": [
       "array([0.33754118])"
      ]
     },
     "execution_count": 18,
     "metadata": {},
     "output_type": "execute_result"
    }
   ],
   "source": [
    "logit_m.predict(X_test1)"
   ]
  },
  {
   "cell_type": "markdown",
   "metadata": {},
   "source": [
    "Since the result is $\\sim 0.34 < 0.5$ the prediction for 'X_test1' is $y=0$"
   ]
  },
  {
   "cell_type": "code",
   "execution_count": 19,
   "metadata": {},
   "outputs": [
    {
     "data": {
      "text/plain": [
       "array([0.56864098])"
      ]
     },
     "execution_count": 19,
     "metadata": {},
     "output_type": "execute_result"
    }
   ],
   "source": [
    "logit_m.predict(X_test2)"
   ]
  },
  {
   "cell_type": "markdown",
   "metadata": {},
   "source": [
    "Since the result is $\\sim 0.57 > 0.5$ the prediction for 'X_test2' is $y=1$"
   ]
  },
  {
   "cell_type": "code",
   "execution_count": null,
   "metadata": {},
   "outputs": [],
   "source": []
  },
  {
   "cell_type": "markdown",
   "metadata": {},
   "source": [
    "## 2.\n",
    "\n",
    " The AutoMPG dataset is used to study the relationship between vehicle characteristics and fuel\n",
    " efficiency. The dataset includes cylinders (number of engine cylinders), displacement (engine size in\n",
    " cubic inches), horsepower (engine power), weight (vehicle weight in pounds), acceleration (time to reach\n",
    " 60 mph), and model year (year of manufacture)."
   ]
  },
  {
   "cell_type": "markdown",
   "metadata": {},
   "source": [
    " (1) Use the linear regression model (WITHOUT intercept) to describe the data above: y=’mpg’,\n",
    " x= ’acceleration’ then plot data and linear regression line (do not use regplot function). Has the\n",
    " predictor x a significant influence on the response, at the 95% confidence level? Motivate your\n",
    " answer. "
   ]
  },
  {
   "cell_type": "code",
   "execution_count": 20,
   "metadata": {},
   "outputs": [
    {
     "data": {
      "text/html": [
       "<div>\n",
       "<style scoped>\n",
       "    .dataframe tbody tr th:only-of-type {\n",
       "        vertical-align: middle;\n",
       "    }\n",
       "\n",
       "    .dataframe tbody tr th {\n",
       "        vertical-align: top;\n",
       "    }\n",
       "\n",
       "    .dataframe thead th {\n",
       "        text-align: right;\n",
       "    }\n",
       "</style>\n",
       "<table border=\"1\" class=\"dataframe\">\n",
       "  <thead>\n",
       "    <tr style=\"text-align: right;\">\n",
       "      <th></th>\n",
       "      <th>displacement</th>\n",
       "      <th>cylinders</th>\n",
       "      <th>horsepower</th>\n",
       "      <th>weight</th>\n",
       "      <th>acceleration</th>\n",
       "      <th>model_year</th>\n",
       "      <th>mpg</th>\n",
       "    </tr>\n",
       "  </thead>\n",
       "  <tbody>\n",
       "    <tr>\n",
       "      <th>0</th>\n",
       "      <td>307.0</td>\n",
       "      <td>8</td>\n",
       "      <td>130.0</td>\n",
       "      <td>3504</td>\n",
       "      <td>12.0</td>\n",
       "      <td>70</td>\n",
       "      <td>18.0</td>\n",
       "    </tr>\n",
       "    <tr>\n",
       "      <th>1</th>\n",
       "      <td>350.0</td>\n",
       "      <td>8</td>\n",
       "      <td>165.0</td>\n",
       "      <td>3693</td>\n",
       "      <td>11.5</td>\n",
       "      <td>70</td>\n",
       "      <td>15.0</td>\n",
       "    </tr>\n",
       "    <tr>\n",
       "      <th>2</th>\n",
       "      <td>318.0</td>\n",
       "      <td>8</td>\n",
       "      <td>150.0</td>\n",
       "      <td>3436</td>\n",
       "      <td>11.0</td>\n",
       "      <td>70</td>\n",
       "      <td>18.0</td>\n",
       "    </tr>\n",
       "    <tr>\n",
       "      <th>3</th>\n",
       "      <td>304.0</td>\n",
       "      <td>8</td>\n",
       "      <td>150.0</td>\n",
       "      <td>3433</td>\n",
       "      <td>12.0</td>\n",
       "      <td>70</td>\n",
       "      <td>16.0</td>\n",
       "    </tr>\n",
       "    <tr>\n",
       "      <th>4</th>\n",
       "      <td>302.0</td>\n",
       "      <td>8</td>\n",
       "      <td>140.0</td>\n",
       "      <td>3449</td>\n",
       "      <td>10.5</td>\n",
       "      <td>70</td>\n",
       "      <td>17.0</td>\n",
       "    </tr>\n",
       "  </tbody>\n",
       "</table>\n",
       "</div>"
      ],
      "text/plain": [
       "   displacement  cylinders  horsepower  weight  acceleration  model_year   mpg\n",
       "0         307.0          8       130.0    3504          12.0          70  18.0\n",
       "1         350.0          8       165.0    3693          11.5          70  15.0\n",
       "2         318.0          8       150.0    3436          11.0          70  18.0\n",
       "3         304.0          8       150.0    3433          12.0          70  16.0\n",
       "4         302.0          8       140.0    3449          10.5          70  17.0"
      ]
     },
     "execution_count": 20,
     "metadata": {},
     "output_type": "execute_result"
    }
   ],
   "source": [
    "auto_df = pd.read_csv('auto_mpg.csv')\n",
    "auto_df.head()"
   ]
  },
  {
   "cell_type": "code",
   "execution_count": 21,
   "metadata": {},
   "outputs": [],
   "source": [
    "lm = sm.OLS(auto_df['mpg'], auto_df['acceleration']).fit()"
   ]
  },
  {
   "cell_type": "code",
   "execution_count": 25,
   "metadata": {},
   "outputs": [
    {
     "name": "stdout",
     "output_type": "stream",
     "text": [
      "                                 OLS Regression Results                                \n",
      "=======================================================================================\n",
      "Dep. Variable:                    mpg   R-squared (uncentered):                   0.917\n",
      "Model:                            OLS   Adj. R-squared (uncentered):              0.917\n",
      "Method:                 Least Squares   F-statistic:                              4328.\n",
      "Date:                Tue, 11 Feb 2025   Prob (F-statistic):                   1.46e-213\n",
      "Time:                        17:57:04   Log-Likelihood:                         -1325.3\n",
      "No. Observations:                 392   AIC:                                      2653.\n",
      "Df Residuals:                     391   BIC:                                      2656.\n",
      "Df Model:                           1                                                  \n",
      "Covariance Type:            nonrobust                                                  \n",
      "================================================================================\n",
      "                   coef    std err          t      P>|t|      [0.025      0.975]\n",
      "--------------------------------------------------------------------------------\n",
      "acceleration     1.4991      0.023     65.785      0.000       1.454       1.544\n",
      "==============================================================================\n",
      "Omnibus:                       11.410   Durbin-Watson:                   0.762\n",
      "Prob(Omnibus):                  0.003   Jarque-Bera (JB):               11.964\n",
      "Skew:                           0.417   Prob(JB):                      0.00252\n",
      "Kurtosis:                       2.809   Cond. No.                         1.00\n",
      "==============================================================================\n",
      "\n",
      "Notes:\n",
      "[1] R² is computed without centering (uncentered) since the model does not contain a constant.\n",
      "[2] Standard Errors assume that the covariance matrix of the errors is correctly specified.\n"
     ]
    }
   ],
   "source": [
    "print(lm.summary())"
   ]
  },
  {
   "cell_type": "markdown",
   "metadata": {},
   "source": [
    "The predictor 'acceleration' is statistically significant with confidence level $95$% having a pvalue for t-statistic lower than $0.05$ so we can reject the null hypothesis of zero coefficient.  "
   ]
  },
  {
   "cell_type": "code",
   "execution_count": 28,
   "metadata": {},
   "outputs": [
    {
     "data": {
      "image/png": "[encoded data removed]",
      "text/plain": [
       "<Figure size 640x480 with 1 Axes>"
      ]
     },
     "metadata": {},
     "output_type": "display_data"
    }
   ],
   "source": [
    "plt.plot(auto_df['acceleration'], auto_df['mpg'],'o')\n",
    "plt.plot(np.linspace(7.5,25,100), lm.predict(np.linspace(7.5,25,100)), c = 'r')\n",
    "plt.show()"
   ]
  },
  {
   "cell_type": "code",
   "execution_count": null,
   "metadata": {},
   "outputs": [],
   "source": []
  },
  {
   "cell_type": "markdown",
   "metadata": {},
   "source": [
    " (2) Use the linear regression model (WITH intercept) to describe the data above:\n",
    " 1- y=’mpg’, x= [’horsepower’].\n",
    " 2- y=’mpg’, x= [’horsepower’,’weight’].\n",
    " 3- y=’mpg’, x= [’horsepower’,’weight’,’model_year’]\n",
    " Describe each case; which predictors have a significant influence on the response, at the 95%\n",
    " confidence level? Motivate your answer.\n",
    "\n",
    " Which model performs better? Discuss in detail the quantities that need to be considered (and\n",
    " those that do not)."
   ]
  },
  {
   "cell_type": "code",
   "execution_count": 29,
   "metadata": {},
   "outputs": [],
   "source": [
    "lm1 = sm.OLS(auto_df['mpg'], sm.add_constant(auto_df['horsepower'])).fit()"
   ]
  },
  {
   "cell_type": "code",
   "execution_count": 32,
   "metadata": {},
   "outputs": [
    {
     "name": "stdout",
     "output_type": "stream",
     "text": [
      "                            OLS Regression Results                            \n",
      "==============================================================================\n",
      "Dep. Variable:                    mpg   R-squared:                       0.606\n",
      "Model:                            OLS   Adj. R-squared:                  0.605\n",
      "Method:                 Least Squares   F-statistic:                     599.7\n",
      "Date:                Tue, 11 Feb 2025   Prob (F-statistic):           7.03e-81\n",
      "Time:                        18:02:22   Log-Likelihood:                -1178.7\n",
      "No. Observations:                 392   AIC:                             2361.\n",
      "Df Residuals:                     390   BIC:                             2369.\n",
      "Df Model:                           1                                         \n",
      "Covariance Type:            nonrobust                                         \n",
      "==============================================================================\n",
      "                 coef    std err          t      P>|t|      [0.025      0.975]\n",
      "------------------------------------------------------------------------------\n",
      "const         39.9359      0.717     55.660      0.000      38.525      41.347\n",
      "horsepower    -0.1578      0.006    -24.489      0.000      -0.171      -0.145\n",
      "==============================================================================\n",
      "Omnibus:                       16.432   Durbin-Watson:                   0.920\n",
      "Prob(Omnibus):                  0.000   Jarque-Bera (JB):               17.305\n",
      "Skew:                           0.492   Prob(JB):                     0.000175\n",
      "Kurtosis:                       3.299   Cond. No.                         322.\n",
      "==============================================================================\n",
      "\n",
      "Notes:\n",
      "[1] Standard Errors assume that the covariance matrix of the errors is correctly specified.\n"
     ]
    }
   ],
   "source": [
    "print(lm1.summary())"
   ]
  },
  {
   "cell_type": "markdown",
   "metadata": {},
   "source": [
    "Both predictors are statistically significant at $95$%. We can reject the null hypothesis of zero coefficients."
   ]
  },
  {
   "cell_type": "code",
   "execution_count": 30,
   "metadata": {},
   "outputs": [],
   "source": [
    "lm2 = sm.OLS(auto_df['mpg'], sm.add_constant(auto_df[['horsepower','weight']])).fit()"
   ]
  },
  {
   "cell_type": "code",
   "execution_count": 33,
   "metadata": {},
   "outputs": [
    {
     "name": "stdout",
     "output_type": "stream",
     "text": [
      "                            OLS Regression Results                            \n",
      "==============================================================================\n",
      "Dep. Variable:                    mpg   R-squared:                       0.706\n",
      "Model:                            OLS   Adj. R-squared:                  0.705\n",
      "Method:                 Least Squares   F-statistic:                     467.9\n",
      "Date:                Tue, 11 Feb 2025   Prob (F-statistic):          3.06e-104\n",
      "Time:                        18:03:29   Log-Likelihood:                -1121.0\n",
      "No. Observations:                 392   AIC:                             2248.\n",
      "Df Residuals:                     389   BIC:                             2260.\n",
      "Df Model:                           2                                         \n",
      "Covariance Type:            nonrobust                                         \n",
      "==============================================================================\n",
      "                 coef    std err          t      P>|t|      [0.025      0.975]\n",
      "------------------------------------------------------------------------------\n",
      "const         45.6402      0.793     57.540      0.000      44.081      47.200\n",
      "horsepower    -0.0473      0.011     -4.267      0.000      -0.069      -0.026\n",
      "weight        -0.0058      0.001    -11.535      0.000      -0.007      -0.005\n",
      "==============================================================================\n",
      "Omnibus:                       35.336   Durbin-Watson:                   0.858\n",
      "Prob(Omnibus):                  0.000   Jarque-Bera (JB):               45.973\n",
      "Skew:                           0.683   Prob(JB):                     1.04e-10\n",
      "Kurtosis:                       3.974   Cond. No.                     1.15e+04\n",
      "==============================================================================\n",
      "\n",
      "Notes:\n",
      "[1] Standard Errors assume that the covariance matrix of the errors is correctly specified.\n",
      "[2] The condition number is large, 1.15e+04. This might indicate that there are\n",
      "strong multicollinearity or other numerical problems.\n"
     ]
    }
   ],
   "source": [
    "print(lm2.summary())"
   ]
  },
  {
   "cell_type": "markdown",
   "metadata": {},
   "source": [
    "All three predictors are statistically significant at $95$%. We can reject the null hypothesis of zero coefficients."
   ]
  },
  {
   "cell_type": "code",
   "execution_count": 31,
   "metadata": {},
   "outputs": [],
   "source": [
    "lm3 = sm.OLS(auto_df['mpg'], sm.add_constant(auto_df[['horsepower','weight','model_year']])).fit()"
   ]
  },
  {
   "cell_type": "code",
   "execution_count": 34,
   "metadata": {},
   "outputs": [
    {
     "name": "stdout",
     "output_type": "stream",
     "text": [
      "                            OLS Regression Results                            \n",
      "==============================================================================\n",
      "Dep. Variable:                    mpg   R-squared:                       0.808\n",
      "Model:                            OLS   Adj. R-squared:                  0.807\n",
      "Method:                 Least Squares   F-statistic:                     545.4\n",
      "Date:                Tue, 11 Feb 2025   Prob (F-statistic):          9.37e-139\n",
      "Time:                        18:04:21   Log-Likelihood:                -1037.4\n",
      "No. Observations:                 392   AIC:                             2083.\n",
      "Df Residuals:                     388   BIC:                             2099.\n",
      "Df Model:                           3                                         \n",
      "Covariance Type:            nonrobust                                         \n",
      "==============================================================================\n",
      "                 coef    std err          t      P>|t|      [0.025      0.975]\n",
      "------------------------------------------------------------------------------\n",
      "const        -13.7194      4.182     -3.281      0.001     -21.941      -5.498\n",
      "horsepower    -0.0050      0.009     -0.530      0.597      -0.024       0.014\n",
      "weight        -0.0064      0.000    -15.768      0.000      -0.007      -0.006\n",
      "model_year     0.7487      0.052     14.365      0.000       0.646       0.851\n",
      "==============================================================================\n",
      "Omnibus:                       41.952   Durbin-Watson:                   1.227\n",
      "Prob(Omnibus):                  0.000   Jarque-Bera (JB):               69.490\n",
      "Skew:                           0.671   Prob(JB):                     8.14e-16\n",
      "Kurtosis:                       4.566   Cond. No.                     7.48e+04\n",
      "==============================================================================\n",
      "\n",
      "Notes:\n",
      "[1] Standard Errors assume that the covariance matrix of the errors is correctly specified.\n",
      "[2] The condition number is large, 7.48e+04. This might indicate that there are\n",
      "strong multicollinearity or other numerical problems.\n"
     ]
    }
   ],
   "source": [
    "print(lm3.summary())"
   ]
  },
  {
   "cell_type": "markdown",
   "metadata": {},
   "source": [
    "All predictors except for 'horsepower' are statistically significant at $95$%. For the regressor 'horsepower' in this case we cannot reject the null hypothesis of zero coefficient."
   ]
  },
  {
   "cell_type": "markdown",
   "metadata": {},
   "source": [
    "The third model (with three regressor and the constant) is the best one since it have an higher 'adjusted-$R^2$' than the other two and also lower values for both 'AIC' and 'BIC'.\n",
    "\n",
    "In this model the quantity 'horsepower' is not statistically significant though."
   ]
  },
  {
   "cell_type": "markdown",
   "metadata": {},
   "source": [
    "(3) Describe the dataset; compute the average, variance, and quartiles of ’displacement’,’weight’.\n",
    " Plot them in a scatterplot."
   ]
  },
  {
   "cell_type": "code",
   "execution_count": 36,
   "metadata": {},
   "outputs": [
    {
     "data": {
      "text/html": [
       "<div>\n",
       "<style scoped>\n",
       "    .dataframe tbody tr th:only-of-type {\n",
       "        vertical-align: middle;\n",
       "    }\n",
       "\n",
       "    .dataframe tbody tr th {\n",
       "        vertical-align: top;\n",
       "    }\n",
       "\n",
       "    .dataframe thead th {\n",
       "        text-align: right;\n",
       "    }\n",
       "</style>\n",
       "<table border=\"1\" class=\"dataframe\">\n",
       "  <thead>\n",
       "    <tr style=\"text-align: right;\">\n",
       "      <th></th>\n",
       "      <th>displacement</th>\n",
       "      <th>weight</th>\n",
       "    </tr>\n",
       "  </thead>\n",
       "  <tbody>\n",
       "    <tr>\n",
       "      <th>count</th>\n",
       "      <td>392.000000</td>\n",
       "      <td>392.000000</td>\n",
       "    </tr>\n",
       "    <tr>\n",
       "      <th>mean</th>\n",
       "      <td>194.411990</td>\n",
       "      <td>2977.584184</td>\n",
       "    </tr>\n",
       "    <tr>\n",
       "      <th>std</th>\n",
       "      <td>104.644004</td>\n",
       "      <td>849.402560</td>\n",
       "    </tr>\n",
       "    <tr>\n",
       "      <th>min</th>\n",
       "      <td>68.000000</td>\n",
       "      <td>1613.000000</td>\n",
       "    </tr>\n",
       "    <tr>\n",
       "      <th>25%</th>\n",
       "      <td>105.000000</td>\n",
       "      <td>2225.250000</td>\n",
       "    </tr>\n",
       "    <tr>\n",
       "      <th>50%</th>\n",
       "      <td>151.000000</td>\n",
       "      <td>2803.500000</td>\n",
       "    </tr>\n",
       "    <tr>\n",
       "      <th>75%</th>\n",
       "      <td>275.750000</td>\n",
       "      <td>3614.750000</td>\n",
       "    </tr>\n",
       "    <tr>\n",
       "      <th>max</th>\n",
       "      <td>455.000000</td>\n",
       "      <td>5140.000000</td>\n",
       "    </tr>\n",
       "  </tbody>\n",
       "</table>\n",
       "</div>"
      ],
      "text/plain": [
       "       displacement       weight\n",
       "count    392.000000   392.000000\n",
       "mean     194.411990  2977.584184\n",
       "std      104.644004   849.402560\n",
       "min       68.000000  1613.000000\n",
       "25%      105.000000  2225.250000\n",
       "50%      151.000000  2803.500000\n",
       "75%      275.750000  3614.750000\n",
       "max      455.000000  5140.000000"
      ]
     },
     "execution_count": 36,
     "metadata": {},
     "output_type": "execute_result"
    }
   ],
   "source": [
    "auto_df[['displacement','weight']].describe()"
   ]
  },
  {
   "cell_type": "markdown",
   "metadata": {},
   "source": [
    "Let's compute the variances"
   ]
  },
  {
   "cell_type": "code",
   "execution_count": 37,
   "metadata": {},
   "outputs": [
    {
     "data": {
      "text/plain": [
       "10922.432942979489"
      ]
     },
     "execution_count": 37,
     "metadata": {},
     "output_type": "execute_result"
    }
   ],
   "source": [
    "np.var(auto_df['displacement'])"
   ]
  },
  {
   "cell_type": "code",
   "execution_count": 38,
   "metadata": {},
   "outputs": [
    {
     "data": {
      "text/plain": [
       "719644.18679066"
      ]
     },
     "execution_count": 38,
     "metadata": {},
     "output_type": "execute_result"
    }
   ],
   "source": [
    "np.var(auto_df['weight'])"
   ]
  },
  {
   "cell_type": "code",
   "execution_count": 40,
   "metadata": {},
   "outputs": [
    {
     "data": {
      "image/png": "[encoded data removed]",
      "text/plain": [
       "<Figure size 640x480 with 1 Axes>"
      ]
     },
     "metadata": {},
     "output_type": "display_data"
    }
   ],
   "source": [
    "plt.scatter(auto_df['displacement'], auto_df['weight'])\n",
    "plt.show()"
   ]
  },
  {
   "cell_type": "markdown",
   "metadata": {},
   "source": [
    " (4) Compute the Pearson correlation coefficient between all the columns and plot the results in a\n",
    " heatmap "
   ]
  },
  {
   "cell_type": "code",
   "execution_count": null,
   "metadata": {},
   "outputs": [
    {
     "data": {
      "image/png": "[encoded data removed]",
      "text/plain": [
       "<Figure size 640x480 with 2 Axes>"
      ]
     },
     "metadata": {},
     "output_type": "display_data"
    }
   ],
   "source": [
    "sns.heatmap(auto_df.corr(), annot=True, cmap='coolwarm',vmin=-1,vmax=1)\n",
    "plt.show()"
   ]
  },
  {
   "cell_type": "markdown",
   "metadata": {},
   "source": [
    " (5) Are ’acceleration’ and ’horsepower’, and, ’acceleration’ and ’model_year’ correlated according\n",
    " to the Spearman correlation? How? Is it significant (95%)? Discuss explicitly the results. "
   ]
  },
  {
   "cell_type": "code",
   "execution_count": 43,
   "metadata": {},
   "outputs": [
    {
     "data": {
      "text/plain": [
       "SignificanceResult(statistic=-0.6581423040218369, pvalue=5.157840368072828e-50)"
      ]
     },
     "execution_count": 43,
     "metadata": {},
     "output_type": "execute_result"
    }
   ],
   "source": [
    "stats.spearmanr(auto_df['acceleration'], auto_df['horsepower'])"
   ]
  },
  {
   "cell_type": "markdown",
   "metadata": {},
   "source": [
    "The two attributes are negatively correlated and it's statistically significant at $95$% confidence level. We can reject the null hypothesis of zero correlation since the pvalue $< 0.05$"
   ]
  },
  {
   "cell_type": "code",
   "execution_count": 44,
   "metadata": {},
   "outputs": [
    {
     "data": {
      "text/plain": [
       "SignificanceResult(statistic=0.27830640387945466, pvalue=2.0984954188030466e-08)"
      ]
     },
     "execution_count": 44,
     "metadata": {},
     "output_type": "execute_result"
    }
   ],
   "source": [
    "stats.spearmanr(auto_df['acceleration'], auto_df['model_year'])"
   ]
  },
  {
   "cell_type": "markdown",
   "metadata": {},
   "source": [
    "The two attributes are positively correlated and it's statistically significant at $95$% confidence level. We can reject the null hypothesis of zero correlation since the pvalue $< 0.05$"
   ]
  },
  {
   "cell_type": "code",
   "execution_count": null,
   "metadata": {},
   "outputs": [],
   "source": []
  },
  {
   "cell_type": "markdown",
   "metadata": {},
   "source": [
    " ## 3.\n",
    "\n",
    " Suppose we observe n realizations y1,...,yn of n independent random variables, Y1,...,Yn from a\n",
    " uniform distribution on the interval [−θ,θ]. Consider the alternative estimator for the parameter θ^2 Z where c > 0 is a constant. Fix c = 8 and implement the estimator above.\n"
   ]
  },
  {
   "cell_type": "markdown",
   "metadata": {},
   "source": [
    " (1) A simple computation shows that E[Z] = n\n",
    " (n−8)θ2 Is Z biased or unbiased? Is Z asymptotically\n",
    " unbiased? Motivate your answer."
   ]
  },
  {
   "cell_type": "markdown",
   "metadata": {},
   "source": [
    "This is biased since $E[Z] \\neq \\theta^2$. It is asyptotically unbiased because $\\lim_{n \\rightarrow \\infty} E[Z](n) = \\theta^2$"
   ]
  },
  {
   "cell_type": "markdown",
   "metadata": {},
   "source": [
    " Randomly draw 20 observations from the uniform distribution and compute an estimate using\n",
    " Z. Repeat this procedure 5000 times. "
   ]
  },
  {
   "cell_type": "code",
   "execution_count": null,
   "metadata": {},
   "outputs": [],
   "source": [
    "Z_arr = np.zeros(5000)\n",
    "\n",
    "for j in range(5000):\n",
    "    Y_i = stats.uniform.rvs(loc = -1, scale = 1, size = 20) # I fixed theta = 1\n",
    "    Z = (3/(20 - 8))*np.sum(Y_i**2)\n",
    "    Z_arr[j] = Z"
   ]
  },
  {
   "cell_type": "code",
   "execution_count": null,
   "metadata": {},
   "outputs": [],
   "source": []
  },
  {
   "cell_type": "markdown",
   "metadata": {},
   "source": [
    "(3) Plot a histogram and cumulative distribution of Z"
   ]
  },
  {
   "cell_type": "code",
   "execution_count": 62,
   "metadata": {},
   "outputs": [
    {
     "data": {
      "image/png": "[encoded data removed]",
      "text/plain": [
       "<Figure size 640x480 with 1 Axes>"
      ]
     },
     "metadata": {},
     "output_type": "display_data"
    }
   ],
   "source": [
    "plt.hist(Z_arr)\n",
    "plt.show()"
   ]
  },
  {
   "cell_type": "code",
   "execution_count": 63,
   "metadata": {},
   "outputs": [
    {
     "data": {
      "image/png": "[encoded data removed]",
      "text/plain": [
       "<Figure size 640x480 with 1 Axes>"
      ]
     },
     "metadata": {},
     "output_type": "display_data"
    }
   ],
   "source": [
    "plt.plot(np.sort(Z_arr), np.arange(1,len(Z_arr)+1)/len(Z_arr))\n",
    "plt.show()"
   ]
  },
  {
   "cell_type": "markdown",
   "metadata": {},
   "source": [
    "## 4\n",
    "\n",
    "4.1. A group of nutritionists is studying the impact of three different diet plans on weight\n",
    " loss success. Ninety participants were randomly assigned to one of the three diet plans,\n",
    " with 30 participants per plan. At the end of the study, each participant’s outcome was\n",
    " classified as either successful or unsuccessful, and the results were compiled into a contin\n",
    "gency table. To determine if there is a relationship between the diet plan followed and\n",
    " weight loss success, the researchers want to test the null hypothesis that these variables\n",
    " are independent. What statistical test should they employ?"
   ]
  },
  {
   "cell_type": "markdown",
   "metadata": {},
   "source": [
    "Answer: \n",
    "\n",
    "c. chi-squared test"
   ]
  },
  {
   "cell_type": "code",
   "execution_count": null,
   "metadata": {},
   "outputs": [],
   "source": []
  },
  {
   "cell_type": "markdown",
   "metadata": {},
   "source": [
    " 4.2. When selecting a regression model, which of the following is true about the Akaike\n",
    " Information Criterion (AIC)?."
   ]
  },
  {
   "cell_type": "markdown",
   "metadata": {},
   "source": [
    "Answer:\n",
    "\n",
    "a. The lower the AIC value, the better the model"
   ]
  },
  {
   "cell_type": "code",
   "execution_count": null,
   "metadata": {},
   "outputs": [],
   "source": []
  },
  {
   "cell_type": "markdown",
   "metadata": {},
   "source": [
    " 4.3. You have two containers of different volumes. Each container’s liquid level is measured\n",
    " 50 times. Which test should you use to determine if the two variances are the same?"
   ]
  },
  {
   "cell_type": "markdown",
   "metadata": {},
   "source": [
    "Answer:\n",
    "\n",
    "e. F-test"
   ]
  },
  {
   "cell_type": "code",
   "execution_count": null,
   "metadata": {},
   "outputs": [],
   "source": []
  },
  {
   "cell_type": "markdown",
   "metadata": {},
   "source": [
    " ## 5.\n",
    "\n",
    " Given the dataset\n",
    " power_consumption.csv\n",
    " (1) plot a QQ plot; ’Voltage’ against Gaussian quantiles to check whether the sample is normal (i.e.\n",
    " Gaussian) (2 points)\n",
    " (2) Test if ’Voltage’ is normally (i.e. Gaussian) distributed by performing a Kolmogorov-Smirnov\n",
    " test, with a confidence level of 95%. Discuss the results. (2 points)\n",
    " (3) Compute the confidence interval, with a confidence level of 90%, of the variance of the variable\n",
    " ’Global_active_power’ and maximum value of the variable ’Global_reactive_power’ with a\n",
    " number of bootstrap samples equal to 550. (3 points)"
   ]
  },
  {
   "cell_type": "code",
   "execution_count": 46,
   "metadata": {},
   "outputs": [
    {
     "data": {
      "text/html": [
       "<div>\n",
       "<style scoped>\n",
       "    .dataframe tbody tr th:only-of-type {\n",
       "        vertical-align: middle;\n",
       "    }\n",
       "\n",
       "    .dataframe tbody tr th {\n",
       "        vertical-align: top;\n",
       "    }\n",
       "\n",
       "    .dataframe thead th {\n",
       "        text-align: right;\n",
       "    }\n",
       "</style>\n",
       "<table border=\"1\" class=\"dataframe\">\n",
       "  <thead>\n",
       "    <tr style=\"text-align: right;\">\n",
       "      <th></th>\n",
       "      <th>Global_active_power</th>\n",
       "      <th>Global_reactive_power</th>\n",
       "      <th>Voltage</th>\n",
       "    </tr>\n",
       "  </thead>\n",
       "  <tbody>\n",
       "    <tr>\n",
       "      <th>0</th>\n",
       "      <td>4.216</td>\n",
       "      <td>0.418</td>\n",
       "      <td>234.84</td>\n",
       "    </tr>\n",
       "    <tr>\n",
       "      <th>1</th>\n",
       "      <td>5.360</td>\n",
       "      <td>0.436</td>\n",
       "      <td>233.63</td>\n",
       "    </tr>\n",
       "    <tr>\n",
       "      <th>2</th>\n",
       "      <td>5.374</td>\n",
       "      <td>0.498</td>\n",
       "      <td>233.29</td>\n",
       "    </tr>\n",
       "    <tr>\n",
       "      <th>3</th>\n",
       "      <td>5.388</td>\n",
       "      <td>0.502</td>\n",
       "      <td>233.74</td>\n",
       "    </tr>\n",
       "    <tr>\n",
       "      <th>4</th>\n",
       "      <td>3.666</td>\n",
       "      <td>0.528</td>\n",
       "      <td>235.68</td>\n",
       "    </tr>\n",
       "  </tbody>\n",
       "</table>\n",
       "</div>"
      ],
      "text/plain": [
       "   Global_active_power  Global_reactive_power  Voltage\n",
       "0                4.216                  0.418   234.84\n",
       "1                5.360                  0.436   233.63\n",
       "2                5.374                  0.498   233.29\n",
       "3                5.388                  0.502   233.74\n",
       "4                3.666                  0.528   235.68"
      ]
     },
     "execution_count": 46,
     "metadata": {},
     "output_type": "execute_result"
    }
   ],
   "source": [
    "power_df = pd.read_csv('power_consumption.csv')\n",
    "power_df.head()"
   ]
  },
  {
   "cell_type": "markdown",
   "metadata": {},
   "source": [
    "### 1."
   ]
  },
  {
   "cell_type": "code",
   "execution_count": 49,
   "metadata": {},
   "outputs": [
    {
     "data": {
      "image/png": "[encoded data removed]",
      "text/plain": [
       "<Figure size 640x480 with 1 Axes>"
      ]
     },
     "metadata": {},
     "output_type": "display_data"
    }
   ],
   "source": [
    "sm.qqplot(power_df['Voltage'], stats.norm(np.mean(power_df['Voltage']),np.std(power_df['Voltage'], ddof = 1)), line = '45')\n",
    "plt.show()"
   ]
  },
  {
   "cell_type": "code",
   "execution_count": null,
   "metadata": {},
   "outputs": [],
   "source": []
  },
  {
   "cell_type": "markdown",
   "metadata": {},
   "source": [
    "(2) Test if ’Voltage’ is normally (i.e. Gaussian) distributed by performing a Kolmogorov-Smirnov\n",
    " test, with a confidence level of 95%. Discuss the results. "
   ]
  },
  {
   "cell_type": "code",
   "execution_count": 50,
   "metadata": {},
   "outputs": [
    {
     "data": {
      "text/plain": [
       "KstestResult(statistic=0.05639907563644683, pvalue=0.0017539102489071367, statistic_location=235.28, statistic_sign=1)"
      ]
     },
     "execution_count": 50,
     "metadata": {},
     "output_type": "execute_result"
    }
   ],
   "source": [
    "stats.kstest(power_df['Voltage'], 'norm', args=(np.mean(power_df['Voltage']),np.std(power_df['Voltage'], ddof = 1)))"
   ]
  },
  {
   "cell_type": "markdown",
   "metadata": {},
   "source": [
    "The result is statistically significant at $95$%, i.e. we can reject the null hypothesis of normally distributed sample."
   ]
  },
  {
   "cell_type": "code",
   "execution_count": null,
   "metadata": {},
   "outputs": [],
   "source": []
  },
  {
   "cell_type": "markdown",
   "metadata": {},
   "source": [
    "(3) Compute the confidence interval, with a confidence level of 90%, of the variance of the variable\n",
    " ’Global_active_power’ and maximum value of the variable ’Global_reactive_power’ with a\n",
    " number of bootstrap samples equal to 550."
   ]
  },
  {
   "cell_type": "code",
   "execution_count": 52,
   "metadata": {},
   "outputs": [],
   "source": [
    "nboot = 550\n",
    "var_l = []\n",
    "max_l = []\n",
    "\n",
    "for i in range(nboot):\n",
    "    samp1 = choices(power_df['Global_active_power'], k = len(power_df))\n",
    "    samp2 = choices(power_df['Global_reactive_power'], k = len(power_df))\n",
    "    var_l.append(np.var(samp1))\n",
    "    max_l.append(np.max(samp2))"
   ]
  },
  {
   "cell_type": "code",
   "execution_count": 55,
   "metadata": {},
   "outputs": [
    {
     "data": {
      "text/plain": [
       "array([1.50275466, 1.76158071])"
      ]
     },
     "execution_count": 55,
     "metadata": {},
     "output_type": "execute_result"
    }
   ],
   "source": [
    "np.quantile(var_l, [0.05, 0.95])"
   ]
  },
  {
   "cell_type": "code",
   "execution_count": 56,
   "metadata": {},
   "outputs": [
    {
     "data": {
      "text/plain": [
       "array([0.52 , 0.528])"
      ]
     },
     "execution_count": 56,
     "metadata": {},
     "output_type": "execute_result"
    }
   ],
   "source": [
    "np.quantile(max_l, [0.05, 0.95])"
   ]
  }
 ],
 "metadata": {
  "kernelspec": {
   "display_name": "env_master_2025",
   "language": "python",
   "name": "python3"
  },
  "language_info": {
   "codemirror_mode": {
    "name": "ipython",
    "version": 3
   },
   "file_extension": ".py",
   "mimetype": "text/x-python",
   "name": "python",
   "nbconvert_exporter": "python",
   "pygments_lexer": "ipython3",
   "version": "3.12.7"
  }
 },
 "nbformat": 4,
 "nbformat_minor": 2
}
