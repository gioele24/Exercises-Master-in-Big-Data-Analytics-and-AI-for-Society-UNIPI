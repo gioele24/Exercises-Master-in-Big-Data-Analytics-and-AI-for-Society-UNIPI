{
 "cells": [
  {
   "cell_type": "markdown",
   "id": "09c0c307",
   "metadata": {},
   "source": [
    "## Linear regression"
   ]
  },
  {
   "cell_type": "markdown",
   "id": "c4f3d06b",
   "metadata": {},
   "source": [
    "Upload the dataset iris and consider the variables Sepal Length and Petal Length\n",
    "1. Make a scatter plot that can help visualize any relationship between the\n",
    "response variable y=Sepal Length and the explanatory variable x=Petal Length\n",
    "2. Fit a polynomial of degree one to the dataset in 1. (i.e. $y = c_0 + c_1x$)\n",
    "What is the interpretation of the coefficient c0 and c1? Plot scatterplot and outcome of linear regression. Formally, which predictors have a significant, at the 5% confidence level, influence on the response? Motivate your answer.\n",
    "3. Compute the 95% confidence interval for the slope in the linear regression\n",
    "model that expresses the Sepal.Length as a linear function of the Petal.Length.\n",
    "4. Now fit a polynomial of degree 2 as $y = c_0 + c_1x + c_2x^2$ . Plot scatterplot and outcome of linear regression.\n",
    "5. Compute the Akaike information criterion (AIC) of the two models.\n",
    "What model do you prefer?"
   ]
  },
  {
   "cell_type": "code",
   "execution_count": 69,
   "id": "e0793438",
   "metadata": {},
   "outputs": [],
   "source": [
    "import pandas as pd\n",
    "import matplotlib.pyplot as plt\n",
    "import statsmodels.api as sm\n",
    "import numpy as np"
   ]
  },
  {
   "cell_type": "code",
   "execution_count": 70,
   "id": "088337c5",
   "metadata": {},
   "outputs": [],
   "source": [
    "from sklearn.datasets import load_iris\n",
    "iris=pd.DataFrame(load_iris()['data'])\n",
    "iris.columns=load_iris()['feature_names']"
   ]
  },
  {
   "cell_type": "code",
   "execution_count": 71,
   "id": "ce0f1028",
   "metadata": {},
   "outputs": [
    {
     "data": {
      "text/html": [
       "<div>\n",
       "<style scoped>\n",
       "    .dataframe tbody tr th:only-of-type {\n",
       "        vertical-align: middle;\n",
       "    }\n",
       "\n",
       "    .dataframe tbody tr th {\n",
       "        vertical-align: top;\n",
       "    }\n",
       "\n",
       "    .dataframe thead th {\n",
       "        text-align: right;\n",
       "    }\n",
       "</style>\n",
       "<table border=\"1\" class=\"dataframe\">\n",
       "  <thead>\n",
       "    <tr style=\"text-align: right;\">\n",
       "      <th></th>\n",
       "      <th>sepal length (cm)</th>\n",
       "      <th>sepal width (cm)</th>\n",
       "      <th>petal length (cm)</th>\n",
       "      <th>petal width (cm)</th>\n",
       "    </tr>\n",
       "  </thead>\n",
       "  <tbody>\n",
       "    <tr>\n",
       "      <th>0</th>\n",
       "      <td>5.1</td>\n",
       "      <td>3.5</td>\n",
       "      <td>1.4</td>\n",
       "      <td>0.2</td>\n",
       "    </tr>\n",
       "    <tr>\n",
       "      <th>1</th>\n",
       "      <td>4.9</td>\n",
       "      <td>3.0</td>\n",
       "      <td>1.4</td>\n",
       "      <td>0.2</td>\n",
       "    </tr>\n",
       "    <tr>\n",
       "      <th>2</th>\n",
       "      <td>4.7</td>\n",
       "      <td>3.2</td>\n",
       "      <td>1.3</td>\n",
       "      <td>0.2</td>\n",
       "    </tr>\n",
       "    <tr>\n",
       "      <th>3</th>\n",
       "      <td>4.6</td>\n",
       "      <td>3.1</td>\n",
       "      <td>1.5</td>\n",
       "      <td>0.2</td>\n",
       "    </tr>\n",
       "    <tr>\n",
       "      <th>4</th>\n",
       "      <td>5.0</td>\n",
       "      <td>3.6</td>\n",
       "      <td>1.4</td>\n",
       "      <td>0.2</td>\n",
       "    </tr>\n",
       "  </tbody>\n",
       "</table>\n",
       "</div>"
      ],
      "text/plain": [
       "   sepal length (cm)  sepal width (cm)  petal length (cm)  petal width (cm)\n",
       "0                5.1               3.5                1.4               0.2\n",
       "1                4.9               3.0                1.4               0.2\n",
       "2                4.7               3.2                1.3               0.2\n",
       "3                4.6               3.1                1.5               0.2\n",
       "4                5.0               3.6                1.4               0.2"
      ]
     },
     "execution_count": 71,
     "metadata": {},
     "output_type": "execute_result"
    }
   ],
   "source": [
    "iris.head()"
   ]
  },
  {
   "cell_type": "markdown",
   "id": "a8eae7d2",
   "metadata": {},
   "source": [
    "### 1."
   ]
  },
  {
   "cell_type": "code",
   "execution_count": 72,
   "id": "1033e441",
   "metadata": {},
   "outputs": [
    {
     "data": {
      "image/png": "[encoded data removed]",
      "text/plain": [
       "<Figure size 640x480 with 1 Axes>"
      ]
     },
     "metadata": {},
     "output_type": "display_data"
    }
   ],
   "source": [
    "plt.scatter(iris['petal length (cm)'], iris['sepal length (cm)'])\n",
    "plt.show()"
   ]
  },
  {
   "cell_type": "markdown",
   "id": "f22a8651",
   "metadata": {},
   "source": [
    "### 2."
   ]
  },
  {
   "cell_type": "code",
   "execution_count": 73,
   "id": "cb0f1530",
   "metadata": {},
   "outputs": [],
   "source": [
    "lm1 = sm.OLS(iris['sepal length (cm)'],sm.add_constant(iris['petal length (cm)'])).fit()"
   ]
  },
  {
   "cell_type": "code",
   "execution_count": 74,
   "id": "c0f75e90",
   "metadata": {},
   "outputs": [
    {
     "name": "stdout",
     "output_type": "stream",
     "text": [
      "                            OLS Regression Results                            \n",
      "==============================================================================\n",
      "Dep. Variable:      sepal length (cm)   R-squared:                       0.760\n",
      "Model:                            OLS   Adj. R-squared:                  0.758\n",
      "Method:                 Least Squares   F-statistic:                     468.6\n",
      "Date:                Sun, 09 Feb 2025   Prob (F-statistic):           1.04e-47\n",
      "Time:                        17:47:40   Log-Likelihood:                -77.020\n",
      "No. Observations:                 150   AIC:                             158.0\n",
      "Df Residuals:                     148   BIC:                             164.1\n",
      "Df Model:                           1                                         \n",
      "Covariance Type:            nonrobust                                         \n",
      "=====================================================================================\n",
      "                        coef    std err          t      P>|t|      [0.025      0.975]\n",
      "-------------------------------------------------------------------------------------\n",
      "const                 4.3066      0.078     54.939      0.000       4.152       4.462\n",
      "petal length (cm)     0.4089      0.019     21.646      0.000       0.372       0.446\n",
      "==============================================================================\n",
      "Omnibus:                        0.207   Durbin-Watson:                   1.867\n",
      "Prob(Omnibus):                  0.902   Jarque-Bera (JB):                0.346\n",
      "Skew:                           0.069   Prob(JB):                        0.841\n",
      "Kurtosis:                       2.809   Cond. No.                         10.3\n",
      "==============================================================================\n",
      "\n",
      "Notes:\n",
      "[1] Standard Errors assume that the covariance matrix of the errors is correctly specified.\n"
     ]
    }
   ],
   "source": [
    "print(lm1.summary())"
   ]
  },
  {
   "cell_type": "markdown",
   "id": "3154907a",
   "metadata": {},
   "source": [
    "$c_0$ is the intercept and tells us that when `petal length (cm)` is zero (small realistically), the quantity `sepal length (cm)` is $\\sim 4.3$ cm. $c_1$ is the slope of the line and since is positive, its tells us that the two plotted quantity are positively correlated."
   ]
  },
  {
   "cell_type": "code",
   "execution_count": 75,
   "id": "d7728701",
   "metadata": {},
   "outputs": [
    {
     "data": {
      "image/png": "[encoded data removed]",
      "text/plain": [
       "<Figure size 640x480 with 1 Axes>"
      ]
     },
     "metadata": {},
     "output_type": "display_data"
    }
   ],
   "source": [
    "plt.scatter(iris['petal length (cm)'], iris['sepal length (cm)'])\n",
    "plt.plot(np.linspace(0,7,100), lm1.params.iloc[0] + lm1.params.iloc[1]*np.linspace(0,7,100), c = 'red')\n",
    "plt.show()"
   ]
  },
  {
   "cell_type": "markdown",
   "id": "98a792f4",
   "metadata": {},
   "source": [
    "or analogously"
   ]
  },
  {
   "cell_type": "code",
   "execution_count": 77,
   "id": "5bbe2582",
   "metadata": {},
   "outputs": [
    {
     "data": {
      "image/png": "[encoded data removed]",
      "text/plain": [
       "<Figure size 640x480 with 1 Axes>"
      ]
     },
     "metadata": {},
     "output_type": "display_data"
    }
   ],
   "source": [
    "plt.scatter(iris['petal length (cm)'], iris['sepal length (cm)'])\n",
    "plt.plot(np.linspace(0,7,100), lm1.predict(sm.add_constant(np.linspace(0,7,100))), c='red')\n",
    "plt.show()"
   ]
  },
  {
   "cell_type": "markdown",
   "id": "86d13356",
   "metadata": {},
   "source": [
    "Both predictors are statistically significant (with confidence level at $95$%) since the p-value associated with the t-statistic is in both cases smaller than $0.05$."
   ]
  },
  {
   "cell_type": "markdown",
   "id": "4cd319f5",
   "metadata": {},
   "source": [
    "### 3."
   ]
  },
  {
   "cell_type": "markdown",
   "id": "086be8ac",
   "metadata": {},
   "source": [
    "The confidence interval for the slope is already shown in the `lm1.summary()` command above."
   ]
  },
  {
   "cell_type": "code",
   "execution_count": 86,
   "id": "263909af",
   "metadata": {},
   "outputs": [
    {
     "data": {
      "text/html": [
       "<div>\n",
       "<style scoped>\n",
       "    .dataframe tbody tr th:only-of-type {\n",
       "        vertical-align: middle;\n",
       "    }\n",
       "\n",
       "    .dataframe tbody tr th {\n",
       "        vertical-align: top;\n",
       "    }\n",
       "\n",
       "    .dataframe thead th {\n",
       "        text-align: right;\n",
       "    }\n",
       "</style>\n",
       "<table border=\"1\" class=\"dataframe\">\n",
       "  <thead>\n",
       "    <tr style=\"text-align: right;\">\n",
       "      <th></th>\n",
       "      <th>0</th>\n",
       "      <th>1</th>\n",
       "    </tr>\n",
       "  </thead>\n",
       "  <tbody>\n",
       "    <tr>\n",
       "      <th>const</th>\n",
       "      <td>4.151697</td>\n",
       "      <td>4.461510</td>\n",
       "    </tr>\n",
       "    <tr>\n",
       "      <th>petal length (cm)</th>\n",
       "      <td>0.371591</td>\n",
       "      <td>0.446254</td>\n",
       "    </tr>\n",
       "  </tbody>\n",
       "</table>\n",
       "</div>"
      ],
      "text/plain": [
       "                          0         1\n",
       "const              4.151697  4.461510\n",
       "petal length (cm)  0.371591  0.446254"
      ]
     },
     "execution_count": 86,
     "metadata": {},
     "output_type": "execute_result"
    }
   ],
   "source": [
    "lm1.conf_int() # The argument is 1 - confidence_level (e.g. 0.05 for 95% confidence level)"
   ]
  },
  {
   "cell_type": "markdown",
   "id": "d16b586f",
   "metadata": {},
   "source": [
    "### 4."
   ]
  },
  {
   "cell_type": "code",
   "execution_count": 23,
   "id": "2d3e537a",
   "metadata": {},
   "outputs": [],
   "source": [
    "lm2 = sm.OLS(iris['sepal length (cm)'], np.vander(iris['petal length (cm)'], 3, increasing=True)).fit()"
   ]
  },
  {
   "cell_type": "code",
   "execution_count": 24,
   "id": "93843daa",
   "metadata": {},
   "outputs": [
    {
     "name": "stdout",
     "output_type": "stream",
     "text": [
      "                            OLS Regression Results                            \n",
      "==============================================================================\n",
      "Dep. Variable:      sepal length (cm)   R-squared:                       0.809\n",
      "Model:                            OLS   Adj. R-squared:                  0.807\n",
      "Method:                 Least Squares   F-statistic:                     312.3\n",
      "Date:                Sun, 09 Feb 2025   Prob (F-statistic):           1.19e-53\n",
      "Time:                        11:01:38   Log-Likelihood:                -59.692\n",
      "No. Observations:                 150   AIC:                             125.4\n",
      "Df Residuals:                     147   BIC:                             134.4\n",
      "Df Model:                           2                                         \n",
      "Covariance Type:            nonrobust                                         \n",
      "==============================================================================\n",
      "                 coef    std err          t      P>|t|      [0.025      0.975]\n",
      "------------------------------------------------------------------------------\n",
      "const          5.0583      0.140     36.038      0.000       4.781       5.336\n",
      "x1            -0.1644      0.094     -1.743      0.083      -0.351       0.022\n",
      "x2             0.0815      0.013      6.181      0.000       0.055       0.108\n",
      "==============================================================================\n",
      "Omnibus:                        0.268   Durbin-Watson:                   1.837\n",
      "Prob(Omnibus):                  0.875   Jarque-Bera (JB):                0.343\n",
      "Skew:                           0.098   Prob(JB):                        0.842\n",
      "Kurtosis:                       2.871   Cond. No.                         122.\n",
      "==============================================================================\n",
      "\n",
      "Notes:\n",
      "[1] Standard Errors assume that the covariance matrix of the errors is correctly specified.\n"
     ]
    }
   ],
   "source": [
    "print(lm2.summary())"
   ]
  },
  {
   "cell_type": "code",
   "execution_count": 25,
   "id": "9aeafae1",
   "metadata": {},
   "outputs": [
    {
     "data": {
      "image/png": "[encoded data removed]",
      "text/plain": [
       "<Figure size 640x480 with 1 Axes>"
      ]
     },
     "metadata": {},
     "output_type": "display_data"
    }
   ],
   "source": [
    "plt.scatter(iris['petal length (cm)'], iris['sepal length (cm)'])\n",
    "plt.plot(np.linspace(0,7,100), lm2.params.iloc[0] + lm2.params.iloc[1]*np.linspace(0,7,100) + lm2.params.iloc[2]*np.linspace(0,7,100)**2, c = 'red')\n",
    "plt.show()"
   ]
  },
  {
   "cell_type": "code",
   "execution_count": 90,
   "id": "7f3e329c",
   "metadata": {},
   "outputs": [
    {
     "data": {
      "image/png": "[encoded data removed]",
      "text/plain": [
       "<Figure size 640x480 with 1 Axes>"
      ]
     },
     "metadata": {},
     "output_type": "display_data"
    }
   ],
   "source": [
    "plt.scatter(iris['petal length (cm)'], iris['sepal length (cm)'])\n",
    "plt.plot(np.linspace(0,7,100), lm2.predict(np.vander(np.linspace(0,7,100), 3, increasing = True)), c='red')\n",
    "plt.show()"
   ]
  },
  {
   "cell_type": "markdown",
   "id": "59bd17cf",
   "metadata": {},
   "source": [
    "### 5."
   ]
  },
  {
   "cell_type": "markdown",
   "id": "1fc591a2",
   "metadata": {},
   "source": [
    "The Akaike information criterion is already computed in the summaries above. We can interpret here the results. The AIC for the 2 regressors model is $AIC = 158$ while for the 3 regressors one is $AIC = 125.4$. Therefore the second model (3 regressors) has to be preferred having a lower AIC value."
   ]
  },
  {
   "cell_type": "markdown",
   "id": "bc518c00",
   "metadata": {},
   "source": [
    "## Logistic regression"
   ]
  },
  {
   "cell_type": "markdown",
   "id": "21148c44",
   "metadata": {},
   "source": [
    "A dataset (heart_data.csv) has been collected to study the probability of a heart disease in relation to people habits and financial situation. To this end, the dependent binary variable (y) reflects the state of health: y = 1 means that the subject suffered and heart disease, while y = 0 indicates that the subject is in good health.\n",
    "1-Is this a regression or classification problem?\n",
    "The following predictor variables were used for the analysis:\n",
    "-'coffee_drinker' is a binary variable indicating if the subject drinks coffee (x1 = 1) or not (x1 = 0).\n",
    "-'fast_food_spend' indicates the money spent for fast food during the year of analysis.\n",
    "-'income' indicates the net income per year.\n",
    "Answer the following points.\n",
    "2-logistic regression model for this case.\n",
    "3-Look at the output of the logistic regression model. Formally, which predictors have a significant, at the 95% confidence level, influence on the response? Motivate your answer.\n",
    "4-Estimate the probability for y = 1 with X_test1=[1,0,1589,25489] and X_test2=[1,1,5589,4489].\n",
    "What would be your prediction for y in these cases?"
   ]
  },
  {
   "cell_type": "markdown",
   "id": "ce1391f5",
   "metadata": {},
   "source": [
    "### 1."
   ]
  },
  {
   "cell_type": "markdown",
   "id": "703790d9",
   "metadata": {},
   "source": [
    "It's a classification problem since the aim of the analysis is to predict the state of health of patients (categorical binary data) beased on the their habits"
   ]
  },
  {
   "cell_type": "markdown",
   "id": "430957cf",
   "metadata": {},
   "source": [
    "### 2."
   ]
  },
  {
   "cell_type": "code",
   "execution_count": 27,
   "id": "d6086c28",
   "metadata": {},
   "outputs": [],
   "source": [
    "import pandas as pd\n",
    "import statsmodels.api as sm"
   ]
  },
  {
   "cell_type": "code",
   "execution_count": 29,
   "id": "194376df",
   "metadata": {},
   "outputs": [
    {
     "data": {
      "text/html": [
       "<div>\n",
       "<style scoped>\n",
       "    .dataframe tbody tr th:only-of-type {\n",
       "        vertical-align: middle;\n",
       "    }\n",
       "\n",
       "    .dataframe tbody tr th {\n",
       "        vertical-align: top;\n",
       "    }\n",
       "\n",
       "    .dataframe thead th {\n",
       "        text-align: right;\n",
       "    }\n",
       "</style>\n",
       "<table border=\"1\" class=\"dataframe\">\n",
       "  <thead>\n",
       "    <tr style=\"text-align: right;\">\n",
       "      <th></th>\n",
       "      <th>heart_disease</th>\n",
       "      <th>coffee_drinker</th>\n",
       "      <th>fast_food_spend</th>\n",
       "      <th>income</th>\n",
       "    </tr>\n",
       "  </thead>\n",
       "  <tbody>\n",
       "    <tr>\n",
       "      <th>0</th>\n",
       "      <td>0</td>\n",
       "      <td>0</td>\n",
       "      <td>1823.816238</td>\n",
       "      <td>44361.62507</td>\n",
       "    </tr>\n",
       "    <tr>\n",
       "      <th>1</th>\n",
       "      <td>0</td>\n",
       "      <td>1</td>\n",
       "      <td>2042.951017</td>\n",
       "      <td>12106.13470</td>\n",
       "    </tr>\n",
       "    <tr>\n",
       "      <th>2</th>\n",
       "      <td>0</td>\n",
       "      <td>0</td>\n",
       "      <td>2683.872910</td>\n",
       "      <td>31767.13895</td>\n",
       "    </tr>\n",
       "    <tr>\n",
       "      <th>3</th>\n",
       "      <td>0</td>\n",
       "      <td>0</td>\n",
       "      <td>1323.126512</td>\n",
       "      <td>35704.49394</td>\n",
       "    </tr>\n",
       "    <tr>\n",
       "      <th>4</th>\n",
       "      <td>0</td>\n",
       "      <td>0</td>\n",
       "      <td>1964.139707</td>\n",
       "      <td>38463.49588</td>\n",
       "    </tr>\n",
       "  </tbody>\n",
       "</table>\n",
       "</div>"
      ],
      "text/plain": [
       "   heart_disease  coffee_drinker  fast_food_spend       income\n",
       "0              0               0      1823.816238  44361.62507\n",
       "1              0               1      2042.951017  12106.13470\n",
       "2              0               0      2683.872910  31767.13895\n",
       "3              0               0      1323.126512  35704.49394\n",
       "4              0               0      1964.139707  38463.49588"
      ]
     },
     "execution_count": 29,
     "metadata": {},
     "output_type": "execute_result"
    }
   ],
   "source": [
    "heart_df = pd.read_csv('heart_data.csv')\n",
    "heart_df.head()"
   ]
  },
  {
   "cell_type": "code",
   "execution_count": 32,
   "id": "1985952a",
   "metadata": {},
   "outputs": [
    {
     "name": "stdout",
     "output_type": "stream",
     "text": [
      "Optimization terminated successfully.\n",
      "         Current function value: 0.078577\n",
      "         Iterations 10\n"
     ]
    }
   ],
   "source": [
    "logit_m = sm.Logit(heart_df['heart_disease'], sm.add_constant(heart_df[['coffee_drinker','fast_food_spend','income']])).fit()"
   ]
  },
  {
   "cell_type": "code",
   "execution_count": 34,
   "id": "353cba36",
   "metadata": {},
   "outputs": [
    {
     "name": "stdout",
     "output_type": "stream",
     "text": [
      "                           Logit Regression Results                           \n",
      "==============================================================================\n",
      "Dep. Variable:          heart_disease   No. Observations:                10000\n",
      "Model:                          Logit   Df Residuals:                     9996\n",
      "Method:                           MLE   Df Model:                            3\n",
      "Date:                Sun, 09 Feb 2025   Pseudo R-squ.:                  0.4619\n",
      "Time:                        15:23:37   Log-Likelihood:                -785.77\n",
      "converged:                       True   LL-Null:                       -1460.3\n",
      "Covariance Type:            nonrobust   LLR p-value:                3.257e-292\n",
      "===================================================================================\n",
      "                      coef    std err          z      P>|z|      [0.025      0.975]\n",
      "-----------------------------------------------------------------------------------\n",
      "const             -10.8690      0.492    -22.079      0.000     -11.834      -9.904\n",
      "coffee_drinker     -0.6468      0.236     -2.738      0.006      -1.110      -0.184\n",
      "fast_food_spend     0.0023   9.28e-05     24.737      0.000       0.002       0.002\n",
      "income           3.033e-06    8.2e-06      0.370      0.712    -1.3e-05    1.91e-05\n",
      "===================================================================================\n",
      "\n",
      "Possibly complete quasi-separation: A fraction 0.15 of observations can be\n",
      "perfectly predicted. This might indicate that there is complete\n",
      "quasi-separation. In this case some parameters will not be identified.\n"
     ]
    }
   ],
   "source": [
    "print(logit_m.summary())"
   ]
  },
  {
   "cell_type": "markdown",
   "id": "066263ba",
   "metadata": {},
   "source": [
    "### 3."
   ]
  },
  {
   "cell_type": "markdown",
   "id": "5a89c009",
   "metadata": {},
   "source": [
    "All predictors have significance at $95$% confidence level except for `income` which has a p-value associated with the t-statistic of $0.712$ and therefore for such regressor we cannot reject the null hypothesis of zero coefficient."
   ]
  },
  {
   "cell_type": "markdown",
   "id": "caeb6aed",
   "metadata": {},
   "source": [
    "### 4."
   ]
  },
  {
   "cell_type": "code",
   "execution_count": 35,
   "id": "21c64dc0",
   "metadata": {},
   "outputs": [],
   "source": [
    "X_test1 = [1,0,1589,25489]\n",
    "X_test2 = [1,1,5589,4489]"
   ]
  },
  {
   "cell_type": "code",
   "execution_count": 36,
   "id": "4300a8f7",
   "metadata": {},
   "outputs": [
    {
     "data": {
      "text/plain": [
       "array([0.0007877])"
      ]
     },
     "execution_count": 36,
     "metadata": {},
     "output_type": "execute_result"
    }
   ],
   "source": [
    "logit_m.predict(X_test1)"
   ]
  },
  {
   "cell_type": "markdown",
   "id": "d3ce6fdf",
   "metadata": {},
   "source": [
    "The above result $0.0007877$ is smaller than $0.5$ so the prediction for `X_test1` is $y=0$"
   ]
  },
  {
   "cell_type": "code",
   "execution_count": 37,
   "id": "adfb38a7",
   "metadata": {},
   "outputs": [
    {
     "data": {
      "text/plain": [
       "array([0.78956865])"
      ]
     },
     "execution_count": 37,
     "metadata": {},
     "output_type": "execute_result"
    }
   ],
   "source": [
    "logit_m.predict(X_test2)"
   ]
  },
  {
   "cell_type": "markdown",
   "id": "ffdeb65a",
   "metadata": {},
   "source": [
    "The above result $0.7896$ is greater than $0.5$ so the prediction for `X_test2` is $y=1$"
   ]
  },
  {
   "cell_type": "markdown",
   "id": "791ffd02",
   "metadata": {},
   "source": [
    "## Test (kolmogorov-smirnov)"
   ]
  },
  {
   "cell_type": "markdown",
   "id": "a745a9be",
   "metadata": {},
   "source": [
    "Given the dataset hsb2.csv, compute the standard error and confidence interval for the correlation between write and math. Use bootstrap with a number of bootstrap samples equal to 500. Choose a confidence level of 95%"
   ]
  },
  {
   "cell_type": "markdown",
   "id": "b0d434cf",
   "metadata": {},
   "source": [
    "Given the dataset 'distr_sample.csv', each column represents a different sample.\n",
    "Test (Kolmogorov-Smirnov test) if they are one of the following:\n",
    "- norm: args=(10,5)\n",
    "- geom: args=(0.8,5)\n",
    "- uniform\n",
    "- lognorm: args=(4,6,2)\n",
    "\n",
    "Test (Kolmogorov-Smirnov test) if 'var1' and 'var3' or 'var2' and 'var5' are from the same distribution. Choose a confidence level of 95%"
   ]
  },
  {
   "cell_type": "code",
   "execution_count": 44,
   "id": "364eb080",
   "metadata": {},
   "outputs": [],
   "source": [
    "import pandas as pd\n",
    "from scipy import stats\n",
    "import numpy as np\n",
    "from random import choices"
   ]
  },
  {
   "cell_type": "code",
   "execution_count": 39,
   "id": "efeb7d58",
   "metadata": {},
   "outputs": [
    {
     "data": {
      "text/html": [
       "<div>\n",
       "<style scoped>\n",
       "    .dataframe tbody tr th:only-of-type {\n",
       "        vertical-align: middle;\n",
       "    }\n",
       "\n",
       "    .dataframe tbody tr th {\n",
       "        vertical-align: top;\n",
       "    }\n",
       "\n",
       "    .dataframe thead th {\n",
       "        text-align: right;\n",
       "    }\n",
       "</style>\n",
       "<table border=\"1\" class=\"dataframe\">\n",
       "  <thead>\n",
       "    <tr style=\"text-align: right;\">\n",
       "      <th></th>\n",
       "      <th>id</th>\n",
       "      <th>female</th>\n",
       "      <th>race</th>\n",
       "      <th>ses</th>\n",
       "      <th>schtyp</th>\n",
       "      <th>prog</th>\n",
       "      <th>read</th>\n",
       "      <th>write</th>\n",
       "      <th>math</th>\n",
       "      <th>science</th>\n",
       "      <th>socst</th>\n",
       "    </tr>\n",
       "  </thead>\n",
       "  <tbody>\n",
       "    <tr>\n",
       "      <th>0</th>\n",
       "      <td>70</td>\n",
       "      <td>0</td>\n",
       "      <td>4</td>\n",
       "      <td>1</td>\n",
       "      <td>1</td>\n",
       "      <td>1</td>\n",
       "      <td>57</td>\n",
       "      <td>52</td>\n",
       "      <td>41</td>\n",
       "      <td>47</td>\n",
       "      <td>57</td>\n",
       "    </tr>\n",
       "    <tr>\n",
       "      <th>1</th>\n",
       "      <td>121</td>\n",
       "      <td>1</td>\n",
       "      <td>4</td>\n",
       "      <td>2</td>\n",
       "      <td>1</td>\n",
       "      <td>3</td>\n",
       "      <td>68</td>\n",
       "      <td>59</td>\n",
       "      <td>53</td>\n",
       "      <td>63</td>\n",
       "      <td>61</td>\n",
       "    </tr>\n",
       "    <tr>\n",
       "      <th>2</th>\n",
       "      <td>86</td>\n",
       "      <td>0</td>\n",
       "      <td>4</td>\n",
       "      <td>3</td>\n",
       "      <td>1</td>\n",
       "      <td>1</td>\n",
       "      <td>44</td>\n",
       "      <td>33</td>\n",
       "      <td>54</td>\n",
       "      <td>58</td>\n",
       "      <td>31</td>\n",
       "    </tr>\n",
       "    <tr>\n",
       "      <th>3</th>\n",
       "      <td>141</td>\n",
       "      <td>0</td>\n",
       "      <td>4</td>\n",
       "      <td>3</td>\n",
       "      <td>1</td>\n",
       "      <td>3</td>\n",
       "      <td>63</td>\n",
       "      <td>44</td>\n",
       "      <td>47</td>\n",
       "      <td>53</td>\n",
       "      <td>56</td>\n",
       "    </tr>\n",
       "    <tr>\n",
       "      <th>4</th>\n",
       "      <td>172</td>\n",
       "      <td>0</td>\n",
       "      <td>4</td>\n",
       "      <td>2</td>\n",
       "      <td>1</td>\n",
       "      <td>2</td>\n",
       "      <td>47</td>\n",
       "      <td>52</td>\n",
       "      <td>57</td>\n",
       "      <td>53</td>\n",
       "      <td>61</td>\n",
       "    </tr>\n",
       "  </tbody>\n",
       "</table>\n",
       "</div>"
      ],
      "text/plain": [
       "    id  female  race  ses  schtyp  prog  read  write  math  science  socst\n",
       "0   70       0     4    1       1     1    57     52    41       47     57\n",
       "1  121       1     4    2       1     3    68     59    53       63     61\n",
       "2   86       0     4    3       1     1    44     33    54       58     31\n",
       "3  141       0     4    3       1     3    63     44    47       53     56\n",
       "4  172       0     4    2       1     2    47     52    57       53     61"
      ]
     },
     "execution_count": 39,
     "metadata": {},
     "output_type": "execute_result"
    }
   ],
   "source": [
    "hsb2_df = pd.read_csv('hsb2.csv')\n",
    "hsb2_df.head()"
   ]
  },
  {
   "cell_type": "code",
   "execution_count": 43,
   "id": "305d6c7d",
   "metadata": {},
   "outputs": [
    {
     "data": {
      "text/plain": [
       "PearsonRResult(statistic=0.6174492644854919, pvalue=2.086664741687138e-22)"
      ]
     },
     "execution_count": 43,
     "metadata": {},
     "output_type": "execute_result"
    }
   ],
   "source": [
    "stats.pearsonr(hsb2_df['write'], hsb2_df['math'])"
   ]
  },
  {
   "cell_type": "code",
   "execution_count": null,
   "id": "cbaaafab",
   "metadata": {},
   "outputs": [
    {
     "name": "stdout",
     "output_type": "stream",
     "text": [
      "standard error:  0.0017830990004866778\n",
      "confidence interval:  [0.53553549 0.69894561]\n"
     ]
    }
   ],
   "source": [
    "nboot = 500\n",
    "\n",
    "corrs = []\n",
    "\n",
    "for i in range(nboot):\n",
    "    index = np.random.choice(np.arange(len(hsb2_df)), size = len(hsb2_df))\n",
    "    write_i = hsb2_df['write'][index]\n",
    "    math_i = hsb2_df['math'][index]\n",
    "    corrs.append(stats.pearsonr(write_i, math_i)[0])\n",
    "\n",
    "print('standard error: ', np.std(corrs, ddof=1)/np.sqrt(nboot))\n",
    "print('confidence interval: ', np.quantile(corrs, [0.025, 0.975]))"
   ]
  },
  {
   "cell_type": "code",
   "execution_count": null,
   "id": "92d20b6a",
   "metadata": {},
   "outputs": [],
   "source": []
  },
  {
   "cell_type": "code",
   "execution_count": null,
   "id": "2c6a120e",
   "metadata": {},
   "outputs": [],
   "source": []
  },
  {
   "cell_type": "code",
   "execution_count": 52,
   "id": "9589c4b6",
   "metadata": {},
   "outputs": [
    {
     "data": {
      "text/html": [
       "<div>\n",
       "<style scoped>\n",
       "    .dataframe tbody tr th:only-of-type {\n",
       "        vertical-align: middle;\n",
       "    }\n",
       "\n",
       "    .dataframe tbody tr th {\n",
       "        vertical-align: top;\n",
       "    }\n",
       "\n",
       "    .dataframe thead th {\n",
       "        text-align: right;\n",
       "    }\n",
       "</style>\n",
       "<table border=\"1\" class=\"dataframe\">\n",
       "  <thead>\n",
       "    <tr style=\"text-align: right;\">\n",
       "      <th></th>\n",
       "      <th>var1</th>\n",
       "      <th>var2</th>\n",
       "      <th>var3</th>\n",
       "      <th>var4</th>\n",
       "      <th>var5</th>\n",
       "    </tr>\n",
       "  </thead>\n",
       "  <tbody>\n",
       "    <tr>\n",
       "      <th>0</th>\n",
       "      <td>20.585149</td>\n",
       "      <td>0.417411</td>\n",
       "      <td>10.065009</td>\n",
       "      <td>6</td>\n",
       "      <td>0.111197</td>\n",
       "    </tr>\n",
       "    <tr>\n",
       "      <th>1</th>\n",
       "      <td>7.150377</td>\n",
       "      <td>0.222108</td>\n",
       "      <td>17.267670</td>\n",
       "      <td>6</td>\n",
       "      <td>0.492625</td>\n",
       "    </tr>\n",
       "    <tr>\n",
       "      <th>2</th>\n",
       "      <td>32.679656</td>\n",
       "      <td>0.119865</td>\n",
       "      <td>8.676716</td>\n",
       "      <td>6</td>\n",
       "      <td>0.011354</td>\n",
       "    </tr>\n",
       "    <tr>\n",
       "      <th>3</th>\n",
       "      <td>890.715926</td>\n",
       "      <td>0.337615</td>\n",
       "      <td>23.600846</td>\n",
       "      <td>6</td>\n",
       "      <td>0.468661</td>\n",
       "    </tr>\n",
       "    <tr>\n",
       "      <th>4</th>\n",
       "      <td>6.783906</td>\n",
       "      <td>0.942910</td>\n",
       "      <td>13.128337</td>\n",
       "      <td>7</td>\n",
       "      <td>0.056303</td>\n",
       "    </tr>\n",
       "  </tbody>\n",
       "</table>\n",
       "</div>"
      ],
      "text/plain": [
       "         var1      var2       var3  var4      var5\n",
       "0   20.585149  0.417411  10.065009     6  0.111197\n",
       "1    7.150377  0.222108  17.267670     6  0.492625\n",
       "2   32.679656  0.119865   8.676716     6  0.011354\n",
       "3  890.715926  0.337615  23.600846     6  0.468661\n",
       "4    6.783906  0.942910  13.128337     7  0.056303"
      ]
     },
     "execution_count": 52,
     "metadata": {},
     "output_type": "execute_result"
    }
   ],
   "source": [
    "distr_df = pd.read_csv('distr_sample.csv', index_col=0).reset_index(drop=True)\n",
    "distr_df.head()"
   ]
  },
  {
   "cell_type": "code",
   "execution_count": 63,
   "id": "6ac9e430",
   "metadata": {},
   "outputs": [
    {
     "name": "stdout",
     "output_type": "stream",
     "text": [
      "var1 <-> norm (10,5)    pvalue:  2.9825442476471197e-05\n",
      "var2 <-> norm (10,5)    pvalue:  3.742064972863079e-145\n",
      "var3 <-> norm (10,5)    pvalue:  0.8224967415773926\n",
      "var4 <-> norm (10,5)    pvalue:  2.705109596688789e-47\n",
      "var5 <-> norm (10,5)    pvalue:  6.946227346532304e-145\n"
     ]
    }
   ],
   "source": [
    "for i in range(5):\n",
    "    print(distr_df.columns[i], '<-> norm (10,5)', '   pvalue: ', stats.kstest(distr_df.iloc[:, i], 'norm', args=(10,5)).pvalue)"
   ]
  },
  {
   "cell_type": "markdown",
   "id": "62455fa3",
   "metadata": {},
   "source": [
    "Only the result of `var3` seems to be statistically non significant. This is the only variable for which we cannot reject the null hypotesis of normal distribution with args = (10,5)"
   ]
  },
  {
   "cell_type": "code",
   "execution_count": 64,
   "id": "5760faef",
   "metadata": {},
   "outputs": [
    {
     "name": "stdout",
     "output_type": "stream",
     "text": [
      "var1 <-> geom (0.8,5)    pvalue:  2.1482695735465203e-69\n",
      "var2 <-> geom (0.8,5)    pvalue:  0.0\n",
      "var3 <-> geom (0.8,5)    pvalue:  8.345759213559685e-42\n",
      "var4 <-> geom (0.8,5)    pvalue:  2.1482695735465203e-69\n",
      "var5 <-> geom (0.8,5)    pvalue:  0.0\n"
     ]
    }
   ],
   "source": [
    "for i in range(5):\n",
    "    print(distr_df.columns[i], '<-> geom (0.8,5)', '   pvalue: ', stats.kstest(distr_df.iloc[:, i], 'geom', args=(0.8,5)).pvalue)"
   ]
  },
  {
   "cell_type": "markdown",
   "id": "4f25bf41",
   "metadata": {},
   "source": [
    "All of the results are statistically significant. For each variable we reject the null hypothesis of geometric distribution with args = (0.8,5)"
   ]
  },
  {
   "cell_type": "code",
   "execution_count": 65,
   "id": "763866b6",
   "metadata": {},
   "outputs": [
    {
     "name": "stdout",
     "output_type": "stream",
     "text": [
      "var1 <-> uniform    pvalue:  0.0\n",
      "var2 <-> uniform    pvalue:  0.6472428284685623\n",
      "var3 <-> uniform    pvalue:  1.0307550414641265e-152\n",
      "var4 <-> uniform    pvalue:  0.0\n",
      "var5 <-> uniform    pvalue:  0.10054203446371712\n"
     ]
    }
   ],
   "source": [
    "for i in range(5):\n",
    "    print(distr_df.columns[i], '<-> uniform', '   pvalue: ', stats.kstest(distr_df.iloc[:, i], 'uniform').pvalue)"
   ]
  },
  {
   "cell_type": "markdown",
   "id": "af3d1ceb",
   "metadata": {},
   "source": [
    "Here the results for variables `var2` and `var5` are non statistically significant. For these variables we cannot reject the null hypothesis of uniform distribution"
   ]
  },
  {
   "cell_type": "code",
   "execution_count": 66,
   "id": "827dbbd4",
   "metadata": {},
   "outputs": [
    {
     "name": "stdout",
     "output_type": "stream",
     "text": [
      "var1 <-> lognorm (4,6,2)    pvalue:  0.21805553378516207\n",
      "var2 <-> lognorm (4,6,2)    pvalue:  0.0\n",
      "var3 <-> lognorm (4,6,2)    pvalue:  1.256720923229672e-07\n",
      "var4 <-> lognorm (4,6,2)    pvalue:  1.0676343025998959e-58\n",
      "var5 <-> lognorm (4,6,2)    pvalue:  0.0\n"
     ]
    }
   ],
   "source": [
    "for i in range(5):\n",
    "    print(distr_df.columns[i], '<-> lognorm (4,6,2)', '   pvalue: ', stats.kstest(distr_df.iloc[:, i], 'lognorm', args=(4,6,2)).pvalue)"
   ]
  },
  {
   "cell_type": "markdown",
   "id": "f9d3c738",
   "metadata": {},
   "source": [
    "Only the result for `var1` is statistically non significant. For this variable we cannot reject the null hypothesis of lognorm distribution with args = (4,6,2)"
   ]
  },
  {
   "cell_type": "code",
   "execution_count": null,
   "id": "ce48edbd",
   "metadata": {},
   "outputs": [],
   "source": []
  },
  {
   "cell_type": "code",
   "execution_count": 67,
   "id": "14655e6d",
   "metadata": {},
   "outputs": [
    {
     "data": {
      "text/plain": [
       "KstestResult(statistic=0.23, pvalue=0.009878183186176536, statistic_location=5.766031409657975, statistic_sign=-1)"
      ]
     },
     "execution_count": 67,
     "metadata": {},
     "output_type": "execute_result"
    }
   ],
   "source": [
    "stats.kstest(distr_df['var1'], distr_df['var3'])"
   ]
  },
  {
   "cell_type": "markdown",
   "id": "15771642",
   "metadata": {},
   "source": [
    "Here we reject the null hypothesis that `var1` and `var3` are generated by the same distribution."
   ]
  },
  {
   "cell_type": "code",
   "execution_count": 68,
   "id": "d612aaee",
   "metadata": {},
   "outputs": [
    {
     "data": {
      "text/plain": [
       "KstestResult(statistic=0.16, pvalue=0.1548386665118475, statistic_location=0.3677831327192532, statistic_sign=1)"
      ]
     },
     "execution_count": 68,
     "metadata": {},
     "output_type": "execute_result"
    }
   ],
   "source": [
    "stats.kstest(distr_df['var2'], distr_df['var5'])"
   ]
  },
  {
   "cell_type": "markdown",
   "id": "64c16373",
   "metadata": {},
   "source": [
    "Here we cannot reject the null hypothesis that `var2` and `var5` are generated by the same distribution."
   ]
  },
  {
   "cell_type": "markdown",
   "id": "a94ee481",
   "metadata": {},
   "source": [
    "## Bootstrap"
   ]
  },
  {
   "cell_type": "markdown",
   "id": "0488c939",
   "metadata": {},
   "source": [
    "Consider the bootstrapped correlation between fast_food_spend and income and the bootstrapped variance of the variable coffee_drinker with a number of bootstrap samples equal to 500. Compute the confidence interval, with a confidence level of 95%"
   ]
  },
  {
   "cell_type": "code",
   "execution_count": 19,
   "id": "e282d2b5",
   "metadata": {},
   "outputs": [],
   "source": [
    "import pandas as pd\n",
    "from random import choices\n",
    "from scipy import stats\n",
    "import numpy as np"
   ]
  },
  {
   "cell_type": "code",
   "execution_count": 20,
   "id": "4cca61f3",
   "metadata": {},
   "outputs": [
    {
     "data": {
      "text/html": [
       "<div>\n",
       "<style scoped>\n",
       "    .dataframe tbody tr th:only-of-type {\n",
       "        vertical-align: middle;\n",
       "    }\n",
       "\n",
       "    .dataframe tbody tr th {\n",
       "        vertical-align: top;\n",
       "    }\n",
       "\n",
       "    .dataframe thead th {\n",
       "        text-align: right;\n",
       "    }\n",
       "</style>\n",
       "<table border=\"1\" class=\"dataframe\">\n",
       "  <thead>\n",
       "    <tr style=\"text-align: right;\">\n",
       "      <th></th>\n",
       "      <th>heart_disease</th>\n",
       "      <th>coffee_drinker</th>\n",
       "      <th>fast_food_spend</th>\n",
       "      <th>income</th>\n",
       "    </tr>\n",
       "  </thead>\n",
       "  <tbody>\n",
       "    <tr>\n",
       "      <th>0</th>\n",
       "      <td>0</td>\n",
       "      <td>0</td>\n",
       "      <td>1823.816238</td>\n",
       "      <td>44361.62507</td>\n",
       "    </tr>\n",
       "    <tr>\n",
       "      <th>1</th>\n",
       "      <td>0</td>\n",
       "      <td>1</td>\n",
       "      <td>2042.951017</td>\n",
       "      <td>12106.13470</td>\n",
       "    </tr>\n",
       "    <tr>\n",
       "      <th>2</th>\n",
       "      <td>0</td>\n",
       "      <td>0</td>\n",
       "      <td>2683.872910</td>\n",
       "      <td>31767.13895</td>\n",
       "    </tr>\n",
       "    <tr>\n",
       "      <th>3</th>\n",
       "      <td>0</td>\n",
       "      <td>0</td>\n",
       "      <td>1323.126512</td>\n",
       "      <td>35704.49394</td>\n",
       "    </tr>\n",
       "    <tr>\n",
       "      <th>4</th>\n",
       "      <td>0</td>\n",
       "      <td>0</td>\n",
       "      <td>1964.139707</td>\n",
       "      <td>38463.49588</td>\n",
       "    </tr>\n",
       "  </tbody>\n",
       "</table>\n",
       "</div>"
      ],
      "text/plain": [
       "   heart_disease  coffee_drinker  fast_food_spend       income\n",
       "0              0               0      1823.816238  44361.62507\n",
       "1              0               1      2042.951017  12106.13470\n",
       "2              0               0      2683.872910  31767.13895\n",
       "3              0               0      1323.126512  35704.49394\n",
       "4              0               0      1964.139707  38463.49588"
      ]
     },
     "execution_count": 20,
     "metadata": {},
     "output_type": "execute_result"
    }
   ],
   "source": [
    "df = pd.read_csv('heart_data.csv')\n",
    "df.head()"
   ]
  },
  {
   "cell_type": "code",
   "execution_count": 21,
   "id": "33e967b4",
   "metadata": {},
   "outputs": [
    {
     "data": {
      "text/plain": [
       "10000"
      ]
     },
     "execution_count": 21,
     "metadata": {},
     "output_type": "execute_result"
    }
   ],
   "source": [
    "len(df)"
   ]
  },
  {
   "cell_type": "code",
   "execution_count": 25,
   "id": "07974f94",
   "metadata": {},
   "outputs": [
    {
     "data": {
      "text/plain": [
       "PearsonRResult(statistic=-0.15224340058838828, pvalue=6.380440158362276e-53)"
      ]
     },
     "execution_count": 25,
     "metadata": {},
     "output_type": "execute_result"
    }
   ],
   "source": [
    "stats.pearsonr(df['fast_food_spend'], df['income'])"
   ]
  },
  {
   "cell_type": "code",
   "execution_count": 30,
   "id": "d4989907",
   "metadata": {},
   "outputs": [
    {
     "name": "stdout",
     "output_type": "stream",
     "text": [
      "[-0.17190389 -0.13325761]\n"
     ]
    }
   ],
   "source": [
    "nboot = 500\n",
    "\n",
    "corrs = []\n",
    "\n",
    "for i in range(nboot):\n",
    "    index = np.random.choice(np.arange(len(df)), size=len(df), replace=True)\n",
    "    y1 = df['fast_food_spend'][index]\n",
    "    y2 = df['income'][index]\n",
    "    corrs.append(stats.pearsonr(y1, y2)[0])\n",
    "\n",
    "print(np.percentile(corrs, [2.5, 97.5]))\n",
    "\n"
   ]
  },
  {
   "cell_type": "code",
   "execution_count": 31,
   "id": "3e658393",
   "metadata": {},
   "outputs": [
    {
     "name": "stdout",
     "output_type": "stream",
     "text": [
      "[0.20345086 0.21123039]\n"
     ]
    }
   ],
   "source": [
    "var_l = []\n",
    "\n",
    "for i in range(nboot):\n",
    "    y = choices(df['coffee_drinker'], k = len(df))\n",
    "    var_l.append(np.var(y))\n",
    "\n",
    "print(np.percentile(var_l, [2.5, 97.5]))"
   ]
  }
 ],
 "metadata": {
  "kernelspec": {
   "display_name": "env_master_2025",
   "language": "python",
   "name": "python3"
  },
  "language_info": {
   "codemirror_mode": {
    "name": "ipython",
    "version": 3
   },
   "file_extension": ".py",
   "mimetype": "text/x-python",
   "name": "python",
   "nbconvert_exporter": "python",
   "pygments_lexer": "ipython3",
   "version": "3.12.7"
  }
 },
 "nbformat": 4,
 "nbformat_minor": 5
}
