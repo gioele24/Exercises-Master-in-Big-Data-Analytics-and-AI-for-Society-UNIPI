{
  "cells": [
    {
      "cell_type": "markdown",
      "metadata": {},
      "source": [
        "## Exercise: Boston Housing price regression dataset\n",
        "\n",
        "Try to tackle this problem with a Deep Learning model built with Keras.\n",
        "\n",
        "**Objectives**:\n",
        "*   make sure you are able to build a deep learning model\n",
        "*   make sure you can code a full training loop with a bit of hyperparameter search (model selection vs. model assessment)\n",
        "*   make sure you are able to monitor training progress\n",
        "*   make sure you can apply a minimum level of preprocessing (try to explore the dataset and see what kind of features you are dealing with)\n",
        "*   make sure you can evaluate your model on unseen data"
      ]
    },
    {
      "cell_type": "code",
      "execution_count": null,
      "metadata": {
        "id": "gtBeK03OPPtO"
      },
      "outputs": [],
      "source": [
        "from tensorflow import keras as K\n",
        "from sklearn.model_selection import train_test_split\n",
        "import matplotlib.pyplot as plt\n",
        "import numpy as np\n",
        "import tensorflow as tf"
      ]
    },
    {
      "cell_type": "code",
      "execution_count": null,
      "metadata": {
        "id": "F-kLq0yhPFlI"
      },
      "outputs": [],
      "source": [
        "from tensorflow.keras.datasets import boston_housing"
      ]
    },
    {
      "cell_type": "code",
      "execution_count": null,
      "metadata": {
        "id": "LSWPjJo9PwLh"
      },
      "outputs": [],
      "source": [
        "from tensorflow.keras.layers import Normalization\n",
        "from sklearn.model_selection import ParameterGrid"
      ]
    },
    {
      "cell_type": "code",
      "execution_count": null,
      "metadata": {
        "colab": {
          "base_uri": "https://localhost:8080/"
        },
        "id": "qH0jiutcPIVC",
        "outputId": "04e92d5a-f212-42f8-ef89-abf964a8fe30"
      },
      "outputs": [
        {
          "name": "stdout",
          "output_type": "stream",
          "text": [
            "Downloading data from https://storage.googleapis.com/tensorflow/tf-keras-datasets/boston_housing.npz\n",
            "\u001b[1m57026/57026\u001b[0m \u001b[32m━━━━━━━━━━━━━━━━━━━━\u001b[0m\u001b[37m\u001b[0m \u001b[1m0s\u001b[0m 1us/step\n",
            "(430, 13) (430,) (76, 13) (76,)\n",
            "float64 float64 float64 float64\n"
          ]
        }
      ],
      "source": [
        "(x, y), (x_test, y_test) = boston_housing.load_data(test_split=0.15)\n",
        "print(x.shape, y.shape, x_test.shape, y_test.shape)\n",
        "print(x.dtype, y.dtype, x_test.dtype, y_test.dtype)"
      ]
    },
    {
      "cell_type": "code",
      "execution_count": null,
      "metadata": {
        "id": "tPWBq4-TsOTp"
      },
      "outputs": [],
      "source": [
        "x_train, x_val, y_train, y_val = train_test_split(x, y, test_size=0.15, shuffle=True)"
      ]
    },
    {
      "cell_type": "code",
      "execution_count": null,
      "metadata": {
        "colab": {
          "base_uri": "https://localhost:8080/"
        },
        "id": "lzs6UGiQsiKk",
        "outputId": "87099261-2455-4b47-8bce-29b58fa9d54b"
      },
      "outputs": [
        {
          "data": {
            "text/plain": [
              "((365, 13), (65, 13), (365,), (65,))"
            ]
          },
          "execution_count": 6,
          "metadata": {},
          "output_type": "execute_result"
        }
      ],
      "source": [
        "x_train.shape, x_val.shape, y_train.shape, y_val.shape"
      ]
    },
    {
      "cell_type": "code",
      "execution_count": null,
      "metadata": {
        "colab": {
          "base_uri": "https://localhost:8080/"
        },
        "id": "FocBIY1VsJMr",
        "outputId": "4fe1c412-3295-47b5-903e-34f86dbe64bb"
      },
      "outputs": [
        {
          "name": "stdout",
          "output_type": "stream",
          "text": [
            "-2.4118213e-08  +-  1.0\n",
            "-0.054197486  +-  0.94235563\n"
          ]
        }
      ],
      "source": [
        "norm_layer = Normalization(axis=-1)\n",
        "norm_layer.adapt(x_train)\n",
        "normalized_x_train = norm_layer(x_train)\n",
        "normalized_x_val = norm_layer(x_val)\n",
        "print(np.mean(normalized_x_train), ' +- ', np.std(normalized_x_train))\n",
        "print(np.mean(normalized_x_val), ' +- ', np.std(normalized_x_val))"
      ]
    },
    {
      "cell_type": "code",
      "execution_count": null,
      "metadata": {
        "colab": {
          "base_uri": "https://localhost:8080/"
        },
        "id": "hx2SF0UhtFmj",
        "outputId": "85d11a12-66ad-4d98-bae4-c3a77aa4d55b"
      },
      "outputs": [
        {
          "name": "stdout",
          "output_type": "stream",
          "text": [
            "1.01899445e-07  +-  1.0\n",
            "0.13573475  +-  1.0773416\n",
            "0.17304665  +-  1.0577251\n"
          ]
        }
      ],
      "source": [
        "norm_layer_y = Normalization(axis=None)\n",
        "norm_layer_y.adapt(y_train)\n",
        "normalized_y_train = norm_layer_y(y_train)\n",
        "normalized_y_val = norm_layer_y(y_val)\n",
        "normalized_y_test = norm_layer_y(y_test)\n",
        "print(np.mean(normalized_y_train), ' +- ', np.std(normalized_y_train))\n",
        "print(np.mean(normalized_y_val), ' +- ', np.std(normalized_y_val))\n",
        "print(np.mean(normalized_y_test), ' +- ', np.std(normalized_y_test))"
      ]
    },
    {
      "cell_type": "code",
      "execution_count": null,
      "metadata": {
        "id": "_Exx_6cqtvDC"
      },
      "outputs": [],
      "source": [
        "def model_building(units = 64, learning_rate = 1e-3):\n",
        "  model = K.Sequential()\n",
        "  model.add(K.layers.Input(shape=(13,)))\n",
        "  model.add(K.layers.Dense(units=units, activation='relu'))\n",
        "  model.add(K.layers.Dense(units=1))\n",
        "  model.compile(loss='mean_squared_error',\n",
        "                optimizer=K.optimizers.Adam(learning_rate=learning_rate))\n",
        "\n",
        "  return model"
      ]
    },
    {
      "cell_type": "code",
      "execution_count": null,
      "metadata": {
        "colab": {
          "base_uri": "https://localhost:8080/"
        },
        "id": "bVyZQBYSuljT",
        "outputId": "7865fff8-907c-420d-bc7f-c1264fb28551"
      },
      "outputs": [
        {
          "name": "stdout",
          "output_type": "stream",
          "text": [
            "Epoch 1/10\n",
            "\u001b[1m37/37\u001b[0m \u001b[32m━━━━━━━━━━━━━━━━━━━━\u001b[0m\u001b[37m\u001b[0m \u001b[1m2s\u001b[0m 24ms/step - loss: 0.7269 - val_loss: 0.5055\n",
            "Epoch 2/10\n",
            "\u001b[1m37/37\u001b[0m \u001b[32m━━━━━━━━━━━━━━━━━━━━\u001b[0m\u001b[37m\u001b[0m \u001b[1m0s\u001b[0m 4ms/step - loss: 0.3606 - val_loss: 0.3432\n",
            "Epoch 3/10\n",
            "\u001b[1m37/37\u001b[0m \u001b[32m━━━━━━━━━━━━━━━━━━━━\u001b[0m\u001b[37m\u001b[0m \u001b[1m0s\u001b[0m 4ms/step - loss: 0.1792 - val_loss: 0.2993\n",
            "Epoch 4/10\n",
            "\u001b[1m37/37\u001b[0m \u001b[32m━━━━━━━━━━━━━━━━━━━━\u001b[0m\u001b[37m\u001b[0m \u001b[1m0s\u001b[0m 4ms/step - loss: 0.2532 - val_loss: 0.2886\n",
            "Epoch 5/10\n",
            "\u001b[1m37/37\u001b[0m \u001b[32m━━━━━━━━━━━━━━━━━━━━\u001b[0m\u001b[37m\u001b[0m \u001b[1m0s\u001b[0m 4ms/step - loss: 0.2090 - val_loss: 0.2687\n",
            "Epoch 6/10\n",
            "\u001b[1m37/37\u001b[0m \u001b[32m━━━━━━━━━━━━━━━━━━━━\u001b[0m\u001b[37m\u001b[0m \u001b[1m0s\u001b[0m 4ms/step - loss: 0.2250 - val_loss: 0.2538\n",
            "Epoch 7/10\n",
            "\u001b[1m37/37\u001b[0m \u001b[32m━━━━━━━━━━━━━━━━━━━━\u001b[0m\u001b[37m\u001b[0m \u001b[1m0s\u001b[0m 3ms/step - loss: 0.1621 - val_loss: 0.2470\n",
            "Epoch 8/10\n",
            "\u001b[1m37/37\u001b[0m \u001b[32m━━━━━━━━━━━━━━━━━━━━\u001b[0m\u001b[37m\u001b[0m \u001b[1m0s\u001b[0m 4ms/step - loss: 0.1722 - val_loss: 0.2455\n",
            "Epoch 9/10\n",
            "\u001b[1m37/37\u001b[0m \u001b[32m━━━━━━━━━━━━━━━━━━━━\u001b[0m\u001b[37m\u001b[0m \u001b[1m0s\u001b[0m 4ms/step - loss: 0.1281 - val_loss: 0.2306\n",
            "Epoch 10/10\n",
            "\u001b[1m37/37\u001b[0m \u001b[32m━━━━━━━━━━━━━━━━━━━━\u001b[0m\u001b[37m\u001b[0m \u001b[1m0s\u001b[0m 4ms/step - loss: 0.0954 - val_loss: 0.2271\n"
          ]
        }
      ],
      "source": [
        "model = model_building()\n",
        "result = model.fit(normalized_x_train, normalized_y_train, epochs=10, batch_size = 10, validation_data=(normalized_x_val, normalized_y_val))"
      ]
    },
    {
      "cell_type": "code",
      "execution_count": null,
      "metadata": {
        "colab": {
          "base_uri": "https://localhost:8080/",
          "height": 430
        },
        "id": "E-LUp7H3u7Ia",
        "outputId": "88bca793-9675-4ca4-ce8d-296f278e59a6"
      },
      "outputs": [
        {
          "data": {
            "image/png": "[encoded data removed]",
            "text/plain": [
              "<Figure size 640x480 with 1 Axes>"
            ]
          },
          "metadata": {},
          "output_type": "display_data"
        }
      ],
      "source": [
        "plt.plot(result.history['val_loss'], c = 'r', label = 'val_loss')\n",
        "plt.plot(result.history['loss'], c = 'b', label = 'loss')\n",
        "plt.legend()\n",
        "plt.show()"
      ]
    },
    {
      "cell_type": "code",
      "execution_count": null,
      "metadata": {
        "id": "3-0YEhFIva35"
      },
      "outputs": [],
      "source": [
        "grid = ParameterGrid({'units': [32, 64, 128], 'learning_rate': [1e-2, 1e-3, 1e-4]})"
      ]
    },
    {
      "cell_type": "code",
      "execution_count": null,
      "metadata": {
        "colab": {
          "base_uri": "https://localhost:8080/"
        },
        "id": "fzFNP-omvuhL",
        "outputId": "7b420390-4d1a-4e09-faad-280b8be081fd"
      },
      "outputs": [
        {
          "name": "stdout",
          "output_type": "stream",
          "text": [
            "Epoch 1/10\n",
            "\u001b[1m37/37\u001b[0m \u001b[32m━━━━━━━━━━━━━━━━━━━━\u001b[0m\u001b[37m\u001b[0m \u001b[1m2s\u001b[0m 24ms/step - loss: 0.9315 - val_loss: 0.3540\n",
            "Epoch 2/10\n",
            "\u001b[1m37/37\u001b[0m \u001b[32m━━━━━━━━━━━━━━━━━━━━\u001b[0m\u001b[37m\u001b[0m \u001b[1m0s\u001b[0m 4ms/step - loss: 0.1415 - val_loss: 0.2967\n",
            "Epoch 3/10\n",
            "\u001b[1m37/37\u001b[0m \u001b[32m━━━━━━━━━━━━━━━━━━━━\u001b[0m\u001b[37m\u001b[0m \u001b[1m0s\u001b[0m 4ms/step - loss: 0.1424 - val_loss: 0.2044\n",
            "Epoch 4/10\n",
            "\u001b[1m37/37\u001b[0m \u001b[32m━━━━━━━━━━━━━━━━━━━━\u001b[0m\u001b[37m\u001b[0m \u001b[1m0s\u001b[0m 4ms/step - loss: 0.0970 - val_loss: 0.1669\n",
            "Epoch 5/10\n",
            "\u001b[1m37/37\u001b[0m \u001b[32m━━━━━━━━━━━━━━━━━━━━\u001b[0m\u001b[37m\u001b[0m \u001b[1m0s\u001b[0m 4ms/step - loss: 0.1199 - val_loss: 0.1743\n",
            "Epoch 6/10\n",
            "\u001b[1m37/37\u001b[0m \u001b[32m━━━━━━━━━━━━━━━━━━━━\u001b[0m\u001b[37m\u001b[0m \u001b[1m0s\u001b[0m 5ms/step - loss: 0.1028 - val_loss: 0.1229\n",
            "Epoch 7/10\n",
            "\u001b[1m37/37\u001b[0m \u001b[32m━━━━━━━━━━━━━━━━━━━━\u001b[0m\u001b[37m\u001b[0m \u001b[1m0s\u001b[0m 5ms/step - loss: 0.1019 - val_loss: 0.1699\n",
            "Epoch 8/10\n",
            "\u001b[1m37/37\u001b[0m \u001b[32m━━━━━━━━━━━━━━━━━━━━\u001b[0m\u001b[37m\u001b[0m \u001b[1m0s\u001b[0m 5ms/step - loss: 0.0839 - val_loss: 0.1638\n",
            "Epoch 9/10\n",
            "\u001b[1m37/37\u001b[0m \u001b[32m━━━━━━━━━━━━━━━━━━━━\u001b[0m\u001b[37m\u001b[0m \u001b[1m0s\u001b[0m 5ms/step - loss: 0.0721 - val_loss: 0.1792\n",
            "Epoch 10/10\n",
            "\u001b[1m37/37\u001b[0m \u001b[32m━━━━━━━━━━━━━━━━━━━━\u001b[0m\u001b[37m\u001b[0m \u001b[1m0s\u001b[0m 6ms/step - loss: 0.1208 - val_loss: 0.1534\n",
            "Epoch 1/10\n",
            "\u001b[1m37/37\u001b[0m \u001b[32m━━━━━━━━━━━━━━━━━━━━\u001b[0m\u001b[37m\u001b[0m \u001b[1m2s\u001b[0m 15ms/step - loss: 0.6287 - val_loss: 0.3271\n",
            "Epoch 2/10\n",
            "\u001b[1m37/37\u001b[0m \u001b[32m━━━━━━━━━━━━━━━━━━━━\u001b[0m\u001b[37m\u001b[0m \u001b[1m0s\u001b[0m 4ms/step - loss: 0.2573 - val_loss: 0.1950\n",
            "Epoch 3/10\n",
            "\u001b[1m37/37\u001b[0m \u001b[32m━━━━━━━━━━━━━━━━━━━━\u001b[0m\u001b[37m\u001b[0m \u001b[1m0s\u001b[0m 4ms/step - loss: 0.1596 - val_loss: 0.2166\n",
            "Epoch 4/10\n",
            "\u001b[1m37/37\u001b[0m \u001b[32m━━━━━━━━━━━━━━━━━━━━\u001b[0m\u001b[37m\u001b[0m \u001b[1m0s\u001b[0m 4ms/step - loss: 0.1314 - val_loss: 0.1740\n",
            "Epoch 5/10\n",
            "\u001b[1m37/37\u001b[0m \u001b[32m━━━━━━━━━━━━━━━━━━━━\u001b[0m\u001b[37m\u001b[0m \u001b[1m0s\u001b[0m 4ms/step - loss: 0.1011 - val_loss: 0.1365\n",
            "Epoch 6/10\n",
            "\u001b[1m37/37\u001b[0m \u001b[32m━━━━━━━━━━━━━━━━━━━━\u001b[0m\u001b[37m\u001b[0m \u001b[1m0s\u001b[0m 4ms/step - loss: 0.0932 - val_loss: 0.1987\n",
            "Epoch 7/10\n",
            "\u001b[1m37/37\u001b[0m \u001b[32m━━━━━━━━━━━━━━━━━━━━\u001b[0m\u001b[37m\u001b[0m \u001b[1m0s\u001b[0m 4ms/step - loss: 0.1174 - val_loss: 0.1343\n",
            "Epoch 8/10\n",
            "\u001b[1m37/37\u001b[0m \u001b[32m━━━━━━━━━━━━━━━━━━━━\u001b[0m\u001b[37m\u001b[0m \u001b[1m0s\u001b[0m 4ms/step - loss: 0.1153 - val_loss: 0.1204\n",
            "Epoch 9/10\n",
            "\u001b[1m37/37\u001b[0m \u001b[32m━━━━━━━━━━━━━━━━━━━━\u001b[0m\u001b[37m\u001b[0m \u001b[1m0s\u001b[0m 4ms/step - loss: 0.1222 - val_loss: 0.1516\n",
            "Epoch 10/10\n",
            "\u001b[1m37/37\u001b[0m \u001b[32m━━━━━━━━━━━━━━━━━━━━\u001b[0m\u001b[37m\u001b[0m \u001b[1m0s\u001b[0m 4ms/step - loss: 0.1079 - val_loss: 0.1292\n",
            "Epoch 1/10\n",
            "\u001b[1m37/37\u001b[0m \u001b[32m━━━━━━━━━━━━━━━━━━━━\u001b[0m\u001b[37m\u001b[0m \u001b[1m2s\u001b[0m 24ms/step - loss: 0.4316 - val_loss: 0.4010\n",
            "Epoch 2/10\n",
            "\u001b[1m37/37\u001b[0m \u001b[32m━━━━━━━━━━━━━━━━━━━━\u001b[0m\u001b[37m\u001b[0m \u001b[1m0s\u001b[0m 4ms/step - loss: 0.2809 - val_loss: 0.2652\n",
            "Epoch 3/10\n",
            "\u001b[1m37/37\u001b[0m \u001b[32m━━━━━━━━━━━━━━━━━━━━\u001b[0m\u001b[37m\u001b[0m \u001b[1m0s\u001b[0m 4ms/step - loss: 0.1401 - val_loss: 0.1920\n",
            "Epoch 4/10\n",
            "\u001b[1m37/37\u001b[0m \u001b[32m━━━━━━━━━━━━━━━━━━━━\u001b[0m\u001b[37m\u001b[0m \u001b[1m0s\u001b[0m 4ms/step - loss: 0.1505 - val_loss: 0.2807\n",
            "Epoch 5/10\n",
            "\u001b[1m37/37\u001b[0m \u001b[32m━━━━━━━━━━━━━━━━━━━━\u001b[0m\u001b[37m\u001b[0m \u001b[1m0s\u001b[0m 4ms/step - loss: 0.1579 - val_loss: 0.2673\n",
            "Epoch 6/10\n",
            "\u001b[1m37/37\u001b[0m \u001b[32m━━━━━━━━━━━━━━━━━━━━\u001b[0m\u001b[37m\u001b[0m \u001b[1m0s\u001b[0m 4ms/step - loss: 0.1454 - val_loss: 0.1561\n",
            "Epoch 7/10\n",
            "\u001b[1m37/37\u001b[0m \u001b[32m━━━━━━━━━━━━━━━━━━━━\u001b[0m\u001b[37m\u001b[0m \u001b[1m0s\u001b[0m 4ms/step - loss: 0.0988 - val_loss: 0.1608\n",
            "Epoch 8/10\n",
            "\u001b[1m37/37\u001b[0m \u001b[32m━━━━━━━━━━━━━━━━━━━━\u001b[0m\u001b[37m\u001b[0m \u001b[1m0s\u001b[0m 4ms/step - loss: 0.1373 - val_loss: 0.1853\n",
            "Epoch 9/10\n",
            "\u001b[1m37/37\u001b[0m \u001b[32m━━━━━━━━━━━━━━━━━━━━\u001b[0m\u001b[37m\u001b[0m \u001b[1m0s\u001b[0m 4ms/step - loss: 0.1139 - val_loss: 0.1408\n",
            "Epoch 10/10\n",
            "\u001b[1m37/37\u001b[0m \u001b[32m━━━━━━━━━━━━━━━━━━━━\u001b[0m\u001b[37m\u001b[0m \u001b[1m0s\u001b[0m 4ms/step - loss: 0.1053 - val_loss: 0.1965\n",
            "Epoch 1/10\n",
            "\u001b[1m37/37\u001b[0m \u001b[32m━━━━━━━━━━━━━━━━━━━━\u001b[0m\u001b[37m\u001b[0m \u001b[1m2s\u001b[0m 20ms/step - loss: 0.8288 - val_loss: 0.9613\n",
            "Epoch 2/10\n",
            "\u001b[1m37/37\u001b[0m \u001b[32m━━━━━━━━━━━━━━━━━━━━\u001b[0m\u001b[37m\u001b[0m \u001b[1m0s\u001b[0m 4ms/step - loss: 0.4919 - val_loss: 0.7338\n",
            "Epoch 3/10\n",
            "\u001b[1m37/37\u001b[0m \u001b[32m━━━━━━━━━━━━━━━━━━━━\u001b[0m\u001b[37m\u001b[0m \u001b[1m0s\u001b[0m 4ms/step - loss: 0.4040 - val_loss: 0.6100\n",
            "Epoch 4/10\n",
            "\u001b[1m37/37\u001b[0m \u001b[32m━━━━━━━━━━━━━━━━━━━━\u001b[0m\u001b[37m\u001b[0m \u001b[1m0s\u001b[0m 4ms/step - loss: 0.4060 - val_loss: 0.5696\n",
            "Epoch 5/10\n",
            "\u001b[1m37/37\u001b[0m \u001b[32m━━━━━━━━━━━━━━━━━━━━\u001b[0m\u001b[37m\u001b[0m \u001b[1m0s\u001b[0m 4ms/step - loss: 0.3166 - val_loss: 0.5373\n",
            "Epoch 6/10\n",
            "\u001b[1m37/37\u001b[0m \u001b[32m━━━━━━━━━━━━━━━━━━━━\u001b[0m\u001b[37m\u001b[0m \u001b[1m0s\u001b[0m 3ms/step - loss: 0.2673 - val_loss: 0.4896\n",
            "Epoch 7/10\n",
            "\u001b[1m37/37\u001b[0m \u001b[32m━━━━━━━━━━━━━━━━━━━━\u001b[0m\u001b[37m\u001b[0m \u001b[1m0s\u001b[0m 4ms/step - loss: 0.2027 - val_loss: 0.4635\n",
            "Epoch 8/10\n",
            "\u001b[1m37/37\u001b[0m \u001b[32m━━━━━━━━━━━━━━━━━━━━\u001b[0m\u001b[37m\u001b[0m \u001b[1m0s\u001b[0m 4ms/step - loss: 0.2181 - val_loss: 0.4212\n",
            "Epoch 9/10\n",
            "\u001b[1m37/37\u001b[0m \u001b[32m━━━━━━━━━━━━━━━━━━━━\u001b[0m\u001b[37m\u001b[0m \u001b[1m0s\u001b[0m 6ms/step - loss: 0.1756 - val_loss: 0.4114\n",
            "Epoch 10/10\n",
            "\u001b[1m37/37\u001b[0m \u001b[32m━━━━━━━━━━━━━━━━━━━━\u001b[0m\u001b[37m\u001b[0m \u001b[1m0s\u001b[0m 6ms/step - loss: 0.2072 - val_loss: 0.3767\n",
            "Epoch 1/10\n",
            "\u001b[1m37/37\u001b[0m \u001b[32m━━━━━━━━━━━━━━━━━━━━\u001b[0m\u001b[37m\u001b[0m \u001b[1m2s\u001b[0m 23ms/step - loss: 0.6621 - val_loss: 0.6028\n",
            "Epoch 2/10\n",
            "\u001b[1m37/37\u001b[0m \u001b[32m━━━━━━━━━━━━━━━━━━━━\u001b[0m\u001b[37m\u001b[0m \u001b[1m0s\u001b[0m 4ms/step - loss: 0.4004 - val_loss: 0.4054\n",
            "Epoch 3/10\n",
            "\u001b[1m37/37\u001b[0m \u001b[32m━━━━━━━━━━━━━━━━━━━━\u001b[0m\u001b[37m\u001b[0m \u001b[1m0s\u001b[0m 4ms/step - loss: 0.1954 - val_loss: 0.3326\n",
            "Epoch 4/10\n",
            "\u001b[1m37/37\u001b[0m \u001b[32m━━━━━━━━━━━━━━━━━━━━\u001b[0m\u001b[37m\u001b[0m \u001b[1m0s\u001b[0m 4ms/step - loss: 0.1982 - val_loss: 0.2855\n",
            "Epoch 5/10\n",
            "\u001b[1m37/37\u001b[0m \u001b[32m━━━━━━━━━━━━━━━━━━━━\u001b[0m\u001b[37m\u001b[0m \u001b[1m0s\u001b[0m 4ms/step - loss: 0.1488 - val_loss: 0.2640\n",
            "Epoch 6/10\n",
            "\u001b[1m37/37\u001b[0m \u001b[32m━━━━━━━━━━━━━━━━━━━━\u001b[0m\u001b[37m\u001b[0m \u001b[1m0s\u001b[0m 4ms/step - loss: 0.1983 - val_loss: 0.2519\n",
            "Epoch 7/10\n",
            "\u001b[1m37/37\u001b[0m \u001b[32m━━━━━━━━━━━━━━━━━━━━\u001b[0m\u001b[37m\u001b[0m \u001b[1m0s\u001b[0m 3ms/step - loss: 0.1427 - val_loss: 0.2314\n",
            "Epoch 8/10\n",
            "\u001b[1m37/37\u001b[0m \u001b[32m━━━━━━━━━━━━━━━━━━━━\u001b[0m\u001b[37m\u001b[0m \u001b[1m0s\u001b[0m 3ms/step - loss: 0.1686 - val_loss: 0.2218\n",
            "Epoch 9/10\n",
            "\u001b[1m37/37\u001b[0m \u001b[32m━━━━━━━━━━━━━━━━━━━━\u001b[0m\u001b[37m\u001b[0m \u001b[1m0s\u001b[0m 4ms/step - loss: 0.1149 - val_loss: 0.2180\n",
            "Epoch 10/10\n",
            "\u001b[1m37/37\u001b[0m \u001b[32m━━━━━━━━━━━━━━━━━━━━\u001b[0m\u001b[37m\u001b[0m \u001b[1m0s\u001b[0m 4ms/step - loss: 0.1150 - val_loss: 0.2111\n",
            "Epoch 1/10\n",
            "\u001b[1m37/37\u001b[0m \u001b[32m━━━━━━━━━━━━━━━━━━━━\u001b[0m\u001b[37m\u001b[0m \u001b[1m1s\u001b[0m 15ms/step - loss: 0.7969 - val_loss: 0.6254\n",
            "Epoch 2/10\n",
            "\u001b[1m37/37\u001b[0m \u001b[32m━━━━━━━━━━━━━━━━━━━━\u001b[0m\u001b[37m\u001b[0m \u001b[1m0s\u001b[0m 4ms/step - loss: 0.2520 - val_loss: 0.4291\n",
            "Epoch 3/10\n",
            "\u001b[1m37/37\u001b[0m \u001b[32m━━━━━━━━━━━━━━━━━━━━\u001b[0m\u001b[37m\u001b[0m \u001b[1m0s\u001b[0m 4ms/step - loss: 0.2185 - val_loss: 0.3524\n",
            "Epoch 4/10\n",
            "\u001b[1m37/37\u001b[0m \u001b[32m━━━━━━━━━━━━━━━━━━━━\u001b[0m\u001b[37m\u001b[0m \u001b[1m0s\u001b[0m 4ms/step - loss: 0.2109 - val_loss: 0.2949\n",
            "Epoch 5/10\n",
            "\u001b[1m37/37\u001b[0m \u001b[32m━━━━━━━━━━━━━━━━━━━━\u001b[0m\u001b[37m\u001b[0m \u001b[1m0s\u001b[0m 4ms/step - loss: 0.1483 - val_loss: 0.2677\n",
            "Epoch 6/10\n",
            "\u001b[1m37/37\u001b[0m \u001b[32m━━━━━━━━━━━━━━━━━━━━\u001b[0m\u001b[37m\u001b[0m \u001b[1m0s\u001b[0m 3ms/step - loss: 0.1770 - val_loss: 0.2525\n",
            "Epoch 7/10\n",
            "\u001b[1m37/37\u001b[0m \u001b[32m━━━━━━━━━━━━━━━━━━━━\u001b[0m\u001b[37m\u001b[0m \u001b[1m0s\u001b[0m 4ms/step - loss: 0.1144 - val_loss: 0.2313\n",
            "Epoch 8/10\n",
            "\u001b[1m37/37\u001b[0m \u001b[32m━━━━━━━━━━━━━━━━━━━━\u001b[0m\u001b[37m\u001b[0m \u001b[1m0s\u001b[0m 4ms/step - loss: 0.1416 - val_loss: 0.2191\n",
            "Epoch 9/10\n",
            "\u001b[1m37/37\u001b[0m \u001b[32m━━━━━━━━━━━━━━━━━━━━\u001b[0m\u001b[37m\u001b[0m \u001b[1m0s\u001b[0m 4ms/step - loss: 0.1023 - val_loss: 0.2211\n",
            "Epoch 10/10\n",
            "\u001b[1m37/37\u001b[0m \u001b[32m━━━━━━━━━━━━━━━━━━━━\u001b[0m\u001b[37m\u001b[0m \u001b[1m0s\u001b[0m 4ms/step - loss: 0.1795 - val_loss: 0.2001\n",
            "Epoch 1/10\n",
            "\u001b[1m37/37\u001b[0m \u001b[32m━━━━━━━━━━━━━━━━━━━━\u001b[0m\u001b[37m\u001b[0m \u001b[1m1s\u001b[0m 16ms/step - loss: 1.0645 - val_loss: 1.9571\n",
            "Epoch 2/10\n",
            "\u001b[1m37/37\u001b[0m \u001b[32m━━━━━━━━━━━━━━━━━━━━\u001b[0m\u001b[37m\u001b[0m \u001b[1m1s\u001b[0m 5ms/step - loss: 1.1158 - val_loss: 1.8619\n",
            "Epoch 3/10\n",
            "\u001b[1m37/37\u001b[0m \u001b[32m━━━━━━━━━━━━━━━━━━━━\u001b[0m\u001b[37m\u001b[0m \u001b[1m0s\u001b[0m 4ms/step - loss: 0.8600 - val_loss: 1.7752\n",
            "Epoch 4/10\n",
            "\u001b[1m37/37\u001b[0m \u001b[32m━━━━━━━━━━━━━━━━━━━━\u001b[0m\u001b[37m\u001b[0m \u001b[1m0s\u001b[0m 4ms/step - loss: 0.9456 - val_loss: 1.6998\n",
            "Epoch 5/10\n",
            "\u001b[1m37/37\u001b[0m \u001b[32m━━━━━━━━━━━━━━━━━━━━\u001b[0m\u001b[37m\u001b[0m \u001b[1m0s\u001b[0m 4ms/step - loss: 0.7037 - val_loss: 1.6358\n",
            "Epoch 6/10\n",
            "\u001b[1m37/37\u001b[0m \u001b[32m━━━━━━━━━━━━━━━━━━━━\u001b[0m\u001b[37m\u001b[0m \u001b[1m0s\u001b[0m 4ms/step - loss: 0.7868 - val_loss: 1.5698\n",
            "Epoch 7/10\n",
            "\u001b[1m37/37\u001b[0m \u001b[32m━━━━━━━━━━━━━━━━━━━━\u001b[0m\u001b[37m\u001b[0m \u001b[1m0s\u001b[0m 4ms/step - loss: 0.5268 - val_loss: 1.5108\n",
            "Epoch 8/10\n",
            "\u001b[1m37/37\u001b[0m \u001b[32m━━━━━━━━━━━━━━━━━━━━\u001b[0m\u001b[37m\u001b[0m \u001b[1m0s\u001b[0m 4ms/step - loss: 0.6773 - val_loss: 1.4485\n",
            "Epoch 9/10\n",
            "\u001b[1m37/37\u001b[0m \u001b[32m━━━━━━━━━━━━━━━━━━━━\u001b[0m\u001b[37m\u001b[0m \u001b[1m0s\u001b[0m 5ms/step - loss: 0.7898 - val_loss: 1.3925\n",
            "Epoch 10/10\n",
            "\u001b[1m37/37\u001b[0m \u001b[32m━━━━━━━━━━━━━━━━━━━━\u001b[0m\u001b[37m\u001b[0m \u001b[1m0s\u001b[0m 5ms/step - loss: 0.8248 - val_loss: 1.3434\n",
            "Epoch 1/10\n",
            "\u001b[1m37/37\u001b[0m \u001b[32m━━━━━━━━━━━━━━━━━━━━\u001b[0m\u001b[37m\u001b[0m \u001b[1m2s\u001b[0m 22ms/step - loss: 0.9823 - val_loss: 1.0589\n",
            "Epoch 2/10\n",
            "\u001b[1m37/37\u001b[0m \u001b[32m━━━━━━━━━━━━━━━━━━━━\u001b[0m\u001b[37m\u001b[0m \u001b[1m0s\u001b[0m 6ms/step - loss: 0.8262 - val_loss: 0.9885\n",
            "Epoch 3/10\n",
            "\u001b[1m37/37\u001b[0m \u001b[32m━━━━━━━━━━━━━━━━━━━━\u001b[0m\u001b[37m\u001b[0m \u001b[1m0s\u001b[0m 5ms/step - loss: 0.9577 - val_loss: 0.9272\n",
            "Epoch 4/10\n",
            "\u001b[1m37/37\u001b[0m \u001b[32m━━━━━━━━━━━━━━━━━━━━\u001b[0m\u001b[37m\u001b[0m \u001b[1m0s\u001b[0m 6ms/step - loss: 0.6799 - val_loss: 0.8783\n",
            "Epoch 5/10\n",
            "\u001b[1m37/37\u001b[0m \u001b[32m━━━━━━━━━━━━━━━━━━━━\u001b[0m\u001b[37m\u001b[0m \u001b[1m0s\u001b[0m 5ms/step - loss: 0.8564 - val_loss: 0.8322\n",
            "Epoch 6/10\n",
            "\u001b[1m37/37\u001b[0m \u001b[32m━━━━━━━━━━━━━━━━━━━━\u001b[0m\u001b[37m\u001b[0m \u001b[1m0s\u001b[0m 4ms/step - loss: 0.6994 - val_loss: 0.7937\n",
            "Epoch 7/10\n",
            "\u001b[1m37/37\u001b[0m \u001b[32m━━━━━━━━━━━━━━━━━━━━\u001b[0m\u001b[37m\u001b[0m \u001b[1m0s\u001b[0m 4ms/step - loss: 0.5635 - val_loss: 0.7620\n",
            "Epoch 8/10\n",
            "\u001b[1m37/37\u001b[0m \u001b[32m━━━━━━━━━━━━━━━━━━━━\u001b[0m\u001b[37m\u001b[0m \u001b[1m0s\u001b[0m 4ms/step - loss: 0.6212 - val_loss: 0.7263\n",
            "Epoch 9/10\n",
            "\u001b[1m37/37\u001b[0m \u001b[32m━━━━━━━━━━━━━━━━━━━━\u001b[0m\u001b[37m\u001b[0m \u001b[1m0s\u001b[0m 3ms/step - loss: 0.6705 - val_loss: 0.6989\n",
            "Epoch 10/10\n",
            "\u001b[1m37/37\u001b[0m \u001b[32m━━━━━━━━━━━━━━━━━━━━\u001b[0m\u001b[37m\u001b[0m \u001b[1m0s\u001b[0m 3ms/step - loss: 0.5777 - val_loss: 0.6666\n",
            "Epoch 1/10\n",
            "\u001b[1m37/37\u001b[0m \u001b[32m━━━━━━━━━━━━━━━━━━━━\u001b[0m\u001b[37m\u001b[0m \u001b[1m1s\u001b[0m 15ms/step - loss: 0.8244 - val_loss: 0.9153\n",
            "Epoch 2/10\n",
            "\u001b[1m37/37\u001b[0m \u001b[32m━━━━━━━━━━━━━━━━━━━━\u001b[0m\u001b[37m\u001b[0m \u001b[1m1s\u001b[0m 4ms/step - loss: 0.6797 - val_loss: 0.8310\n",
            "Epoch 3/10\n",
            "\u001b[1m37/37\u001b[0m \u001b[32m━━━━━━━━━━━━━━━━━━━━\u001b[0m\u001b[37m\u001b[0m \u001b[1m0s\u001b[0m 3ms/step - loss: 0.6453 - val_loss: 0.7703\n",
            "Epoch 4/10\n",
            "\u001b[1m37/37\u001b[0m \u001b[32m━━━━━━━━━━━━━━━━━━━━\u001b[0m\u001b[37m\u001b[0m \u001b[1m0s\u001b[0m 4ms/step - loss: 0.5726 - val_loss: 0.7162\n",
            "Epoch 5/10\n",
            "\u001b[1m37/37\u001b[0m \u001b[32m━━━━━━━━━━━━━━━━━━━━\u001b[0m\u001b[37m\u001b[0m \u001b[1m0s\u001b[0m 4ms/step - loss: 0.5658 - val_loss: 0.6710\n",
            "Epoch 6/10\n",
            "\u001b[1m37/37\u001b[0m \u001b[32m━━━━━━━━━━━━━━━━━━━━\u001b[0m\u001b[37m\u001b[0m \u001b[1m0s\u001b[0m 4ms/step - loss: 0.3666 - val_loss: 0.6290\n",
            "Epoch 7/10\n",
            "\u001b[1m37/37\u001b[0m \u001b[32m━━━━━━━━━━━━━━━━━━━━\u001b[0m\u001b[37m\u001b[0m \u001b[1m0s\u001b[0m 4ms/step - loss: 0.4620 - val_loss: 0.5899\n",
            "Epoch 8/10\n",
            "\u001b[1m37/37\u001b[0m \u001b[32m━━━━━━━━━━━━━━━━━━━━\u001b[0m\u001b[37m\u001b[0m \u001b[1m0s\u001b[0m 4ms/step - loss: 0.3331 - val_loss: 0.5575\n",
            "Epoch 9/10\n",
            "\u001b[1m37/37\u001b[0m \u001b[32m━━━━━━━━━━━━━━━━━━━━\u001b[0m\u001b[37m\u001b[0m \u001b[1m0s\u001b[0m 4ms/step - loss: 0.3631 - val_loss: 0.5293\n",
            "Epoch 10/10\n",
            "\u001b[1m37/37\u001b[0m \u001b[32m━━━━━━━━━━━━━━━━━━━━\u001b[0m\u001b[37m\u001b[0m \u001b[1m0s\u001b[0m 4ms/step - loss: 0.4011 - val_loss: 0.4975\n"
          ]
        }
      ],
      "source": [
        "grid_result_l = list()\n",
        "for params in grid:\n",
        "  grid_result = dict()\n",
        "  model = model_building(**params)\n",
        "  result = model.fit(normalized_x_train, normalized_y_train, epochs=10, batch_size = 10, validation_data=(normalized_x_val, normalized_y_val))\n",
        "  grid_result['learning_rate'] = params['learning_rate']\n",
        "  grid_result['units'] = params['units']\n",
        "  grid_result['loss'] = result.history['loss'][-1]\n",
        "  grid_result['val_loss'] = result.history['val_loss'][-1]\n",
        "  grid_result_l.append(grid_result)"
      ]
    },
    {
      "cell_type": "code",
      "execution_count": null,
      "metadata": {
        "colab": {
          "base_uri": "https://localhost:8080/"
        },
        "id": "8E21a8VL4-6S",
        "outputId": "7fe31de2-0fdf-47c7-f9c4-6dd63c86d6b3"
      },
      "outputs": [
        {
          "name": "stdout",
          "output_type": "stream",
          "text": [
            "{'learning_rate': 0.01, 'units': 32, 'loss': 0.0954008623957634, 'val_loss': 0.15342718362808228}\n",
            "{'learning_rate': 0.01, 'units': 64, 'loss': 0.09774067252874374, 'val_loss': 0.12918056547641754}\n",
            "{'learning_rate': 0.01, 'units': 128, 'loss': 0.09018458425998688, 'val_loss': 0.19647814333438873}\n",
            "{'learning_rate': 0.001, 'units': 32, 'loss': 0.19933390617370605, 'val_loss': 0.37666556239128113}\n",
            "{'learning_rate': 0.001, 'units': 64, 'loss': 0.13059939444065094, 'val_loss': 0.21112221479415894}\n",
            "{'learning_rate': 0.001, 'units': 128, 'loss': 0.11888177692890167, 'val_loss': 0.20010428130626678}\n",
            "{'learning_rate': 0.0001, 'units': 32, 'loss': 0.6515074968338013, 'val_loss': 1.3434498310089111}\n",
            "{'learning_rate': 0.0001, 'units': 64, 'loss': 0.5853484869003296, 'val_loss': 0.6666185855865479}\n",
            "{'learning_rate': 0.0001, 'units': 128, 'loss': 0.3290063738822937, 'val_loss': 0.49753066897392273}\n"
          ]
        }
      ],
      "source": [
        "for elem in grid_result_l:\n",
        "  print(elem)"
      ]
    },
    {
      "cell_type": "code",
      "execution_count": null,
      "metadata": {
        "colab": {
          "base_uri": "https://localhost:8080/"
        },
        "id": "g1vN1NlSwgMD",
        "outputId": "a084f734-99ba-4b85-b890-3a828551b77b"
      },
      "outputs": [
        {
          "name": "stdout",
          "output_type": "stream",
          "text": [
            "{'learning_rate': 0.01, 'units': 64, 'loss': 0.09774067252874374, 'val_loss': 0.12918056547641754}\n"
          ]
        }
      ],
      "source": [
        "min_val_loss = np.inf\n",
        "for elem in grid_result_l:\n",
        "  if elem['val_loss'] < min_val_loss:\n",
        "    min_val_loss = elem['val_loss']\n",
        "    best_params = elem\n",
        "\n",
        "print(best_params)"
      ]
    },
    {
      "cell_type": "code",
      "execution_count": null,
      "metadata": {
        "colab": {
          "base_uri": "https://localhost:8080/"
        },
        "id": "xdqOOEzx534j",
        "outputId": "c9a1718b-87e9-4baf-c2ab-9b51f7e220d1"
      },
      "outputs": [
        {
          "name": "stdout",
          "output_type": "stream",
          "text": [
            "-0.008192662  +-  0.9916914\n",
            "0.020338202  +-  1.0015303\n"
          ]
        }
      ],
      "source": [
        "norm_layer_x = Normalization(axis=-1)\n",
        "norm_layer_x.adapt(x)\n",
        "normalized_x = norm_layer(x)\n",
        "normalized_x_test = norm_layer(x_test)\n",
        "print(np.mean(normalized_x), ' +- ', np.std(normalized_x))\n",
        "print(np.mean(normalized_x_test), ' +- ', np.std(normalized_x_test))"
      ]
    },
    {
      "cell_type": "code",
      "execution_count": null,
      "metadata": {
        "colab": {
          "base_uri": "https://localhost:8080/"
        },
        "id": "JGlgr8aL6RHx",
        "outputId": "a3b47012-6586-4203-9049-9d6a1c24af0a"
      },
      "outputs": [
        {
          "name": "stdout",
          "output_type": "stream",
          "text": [
            "1.1089236e-08  +-  1.0\n",
            "0.1505358  +-  1.0439061\n"
          ]
        }
      ],
      "source": [
        "norm_layer_y_tot = Normalization(axis=None)\n",
        "norm_layer_y_tot.adapt(y)\n",
        "normalized_y = norm_layer_y_tot(y)\n",
        "normalized_y_test = norm_layer_y_tot(y_test)\n",
        "print(np.mean(normalized_y), ' +- ', np.std(normalized_y))\n",
        "print(np.mean(normalized_y_test), ' +- ', np.std(normalized_y_test))"
      ]
    },
    {
      "cell_type": "code",
      "execution_count": null,
      "metadata": {
        "colab": {
          "base_uri": "https://localhost:8080/"
        },
        "id": "M0lBQyjJ6Fg5",
        "outputId": "af8e8971-6679-4cbb-bb90-92ca0d578634"
      },
      "outputs": [
        {
          "name": "stdout",
          "output_type": "stream",
          "text": [
            "Epoch 1/10\n",
            "\u001b[1m37/37\u001b[0m \u001b[32m━━━━━━━━━━━━━━━━━━━━\u001b[0m\u001b[37m\u001b[0m \u001b[1m1s\u001b[0m 16ms/step - loss: 0.7604 - val_loss: 0.1107\n",
            "Epoch 2/10\n",
            "\u001b[1m37/37\u001b[0m \u001b[32m━━━━━━━━━━━━━━━━━━━━\u001b[0m\u001b[37m\u001b[0m \u001b[1m0s\u001b[0m 4ms/step - loss: 0.1929 - val_loss: 0.1703\n",
            "Epoch 3/10\n",
            "\u001b[1m37/37\u001b[0m \u001b[32m━━━━━━━━━━━━━━━━━━━━\u001b[0m\u001b[37m\u001b[0m \u001b[1m0s\u001b[0m 4ms/step - loss: 0.1457 - val_loss: 0.1115\n",
            "Epoch 4/10\n",
            "\u001b[1m37/37\u001b[0m \u001b[32m━━━━━━━━━━━━━━━━━━━━\u001b[0m\u001b[37m\u001b[0m \u001b[1m0s\u001b[0m 4ms/step - loss: 0.1608 - val_loss: 0.1179\n",
            "Epoch 5/10\n",
            "\u001b[1m37/37\u001b[0m \u001b[32m━━━━━━━━━━━━━━━━━━━━\u001b[0m\u001b[37m\u001b[0m \u001b[1m0s\u001b[0m 4ms/step - loss: 0.1252 - val_loss: 0.1009\n",
            "Epoch 6/10\n",
            "\u001b[1m37/37\u001b[0m \u001b[32m━━━━━━━━━━━━━━━━━━━━\u001b[0m\u001b[37m\u001b[0m \u001b[1m0s\u001b[0m 6ms/step - loss: 0.0953 - val_loss: 0.1772\n",
            "Epoch 7/10\n",
            "\u001b[1m37/37\u001b[0m \u001b[32m━━━━━━━━━━━━━━━━━━━━\u001b[0m\u001b[37m\u001b[0m \u001b[1m0s\u001b[0m 6ms/step - loss: 0.1326 - val_loss: 0.1556\n",
            "Epoch 8/10\n",
            "\u001b[1m37/37\u001b[0m \u001b[32m━━━━━━━━━━━━━━━━━━━━\u001b[0m\u001b[37m\u001b[0m \u001b[1m0s\u001b[0m 6ms/step - loss: 0.1187 - val_loss: 0.1253\n",
            "Epoch 9/10\n",
            "\u001b[1m37/37\u001b[0m \u001b[32m━━━━━━━━━━━━━━━━━━━━\u001b[0m\u001b[37m\u001b[0m \u001b[1m0s\u001b[0m 6ms/step - loss: 0.1041 - val_loss: 0.1029\n",
            "Epoch 10/10\n",
            "\u001b[1m37/37\u001b[0m \u001b[32m━━━━━━━━━━━━━━━━━━━━\u001b[0m\u001b[37m\u001b[0m \u001b[1m0s\u001b[0m 6ms/step - loss: 0.1040 - val_loss: 0.1247\n"
          ]
        }
      ],
      "source": [
        "best_model = model_building(units=64, learning_rate=0.01)\n",
        "best_result = best_model.fit(normalized_x, normalized_y, epochs=10, batch_size = 10, validation_split=0.15)"
      ]
    },
    {
      "cell_type": "code",
      "execution_count": null,
      "metadata": {
        "colab": {
          "base_uri": "https://localhost:8080/"
        },
        "id": "ysj5x1ez9eNp",
        "outputId": "309af288-3de7-4617-922e-42044dfc5bf4"
      },
      "outputs": [
        {
          "name": "stdout",
          "output_type": "stream",
          "text": [
            "\u001b[1m3/3\u001b[0m \u001b[32m━━━━━━━━━━━━━━━━━━━━\u001b[0m\u001b[37m\u001b[0m \u001b[1m0s\u001b[0m 13ms/step - loss: 0.2385\n",
            "0.3229905962944031\n"
          ]
        }
      ],
      "source": [
        "metrics = best_model.evaluate(normalized_x_test, normalized_y_test)\n",
        "metrics"
      ]
    },
    {
      "cell_type": "code",
      "execution_count": null,
      "metadata": {
        "colab": {
          "base_uri": "https://localhost:8080/"
        },
        "id": "t8-kC_JIBPYD",
        "outputId": "5f1ca5c1-e41a-47ba-b7c3-8a113bc4586a"
      },
      "outputs": [
        {
          "name": "stdout",
          "output_type": "stream",
          "text": [
            "\u001b[1m1/1\u001b[0m \u001b[32m━━━━━━━━━━━━━━━━━━━━\u001b[0m\u001b[37m\u001b[0m \u001b[1m0s\u001b[0m 31ms/step\n",
            "[[31.03384851]\n",
            " [27.42988922]\n",
            " [10.15099714]\n",
            " [19.20279877]\n",
            " [20.38081188]\n",
            " [14.6895012 ]\n",
            " [34.94125301]\n",
            " [22.91821879]\n",
            " [20.32397698]\n",
            " [ 9.41930417]\n",
            " [16.55766075]\n",
            " [20.16884187]\n",
            " [18.59462933]\n",
            " [25.90528351]\n",
            " [26.94859715]\n",
            " [26.77776598]\n",
            " [15.42693165]\n",
            " [40.31553907]\n",
            " [27.45636629]\n",
            " [23.3514237 ]]\n"
          ]
        }
      ],
      "source": [
        "predictions = best_model.predict(normalized_x_test[:20])\n",
        "print(predictions*np.std(y)+np.mean(y))"
      ]
    },
    {
      "cell_type": "code",
      "execution_count": null,
      "metadata": {
        "colab": {
          "base_uri": "https://localhost:8080/"
        },
        "id": "YVBDQu2KBbeq",
        "outputId": "5dfe00b4-7094-4af6-fadf-2302ab8f2202"
      },
      "outputs": [
        {
          "name": "stdout",
          "output_type": "stream",
          "text": [
            "[27.5 30.1  9.5 22.  21.2 14.1 33.1 23.4 20.1  7.4 15.4 23.8 20.1 24.5\n",
            " 33.  28.4 14.1 46.7 32.5 29.6]\n"
          ]
        }
      ],
      "source": [
        "print(y_test[:20])"
      ]
    },
    {
      "cell_type": "markdown",
      "metadata": {
        "id": "az7_4p8Vd58D"
      },
      "source": [
        "# Autoencoder"
      ]
    },
    {
      "cell_type": "markdown",
      "metadata": {
        "id": "B2TrYvZJeFPs"
      },
      "source": [
        "## Denoising\n",
        "Build a denoising autoencoder which is able to reconstruct MNIST digits. Just add some [random Gaussian](https://numpy.org/doc/stable/reference/random/generated/numpy.random.normal.html) noise to the input and reconstruct its denoised, original version."
      ]
    },
    {
      "cell_type": "code",
      "execution_count": 77,
      "metadata": {
        "id": "rYi90IvqeRGF"
      },
      "outputs": [],
      "source": [
        "import tensorflow as tf\n",
        "import numpy as np\n",
        "from tensorflow import keras as K\n",
        "from tensorflow.keras.datasets import cifar10\n",
        "import matplotlib.pyplot as plt"
      ]
    },
    {
      "cell_type": "code",
      "execution_count": 78,
      "metadata": {
        "id": "09n9HNtbgTmP"
      },
      "outputs": [],
      "source": [
        "from sklearn.model_selection import train_test_split\n",
        "from sklearn.model_selection import ParameterGrid"
      ]
    },
    {
      "cell_type": "code",
      "execution_count": 79,
      "metadata": {
        "colab": {
          "base_uri": "https://localhost:8080/"
        },
        "id": "60MelIPpf4_2",
        "outputId": "f748af70-2c9c-4d39-f2aa-2de996a388e2"
      },
      "outputs": [
        {
          "name": "stdout",
          "output_type": "stream",
          "text": [
            "Development set shape -> X=(60000, 28, 28) y=(60000,)\n",
            "Test set shape        -> X=(10000, 28, 28) y=(10000,)\n"
          ]
        }
      ],
      "source": [
        "# let's load the data\n",
        "(X_dev, y_dev), (X_test, y_test) = K.datasets.mnist.load_data()\n",
        "\n",
        "# we'll print the dimensions of the two datasets we just loaded\n",
        "print(f\"Development set shape -> X={X_dev.shape} y={y_dev.shape}\")\n",
        "print(f\"Test set shape        -> X={X_test.shape} y={y_test.shape}\")"
      ]
    },
    {
      "cell_type": "code",
      "execution_count": 80,
      "metadata": {
        "id": "ox4S9yFAgXun"
      },
      "outputs": [],
      "source": [
        "X_train, X_val, y_train, y_val = train_test_split(X_dev, y_dev, test_size=10000, stratify=y_dev)"
      ]
    },
    {
      "cell_type": "code",
      "execution_count": 81,
      "metadata": {
        "id": "HlEaijKbjf9B"
      },
      "outputs": [],
      "source": [
        "def build_denoising_autoencoder(units = 784):\n",
        "    model = K.Sequential()\n",
        "    model.add(K.layers.Input(shape=(784,)))\n",
        "    model.add(K.layers.Dense(units=units, activation=\"relu\"))\n",
        "    model.add(K.layers.Dense(units=784, activation=\"linear\"))\n",
        "\n",
        "    return model"
      ]
    },
    {
      "cell_type": "code",
      "execution_count": 82,
      "metadata": {
        "id": "HlKDk1RVkXOv"
      },
      "outputs": [],
      "source": [
        "model = build_denoising_autoencoder()"
      ]
    },
    {
      "cell_type": "code",
      "execution_count": 83,
      "metadata": {
        "id": "h24WlRp5kN6_"
      },
      "outputs": [],
      "source": [
        "model.compile(loss='mean_squared_error', optimizer=K.optimizers.RMSprop(learning_rate=0.001))"
      ]
    },
    {
      "cell_type": "code",
      "execution_count": 84,
      "metadata": {
        "id": "kDwSpWX3k-5l"
      },
      "outputs": [],
      "source": [
        "def add_gaussian_noise(X, scaling_factor):\n",
        "    # create a gaussian noise matrix of the same size as the input X\n",
        "    gaussian_noise = np.random.randn(X.shape[0], X.shape[1])\n",
        "\n",
        "    # apply the (scaled) noise\n",
        "    X_noisy = X + scaling_factor * gaussian_noise\n",
        "\n",
        "    return X_noisy"
      ]
    },
    {
      "cell_type": "code",
      "execution_count": 85,
      "metadata": {
        "id": "LO06BPKwlp9S"
      },
      "outputs": [],
      "source": [
        "X_train_flatten = X_train.reshape(-1, 784)\n",
        "X_val_flatten = X_val.reshape(-1, 784)\n",
        "X_test_flatten = X_test.reshape(-1, 784)"
      ]
    },
    {
      "cell_type": "code",
      "execution_count": 86,
      "metadata": {
        "id": "H1VTB-EIlyEW"
      },
      "outputs": [],
      "source": [
        "X_train_pp = X_train_flatten * (1/255)\n",
        "X_val_pp = X_val_flatten * (1/255)\n",
        "X_test_pp = X_test_flatten * (1/255)"
      ]
    },
    {
      "cell_type": "code",
      "execution_count": 87,
      "metadata": {
        "id": "erHlDY15lDcO"
      },
      "outputs": [],
      "source": [
        "# let's apply the noise to our matrices\n",
        "# I'll use a factor of 0.2 (but values < 0.5 should be fine in general)\n",
        "X_train_noisy = add_gaussian_noise(X_train_pp, scaling_factor=0.2)\n",
        "X_val_noisy = add_gaussian_noise(X_val_pp, scaling_factor=0.2)"
      ]
    },
    {
      "cell_type": "code",
      "execution_count": 88,
      "metadata": {
        "colab": {
          "base_uri": "https://localhost:8080/"
        },
        "id": "raDKjCVNl-YW",
        "outputId": "29b5e840-afce-4115-b69d-e6d82a5d50e9"
      },
      "outputs": [
        {
          "name": "stdout",
          "output_type": "stream",
          "text": [
            "Epoch 1/5\n",
            "\u001b[1m391/391\u001b[0m \u001b[32m━━━━━━━━━━━━━━━━━━━━\u001b[0m\u001b[37m\u001b[0m \u001b[1m3s\u001b[0m 5ms/step - loss: 0.0622 - val_loss: 0.0309\n",
            "Epoch 2/5\n",
            "\u001b[1m391/391\u001b[0m \u001b[32m━━━━━━━━━━━━━━━━━━━━\u001b[0m\u001b[37m\u001b[0m \u001b[1m4s\u001b[0m 3ms/step - loss: 0.0283 - val_loss: 0.0227\n",
            "Epoch 3/5\n",
            "\u001b[1m391/391\u001b[0m \u001b[32m━━━━━━━━━━━━━━━━━━━━\u001b[0m\u001b[37m\u001b[0m \u001b[1m1s\u001b[0m 3ms/step - loss: 0.0214 - val_loss: 0.0188\n",
            "Epoch 4/5\n",
            "\u001b[1m391/391\u001b[0m \u001b[32m━━━━━━━━━━━━━━━━━━━━\u001b[0m\u001b[37m\u001b[0m \u001b[1m1s\u001b[0m 3ms/step - loss: 0.0180 - val_loss: 0.0166\n",
            "Epoch 5/5\n",
            "\u001b[1m391/391\u001b[0m \u001b[32m━━━━━━━━━━━━━━━━━━━━\u001b[0m\u001b[37m\u001b[0m \u001b[1m1s\u001b[0m 3ms/step - loss: 0.0160 - val_loss: 0.0151\n"
          ]
        }
      ],
      "source": [
        "results = model.fit(\n",
        "  X_train_noisy,   # our noisy data matrix (the input)\n",
        "  X_train_pp,         # our original data matrix (the output)\n",
        "  batch_size=128,\n",
        "  epochs=5,\n",
        "  shuffle=True,\n",
        "  validation_data=(X_val_noisy, X_val_pp),\n",
        "  verbose=1\n",
        ")"
      ]
    },
    {
      "cell_type": "code",
      "execution_count": 91,
      "metadata": {
        "colab": {
          "base_uri": "https://localhost:8080/",
          "height": 245
        },
        "id": "CXvuC3E7m7RH",
        "outputId": "47d41f60-8605-4655-d0d5-153f0bb4dbcb"
      },
      "outputs": [
        {
          "name": "stdout",
          "output_type": "stream",
          "text": [
            "\u001b[1m313/313\u001b[0m \u001b[32m━━━━━━━━━━━━━━━━━━━━\u001b[0m\u001b[37m\u001b[0m \u001b[1m0s\u001b[0m 1ms/step\n"
          ]
        },
        {
          "data": {
            "image/png": "[encoded data removed]",
            "text/plain": [
              "<Figure size 640x480 with 3 Axes>"
            ]
          },
          "metadata": {},
          "output_type": "display_data"
        }
      ],
      "source": [
        "def show_noisy_reconstruction(X, X_noisy, X_rec):\n",
        "    X = X.reshape(-1, 28, 28)\n",
        "    X_noisy = X_noisy.reshape(-1, 28, 28)\n",
        "    X_rec = X_rec.reshape(-1, 28, 28)\n",
        "\n",
        "    fig, axs = plt.subplots(1, 3)\n",
        "    rand_idx = np.random.choice(X.shape[0])\n",
        "\n",
        "    axs[0].imshow(X[rand_idx], cmap='gray', interpolation='none')\n",
        "    axs[0].set_title(\"Original (target)\")\n",
        "    axs[1].imshow(X_noisy[rand_idx], cmap='gray', interpolation='none')\n",
        "    axs[1].set_title(\"Noisy (input)\")\n",
        "    axs[2].imshow(X_rec[rand_idx], cmap='gray', interpolation='none')\n",
        "    axs[2].set_title(\"Reconstruction (prediction)\")\n",
        "\n",
        "X_val_rec = model.predict(X_val_noisy)\n",
        "show_noisy_reconstruction(X_val, X_val_noisy, X_val_rec)"
      ]
    },
    {
      "cell_type": "markdown",
      "metadata": {
        "id": "Ig2uaSNfNDPr"
      },
      "source": [
        "# Computer Vision: Exercises"
      ]
    },
    {
      "cell_type": "markdown",
      "metadata": {
        "id": "BBx3RveANOQ0"
      },
      "source": [
        "## Exercise: training a LeNet on CIFAR-10"
      ]
    },
    {
      "cell_type": "code",
      "execution_count": 46,
      "metadata": {
        "id": "fouol69UNTUL"
      },
      "outputs": [],
      "source": [
        "import tensorflow as tf\n",
        "import numpy as np\n",
        "from tensorflow import keras as K\n",
        "from tensorflow.keras.datasets import cifar10\n",
        "import matplotlib.pyplot as plt"
      ]
    },
    {
      "cell_type": "code",
      "execution_count": 47,
      "metadata": {
        "id": "4HWHNjQpN4E9"
      },
      "outputs": [],
      "source": [
        "from sklearn.model_selection import train_test_split\n",
        "from sklearn.model_selection import ParameterGrid"
      ]
    },
    {
      "cell_type": "code",
      "execution_count": 48,
      "metadata": {
        "id": "kBD__eR7NagE"
      },
      "outputs": [],
      "source": [
        "(x_dev, y_dev), (x_test, y_test) = cifar10.load_data()"
      ]
    },
    {
      "cell_type": "code",
      "execution_count": 49,
      "metadata": {
        "colab": {
          "base_uri": "https://localhost:8080/"
        },
        "id": "abudMmjINjMl",
        "outputId": "0e73d302-bf54-4c79-b260-80fd59046f25"
      },
      "outputs": [
        {
          "name": "stdout",
          "output_type": "stream",
          "text": [
            "(50000, 32, 32, 3) (50000, 1) 0 9\n",
            "uint8 0 255\n"
          ]
        }
      ],
      "source": [
        "print(x_dev.shape, y_dev.shape, np.min(y_dev), np.max(y_dev))\n",
        "print(x_dev.dtype, np.min(x_dev), np.max(x_dev))"
      ]
    },
    {
      "cell_type": "code",
      "execution_count": 50,
      "metadata": {
        "id": "iCS36BemNvaj"
      },
      "outputs": [],
      "source": [
        "x_train, x_val, y_train, y_val = train_test_split(x_dev, y_dev, test_size=0.15, stratify= y_dev)"
      ]
    },
    {
      "cell_type": "code",
      "execution_count": 51,
      "metadata": {
        "colab": {
          "base_uri": "https://localhost:8080/"
        },
        "id": "Gj0Rq-vaOQVk",
        "outputId": "d707278d-ee7b-4f25-ee67-5d67a874af76"
      },
      "outputs": [
        {
          "name": "stdout",
          "output_type": "stream",
          "text": [
            "(42500, 32, 32, 3) (42500, 1) 0 9\n",
            "uint8 0 255\n"
          ]
        }
      ],
      "source": [
        "print(x_train.shape, y_train.shape, np.min(y_train), np.max(y_train))\n",
        "print(x_train.dtype, np.min(x_train), np.max(x_train))"
      ]
    },
    {
      "cell_type": "code",
      "execution_count": 52,
      "metadata": {
        "id": "oWPNi2rKOVnt"
      },
      "outputs": [],
      "source": [
        "def build_lenet5(filters1 = 6, filters2 = 16, filters3 = 120, units = 84):\n",
        "    model = K.Sequential()\n",
        "    model.add(K.layers.Input(shape=(32, 32, 3)))\n",
        "    model.add(K.layers.Rescaling(scale=1/255))\n",
        "    model.add(K.layers.Conv2D(filters=filters1, kernel_size=(5,5), padding='same', activation='tanh'))\n",
        "    model.add(K.layers.MaxPool2D(strides=2))\n",
        "    model.add(K.layers.Conv2D(filters=filters2, kernel_size=(5,5), padding='valid', activation='tanh'))\n",
        "    model.add(K.layers.MaxPool2D(strides=2))\n",
        "    model.add(K.layers.Conv2D(filters=filters3, kernel_size=(5,5), padding='valid', activation='tanh'))\n",
        "    model.add(K.layers.Flatten())\n",
        "    model.add(K.layers.Dense(units, activation='tanh'))\n",
        "    model.add(K.layers.Dense(10, activation='softmax'))\n",
        "    return model"
      ]
    },
    {
      "cell_type": "code",
      "execution_count": 53,
      "metadata": {
        "id": "q1Gp1QeWQKM2"
      },
      "outputs": [],
      "source": [
        "grid = ParameterGrid({'filters1': [6, 12], 'filters2': [16, 32], 'filters3': [120, 240], 'units': [84]})"
      ]
    },
    {
      "cell_type": "code",
      "execution_count": 54,
      "metadata": {
        "colab": {
          "base_uri": "https://localhost:8080/"
        },
        "id": "Lay-LJ23Qbqz",
        "outputId": "6b834c18-f9b0-4176-da76-6012b1139898"
      },
      "outputs": [
        {
          "name": "stdout",
          "output_type": "stream",
          "text": [
            "Epoch 1/3\n",
            "\u001b[1m333/333\u001b[0m \u001b[32m━━━━━━━━━━━━━━━━━━━━\u001b[0m\u001b[37m\u001b[0m \u001b[1m10s\u001b[0m 15ms/step - accuracy: 0.3518 - loss: 1.7862 - val_accuracy: 0.4815 - val_loss: 1.4393\n",
            "Epoch 2/3\n",
            "\u001b[1m333/333\u001b[0m \u001b[32m━━━━━━━━━━━━━━━━━━━━\u001b[0m\u001b[37m\u001b[0m \u001b[1m5s\u001b[0m 6ms/step - accuracy: 0.5036 - loss: 1.3953 - val_accuracy: 0.5201 - val_loss: 1.3423\n",
            "Epoch 3/3\n",
            "\u001b[1m333/333\u001b[0m \u001b[32m━━━━━━━━━━━━━━━━━━━━\u001b[0m\u001b[37m\u001b[0m \u001b[1m3s\u001b[0m 8ms/step - accuracy: 0.5448 - loss: 1.2799 - val_accuracy: 0.5435 - val_loss: 1.3015\n",
            "Epoch 1/3\n",
            "\u001b[1m333/333\u001b[0m \u001b[32m━━━━━━━━━━━━━━━━━━━━\u001b[0m\u001b[37m\u001b[0m \u001b[1m9s\u001b[0m 18ms/step - accuracy: 0.3618 - loss: 1.7715 - val_accuracy: 0.4392 - val_loss: 1.5903\n",
            "Epoch 2/3\n",
            "\u001b[1m333/333\u001b[0m \u001b[32m━━━━━━━━━━━━━━━━━━━━\u001b[0m\u001b[37m\u001b[0m \u001b[1m2s\u001b[0m 7ms/step - accuracy: 0.5024 - loss: 1.4084 - val_accuracy: 0.4987 - val_loss: 1.4046\n",
            "Epoch 3/3\n",
            "\u001b[1m333/333\u001b[0m \u001b[32m━━━━━━━━━━━━━━━━━━━━\u001b[0m\u001b[37m\u001b[0m \u001b[1m2s\u001b[0m 7ms/step - accuracy: 0.5443 - loss: 1.2781 - val_accuracy: 0.5356 - val_loss: 1.3111\n",
            "Epoch 1/3\n",
            "\u001b[1m333/333\u001b[0m \u001b[32m━━━━━━━━━━━━━━━━━━━━\u001b[0m\u001b[37m\u001b[0m \u001b[1m9s\u001b[0m 16ms/step - accuracy: 0.3467 - loss: 1.8169 - val_accuracy: 0.4723 - val_loss: 1.4926\n",
            "Epoch 2/3\n",
            "\u001b[1m333/333\u001b[0m \u001b[32m━━━━━━━━━━━━━━━━━━━━\u001b[0m\u001b[37m\u001b[0m \u001b[1m2s\u001b[0m 7ms/step - accuracy: 0.5079 - loss: 1.3756 - val_accuracy: 0.5368 - val_loss: 1.2947\n",
            "Epoch 3/3\n",
            "\u001b[1m333/333\u001b[0m \u001b[32m━━━━━━━━━━━━━━━━━━━━\u001b[0m\u001b[37m\u001b[0m \u001b[1m3s\u001b[0m 7ms/step - accuracy: 0.5613 - loss: 1.2376 - val_accuracy: 0.5164 - val_loss: 1.3540\n",
            "Epoch 1/3\n",
            "\u001b[1m333/333\u001b[0m \u001b[32m━━━━━━━━━━━━━━━━━━━━\u001b[0m\u001b[37m\u001b[0m \u001b[1m8s\u001b[0m 14ms/step - accuracy: 0.3605 - loss: 1.7681 - val_accuracy: 0.4389 - val_loss: 1.5513\n",
            "Epoch 2/3\n",
            "\u001b[1m333/333\u001b[0m \u001b[32m━━━━━━━━━━━━━━━━━━━━\u001b[0m\u001b[37m\u001b[0m \u001b[1m6s\u001b[0m 7ms/step - accuracy: 0.5241 - loss: 1.3492 - val_accuracy: 0.5137 - val_loss: 1.3658\n",
            "Epoch 3/3\n",
            "\u001b[1m333/333\u001b[0m \u001b[32m━━━━━━━━━━━━━━━━━━━━\u001b[0m\u001b[37m\u001b[0m \u001b[1m3s\u001b[0m 9ms/step - accuracy: 0.5796 - loss: 1.1916 - val_accuracy: 0.5497 - val_loss: 1.3000\n",
            "Epoch 1/3\n",
            "\u001b[1m333/333\u001b[0m \u001b[32m━━━━━━━━━━━━━━━━━━━━\u001b[0m\u001b[37m\u001b[0m \u001b[1m9s\u001b[0m 19ms/step - accuracy: 0.3501 - loss: 1.8039 - val_accuracy: 0.4369 - val_loss: 1.5929\n",
            "Epoch 2/3\n",
            "\u001b[1m333/333\u001b[0m \u001b[32m━━━━━━━━━━━━━━━━━━━━\u001b[0m\u001b[37m\u001b[0m \u001b[1m3s\u001b[0m 8ms/step - accuracy: 0.5020 - loss: 1.4068 - val_accuracy: 0.5067 - val_loss: 1.3725\n",
            "Epoch 3/3\n",
            "\u001b[1m333/333\u001b[0m \u001b[32m━━━━━━━━━━━━━━━━━━━━\u001b[0m\u001b[37m\u001b[0m \u001b[1m2s\u001b[0m 7ms/step - accuracy: 0.5539 - loss: 1.2638 - val_accuracy: 0.5540 - val_loss: 1.2740\n",
            "Epoch 1/3\n",
            "\u001b[1m333/333\u001b[0m \u001b[32m━━━━━━━━━━━━━━━━━━━━\u001b[0m\u001b[37m\u001b[0m \u001b[1m9s\u001b[0m 16ms/step - accuracy: 0.3615 - loss: 1.7588 - val_accuracy: 0.4845 - val_loss: 1.4476\n",
            "Epoch 2/3\n",
            "\u001b[1m333/333\u001b[0m \u001b[32m━━━━━━━━━━━━━━━━━━━━\u001b[0m\u001b[37m\u001b[0m \u001b[1m2s\u001b[0m 7ms/step - accuracy: 0.5110 - loss: 1.3715 - val_accuracy: 0.5004 - val_loss: 1.3968\n",
            "Epoch 3/3\n",
            "\u001b[1m333/333\u001b[0m \u001b[32m━━━━━━━━━━━━━━━━━━━━\u001b[0m\u001b[37m\u001b[0m \u001b[1m2s\u001b[0m 6ms/step - accuracy: 0.5705 - loss: 1.2258 - val_accuracy: 0.5341 - val_loss: 1.3291\n",
            "Epoch 1/3\n",
            "\u001b[1m333/333\u001b[0m \u001b[32m━━━━━━━━━━━━━━━━━━━━\u001b[0m\u001b[37m\u001b[0m \u001b[1m9s\u001b[0m 15ms/step - accuracy: 0.3590 - loss: 1.7651 - val_accuracy: 0.4521 - val_loss: 1.5455\n",
            "Epoch 2/3\n",
            "\u001b[1m333/333\u001b[0m \u001b[32m━━━━━━━━━━━━━━━━━━━━\u001b[0m\u001b[37m\u001b[0m \u001b[1m6s\u001b[0m 8ms/step - accuracy: 0.5484 - loss: 1.2782 - val_accuracy: 0.4081 - val_loss: 1.8582\n",
            "Epoch 3/3\n",
            "\u001b[1m333/333\u001b[0m \u001b[32m━━━━━━━━━━━━━━━━━━━━\u001b[0m\u001b[37m\u001b[0m \u001b[1m5s\u001b[0m 7ms/step - accuracy: 0.5822 - loss: 1.1946 - val_accuracy: 0.5644 - val_loss: 1.2423\n",
            "Epoch 1/3\n",
            "\u001b[1m333/333\u001b[0m \u001b[32m━━━━━━━━━━━━━━━━━━━━\u001b[0m\u001b[37m\u001b[0m \u001b[1m9s\u001b[0m 17ms/step - accuracy: 0.3861 - loss: 1.7080 - val_accuracy: 0.4767 - val_loss: 1.4615\n",
            "Epoch 2/3\n",
            "\u001b[1m333/333\u001b[0m \u001b[32m━━━━━━━━━━━━━━━━━━━━\u001b[0m\u001b[37m\u001b[0m \u001b[1m3s\u001b[0m 8ms/step - accuracy: 0.5507 - loss: 1.2721 - val_accuracy: 0.5757 - val_loss: 1.2006\n",
            "Epoch 3/3\n",
            "\u001b[1m333/333\u001b[0m \u001b[32m━━━━━━━━━━━━━━━━━━━━\u001b[0m\u001b[37m\u001b[0m \u001b[1m2s\u001b[0m 7ms/step - accuracy: 0.6035 - loss: 1.1302 - val_accuracy: 0.5596 - val_loss: 1.2568\n"
          ]
        }
      ],
      "source": [
        "grid_result_l = list()\n",
        "for params in grid:\n",
        "  grid_result = dict()\n",
        "  lenet5_model = build_lenet5(**params)\n",
        "  lenet5_model.compile(loss='sparse_categorical_crossentropy', optimizer=K.optimizers.Adam(learning_rate = 0.001), metrics=['accuracy'])\n",
        "  results = lenet5_model.fit(x_train, y_train, epochs=3, batch_size = 128, validation_data=(x_val, y_val))\n",
        "  grid_result['filters1'] = params['filters1']\n",
        "  grid_result['filters2'] = params['filters2']\n",
        "  grid_result['filters3'] = params['filters3']\n",
        "  grid_result['units'] = params['units']\n",
        "  grid_result['loss'] = results.history['loss'][-1]\n",
        "  grid_result['val_loss'] = results.history['val_loss'][-1]\n",
        "  grid_result['accuracy'] = results.history['accuracy'][-1]\n",
        "  grid_result['val_accuracy'] = results.history['val_accuracy'][-1]\n",
        "  grid_result_l.append(grid_result)"
      ]
    },
    {
      "cell_type": "code",
      "execution_count": 19,
      "metadata": {
        "colab": {
          "base_uri": "https://localhost:8080/"
        },
        "id": "uNq2icCzRpFN",
        "outputId": "7fef4303-c4c8-44dc-fff2-38bfc6d32b85"
      },
      "outputs": [
        {
          "name": "stdout",
          "output_type": "stream",
          "text": [
            "{'filters1': 6, 'filters2': 16, 'filters3': 120, 'units': 84, 'loss': 1.282786250114441, 'val_loss': 1.2547565698623657, 'accuracy': 0.546470582485199, 'val_accuracy': 0.5581333041191101}\n",
            "{'filters1': 6, 'filters2': 16, 'filters3': 240, 'units': 84, 'loss': 1.3083535432815552, 'val_loss': 1.330175518989563, 'accuracy': 0.5405411720275879, 'val_accuracy': 0.5286666750907898}\n",
            "{'filters1': 6, 'filters2': 32, 'filters3': 120, 'units': 84, 'loss': 1.2534948587417603, 'val_loss': 1.2058311700820923, 'accuracy': 0.5589176416397095, 'val_accuracy': 0.5776000022888184}\n",
            "{'filters1': 6, 'filters2': 32, 'filters3': 240, 'units': 84, 'loss': 1.3150166273117065, 'val_loss': 1.3717905282974243, 'accuracy': 0.5391294360160828, 'val_accuracy': 0.5123999714851379}\n",
            "{'filters1': 12, 'filters2': 16, 'filters3': 120, 'units': 84, 'loss': 1.2716047763824463, 'val_loss': 1.2378225326538086, 'accuracy': 0.551764726638794, 'val_accuracy': 0.5693333148956299}\n",
            "{'filters1': 12, 'filters2': 16, 'filters3': 240, 'units': 84, 'loss': 1.3394695520401, 'val_loss': 1.3458541631698608, 'accuracy': 0.5256235003471375, 'val_accuracy': 0.5239999890327454}\n",
            "{'filters1': 12, 'filters2': 32, 'filters3': 120, 'units': 84, 'loss': 1.2316023111343384, 'val_loss': 1.2881938219070435, 'accuracy': 0.5666823387145996, 'val_accuracy': 0.5522666573524475}\n",
            "{'filters1': 12, 'filters2': 32, 'filters3': 240, 'units': 84, 'loss': 1.3192973136901855, 'val_loss': 1.2812227010726929, 'accuracy': 0.5311529636383057, 'val_accuracy': 0.5490666627883911}\n"
          ]
        }
      ],
      "source": [
        "for elem in grid_result_l:\n",
        "  print(elem)"
      ]
    },
    {
      "cell_type": "code",
      "execution_count": 55,
      "metadata": {
        "colab": {
          "base_uri": "https://localhost:8080/"
        },
        "id": "aZV8e5gIRpzC",
        "outputId": "a414256d-8fe5-41ae-9151-3c24528e11de"
      },
      "outputs": [
        {
          "name": "stdout",
          "output_type": "stream",
          "text": [
            "{'filters1': 12, 'filters2': 32, 'filters3': 120, 'units': 84, 'loss': 1.1322853565216064, 'val_loss': 1.242324709892273, 'accuracy': 0.6020705699920654, 'val_accuracy': 0.5644000172615051}\n"
          ]
        }
      ],
      "source": [
        "max_val_accuracy = -np.inf\n",
        "for elem in grid_result_l:\n",
        "  if elem['val_accuracy'] > max_val_accuracy:\n",
        "    max_val_accuracy = elem['val_accuracy']\n",
        "    best_params = elem\n",
        "\n",
        "print(best_params)"
      ]
    },
    {
      "cell_type": "code",
      "execution_count": 56,
      "metadata": {
        "colab": {
          "base_uri": "https://localhost:8080/"
        },
        "id": "eO72dBwPVoCF",
        "outputId": "abbd27d3-09c4-49c0-fb85-a22c99e69629"
      },
      "outputs": [
        {
          "name": "stdout",
          "output_type": "stream",
          "text": [
            "Epoch 1/10\n",
            "\u001b[1m333/333\u001b[0m \u001b[32m━━━━━━━━━━━━━━━━━━━━\u001b[0m\u001b[37m\u001b[0m \u001b[1m9s\u001b[0m 16ms/step - accuracy: 0.3494 - loss: 1.7977 - val_accuracy: 0.4027 - val_loss: 1.6583\n",
            "Epoch 2/10\n",
            "\u001b[1m333/333\u001b[0m \u001b[32m━━━━━━━━━━━━━━━━━━━━\u001b[0m\u001b[37m\u001b[0m \u001b[1m3s\u001b[0m 10ms/step - accuracy: 0.5221 - loss: 1.3477 - val_accuracy: 0.5619 - val_loss: 1.2381\n",
            "Epoch 3/10\n",
            "\u001b[1m333/333\u001b[0m \u001b[32m━━━━━━━━━━━━━━━━━━━━\u001b[0m\u001b[37m\u001b[0m \u001b[1m2s\u001b[0m 7ms/step - accuracy: 0.5898 - loss: 1.1639 - val_accuracy: 0.5916 - val_loss: 1.1705\n",
            "Epoch 4/10\n",
            "\u001b[1m333/333\u001b[0m \u001b[32m━━━━━━━━━━━━━━━━━━━━\u001b[0m\u001b[37m\u001b[0m \u001b[1m2s\u001b[0m 6ms/step - accuracy: 0.6293 - loss: 1.0626 - val_accuracy: 0.5848 - val_loss: 1.1611\n",
            "Epoch 5/10\n",
            "\u001b[1m333/333\u001b[0m \u001b[32m━━━━━━━━━━━━━━━━━━━━\u001b[0m\u001b[37m\u001b[0m \u001b[1m3s\u001b[0m 6ms/step - accuracy: 0.6455 - loss: 1.0133 - val_accuracy: 0.6115 - val_loss: 1.1124\n",
            "Epoch 6/10\n",
            "\u001b[1m333/333\u001b[0m \u001b[32m━━━━━━━━━━━━━━━━━━━━\u001b[0m\u001b[37m\u001b[0m \u001b[1m3s\u001b[0m 7ms/step - accuracy: 0.6696 - loss: 0.9480 - val_accuracy: 0.6264 - val_loss: 1.0698\n",
            "Epoch 7/10\n",
            "\u001b[1m333/333\u001b[0m \u001b[32m━━━━━━━━━━━━━━━━━━━━\u001b[0m\u001b[37m\u001b[0m \u001b[1m3s\u001b[0m 8ms/step - accuracy: 0.6794 - loss: 0.9104 - val_accuracy: 0.6156 - val_loss: 1.1008\n",
            "Epoch 8/10\n",
            "\u001b[1m333/333\u001b[0m \u001b[32m━━━━━━━━━━━━━━━━━━━━\u001b[0m\u001b[37m\u001b[0m \u001b[1m2s\u001b[0m 7ms/step - accuracy: 0.7026 - loss: 0.8523 - val_accuracy: 0.6257 - val_loss: 1.0901\n",
            "Epoch 9/10\n",
            "\u001b[1m333/333\u001b[0m \u001b[32m━━━━━━━━━━━━━━━━━━━━\u001b[0m\u001b[37m\u001b[0m \u001b[1m3s\u001b[0m 7ms/step - accuracy: 0.7122 - loss: 0.8232 - val_accuracy: 0.6341 - val_loss: 1.0726\n",
            "Epoch 10/10\n",
            "\u001b[1m333/333\u001b[0m \u001b[32m━━━━━━━━━━━━━━━━━━━━\u001b[0m\u001b[37m\u001b[0m \u001b[1m2s\u001b[0m 7ms/step - accuracy: 0.7386 - loss: 0.7512 - val_accuracy: 0.6113 - val_loss: 1.1347\n"
          ]
        }
      ],
      "source": [
        "lenet5_model = build_lenet5(filters1= 12, filters2 = 32, filters3=120, units=84)\n",
        "lenet5_model.compile(loss='sparse_categorical_crossentropy', optimizer=K.optimizers.Adam(learning_rate = 0.001), metrics=['accuracy'])\n",
        "results = lenet5_model.fit(x_train, y_train, epochs=10, batch_size = 128, validation_data=(x_val, y_val))"
      ]
    },
    {
      "cell_type": "code",
      "execution_count": 57,
      "metadata": {
        "colab": {
          "base_uri": "https://localhost:8080/"
        },
        "id": "cqQktYreiSav",
        "outputId": "05ddb744-0456-47fe-d8f2-55e14323f3f9"
      },
      "outputs": [
        {
          "name": "stdout",
          "output_type": "stream",
          "text": [
            "Epoch 1/10\n",
            "\u001b[1m333/333\u001b[0m \u001b[32m━━━━━━━━━━━━━━━━━━━━\u001b[0m\u001b[37m\u001b[0m \u001b[1m8s\u001b[0m 13ms/step - accuracy: 0.3640 - loss: 1.7634 - val_accuracy: 0.4815 - val_loss: 1.4336\n",
            "Epoch 2/10\n",
            "\u001b[1m333/333\u001b[0m \u001b[32m━━━━━━━━━━━━━━━━━━━━\u001b[0m\u001b[37m\u001b[0m \u001b[1m7s\u001b[0m 8ms/step - accuracy: 0.5157 - loss: 1.3552 - val_accuracy: 0.5645 - val_loss: 1.2391\n",
            "Epoch 3/10\n",
            "\u001b[1m333/333\u001b[0m \u001b[32m━━━━━━━━━━━━━━━━━━━━\u001b[0m\u001b[37m\u001b[0m \u001b[1m2s\u001b[0m 7ms/step - accuracy: 0.5845 - loss: 1.1769 - val_accuracy: 0.5932 - val_loss: 1.1537\n",
            "Epoch 4/10\n",
            "\u001b[1m333/333\u001b[0m \u001b[32m━━━━━━━━━━━━━━━━━━━━\u001b[0m\u001b[37m\u001b[0m \u001b[1m2s\u001b[0m 6ms/step - accuracy: 0.6133 - loss: 1.0916 - val_accuracy: 0.5715 - val_loss: 1.2186\n",
            "Epoch 5/10\n",
            "\u001b[1m333/333\u001b[0m \u001b[32m━━━━━━━━━━━━━━━━━━━━\u001b[0m\u001b[37m\u001b[0m \u001b[1m3s\u001b[0m 6ms/step - accuracy: 0.6410 - loss: 1.0348 - val_accuracy: 0.5903 - val_loss: 1.1620\n",
            "Epoch 6/10\n",
            "\u001b[1m333/333\u001b[0m \u001b[32m━━━━━━━━━━━━━━━━━━━━\u001b[0m\u001b[37m\u001b[0m \u001b[1m2s\u001b[0m 7ms/step - accuracy: 0.6681 - loss: 0.9520 - val_accuracy: 0.6215 - val_loss: 1.0852\n",
            "Epoch 7/10\n",
            "\u001b[1m333/333\u001b[0m \u001b[32m━━━━━━━━━━━━━━━━━━━━\u001b[0m\u001b[37m\u001b[0m \u001b[1m3s\u001b[0m 8ms/step - accuracy: 0.6890 - loss: 0.8943 - val_accuracy: 0.5957 - val_loss: 1.1632\n",
            "Epoch 8/10\n",
            "\u001b[1m333/333\u001b[0m \u001b[32m━━━━━━━━━━━━━━━━━━━━\u001b[0m\u001b[37m\u001b[0m \u001b[1m5s\u001b[0m 7ms/step - accuracy: 0.6938 - loss: 0.8786 - val_accuracy: 0.6460 - val_loss: 1.0132\n",
            "Epoch 9/10\n",
            "\u001b[1m333/333\u001b[0m \u001b[32m━━━━━━━━━━━━━━━━━━━━\u001b[0m\u001b[37m\u001b[0m \u001b[1m2s\u001b[0m 6ms/step - accuracy: 0.7169 - loss: 0.8086 - val_accuracy: 0.6364 - val_loss: 1.0402\n",
            "Epoch 10/10\n",
            "\u001b[1m333/333\u001b[0m \u001b[32m━━━━━━━━━━━━━━━━━━━━\u001b[0m\u001b[37m\u001b[0m \u001b[1m2s\u001b[0m 7ms/step - accuracy: 0.7285 - loss: 0.7900 - val_accuracy: 0.6387 - val_loss: 1.0444\n"
          ]
        }
      ],
      "source": [
        "lenet5_model = build_lenet5(filters1= 12, filters2 = 32, filters3=120, units=84)\n",
        "lenet5_model.compile(loss='sparse_categorical_crossentropy', optimizer=K.optimizers.Adam(learning_rate = 0.001), metrics=['accuracy'])\n",
        "results = lenet5_model.fit(x_dev, y_dev, epochs=10, batch_size = 128, validation_split=0.15)"
      ]
    },
    {
      "cell_type": "code",
      "execution_count": 58,
      "metadata": {
        "colab": {
          "base_uri": "https://localhost:8080/"
        },
        "id": "9sr5uZVxW14M",
        "outputId": "6f61b0d8-f04b-4cb9-8fde-3b6df8161e2b"
      },
      "outputs": [
        {
          "name": "stdout",
          "output_type": "stream",
          "text": [
            "\u001b[1m313/313\u001b[0m \u001b[32m━━━━━━━━━━━━━━━━━━━━\u001b[0m\u001b[37m\u001b[0m \u001b[1m4s\u001b[0m 9ms/step - accuracy: 0.6467 - loss: 1.0379\n"
          ]
        },
        {
          "data": {
            "text/plain": [
              "[1.0482596158981323, 0.6442000269889832]"
            ]
          },
          "execution_count": 58,
          "metadata": {},
          "output_type": "execute_result"
        }
      ],
      "source": [
        "metrics = lenet5_model.evaluate(x_test, y_test)\n",
        "metrics"
      ]
    },
    {
      "cell_type": "markdown",
      "metadata": {
        "id": "hyfAekesVIUm"
      },
      "source": [
        "## Exercise: transfer learning with pretrained model"
      ]
    },
    {
      "cell_type": "code",
      "execution_count": 25,
      "metadata": {
        "id": "oTPp0h_HXBx0"
      },
      "outputs": [],
      "source": [
        "from tensorflow.keras.applications import EfficientNetB0\n",
        "from tensorflow.keras.layers import Resizing"
      ]
    },
    {
      "cell_type": "code",
      "execution_count": null,
      "metadata": {
        "id": "jWa5VQUBXKVs"
      },
      "outputs": [],
      "source": [
        "def get_model(trainable=False):\n",
        "  eff = EfficientNetB0(weights=\"imagenet\", include_top=False)\n",
        "  eff.trainable = trainable # The pretrained model's weights are frozen\n",
        "\n",
        "  model = tf.keras.Sequential()\n",
        "  model.add(K.layers.Input(shape=(32, 32, 3)))\n",
        "  model.add(Resizing(width=224, height=224))\n",
        "  model.add(eff)\n",
        "  model.add(K.layers.Flatten())\n",
        "  model.add(K.layers.Dense(10, activation=\"softmax\"))\n",
        "  return model"
      ]
    },
    {
      "cell_type": "code",
      "execution_count": 29,
      "metadata": {
        "colab": {
          "base_uri": "https://localhost:8080/",
          "height": 292
        },
        "id": "ABMYa2XhXf8r",
        "outputId": "838ba7fd-7e6a-4fff-c79a-3bedbfefd145"
      },
      "outputs": [
        {
          "name": "stdout",
          "output_type": "stream",
          "text": [
            "Downloading data from https://storage.googleapis.com/keras-applications/efficientnetb0_notop.h5\n",
            "\u001b[1m16705208/16705208\u001b[0m \u001b[32m━━━━━━━━━━━━━━━━━━━━\u001b[0m\u001b[37m\u001b[0m \u001b[1m0s\u001b[0m 0us/step\n"
          ]
        },
        {
          "data": {
            "text/html": [
              "<pre style=\"white-space:pre;overflow-x:auto;line-height:normal;font-family:Menlo,'DejaVu Sans Mono',consolas,'Courier New',monospace\"><span style=\"font-weight: bold\">Model: \"sequential_18\"</span>\n",
              "</pre>\n"
            ],
            "text/plain": [
              "\u001b[1mModel: \"sequential_18\"\u001b[0m\n"
            ]
          },
          "metadata": {},
          "output_type": "display_data"
        },
        {
          "data": {
            "text/html": [
              "<pre style=\"white-space:pre;overflow-x:auto;line-height:normal;font-family:Menlo,'DejaVu Sans Mono',consolas,'Courier New',monospace\">┏━━━━━━━━━━━━━━━━━━━━━━━━━━━━━━━━━┳━━━━━━━━━━━━━━━━━━━━━━━━┳━━━━━━━━━━━━━━━┓\n",
              "┃<span style=\"font-weight: bold\"> Layer (type)                    </span>┃<span style=\"font-weight: bold\"> Output Shape           </span>┃<span style=\"font-weight: bold\">       Param # </span>┃\n",
              "┡━━━━━━━━━━━━━━━━━━━━━━━━━━━━━━━━━╇━━━━━━━━━━━━━━━━━━━━━━━━╇━━━━━━━━━━━━━━━┩\n",
              "│ resizing (<span style=\"color: #0087ff; text-decoration-color: #0087ff\">Resizing</span>)             │ (<span style=\"color: #00d7ff; text-decoration-color: #00d7ff\">None</span>, <span style=\"color: #00af00; text-decoration-color: #00af00\">224</span>, <span style=\"color: #00af00; text-decoration-color: #00af00\">224</span>, <span style=\"color: #00af00; text-decoration-color: #00af00\">3</span>)    │             <span style=\"color: #00af00; text-decoration-color: #00af00\">0</span> │\n",
              "├─────────────────────────────────┼────────────────────────┼───────────────┤\n",
              "│ efficientnetb0 (<span style=\"color: #0087ff; text-decoration-color: #0087ff\">Functional</span>)     │ (<span style=\"color: #00d7ff; text-decoration-color: #00d7ff\">None</span>, <span style=\"color: #00af00; text-decoration-color: #00af00\">7</span>, <span style=\"color: #00af00; text-decoration-color: #00af00\">7</span>, <span style=\"color: #00af00; text-decoration-color: #00af00\">1280</span>)     │     <span style=\"color: #00af00; text-decoration-color: #00af00\">4,049,571</span> │\n",
              "├─────────────────────────────────┼────────────────────────┼───────────────┤\n",
              "│ flatten_18 (<span style=\"color: #0087ff; text-decoration-color: #0087ff\">Flatten</span>)            │ (<span style=\"color: #00d7ff; text-decoration-color: #00d7ff\">None</span>, <span style=\"color: #00af00; text-decoration-color: #00af00\">62720</span>)          │             <span style=\"color: #00af00; text-decoration-color: #00af00\">0</span> │\n",
              "├─────────────────────────────────┼────────────────────────┼───────────────┤\n",
              "│ dense_36 (<span style=\"color: #0087ff; text-decoration-color: #0087ff\">Dense</span>)                │ (<span style=\"color: #00d7ff; text-decoration-color: #00d7ff\">None</span>, <span style=\"color: #00af00; text-decoration-color: #00af00\">10</span>)             │       <span style=\"color: #00af00; text-decoration-color: #00af00\">627,210</span> │\n",
              "└─────────────────────────────────┴────────────────────────┴───────────────┘\n",
              "</pre>\n"
            ],
            "text/plain": [
              "┏━━━━━━━━━━━━━━━━━━━━━━━━━━━━━━━━━┳━━━━━━━━━━━━━━━━━━━━━━━━┳━━━━━━━━━━━━━━━┓\n",
              "┃\u001b[1m \u001b[0m\u001b[1mLayer (type)                   \u001b[0m\u001b[1m \u001b[0m┃\u001b[1m \u001b[0m\u001b[1mOutput Shape          \u001b[0m\u001b[1m \u001b[0m┃\u001b[1m \u001b[0m\u001b[1m      Param #\u001b[0m\u001b[1m \u001b[0m┃\n",
              "┡━━━━━━━━━━━━━━━━━━━━━━━━━━━━━━━━━╇━━━━━━━━━━━━━━━━━━━━━━━━╇━━━━━━━━━━━━━━━┩\n",
              "│ resizing (\u001b[38;5;33mResizing\u001b[0m)             │ (\u001b[38;5;45mNone\u001b[0m, \u001b[38;5;34m224\u001b[0m, \u001b[38;5;34m224\u001b[0m, \u001b[38;5;34m3\u001b[0m)    │             \u001b[38;5;34m0\u001b[0m │\n",
              "├─────────────────────────────────┼────────────────────────┼───────────────┤\n",
              "│ efficientnetb0 (\u001b[38;5;33mFunctional\u001b[0m)     │ (\u001b[38;5;45mNone\u001b[0m, \u001b[38;5;34m7\u001b[0m, \u001b[38;5;34m7\u001b[0m, \u001b[38;5;34m1280\u001b[0m)     │     \u001b[38;5;34m4,049,571\u001b[0m │\n",
              "├─────────────────────────────────┼────────────────────────┼───────────────┤\n",
              "│ flatten_18 (\u001b[38;5;33mFlatten\u001b[0m)            │ (\u001b[38;5;45mNone\u001b[0m, \u001b[38;5;34m62720\u001b[0m)          │             \u001b[38;5;34m0\u001b[0m │\n",
              "├─────────────────────────────────┼────────────────────────┼───────────────┤\n",
              "│ dense_36 (\u001b[38;5;33mDense\u001b[0m)                │ (\u001b[38;5;45mNone\u001b[0m, \u001b[38;5;34m10\u001b[0m)             │       \u001b[38;5;34m627,210\u001b[0m │\n",
              "└─────────────────────────────────┴────────────────────────┴───────────────┘\n"
            ]
          },
          "metadata": {},
          "output_type": "display_data"
        },
        {
          "data": {
            "text/html": [
              "<pre style=\"white-space:pre;overflow-x:auto;line-height:normal;font-family:Menlo,'DejaVu Sans Mono',consolas,'Courier New',monospace\"><span style=\"font-weight: bold\"> Total params: </span><span style=\"color: #00af00; text-decoration-color: #00af00\">4,676,781</span> (17.84 MB)\n",
              "</pre>\n"
            ],
            "text/plain": [
              "\u001b[1m Total params: \u001b[0m\u001b[38;5;34m4,676,781\u001b[0m (17.84 MB)\n"
            ]
          },
          "metadata": {},
          "output_type": "display_data"
        },
        {
          "data": {
            "text/html": [
              "<pre style=\"white-space:pre;overflow-x:auto;line-height:normal;font-family:Menlo,'DejaVu Sans Mono',consolas,'Courier New',monospace\"><span style=\"font-weight: bold\"> Trainable params: </span><span style=\"color: #00af00; text-decoration-color: #00af00\">627,210</span> (2.39 MB)\n",
              "</pre>\n"
            ],
            "text/plain": [
              "\u001b[1m Trainable params: \u001b[0m\u001b[38;5;34m627,210\u001b[0m (2.39 MB)\n"
            ]
          },
          "metadata": {},
          "output_type": "display_data"
        },
        {
          "data": {
            "text/html": [
              "<pre style=\"white-space:pre;overflow-x:auto;line-height:normal;font-family:Menlo,'DejaVu Sans Mono',consolas,'Courier New',monospace\"><span style=\"font-weight: bold\"> Non-trainable params: </span><span style=\"color: #00af00; text-decoration-color: #00af00\">4,049,571</span> (15.45 MB)\n",
              "</pre>\n"
            ],
            "text/plain": [
              "\u001b[1m Non-trainable params: \u001b[0m\u001b[38;5;34m4,049,571\u001b[0m (15.45 MB)\n"
            ]
          },
          "metadata": {},
          "output_type": "display_data"
        }
      ],
      "source": [
        "model = get_model(trainable=False)\n",
        "# you can use larger learning rate\n",
        "model.compile(optimizer=K.optimizers.Adam(1e-2), loss=\"sparse_categorical_crossentropy\", metrics=['accuracy'])\n",
        "model.summary()"
      ]
    },
    {
      "cell_type": "code",
      "execution_count": 30,
      "metadata": {
        "colab": {
          "base_uri": "https://localhost:8080/"
        },
        "id": "302RHlWLXq-m",
        "outputId": "d39f26d9-7f8a-4b97-eaac-716915e7d7f9"
      },
      "outputs": [
        {
          "name": "stdout",
          "output_type": "stream",
          "text": [
            "Epoch 1/2\n",
            "\u001b[1m333/333\u001b[0m \u001b[32m━━━━━━━━━━━━━━━━━━━━\u001b[0m\u001b[37m\u001b[0m \u001b[1m92s\u001b[0m 204ms/step - accuracy: 0.7994 - loss: 10.8000 - val_accuracy: 0.8599 - val_loss: 11.9067\n",
            "Epoch 2/2\n",
            "\u001b[1m333/333\u001b[0m \u001b[32m━━━━━━━━━━━━━━━━━━━━\u001b[0m\u001b[37m\u001b[0m \u001b[1m101s\u001b[0m 122ms/step - accuracy: 0.9167 - loss: 5.6192 - val_accuracy: 0.8895 - val_loss: 10.8210\n"
          ]
        },
        {
          "data": {
            "text/plain": [
              "<keras.src.callbacks.history.History at 0x78ea5dec3dd0>"
            ]
          },
          "execution_count": 30,
          "metadata": {},
          "output_type": "execute_result"
        }
      ],
      "source": [
        "model.fit(x_train, y_train, epochs=2, batch_size=128, validation_data=(x_val, y_val))"
      ]
    },
    {
      "cell_type": "code",
      "execution_count": 31,
      "metadata": {
        "colab": {
          "base_uri": "https://localhost:8080/"
        },
        "id": "_O70fTi-Y9vk",
        "outputId": "9bca8732-d985-4b01-9d3a-a9ccdb7a012f"
      },
      "outputs": [
        {
          "name": "stdout",
          "output_type": "stream",
          "text": [
            "\u001b[1m313/313\u001b[0m \u001b[32m━━━━━━━━━━━━━━━━━━━━\u001b[0m\u001b[37m\u001b[0m \u001b[1m20s\u001b[0m 46ms/step - accuracy: 0.8863 - loss: 13.0673\n"
          ]
        },
        {
          "data": {
            "text/plain": [
              "[12.358405113220215, 0.8860999941825867]"
            ]
          },
          "execution_count": 31,
          "metadata": {},
          "output_type": "execute_result"
        }
      ],
      "source": [
        "model.evaluate(x_test, y_test)"
      ]
    }
  ],
  "metadata": {
    "accelerator": "GPU",
    "colab": {
      "gpuType": "T4",
      "provenance": []
    },
    "kernelspec": {
      "display_name": "Python 3",
      "name": "python3"
    },
    "language_info": {
      "name": "python"
    }
  },
  "nbformat": 4,
  "nbformat_minor": 0
}
